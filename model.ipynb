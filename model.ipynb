{
  "cells": [
    {
      "cell_type": "code",
      "source": [
        "import numpy as np \n",
        "import pandas as pd\n",
        "import spacy\n",
        "from spacy.util import minibatch, compounding\n",
        "from spacy.training import Example\n",
        "import random"
      ],
      "metadata": {
        "colab": {
          "base_uri": "https://localhost:8080/"
        },
        "id": "NxOl45GP5jkt",
        "outputId": "c19fcf3f-196c-44b6-9f50-002673a2b75b"
      },
      "execution_count": 1,
      "outputs": [
        {
          "output_type": "stream",
          "name": "stderr",
          "text": [
            "/usr/local/lib/python3.8/dist-packages/torch/cuda/__init__.py:497: UserWarning: Can't initialize NVML\n",
            "  warnings.warn(\"Can't initialize NVML\")\n"
          ]
        }
      ]
    },
    {
      "cell_type": "markdown",
      "source": [
        "## 1 - Load the data"
      ],
      "metadata": {
        "collapsed": false,
        "id": "5bl8FGUYAaFS"
      }
    },
    {
      "cell_type": "code",
      "execution_count": null,
      "outputs": [],
      "source": [
        "train_data = pd.read_csv('/content/train.csv')\n",
        "test_data = pd.read_csv('/content/test.csv')"
      ],
      "metadata": {
        "id": "93f64bgjAaFT"
      }
    },
    {
      "cell_type": "markdown",
      "source": [
        "## 2 - Data Preprocessing, Exploratory Data Analysis"
      ],
      "metadata": {
        "collapsed": false,
        "id": "KxArfkdQAaFT"
      }
    },
    {
      "cell_type": "code",
      "execution_count": null,
      "outputs": [],
      "source": [
        "train_data.head()"
      ],
      "metadata": {
        "id": "YjF3PLVSAaFU"
      }
    },
    {
      "cell_type": "code",
      "source": [
        "train_data['text'] = train_data.comment_text.apply(lambda x: x.replace('\\n', ' '))\n",
        "test_data['text'] = test_data.comment_text.apply(lambda x: x.replace('\\n', ' '))"
      ],
      "metadata": {
        "id": "AVCDP9l66GjK"
      },
      "execution_count": null,
      "outputs": []
    },
    {
      "cell_type": "markdown",
      "source": [
        "This code is preparing the data for training a machine learning model using the spaCy library.\n",
        "\n",
        "The first line creates a list called cats that contains the different categories or labels that the machine learning model will be trained to predict.\n",
        "\n",
        "The second line initializes an empty list called train_prepared_data that will be used to store the preprocessed data.\n",
        "\n",
        "The third line defines a function called format_text_spacy that takes a text parameter and returns a tuple containing the text and a dictionary with the category labels and their corresponding values for that text.\n",
        "\n",
        "The for loop then iterates through the rows of the train_data dataset and applies the format_text_spacy function to each row. The resulting tuples are appended to the train_prepared_data list.\n",
        "\n",
        "Overall, this code is preparing the data in a format that can be used by the spaCy library to train a machine learning model to predict the different categories of text data."
      ],
      "metadata": {
        "collapsed": false,
        "id": "H-DPySESAaFU"
      }
    },
    {
      "cell_type": "code",
      "execution_count": null,
      "outputs": [],
      "source": [
        "cats = ['toxic', 'severe_toxic', 'obscene', 'threat', 'insult', 'identity_hate']\n",
        "train_prepared_data = []\n",
        "\n",
        "def format_text_spacy(text):\n",
        "    return (text.text, {'cats': {cat: text[cat] for cat in cats}})\n",
        "    \n",
        "for i in range(0,len(train_data)):\n",
        "    text = train_data.iloc[i]\n",
        "    train_prepared_data.append(format_text_spacy(text))"
      ],
      "metadata": {
        "id": "c5j5o_TxAaFU"
      }
    },
    {
      "cell_type": "code",
      "source": [
        "train_prepared_data[0:5]"
      ],
      "metadata": {
        "id": "cUdjBhVq6Ng3"
      },
      "execution_count": null,
      "outputs": []
    },
    {
      "cell_type": "markdown",
      "source": [
        "This is code written in Python using the spaCy library for Natural Language Processing (NLP). It creates a new blank spaCy model for the English language called nlp.\n",
        "\n",
        "The model is designed to perform multi-label classification of text, where a text document can be assigned multiple labels simultaneously.\n",
        "\n",
        "The code adds a new pipe to the nlp model, which is a text classification component for multi-label classification. This pipe is assigned to the variable textcat.\n",
        "\n",
        "Next, the code adds 6 labels to the text classification component using the add_label() method: \"toxic\", \"severe_toxic\", \"obscene\", \"threat\", \"insult\", and \"identity_hate\". These labels are the categories of the classification task that the model will try to predict for a given input text.\n",
        "\n",
        "Overall, this code creates a blank spaCy model with a text classification component for multi-label classification, and adds 6 different labels to it. The specific name of the model is not mentioned, but it is a custom model created by the user."
      ],
      "metadata": {
        "id": "zoUl2xSK8-og"
      }
    },
    {
      "cell_type": "code",
      "source": [
        "nlp = spacy.blank(\"en\")\n",
        "textcat = nlp.add_pipe(\"textcat_multilabel\")\n",
        "textcat.add_label(\"toxic\")\n",
        "textcat.add_label(\"severe_toxic\")\n",
        "textcat.add_label(\"obscene\")\n",
        "textcat.add_label(\"threat\")\n",
        "textcat.add_label(\"insult\")\n",
        "textcat.add_label(\"identity_hate\")"
      ],
      "metadata": {
        "id": "3m23ketr6RlI"
      },
      "execution_count": null,
      "outputs": []
    },
    {
      "cell_type": "markdown",
      "source": [
        "This code is training a text classification model using the spaCy library. The model being trained is a text categorization model with multiple labels, as indicated by the fact that 'textcat_multilabel' is being disabled. The code is using stochastic gradient descent (sgd) as the optimization algorithm and the 'compounding' function is being used to set the batch size dynamically.\n",
        "\n",
        "The code first creates a list called 'other_pipes', which contains all the pipeline components in the spaCy model except for the text classification component. Then, these components are disabled using 'nlp.disable_pipes(*other_pipes)' so that only the text classification component will be trained.\n",
        "\n",
        "After that, the code initializes the optimizer using 'nlp.begin_training()', which creates an optimizer with default values for learning rate, momentum, etc. and returns it.\n",
        "\n",
        "Then, the code trains the model for 10 epochs. Within each epoch, the code iterates over the training data in batches of size specified by the 'compounding' function. Each batch is used to update the model by calling 'nlp.update' with the examples in the batch, the optimizer, a dropout rate of 0.2, and a dictionary called 'losses' to keep track of the training loss.\n",
        "\n",
        "Finally, the code prints the epoch number and the training loss for that epoch.\n",
        "\n",
        "In summary, the code is training a text classification model using spaCy with the textcat_multilabel component and stochastic gradient descent as the optimization algorithm."
      ],
      "metadata": {
        "id": "7mrZgx3D9HYm"
      }
    },
    {
      "cell_type": "code",
      "source": [
        "other_pipes = [pipe for pipe in nlp.pipe_names if pipe != 'textcat_multilabel']\n",
        "with nlp.disable_pipes(*other_pipes):  # only train textcat\n",
        "    optimizer = nlp.begin_training()\n",
        "    print(\"Training the model...\")\n",
        "    for epoch in range(10):\n",
        "        losses = {}\n",
        "        batches = minibatch(train_prepared_data[0:10000], size=compounding(4.0, 32.0, 1.001))\n",
        "        for batch in batches:\n",
        "            examples = []\n",
        "            for text, annot in batch:\n",
        "                examples.append(Example.from_dict(nlp.make_doc(text), annot))\n",
        "            nlp.update(examples, sgd=optimizer, drop=0.2, losses=losses)\n",
        "        print(\"Epoch: {} Loss: {}\".format(epoch+1, losses))"
      ],
      "metadata": {
        "id": "N4KFp_Kk6UZw"
      },
      "execution_count": null,
      "outputs": []
    },
    {
      "cell_type": "code",
      "source": [
        "test = nlp(\"you are ugly\")\n",
        "\n",
        "test.cats"
      ],
      "metadata": {
        "id": "s9KxX9Pj6XKP"
      },
      "execution_count": null,
      "outputs": []
    },
    {
      "cell_type": "markdown",
      "source": [
        "### *Conclusion:* The model which can be recommended to the client is \"Classification model using SpaCy\""
      ],
      "metadata": {
        "collapsed": false,
        "id": "EZGCCnhzAaFU"
      }
    },
    {
      "cell_type": "markdown",
      "source": [
        "## 4 - Saving the model\n",
        "Save the DS best model in the Jupyter notebook `model.ipynb` in one of the following formats:\n",
        "\n",
        "- `network.save('model.h5')` #keras\n",
        "- `joblib.dump(model, \"model.pkl\")` # optional\n",
        "- `torch.save(model.state_dict(), './model.pt')` #pytorch\n",
        "- `model.save('path/to/model')`\n",
        "\n",
        "End of document."
      ],
      "metadata": {
        "collapsed": false,
        "id": "CpGVLMBqAaFV"
      }
    }
  ],
  "metadata": {
    "kernelspec": {
      "display_name": "Python 3",
      "language": "python",
      "name": "python3"
    },
    "language_info": {
      "codemirror_mode": {
        "name": "ipython",
        "version": 2
      },
      "file_extension": ".py",
      "mimetype": "text/x-python",
      "name": "python",
      "nbconvert_exporter": "python",
      "pygments_lexer": "ipython2",
      "version": "2.7.6"
    },
    "colab": {
      "provenance": []
    }
  },
  "nbformat": 4,
  "nbformat_minor": 0
}