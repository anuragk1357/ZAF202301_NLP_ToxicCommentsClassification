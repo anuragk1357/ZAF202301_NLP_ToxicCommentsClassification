{
 "cells": [
  {
   "cell_type": "markdown",
   "id": "7b003554",
   "metadata": {},
   "source": [
    "<h1>Contents<span class=\"tocSkip\"></span></h1>\n",
    "<div class=\"toc\"><ul class=\"toc-item\"><li><span><a href=\"#Подготовка\" data-toc-modified-id=\"Подготовка-1\"><span class=\"toc-item-num\">1&nbsp;&nbsp;</span>Dara Loading and Preprocessing</a></span></li><li><span><a href=\"#Обучение\" data-toc-modified-id=\"Обучение-2\"><span class=\"toc-item-num\">2&nbsp;&nbsp;</span>Training</a></span></li><li><span><a href=\"#Выводы\" data-toc-modified-id=\"Выводы-3\"><span class=\"toc-item-num\">3&nbsp;&nbsp;</span>Conclustions</a></span></li><li><span><a href=\"#Чек-лист-проверки\" data-toc-modified-id=\"Чек-лист-проверки-4\"><span class=\"toc-item-num\">4&nbsp;&nbsp;</span>Чек-лист проверки</a></span></li></ul></div>"
   ]
  },
  {
   "cell_type": "markdown",
   "id": "8d0eb7e0",
   "metadata": {},
   "source": [
    "# 01 - ***ML for Texts*** - Project for WikiShop\n",
    "\n",
    "[Nice reading about BERT](https://docs.deeppavlov.ai/en/master/features/models/bert.html)\n",
    "\n",
    "BERT (Bidirectional Encoder Representations from Transformers) is a Transformer pre-trained on masked language model and next sentence prediction tasks. This approach showed state-of-the-art results on a wide range of NLP tasks in English."
   ]
  },
  {
   "cell_type": "markdown",
   "id": "dece3c66",
   "metadata": {},
   "source": [
    "### Project Goal\n",
    "The project goal is a binary text classification using BERT model.\n",
    "\n",
    "Интернет-магазин «Викишоп» запускает новый сервис. Теперь пользователи могут редактировать и дополнять описания товаров, как в вики-сообществах. То есть клиенты предлагают свои правки и комментируют изменения других. Магазину нужен инструмент, который будет искать токсичные комментарии и отправлять их на модерацию. \n",
    "\n",
    "Обучите модель классифицировать комментарии на позитивные и негативные. В вашем распоряжении набор данных с разметкой о токсичности правок.\n",
    "\n",
    "Постройте модель со значением метрики качества *F1* не меньше 0.75. \n",
    "\n",
    "### Инструкция по выполнению проекта\n",
    "\n",
    "1. Загрузить и подготовить данные.\n",
    "2. Обучить разные модели. \n",
    "3. Сделать выводы.\n",
    "\n",
    "### Описание данных\n",
    "\n",
    "Столбец *text* в нём содержит текст комментария, а *toxic* — целевой признак.\n",
    "\n",
    "<font color=blue>\n",
    "<b> Полезные ссылки по машинному обучению для текстов</b>\n",
    "    \n",
    "Основы Natural Language Processing для текста  — https://habr.com/ru/company/Voximplant/blog/446738/\n",
    "    \n",
    "Интересная статья в общем по NLP — https://habr.com/ru/company/oleg-bunin/blog/352614/\n",
    "    \n",
    "BERT, ELMO и Ко в картинках (как в NLP пришло трансферное обучение) — https://habr.com/ru/post/487358/\n",
    "    \n",
    "В частности, BERT является довольно популярной моделью. Вот еще информация по этой модели:\n",
    "    \n",
    "https://habr.com/ru/post/436878/\n",
    "    \n",
    "http://jalammar.github.io/illustrated-bert/; https://huggingface.co/docs/transformers/model_doc/bert\n",
    "    \n",
    "И другие ссылки: \n",
    "    \n",
    "http://jalammar.github.io/illustrated-word2vec/\n",
    "    \n",
    "https://colah.github.io/posts/2015-08-Understanding-LSTMs/\n",
    "    \n",
    "http://jalammar.github.io/illustrated-transformer/\n",
    "    \n",
    "https://colab.research.google.com/drive/1SBha91u6142pW5mSiQOOjJWCCSAFj4HI?usp=sharing    \n",
    " \n",
    "</font>   "
   ]
  },
  {
   "cell_type": "code",
   "execution_count": 75,
   "id": "654e9b56",
   "metadata": {
    "scrolled": true
   },
   "outputs": [
    {
     "name": "stdout",
     "output_type": "stream",
     "text": [
      "\r\n",
      "\u001b[1m[\u001b[0m\u001b[34;49mnotice\u001b[0m\u001b[1;39;49m]\u001b[0m\u001b[39;49m A new release of pip available: \u001b[0m\u001b[31;49m22.2.2\u001b[0m\u001b[39;49m -> \u001b[0m\u001b[32;49m22.3.1\u001b[0m\r\n",
      "\u001b[1m[\u001b[0m\u001b[34;49mnotice\u001b[0m\u001b[1;39;49m]\u001b[0m\u001b[39;49m To update, run: \u001b[0m\u001b[32;49m/usr/local/opt/python@3.10/bin/python3.10 -m pip install --upgrade pip\u001b[0m\r\n"
     ]
    }
   ],
   "source": [
    "!pip3 install -q transformers"
   ]
  },
  {
   "cell_type": "code",
   "execution_count": 2,
   "id": "9364e85c",
   "metadata": {
    "scrolled": false
   },
   "outputs": [
    {
     "name": "stdout",
     "output_type": "stream",
     "text": [
      "shell-init: error retrieving current directory: getcwd: cannot access parent directories: Operation not permitted\n",
      "Traceback (most recent call last):\n",
      "  File \"/usr/local/Cellar/python@3.10/3.10.8/Frameworks/Python.framework/Versions/3.10/lib/python3.10/runpy.py\", line 196, in _run_module_as_main\n",
      "    return _run_code(code, main_globals, None,\n",
      "  File \"/usr/local/Cellar/python@3.10/3.10.8/Frameworks/Python.framework/Versions/3.10/lib/python3.10/runpy.py\", line 86, in _run_code\n",
      "    exec(code, run_globals)\n",
      "  File \"/usr/local/Cellar/jupyterlab/3.4.8/libexec/lib/python3.10/site-packages/pip/__main__.py\", line 9, in <module>\n",
      "    if sys.path[0] in (\"\", os.getcwd()):\n",
      "PermissionError: [Errno 1] Operation not permitted\n",
      "shell-init: error retrieving current directory: getcwd: cannot access parent directories: Operation not permitted\n",
      "2022-11-30 20:54:17.459138: I tensorflow/core/platform/cpu_feature_guard.cc:193] This TensorFlow binary is optimized with oneAPI Deep Neural Network Library (oneDNN) to use the following CPU instructions in performance-critical operations:  AVX2 FMA\n",
      "To enable them in other operations, rebuild TensorFlow with the appropriate compiler flags.\n",
      "Traceback (most recent call last):\n",
      "  File \"/usr/local/Cellar/python@3.10/3.10.8/Frameworks/Python.framework/Versions/3.10/lib/python3.10/runpy.py\", line 187, in _run_module_as_main\n",
      "    mod_name, mod_spec, code = _get_module_details(mod_name, _Error)\n",
      "  File \"/usr/local/Cellar/python@3.10/3.10.8/Frameworks/Python.framework/Versions/3.10/lib/python3.10/runpy.py\", line 146, in _get_module_details\n",
      "    return _get_module_details(pkg_main_name, error)\n",
      "  File \"/usr/local/Cellar/python@3.10/3.10.8/Frameworks/Python.framework/Versions/3.10/lib/python3.10/runpy.py\", line 110, in _get_module_details\n",
      "    __import__(pkg_name)\n",
      "  File \"/usr/local/Cellar/jupyterlab/3.4.8/libexec/lib/python3.10/site-packages/spacy/__init__.py\", line 15, in <module>\n",
      "    from .cli.info import info  # noqa: F401\n",
      "  File \"/usr/local/Cellar/jupyterlab/3.4.8/libexec/lib/python3.10/site-packages/spacy/cli/__init__.py\", line 24, in <module>\n",
      "    from .project.assets import project_assets  # noqa: F401\n",
      "  File \"/usr/local/Cellar/jupyterlab/3.4.8/libexec/lib/python3.10/site-packages/spacy/cli/project/assets.py\", line 26, in <module>\n",
      "    project_dir: Path = Arg(Path.cwd(), help=\"Path to cloned project. Defaults to current working directory.\", exists=True, file_okay=False),\n",
      "  File \"/usr/local/Cellar/python@3.10/3.10.8/Frameworks/Python.framework/Versions/3.10/lib/python3.10/pathlib.py\", line 993, in cwd\n",
      "    return cls(cls._accessor.getcwd())\n",
      "PermissionError: [Errno 1] Operation not permitted\n"
     ]
    }
   ],
   "source": [
    "import sys\n",
    "!{sys.executable} -m pip install spacy -q\n",
    "!{sys.executable} -m spacy download en_core_web_sm -q"
   ]
  },
  {
   "cell_type": "code",
   "execution_count": null,
   "id": "7105cb30",
   "metadata": {},
   "outputs": [],
   "source": [
    "# 1 - импорты из стандартной библиотеки\n",
    "import lightgbm as lgb\n",
    "import matplotlib.pyplot as plt\n",
    "import nltk\n",
    "import numpy as np\n",
    "import pandas as pd\n",
    "import numpy as np\n",
    "import pandas as pd\n",
    "import re\n",
    "import torch\n",
    "import transformers\n",
    "import warnings\n",
    "\n",
    "# 2 - импорты сторонних библиотек\n",
    "from catboost import CatBoostClassifier\n",
    "from nltk.corpus import stopwords as nltk_stopwords\n",
    "from nltk.stem.wordnet import WordNetLemmatizer\n",
    "from sklearn.metrics import confusion_matrix\n",
    "from sklearn.metrics import f1_score\n",
    "from sklearn.metrics import make_scorer\n",
    "from sklearn.feature_extraction.text import CountVectorizer\n",
    "from sklearn.feature_extraction.text import TfidfVectorizer\n",
    "from sklearn.model_selection import train_test_split\n",
    "from sklearn.linear_model import LogisticRegression\n",
    "from sklearn.model_selection import GridSearchCV\n",
    "from sklearn.metrics import accuracy_score\n",
    "from sklearn.utils import shuffle\n",
    "from sklearn.model_selection import cross_val_score\n",
    "from tqdm import notebook\n",
    "from tqdm import tqdm\n",
    "\n",
    "# 3 - импорты модулей текущего проекта\n",
    "warnings.simplefilter(\"ignore\", category=RuntimeWarning)\n",
    "pd.options.mode.chained_assignment = None \n",
    "tqdm.pandas()"
   ]
  },
  {
   "cell_type": "markdown",
   "id": "bea2fe9a",
   "metadata": {},
   "source": [
    "<div class=\"alert alert-warning\">\n",
    "<b>⚠️PEP-8: </b> \n",
    "При написании кода, в частности оформлении импорта библиотек, стоит придерживаться стандарта PEP-8:\n",
    "    \n",
    "https://pythonworld.ru/osnovy/pep-8-rukovodstvo-po-napisaniyu-koda-na-python.html\n",
    "\n",
    "</div>"
   ]
  },
  {
   "cell_type": "markdown",
   "id": "a5e4141b",
   "metadata": {},
   "source": [
    "## 1 Подготовка"
   ]
  },
  {
   "cell_type": "code",
   "execution_count": 45,
   "id": "18951b17",
   "metadata": {},
   "outputs": [],
   "source": [
    "# read the file handling exceptions\n",
    "try:\n",
    "    data = pd.read_csv('/Users/yuliabezginova/PycharmProjects/00_files-for_NLP/toxic_comments.csv', index_col=[0])\n",
    "except FileNotFoundError:\n",
    "        data = pd.read_csv('https://code.s3.yandex.net/datasets/toxic_comments.csv', index_col=[0])"
   ]
  },
  {
   "cell_type": "code",
   "execution_count": 46,
   "id": "7df51499",
   "metadata": {},
   "outputs": [],
   "source": [
    "# https://code.s3.yandex.net/datasets/toxic_comments.csv"
   ]
  },
  {
   "cell_type": "code",
   "execution_count": 47,
   "id": "b0c5bcfe",
   "metadata": {},
   "outputs": [
    {
     "data": {
      "text/html": [
       "<div>\n",
       "<style scoped>\n",
       "    .dataframe tbody tr th:only-of-type {\n",
       "        vertical-align: middle;\n",
       "    }\n",
       "\n",
       "    .dataframe tbody tr th {\n",
       "        vertical-align: top;\n",
       "    }\n",
       "\n",
       "    .dataframe thead th {\n",
       "        text-align: right;\n",
       "    }\n",
       "</style>\n",
       "<table border=\"1\" class=\"dataframe\">\n",
       "  <thead>\n",
       "    <tr style=\"text-align: right;\">\n",
       "      <th></th>\n",
       "      <th>text</th>\n",
       "      <th>toxic</th>\n",
       "    </tr>\n",
       "  </thead>\n",
       "  <tbody>\n",
       "    <tr>\n",
       "      <th>0</th>\n",
       "      <td>Explanation\\nWhy the edits made under my usern...</td>\n",
       "      <td>0</td>\n",
       "    </tr>\n",
       "    <tr>\n",
       "      <th>1</th>\n",
       "      <td>D'aww! He matches this background colour I'm s...</td>\n",
       "      <td>0</td>\n",
       "    </tr>\n",
       "    <tr>\n",
       "      <th>2</th>\n",
       "      <td>Hey man, I'm really not trying to edit war. It...</td>\n",
       "      <td>0</td>\n",
       "    </tr>\n",
       "    <tr>\n",
       "      <th>3</th>\n",
       "      <td>\"\\nMore\\nI can't make any real suggestions on ...</td>\n",
       "      <td>0</td>\n",
       "    </tr>\n",
       "    <tr>\n",
       "      <th>4</th>\n",
       "      <td>You, sir, are my hero. Any chance you remember...</td>\n",
       "      <td>0</td>\n",
       "    </tr>\n",
       "  </tbody>\n",
       "</table>\n",
       "</div>"
      ],
      "text/plain": [
       "                                                text  toxic\n",
       "0  Explanation\\nWhy the edits made under my usern...      0\n",
       "1  D'aww! He matches this background colour I'm s...      0\n",
       "2  Hey man, I'm really not trying to edit war. It...      0\n",
       "3  \"\\nMore\\nI can't make any real suggestions on ...      0\n",
       "4  You, sir, are my hero. Any chance you remember...      0"
      ]
     },
     "execution_count": 47,
     "metadata": {},
     "output_type": "execute_result"
    }
   ],
   "source": [
    "data.head()"
   ]
  },
  {
   "cell_type": "code",
   "execution_count": 48,
   "id": "c11acab9",
   "metadata": {},
   "outputs": [
    {
     "data": {
      "text/plain": [
       "array([0, 1])"
      ]
     },
     "execution_count": 48,
     "metadata": {},
     "output_type": "execute_result"
    }
   ],
   "source": [
    "data.toxic.unique()"
   ]
  },
  {
   "cell_type": "code",
   "execution_count": 49,
   "id": "5a1d2240",
   "metadata": {
    "scrolled": true
   },
   "outputs": [
    {
     "data": {
      "text/plain": [
       "0"
      ]
     },
     "execution_count": 49,
     "metadata": {},
     "output_type": "execute_result"
    }
   ],
   "source": [
    "# проверка на пропуски в таргете\n",
    "data['toxic'].isna().sum()"
   ]
  },
  {
   "cell_type": "code",
   "execution_count": 50,
   "id": "d7f92566",
   "metadata": {},
   "outputs": [
    {
     "data": {
      "text/plain": [
       "0    143106\n",
       "1     16186\n",
       "Name: toxic, dtype: int64"
      ]
     },
     "execution_count": 50,
     "metadata": {},
     "output_type": "execute_result"
    }
   ],
   "source": [
    "data['toxic'].value_counts()"
   ]
  },
  {
   "cell_type": "markdown",
   "id": "b57e07c7",
   "metadata": {},
   "source": [
    "### 1.1 Работаем со стоп-словами"
   ]
  },
  {
   "cell_type": "code",
   "execution_count": 51,
   "id": "958e3a1a",
   "metadata": {
    "scrolled": true
   },
   "outputs": [
    {
     "name": "stderr",
     "output_type": "stream",
     "text": [
      "[nltk_data] Downloading package stopwords to\n",
      "[nltk_data]     /Users/yuliabezginova/nltk_data...\n",
      "[nltk_data]   Package stopwords is already up-to-date!\n"
     ]
    }
   ],
   "source": [
    "nltk.download('stopwords')\n",
    "stopwords = set(nltk_stopwords.words('english')) "
   ]
  },
  {
   "cell_type": "markdown",
   "id": "a674949d",
   "metadata": {},
   "source": [
    "### 1.2 Переведём тексты в стандартный для Python формат: кодировку Unicode U (для русских текстов, для английских - НЕ требуется)."
   ]
  },
  {
   "cell_type": "code",
   "execution_count": 52,
   "id": "321cd929",
   "metadata": {},
   "outputs": [],
   "source": [
    "# Изменим кодировку методом astype():\n",
    "# corpus = data['text'].values.astype('U')\n",
    "# corpus = data['text']\n",
    "# corpus_train = X_train.values.astype('U')\n",
    "# corpus_test = X_test.values.astype('U')"
   ]
  },
  {
   "cell_type": "markdown",
   "id": "12c24893",
   "metadata": {},
   "source": [
    "### 1.3 Создадим функцию для лемматизации и очистки текста\n",
    "\n",
    "Лемматизатор Mystem подходит только для русского языка. Вместо него можно применить, например ***WordNetLemmatizer().***\n",
    "\n",
    "Пример кода можно взять из тренажера. Лемматизацию мы должны применять к каждому токену (слову в тексте):\n",
    "\n",
    "```\n",
    "lemm_text = \" \".join(lemmatizer.lemmatize(word) for word in text.split())\n",
    "\n",
    "```"
   ]
  },
  {
   "cell_type": "code",
   "execution_count": 53,
   "id": "8f0c8013",
   "metadata": {},
   "outputs": [],
   "source": [
    "corpus = list(data['text'])"
   ]
  },
  {
   "cell_type": "code",
   "execution_count": 54,
   "id": "412bb07e",
   "metadata": {},
   "outputs": [
    {
     "name": "stderr",
     "output_type": "stream",
     "text": [
      "[nltk_data] Downloading package omw-1.4 to\n",
      "[nltk_data]     /Users/yuliabezginova/nltk_data...\n",
      "[nltk_data]   Package omw-1.4 is already up-to-date!\n"
     ]
    },
    {
     "data": {
      "text/plain": [
       "True"
      ]
     },
     "execution_count": 54,
     "metadata": {},
     "output_type": "execute_result"
    }
   ],
   "source": [
    "nltk.download('omw-1.4')"
   ]
  },
  {
   "cell_type": "code",
   "execution_count": 55,
   "id": "f816fc7b",
   "metadata": {},
   "outputs": [],
   "source": [
    "def lemmatize(text):\n",
    "    lemmatizer = nltk.WordNetLemmatizer()\n",
    "    \n",
    "    lem_text = \" \".join(lemmatizer.lemmatize(word) for word in text.split())\n",
    "    \n",
    "    lem_final = re.sub(r'[^a-zA-Z ]', '', lem_text)\n",
    "    \n",
    "    return lem_final.lower()"
   ]
  },
  {
   "cell_type": "markdown",
   "id": "de0cd127",
   "metadata": {},
   "source": [
    "<div class=\"alert alert-success\">\n",
    "<b>✔️ Способы лемматизации текста</b>\n",
    "    \n",
    "1. Лемматизация с помощью Spacy. Но если делать на всем датасете, может занять 0,5-1 час, в зависимости от возможностей компьютера.\n",
    "https://spacy.io/ или https://webdevblog.ru/podhody-lemmatizacii-s-primerami-v-python/\n",
    "\n",
    "2. Использовать POS-теги, это сделает лемматизацию точнее:\n",
    "https://webdevblog.ru/podhody-lemmatizacii-s-primerami-v-python/\n",
    "    \n",
    "Это занимает больше времени, поэтому можешь проверить локально, на небольшой выборке. \n",
    "    \n",
    "Для контроля времени лемматизации, поскольку процесс длительный, можно применять индикатор прогресса. Различные варианты можно посмотреть здесь: \n",
    "    \n",
    "https://habr.com/ru/post/483400/ \n",
    "    \n",
    "Пример:\n",
    "    \n",
    "```\n",
    "from tqdm import tqdm\n",
    "tqdm.pandas()\n",
    "data['lemm_text'] = data['text'].progress_apply(lemmatize)\n",
    "\n",
    "```\n",
    "\n",
    "</div>"
   ]
  },
  {
   "cell_type": "markdown",
   "id": "048384d6",
   "metadata": {},
   "source": [
    "#### Протестируем работу функции лемматизации и очистки текста."
   ]
  },
  {
   "cell_type": "code",
   "execution_count": 56,
   "id": "e737041a",
   "metadata": {
    "scrolled": false
   },
   "outputs": [
    {
     "name": "stdout",
     "output_type": "stream",
     "text": [
      "Исходный текст: However, the Moonlite edit noted by golden daph was me (on optus ...)  Wake up wikkis.  So funny\n",
      "Очищенный и лемматизированный текст: however the moonlite edit noted by golden daph wa me on optus  wake up wikkis so funny\n"
     ]
    }
   ],
   "source": [
    "print(\"Исходный текст:\", corpus[100])\n",
    "print(\"Очищенный и лемматизированный текст:\", lemmatize(corpus[100]))"
   ]
  },
  {
   "cell_type": "markdown",
   "id": "439ad650",
   "metadata": {},
   "source": [
    "#### Применим функцию для лемматизации и очистки текста"
   ]
  },
  {
   "cell_type": "code",
   "execution_count": 57,
   "id": "134123ca",
   "metadata": {},
   "outputs": [
    {
     "name": "stderr",
     "output_type": "stream",
     "text": [
      "100%|█████████████████████████████████| 159292/159292 [00:56<00:00, 2803.33it/s]\n"
     ]
    }
   ],
   "source": [
    "# applying the function without tracking the progress\n",
    "# data['lem_text'] = data.text.apply(lemmatize)\n",
    "\n",
    "# lemmatizing with tracking the progress\n",
    "data['lem_text'] = data['text'].progress_apply(lemmatize)"
   ]
  },
  {
   "cell_type": "code",
   "execution_count": 58,
   "id": "d16d8041",
   "metadata": {
    "scrolled": true
   },
   "outputs": [
    {
     "data": {
      "text/html": [
       "<div>\n",
       "<style scoped>\n",
       "    .dataframe tbody tr th:only-of-type {\n",
       "        vertical-align: middle;\n",
       "    }\n",
       "\n",
       "    .dataframe tbody tr th {\n",
       "        vertical-align: top;\n",
       "    }\n",
       "\n",
       "    .dataframe thead th {\n",
       "        text-align: right;\n",
       "    }\n",
       "</style>\n",
       "<table border=\"1\" class=\"dataframe\">\n",
       "  <thead>\n",
       "    <tr style=\"text-align: right;\">\n",
       "      <th></th>\n",
       "      <th>text</th>\n",
       "      <th>toxic</th>\n",
       "      <th>lem_text</th>\n",
       "    </tr>\n",
       "  </thead>\n",
       "  <tbody>\n",
       "    <tr>\n",
       "      <th>0</th>\n",
       "      <td>Explanation\\nWhy the edits made under my usern...</td>\n",
       "      <td>0</td>\n",
       "      <td>explanation why the edits made under my userna...</td>\n",
       "    </tr>\n",
       "    <tr>\n",
       "      <th>1</th>\n",
       "      <td>D'aww! He matches this background colour I'm s...</td>\n",
       "      <td>0</td>\n",
       "      <td>daww he match this background colour im seemin...</td>\n",
       "    </tr>\n",
       "    <tr>\n",
       "      <th>2</th>\n",
       "      <td>Hey man, I'm really not trying to edit war. It...</td>\n",
       "      <td>0</td>\n",
       "      <td>hey man im really not trying to edit war its j...</td>\n",
       "    </tr>\n",
       "    <tr>\n",
       "      <th>3</th>\n",
       "      <td>\"\\nMore\\nI can't make any real suggestions on ...</td>\n",
       "      <td>0</td>\n",
       "      <td>more i cant make any real suggestion on impro...</td>\n",
       "    </tr>\n",
       "    <tr>\n",
       "      <th>4</th>\n",
       "      <td>You, sir, are my hero. Any chance you remember...</td>\n",
       "      <td>0</td>\n",
       "      <td>you sir are my hero any chance you remember wh...</td>\n",
       "    </tr>\n",
       "  </tbody>\n",
       "</table>\n",
       "</div>"
      ],
      "text/plain": [
       "                                                text  toxic  \\\n",
       "0  Explanation\\nWhy the edits made under my usern...      0   \n",
       "1  D'aww! He matches this background colour I'm s...      0   \n",
       "2  Hey man, I'm really not trying to edit war. It...      0   \n",
       "3  \"\\nMore\\nI can't make any real suggestions on ...      0   \n",
       "4  You, sir, are my hero. Any chance you remember...      0   \n",
       "\n",
       "                                            lem_text  \n",
       "0  explanation why the edits made under my userna...  \n",
       "1  daww he match this background colour im seemin...  \n",
       "2  hey man im really not trying to edit war its j...  \n",
       "3   more i cant make any real suggestion on impro...  \n",
       "4  you sir are my hero any chance you remember wh...  "
      ]
     },
     "execution_count": 58,
     "metadata": {},
     "output_type": "execute_result"
    }
   ],
   "source": [
    "data.head()"
   ]
  },
  {
   "cell_type": "markdown",
   "id": "dffe278f",
   "metadata": {},
   "source": [
    "### 1.4 Разделим данные на тестовую и обучающую выборки"
   ]
  },
  {
   "cell_type": "code",
   "execution_count": 59,
   "id": "0c6140f0",
   "metadata": {},
   "outputs": [],
   "source": [
    "features = data.drop(columns='toxic', axis=1)\n",
    "target = data['toxic']"
   ]
  },
  {
   "cell_type": "code",
   "execution_count": 60,
   "id": "1755abcf",
   "metadata": {
    "scrolled": true
   },
   "outputs": [
    {
     "data": {
      "text/plain": [
       "(159292, 2)"
      ]
     },
     "execution_count": 60,
     "metadata": {},
     "output_type": "execute_result"
    }
   ],
   "source": [
    "features.shape"
   ]
  },
  {
   "cell_type": "code",
   "execution_count": 61,
   "id": "b193e817",
   "metadata": {
    "scrolled": true
   },
   "outputs": [
    {
     "data": {
      "text/plain": [
       "(159292,)"
      ]
     },
     "execution_count": 61,
     "metadata": {},
     "output_type": "execute_result"
    }
   ],
   "source": [
    "target.shape"
   ]
  },
  {
   "cell_type": "code",
   "execution_count": 62,
   "id": "e5585b39",
   "metadata": {},
   "outputs": [],
   "source": [
    "# Разделяю на обучающую и тестовую\n",
    "X_train, X_test, y_train, y_test = train_test_split(features, target, \n",
    "                                                    test_size=0.2, \n",
    "                                                    random_state=5)"
   ]
  },
  {
   "cell_type": "code",
   "execution_count": 63,
   "id": "8087464b",
   "metadata": {},
   "outputs": [
    {
     "name": "stdout",
     "output_type": "stream",
     "text": [
      "Train features sample size: 127433\n",
      "Train target sample size: 127433\n",
      "\n",
      "Test features sample size: 31859\n",
      "Test target sample size: 31859\n",
      "\n",
      "Test sample, %: 20.0\n"
     ]
    }
   ],
   "source": [
    "print('Train features sample size:', X_train.shape[0])\n",
    "print('Train target sample size:', y_train.shape[0])\n",
    "print()\n",
    "print('Test features sample size:', X_test.shape[0])\n",
    "print('Test target sample size:', y_test.shape[0])\n",
    "print()\n",
    "print('Test sample, %:', round(X_test.shape[0] / (X_test.shape[0] + X_train.shape[0]) * 100, 2))"
   ]
  },
  {
   "cell_type": "markdown",
   "id": "bb9fd71d",
   "metadata": {},
   "source": [
    "### ВЫВОД: Исходные данные разделены на тестовые и обучающие, выделены признаки и таргетные значения. Дальнейшие преобразования текста будем производить только с признаками (текстом).\n",
    "\n",
    "Применим модель \"мешка слов\" к набору данных."
   ]
  },
  {
   "cell_type": "markdown",
   "id": "51b51041",
   "metadata": {},
   "source": [
    "### 1.5 Реализуем модель «мешка слов» в классе CountVectorizer"
   ]
  },
  {
   "cell_type": "markdown",
   "id": "687fcf09",
   "metadata": {},
   "source": [
    "Мы импортируем класс CountVectorizer, создам экземпляр класса и подгоняем модель к нашим данным для анализа тональности твитов."
   ]
  },
  {
   "cell_type": "code",
   "execution_count": 64,
   "id": "4009b5b8",
   "metadata": {},
   "outputs": [],
   "source": [
    "vect = CountVectorizer(stop_words=stopwords)"
   ]
  },
  {
   "cell_type": "code",
   "execution_count": 65,
   "id": "0daa4c41",
   "metadata": {},
   "outputs": [],
   "source": [
    "# Считаю Tf-idf для обучающей\n",
    "X_train_vect = vect.fit_transform(X_train.lem_text)\n",
    "\n",
    "# Считаю Tf-idf для тестовой\n",
    "X_test_vect = vect.transform(X_test.lem_text)"
   ]
  },
  {
   "cell_type": "markdown",
   "id": "b4be7f4f",
   "metadata": {},
   "source": [
    "Перед тем как мы пытаемся улучшить выделение признаков, давайте измерим качество модели, построив классификатор. \n",
    "\n",
    "У нас есть обучающие метки, хранящиеся в y_train и обучающие данные, представленные в виде «мешка слов» X_train, таким образом, мы можем обучить классификатор по этим данным. \n",
    "\n",
    "Как правило, для подобных высокоразмерных разреженных данных лучше всего работают линейные модели типа LogisticRegression."
   ]
  },
  {
   "cell_type": "markdown",
   "id": "56f30e9b",
   "metadata": {},
   "source": [
    "### 1.6 Масштабирование признаков с помощью TF-IDF\n",
    "\n",
    "Следующий подход вместо исключения несущественных признаков пытается масштабировать признаки в зависимости от степени их информативности. Одним из наиболее распространенных способов такого масштабирования является метод частота термина-обратная частота документа (term frequency-inverse document frequency, tf-idf). \n",
    "\n",
    "**Идея этого метода заключается в том, чтобы присвоить большой вес термину, который часто встречается в конкретном документе, но при этом редко встречается в остальных документах корпуса. Если слово часто появляется в конкретном документе, но при этом редко встречается в остальных документах, оно, вероятно, будет описывать содержимое этого документа лучше.**\n",
    "\n",
    "Мешок слов учитывает частоту употребления слов. Посмотрим, как часто уникальное слово встречается во всём корпусе и в отдельном его тексте.\n",
    "\n",
    "Оценка важности слова определяется величиной TF-IDF (от англ. term frequency, «частота терма, или слова»; inverse document frequency, «обратная частота документа, или текста»). То есть TF отвечает за количество упоминаний слова в отдельном тексте, а IDF отражает частоту его употребления во всём корпусе.\n",
    "\n",
    "#### TFIDF = TF * IDF\n",
    "\n",
    "IDF нужна в формуле, чтобы уменьшить вес слов, наиболее\n",
    "распространённых в любом другом тексте заданного корпуса.\n",
    "IDF зависит от общего числа текстов в корпусе (D) и количества\n",
    "текстов, в которых это слово встречается (d).\n",
    "\n",
    "Большая величина TF-IDF говорит об уникальности слова в тексте\n",
    "по отношению к корпусу. Чем чаще оно встречается в конкретном\n",
    "тексте и реже в остальных, тем выше значение TF-IDF.\n",
    "\n",
    "**Если данные разделены на обучающую и тестовую выборки,\n",
    "функцию fit() запустим только на обучающей. Иначе тестирование\n",
    "будет нечестным: в модели будут учтены частоты слов из тестовой\n",
    "выборки.**\n",
    "\n",
    "Сначала переведем выборки X_train, X_test в векторный вид.\n"
   ]
  },
  {
   "cell_type": "code",
   "execution_count": 66,
   "id": "02f86d35",
   "metadata": {},
   "outputs": [],
   "source": [
    "count_tf_idf = TfidfVectorizer(stop_words=stopwords)"
   ]
  },
  {
   "cell_type": "code",
   "execution_count": 67,
   "id": "c78b5700",
   "metadata": {},
   "outputs": [],
   "source": [
    "# Считаю Tf-idf для обучающей\n",
    "tf_idf_X_train = count_tf_idf.fit_transform(X_train['lem_text'])\n",
    "\n",
    "# Считаю Tf-idf для тестовой\n",
    "tf_idf_X_test = count_tf_idf.transform(X_test['lem_text'])"
   ]
  },
  {
   "cell_type": "code",
   "execution_count": 68,
   "id": "e5748667",
   "metadata": {},
   "outputs": [
    {
     "name": "stdout",
     "output_type": "stream",
     "text": [
      "Размер матрицы TF-IDF X_train: (127433, 191019)\n",
      "Размер матрицы TF-IDF X_test: (31859, 191019)\n"
     ]
    }
   ],
   "source": [
    "print(\"Размер матрицы TF-IDF X_train:\", tf_idf_X_train.shape)\n",
    "print(\"Размер матрицы TF-IDF X_test:\", tf_idf_X_test.shape)"
   ]
  },
  {
   "cell_type": "markdown",
   "id": "631cab78",
   "metadata": {},
   "source": [
    "### ВЫВОД: Данные очищены от странных букв и знаков, знаки пунктуации и стоп-слова удалены, данные разделены на тестовую и обучающую выборки, в каждой из которой выделены признаки и целевое значение. Выборки признаков приведены к векторному виду и готовы к обучению."
   ]
  },
  {
   "cell_type": "markdown",
   "id": "e1703465",
   "metadata": {},
   "source": [
    "## 2 Обучение"
   ]
  },
  {
   "cell_type": "markdown",
   "id": "440fbc05",
   "metadata": {},
   "source": [
    "<div class=\"alert alert-success\">\n",
    "<b>✔️ Pipeline</b>\n",
    "    \n",
    "Обычно мы обучаем на выборке train и применяем кросс-валидацию, например GridSearchCV. Но когда используется кросс-валидация, получается, что модель в итоге обучается на всей обучающей выборке и это немного не правильно — происходит утечка данных. \n",
    "    \n",
    "В таких случаях рекомендуется оборачивать конструкцию в Pipeline.\n",
    "    \n",
    "https://medium.com/analytics-vidhya/ml-pipelines-using-scikit-learn-and-gridsearchcv-fe605a7f9e05\n",
    "    \n",
    "https://habr.com/ru/post/538458/\n",
    "    \n",
    "Pipeline + GridSearchCV: https://towardsdatascience.com/nlp-with-pipeline-gridsearch-5922266e82f4\n",
    "    \n",
    "Таким образом в GridSearchCV можно добавить пайплайн.\n",
    "    \n",
    "В данном случае в pipeline можно завести функцию upsampling, tf-idf и модель для машинного обучения.\n",
    "</div>"
   ]
  },
  {
   "cell_type": "markdown",
   "id": "c9382ded",
   "metadata": {},
   "source": [
    "### 2.1 Logistic Regression с использованием перекрестной проверки для модели «мешка слов» в классе CountVectorizer()"
   ]
  },
  {
   "cell_type": "code",
   "execution_count": 69,
   "id": "7a59c316",
   "metadata": {},
   "outputs": [],
   "source": [
    "logreg = LogisticRegression(random_state=5)"
   ]
  },
  {
   "cell_type": "code",
   "execution_count": 70,
   "id": "19d3047a",
   "metadata": {},
   "outputs": [],
   "source": [
    "param_grid = [\n",
    "    {'C': [0.01, 0.1, 1, 2, 10, 100], \n",
    "     'penalty': ['l1', 'l2']}\n",
    "]"
   ]
  },
  {
   "cell_type": "code",
   "execution_count": 71,
   "id": "1994f98b",
   "metadata": {},
   "outputs": [
    {
     "name": "stderr",
     "output_type": "stream",
     "text": [
      "/usr/local/Cellar/jupyterlab/3.4.8/libexec/lib/python3.10/site-packages/sklearn/linear_model/_logistic.py:444: ConvergenceWarning: lbfgs failed to converge (status=1):\n",
      "STOP: TOTAL NO. of ITERATIONS REACHED LIMIT.\n",
      "\n",
      "Increase the number of iterations (max_iter) or scale the data as shown in:\n",
      "    https://scikit-learn.org/stable/modules/preprocessing.html\n",
      "Please also refer to the documentation for alternative solver options:\n",
      "    https://scikit-learn.org/stable/modules/linear_model.html#logistic-regression\n",
      "  n_iter_i = _check_optimize_result(\n",
      "/usr/local/Cellar/jupyterlab/3.4.8/libexec/lib/python3.10/site-packages/sklearn/linear_model/_logistic.py:444: ConvergenceWarning: lbfgs failed to converge (status=1):\n",
      "STOP: TOTAL NO. of ITERATIONS REACHED LIMIT.\n",
      "\n",
      "Increase the number of iterations (max_iter) or scale the data as shown in:\n",
      "    https://scikit-learn.org/stable/modules/preprocessing.html\n",
      "Please also refer to the documentation for alternative solver options:\n",
      "    https://scikit-learn.org/stable/modules/linear_model.html#logistic-regression\n",
      "  n_iter_i = _check_optimize_result(\n",
      "/usr/local/Cellar/jupyterlab/3.4.8/libexec/lib/python3.10/site-packages/sklearn/linear_model/_logistic.py:444: ConvergenceWarning: lbfgs failed to converge (status=1):\n",
      "STOP: TOTAL NO. of ITERATIONS REACHED LIMIT.\n",
      "\n",
      "Increase the number of iterations (max_iter) or scale the data as shown in:\n",
      "    https://scikit-learn.org/stable/modules/preprocessing.html\n",
      "Please also refer to the documentation for alternative solver options:\n",
      "    https://scikit-learn.org/stable/modules/linear_model.html#logistic-regression\n",
      "  n_iter_i = _check_optimize_result(\n",
      "/usr/local/Cellar/jupyterlab/3.4.8/libexec/lib/python3.10/site-packages/sklearn/linear_model/_logistic.py:444: ConvergenceWarning: lbfgs failed to converge (status=1):\n",
      "STOP: TOTAL NO. of ITERATIONS REACHED LIMIT.\n",
      "\n",
      "Increase the number of iterations (max_iter) or scale the data as shown in:\n",
      "    https://scikit-learn.org/stable/modules/preprocessing.html\n",
      "Please also refer to the documentation for alternative solver options:\n",
      "    https://scikit-learn.org/stable/modules/linear_model.html#logistic-regression\n",
      "  n_iter_i = _check_optimize_result(\n",
      "/usr/local/Cellar/jupyterlab/3.4.8/libexec/lib/python3.10/site-packages/sklearn/linear_model/_logistic.py:444: ConvergenceWarning: lbfgs failed to converge (status=1):\n",
      "STOP: TOTAL NO. of ITERATIONS REACHED LIMIT.\n",
      "\n",
      "Increase the number of iterations (max_iter) or scale the data as shown in:\n",
      "    https://scikit-learn.org/stable/modules/preprocessing.html\n",
      "Please also refer to the documentation for alternative solver options:\n",
      "    https://scikit-learn.org/stable/modules/linear_model.html#logistic-regression\n",
      "  n_iter_i = _check_optimize_result(\n",
      "/usr/local/Cellar/jupyterlab/3.4.8/libexec/lib/python3.10/site-packages/sklearn/linear_model/_logistic.py:444: ConvergenceWarning: lbfgs failed to converge (status=1):\n",
      "STOP: TOTAL NO. of ITERATIONS REACHED LIMIT.\n",
      "\n",
      "Increase the number of iterations (max_iter) or scale the data as shown in:\n",
      "    https://scikit-learn.org/stable/modules/preprocessing.html\n",
      "Please also refer to the documentation for alternative solver options:\n",
      "    https://scikit-learn.org/stable/modules/linear_model.html#logistic-regression\n",
      "  n_iter_i = _check_optimize_result(\n",
      "/usr/local/Cellar/jupyterlab/3.4.8/libexec/lib/python3.10/site-packages/sklearn/linear_model/_logistic.py:444: ConvergenceWarning: lbfgs failed to converge (status=1):\n",
      "STOP: TOTAL NO. of ITERATIONS REACHED LIMIT.\n",
      "\n",
      "Increase the number of iterations (max_iter) or scale the data as shown in:\n",
      "    https://scikit-learn.org/stable/modules/preprocessing.html\n",
      "Please also refer to the documentation for alternative solver options:\n",
      "    https://scikit-learn.org/stable/modules/linear_model.html#logistic-regression\n",
      "  n_iter_i = _check_optimize_result(\n",
      "/usr/local/Cellar/jupyterlab/3.4.8/libexec/lib/python3.10/site-packages/sklearn/linear_model/_logistic.py:444: ConvergenceWarning: lbfgs failed to converge (status=1):\n",
      "STOP: TOTAL NO. of ITERATIONS REACHED LIMIT.\n",
      "\n",
      "Increase the number of iterations (max_iter) or scale the data as shown in:\n",
      "    https://scikit-learn.org/stable/modules/preprocessing.html\n",
      "Please also refer to the documentation for alternative solver options:\n",
      "    https://scikit-learn.org/stable/modules/linear_model.html#logistic-regression\n",
      "  n_iter_i = _check_optimize_result(\n",
      "/usr/local/Cellar/jupyterlab/3.4.8/libexec/lib/python3.10/site-packages/sklearn/linear_model/_logistic.py:444: ConvergenceWarning: lbfgs failed to converge (status=1):\n",
      "STOP: TOTAL NO. of ITERATIONS REACHED LIMIT.\n",
      "\n",
      "Increase the number of iterations (max_iter) or scale the data as shown in:\n",
      "    https://scikit-learn.org/stable/modules/preprocessing.html\n",
      "Please also refer to the documentation for alternative solver options:\n",
      "    https://scikit-learn.org/stable/modules/linear_model.html#logistic-regression\n",
      "  n_iter_i = _check_optimize_result(\n",
      "/usr/local/Cellar/jupyterlab/3.4.8/libexec/lib/python3.10/site-packages/sklearn/linear_model/_logistic.py:444: ConvergenceWarning: lbfgs failed to converge (status=1):\n",
      "STOP: TOTAL NO. of ITERATIONS REACHED LIMIT.\n",
      "\n",
      "Increase the number of iterations (max_iter) or scale the data as shown in:\n",
      "    https://scikit-learn.org/stable/modules/preprocessing.html\n",
      "Please also refer to the documentation for alternative solver options:\n",
      "    https://scikit-learn.org/stable/modules/linear_model.html#logistic-regression\n",
      "  n_iter_i = _check_optimize_result(\n",
      "/usr/local/Cellar/jupyterlab/3.4.8/libexec/lib/python3.10/site-packages/sklearn/linear_model/_logistic.py:444: ConvergenceWarning: lbfgs failed to converge (status=1):\n",
      "STOP: TOTAL NO. of ITERATIONS REACHED LIMIT.\n",
      "\n",
      "Increase the number of iterations (max_iter) or scale the data as shown in:\n",
      "    https://scikit-learn.org/stable/modules/preprocessing.html\n",
      "Please also refer to the documentation for alternative solver options:\n",
      "    https://scikit-learn.org/stable/modules/linear_model.html#logistic-regression\n",
      "  n_iter_i = _check_optimize_result(\n",
      "/usr/local/Cellar/jupyterlab/3.4.8/libexec/lib/python3.10/site-packages/sklearn/linear_model/_logistic.py:444: ConvergenceWarning: lbfgs failed to converge (status=1):\n",
      "STOP: TOTAL NO. of ITERATIONS REACHED LIMIT.\n",
      "\n",
      "Increase the number of iterations (max_iter) or scale the data as shown in:\n",
      "    https://scikit-learn.org/stable/modules/preprocessing.html\n",
      "Please also refer to the documentation for alternative solver options:\n",
      "    https://scikit-learn.org/stable/modules/linear_model.html#logistic-regression\n",
      "  n_iter_i = _check_optimize_result(\n",
      "/usr/local/Cellar/jupyterlab/3.4.8/libexec/lib/python3.10/site-packages/sklearn/linear_model/_logistic.py:444: ConvergenceWarning: lbfgs failed to converge (status=1):\n",
      "STOP: TOTAL NO. of ITERATIONS REACHED LIMIT.\n",
      "\n",
      "Increase the number of iterations (max_iter) or scale the data as shown in:\n",
      "    https://scikit-learn.org/stable/modules/preprocessing.html\n",
      "Please also refer to the documentation for alternative solver options:\n",
      "    https://scikit-learn.org/stable/modules/linear_model.html#logistic-regression\n",
      "  n_iter_i = _check_optimize_result(\n",
      "/usr/local/Cellar/jupyterlab/3.4.8/libexec/lib/python3.10/site-packages/sklearn/linear_model/_logistic.py:444: ConvergenceWarning: lbfgs failed to converge (status=1):\n",
      "STOP: TOTAL NO. of ITERATIONS REACHED LIMIT.\n",
      "\n",
      "Increase the number of iterations (max_iter) or scale the data as shown in:\n",
      "    https://scikit-learn.org/stable/modules/preprocessing.html\n",
      "Please also refer to the documentation for alternative solver options:\n",
      "    https://scikit-learn.org/stable/modules/linear_model.html#logistic-regression\n",
      "  n_iter_i = _check_optimize_result(\n",
      "/usr/local/Cellar/jupyterlab/3.4.8/libexec/lib/python3.10/site-packages/sklearn/linear_model/_logistic.py:444: ConvergenceWarning: lbfgs failed to converge (status=1):\n",
      "STOP: TOTAL NO. of ITERATIONS REACHED LIMIT.\n",
      "\n",
      "Increase the number of iterations (max_iter) or scale the data as shown in:\n",
      "    https://scikit-learn.org/stable/modules/preprocessing.html\n",
      "Please also refer to the documentation for alternative solver options:\n",
      "    https://scikit-learn.org/stable/modules/linear_model.html#logistic-regression\n",
      "  n_iter_i = _check_optimize_result(\n",
      "/usr/local/Cellar/jupyterlab/3.4.8/libexec/lib/python3.10/site-packages/sklearn/model_selection/_search.py:953: UserWarning: One or more of the test scores are non-finite: [       nan 0.4952852         nan 0.68842455        nan 0.7503582\n",
      "        nan 0.75865468        nan 0.76083769        nan 0.75427823]\n",
      "  warnings.warn(\n"
     ]
    },
    {
     "name": "stderr",
     "output_type": "stream",
     "text": [
      "/usr/local/Cellar/jupyterlab/3.4.8/libexec/lib/python3.10/site-packages/sklearn/linear_model/_logistic.py:444: ConvergenceWarning: lbfgs failed to converge (status=1):\n",
      "STOP: TOTAL NO. of ITERATIONS REACHED LIMIT.\n",
      "\n",
      "Increase the number of iterations (max_iter) or scale the data as shown in:\n",
      "    https://scikit-learn.org/stable/modules/preprocessing.html\n",
      "Please also refer to the documentation for alternative solver options:\n",
      "    https://scikit-learn.org/stable/modules/linear_model.html#logistic-regression\n",
      "  n_iter_i = _check_optimize_result(\n"
     ]
    },
    {
     "data": {
      "text/html": [
       "<style>#sk-container-id-1 {color: black;background-color: white;}#sk-container-id-1 pre{padding: 0;}#sk-container-id-1 div.sk-toggleable {background-color: white;}#sk-container-id-1 label.sk-toggleable__label {cursor: pointer;display: block;width: 100%;margin-bottom: 0;padding: 0.3em;box-sizing: border-box;text-align: center;}#sk-container-id-1 label.sk-toggleable__label-arrow:before {content: \"▸\";float: left;margin-right: 0.25em;color: #696969;}#sk-container-id-1 label.sk-toggleable__label-arrow:hover:before {color: black;}#sk-container-id-1 div.sk-estimator:hover label.sk-toggleable__label-arrow:before {color: black;}#sk-container-id-1 div.sk-toggleable__content {max-height: 0;max-width: 0;overflow: hidden;text-align: left;background-color: #f0f8ff;}#sk-container-id-1 div.sk-toggleable__content pre {margin: 0.2em;color: black;border-radius: 0.25em;background-color: #f0f8ff;}#sk-container-id-1 input.sk-toggleable__control:checked~div.sk-toggleable__content {max-height: 200px;max-width: 100%;overflow: auto;}#sk-container-id-1 input.sk-toggleable__control:checked~label.sk-toggleable__label-arrow:before {content: \"▾\";}#sk-container-id-1 div.sk-estimator input.sk-toggleable__control:checked~label.sk-toggleable__label {background-color: #d4ebff;}#sk-container-id-1 div.sk-label input.sk-toggleable__control:checked~label.sk-toggleable__label {background-color: #d4ebff;}#sk-container-id-1 input.sk-hidden--visually {border: 0;clip: rect(1px 1px 1px 1px);clip: rect(1px, 1px, 1px, 1px);height: 1px;margin: -1px;overflow: hidden;padding: 0;position: absolute;width: 1px;}#sk-container-id-1 div.sk-estimator {font-family: monospace;background-color: #f0f8ff;border: 1px dotted black;border-radius: 0.25em;box-sizing: border-box;margin-bottom: 0.5em;}#sk-container-id-1 div.sk-estimator:hover {background-color: #d4ebff;}#sk-container-id-1 div.sk-parallel-item::after {content: \"\";width: 100%;border-bottom: 1px solid gray;flex-grow: 1;}#sk-container-id-1 div.sk-label:hover label.sk-toggleable__label {background-color: #d4ebff;}#sk-container-id-1 div.sk-serial::before {content: \"\";position: absolute;border-left: 1px solid gray;box-sizing: border-box;top: 0;bottom: 0;left: 50%;z-index: 0;}#sk-container-id-1 div.sk-serial {display: flex;flex-direction: column;align-items: center;background-color: white;padding-right: 0.2em;padding-left: 0.2em;position: relative;}#sk-container-id-1 div.sk-item {position: relative;z-index: 1;}#sk-container-id-1 div.sk-parallel {display: flex;align-items: stretch;justify-content: center;background-color: white;position: relative;}#sk-container-id-1 div.sk-item::before, #sk-container-id-1 div.sk-parallel-item::before {content: \"\";position: absolute;border-left: 1px solid gray;box-sizing: border-box;top: 0;bottom: 0;left: 50%;z-index: -1;}#sk-container-id-1 div.sk-parallel-item {display: flex;flex-direction: column;z-index: 1;position: relative;background-color: white;}#sk-container-id-1 div.sk-parallel-item:first-child::after {align-self: flex-end;width: 50%;}#sk-container-id-1 div.sk-parallel-item:last-child::after {align-self: flex-start;width: 50%;}#sk-container-id-1 div.sk-parallel-item:only-child::after {width: 0;}#sk-container-id-1 div.sk-dashed-wrapped {border: 1px dashed gray;margin: 0 0.4em 0.5em 0.4em;box-sizing: border-box;padding-bottom: 0.4em;background-color: white;}#sk-container-id-1 div.sk-label label {font-family: monospace;font-weight: bold;display: inline-block;line-height: 1.2em;}#sk-container-id-1 div.sk-label-container {text-align: center;}#sk-container-id-1 div.sk-container {/* jupyter's `normalize.less` sets `[hidden] { display: none; }` but bootstrap.min.css set `[hidden] { display: none !important; }` so we also need the `!important` here to be able to override the default hidden behavior on the sphinx rendered scikit-learn.org. See: https://github.com/scikit-learn/scikit-learn/issues/21755 */display: inline-block !important;position: relative;}#sk-container-id-1 div.sk-text-repr-fallback {display: none;}</style><div id=\"sk-container-id-1\" class=\"sk-top-container\"><div class=\"sk-text-repr-fallback\"><pre>GridSearchCV(cv=3, estimator=LogisticRegression(random_state=5), n_jobs=-1,\n",
       "             param_grid=[{&#x27;C&#x27;: [0.01, 0.1, 1, 2, 10, 100],\n",
       "                          &#x27;penalty&#x27;: [&#x27;l1&#x27;, &#x27;l2&#x27;]}],\n",
       "             scoring=&#x27;f1&#x27;, verbose=False)</pre><b>In a Jupyter environment, please rerun this cell to show the HTML representation or trust the notebook. <br />On GitHub, the HTML representation is unable to render, please try loading this page with nbviewer.org.</b></div><div class=\"sk-container\" hidden><div class=\"sk-item sk-dashed-wrapped\"><div class=\"sk-label-container\"><div class=\"sk-label sk-toggleable\"><input class=\"sk-toggleable__control sk-hidden--visually\" id=\"sk-estimator-id-1\" type=\"checkbox\" ><label for=\"sk-estimator-id-1\" class=\"sk-toggleable__label sk-toggleable__label-arrow\">GridSearchCV</label><div class=\"sk-toggleable__content\"><pre>GridSearchCV(cv=3, estimator=LogisticRegression(random_state=5), n_jobs=-1,\n",
       "             param_grid=[{&#x27;C&#x27;: [0.01, 0.1, 1, 2, 10, 100],\n",
       "                          &#x27;penalty&#x27;: [&#x27;l1&#x27;, &#x27;l2&#x27;]}],\n",
       "             scoring=&#x27;f1&#x27;, verbose=False)</pre></div></div></div><div class=\"sk-parallel\"><div class=\"sk-parallel-item\"><div class=\"sk-item\"><div class=\"sk-label-container\"><div class=\"sk-label sk-toggleable\"><input class=\"sk-toggleable__control sk-hidden--visually\" id=\"sk-estimator-id-2\" type=\"checkbox\" ><label for=\"sk-estimator-id-2\" class=\"sk-toggleable__label sk-toggleable__label-arrow\">estimator: LogisticRegression</label><div class=\"sk-toggleable__content\"><pre>LogisticRegression(random_state=5)</pre></div></div></div><div class=\"sk-serial\"><div class=\"sk-item\"><div class=\"sk-estimator sk-toggleable\"><input class=\"sk-toggleable__control sk-hidden--visually\" id=\"sk-estimator-id-3\" type=\"checkbox\" ><label for=\"sk-estimator-id-3\" class=\"sk-toggleable__label sk-toggleable__label-arrow\">LogisticRegression</label><div class=\"sk-toggleable__content\"><pre>LogisticRegression(random_state=5)</pre></div></div></div></div></div></div></div></div></div></div>"
      ],
      "text/plain": [
       "GridSearchCV(cv=3, estimator=LogisticRegression(random_state=5), n_jobs=-1,\n",
       "             param_grid=[{'C': [0.01, 0.1, 1, 2, 10, 100],\n",
       "                          'penalty': ['l1', 'l2']}],\n",
       "             scoring='f1', verbose=False)"
      ]
     },
     "execution_count": 71,
     "metadata": {},
     "output_type": "execute_result"
    }
   ],
   "source": [
    "logreg_grid = GridSearchCV(logreg, \n",
    "                           param_grid, \n",
    "                           cv=3, \n",
    "                           verbose=False, \n",
    "                           n_jobs=-1,\n",
    "                          scoring='f1')\n",
    "\n",
    "logreg_grid.fit(X_train_vect, y_train)"
   ]
  },
  {
   "cell_type": "code",
   "execution_count": 72,
   "id": "38b4f939",
   "metadata": {},
   "outputs": [
    {
     "name": "stdout",
     "output_type": "stream",
     "text": [
      "Наилучшее значение перекрестной проверки: 0.76\n",
      "Наилучшие параметры:  {'C': 10, 'penalty': 'l2'}\n"
     ]
    }
   ],
   "source": [
    "print(\"Наилучшее значение перекрестной проверки: {:.2f}\".format(logreg_grid.best_score_))\n",
    "print(\"Наилучшие параметры: \", logreg_grid.best_params_)"
   ]
  },
  {
   "cell_type": "code",
   "execution_count": 75,
   "id": "dbdf0a4d",
   "metadata": {},
   "outputs": [],
   "source": [
    "y_pred_vect = logreg_grid.predict(tf_idf_X_test)"
   ]
  },
  {
   "cell_type": "code",
   "execution_count": 76,
   "id": "c9f532b0",
   "metadata": {},
   "outputs": [
    {
     "data": {
      "text/plain": [
       "array([[28553,  2011],\n",
       "       [   14,  1281]])"
      ]
     },
     "execution_count": 76,
     "metadata": {},
     "output_type": "execute_result"
    }
   ],
   "source": [
    "confusion_matrix(y_pred_vect, y_test)"
   ]
  },
  {
   "cell_type": "markdown",
   "id": "8f36a3c4",
   "metadata": {},
   "source": [
    "### 2.2 Logistic Regression с использованием решетчатого поиска для модели «мешка слов» в классе TfidfVectorizer()"
   ]
  },
  {
   "cell_type": "markdown",
   "id": "1e022641",
   "metadata": {},
   "source": [
    "Поскольку tf-idf фактически использует статистические свойства\n",
    "обучающих данных, мы воспользуемся конвейером, чтобы убедиться в достоверности результатов решетчатого поиска."
   ]
  },
  {
   "cell_type": "code",
   "execution_count": 77,
   "id": "5e60a49a",
   "metadata": {},
   "outputs": [],
   "source": [
    "logreg_tfidf = LogisticRegression(random_state=5)"
   ]
  },
  {
   "cell_type": "code",
   "execution_count": 271,
   "id": "e2b07c66",
   "metadata": {},
   "outputs": [
    {
     "name": "stderr",
     "output_type": "stream",
     "text": [
      "/usr/local/Cellar/jupyterlab/3.4.8/libexec/lib/python3.10/site-packages/sklearn/linear_model/_logistic.py:444: ConvergenceWarning: lbfgs failed to converge (status=1):\n",
      "STOP: TOTAL NO. of ITERATIONS REACHED LIMIT.\n",
      "\n",
      "Increase the number of iterations (max_iter) or scale the data as shown in:\n",
      "    https://scikit-learn.org/stable/modules/preprocessing.html\n",
      "Please also refer to the documentation for alternative solver options:\n",
      "    https://scikit-learn.org/stable/modules/linear_model.html#logistic-regression\n",
      "  n_iter_i = _check_optimize_result(\n",
      "/usr/local/Cellar/jupyterlab/3.4.8/libexec/lib/python3.10/site-packages/sklearn/linear_model/_logistic.py:444: ConvergenceWarning: lbfgs failed to converge (status=1):\n",
      "STOP: TOTAL NO. of ITERATIONS REACHED LIMIT.\n",
      "\n",
      "Increase the number of iterations (max_iter) or scale the data as shown in:\n",
      "    https://scikit-learn.org/stable/modules/preprocessing.html\n",
      "Please also refer to the documentation for alternative solver options:\n",
      "    https://scikit-learn.org/stable/modules/linear_model.html#logistic-regression\n",
      "  n_iter_i = _check_optimize_result(\n",
      "/usr/local/Cellar/jupyterlab/3.4.8/libexec/lib/python3.10/site-packages/sklearn/linear_model/_logistic.py:444: ConvergenceWarning: lbfgs failed to converge (status=1):\n",
      "STOP: TOTAL NO. of ITERATIONS REACHED LIMIT.\n",
      "\n",
      "Increase the number of iterations (max_iter) or scale the data as shown in:\n",
      "    https://scikit-learn.org/stable/modules/preprocessing.html\n",
      "Please also refer to the documentation for alternative solver options:\n",
      "    https://scikit-learn.org/stable/modules/linear_model.html#logistic-regression\n",
      "  n_iter_i = _check_optimize_result(\n",
      "/usr/local/Cellar/jupyterlab/3.4.8/libexec/lib/python3.10/site-packages/sklearn/linear_model/_logistic.py:444: ConvergenceWarning: lbfgs failed to converge (status=1):\n",
      "STOP: TOTAL NO. of ITERATIONS REACHED LIMIT.\n",
      "\n",
      "Increase the number of iterations (max_iter) or scale the data as shown in:\n",
      "    https://scikit-learn.org/stable/modules/preprocessing.html\n",
      "Please also refer to the documentation for alternative solver options:\n",
      "    https://scikit-learn.org/stable/modules/linear_model.html#logistic-regression\n",
      "  n_iter_i = _check_optimize_result(\n"
     ]
    },
    {
     "name": "stdout",
     "output_type": "stream",
     "text": [
      "Наилучшее значение перекрестной проверки: 0.76\n"
     ]
    },
    {
     "name": "stderr",
     "output_type": "stream",
     "text": [
      "/usr/local/Cellar/jupyterlab/3.4.8/libexec/lib/python3.10/site-packages/sklearn/linear_model/_logistic.py:444: ConvergenceWarning: lbfgs failed to converge (status=1):\n",
      "STOP: TOTAL NO. of ITERATIONS REACHED LIMIT.\n",
      "\n",
      "Increase the number of iterations (max_iter) or scale the data as shown in:\n",
      "    https://scikit-learn.org/stable/modules/preprocessing.html\n",
      "Please also refer to the documentation for alternative solver options:\n",
      "    https://scikit-learn.org/stable/modules/linear_model.html#logistic-regression\n",
      "  n_iter_i = _check_optimize_result(\n"
     ]
    }
   ],
   "source": [
    "param_grid = {'C': [0.001, 0.01, 0.1, 1, 10]}\n",
    "\n",
    "grid = GridSearchCV(logreg_tfidf, \n",
    "                    param_grid, \n",
    "                    cv=3,\n",
    "                   scoring='f1')\n",
    "\n",
    "grid.fit(tf_idf_X_train, y_train)\n",
    "\n",
    "print(\"Наилучшее значение перекрестной проверки: {:.2f}\".format(grid.best_score_))"
   ]
  },
  {
   "cell_type": "code",
   "execution_count": 274,
   "id": "0858472b",
   "metadata": {},
   "outputs": [],
   "source": [
    "y_pred_tfidf = grid.predict(tf_idf_X_test)"
   ]
  },
  {
   "cell_type": "code",
   "execution_count": 275,
   "id": "6c230e6e",
   "metadata": {},
   "outputs": [
    {
     "data": {
      "text/plain": [
       "array([[28282,  1026],\n",
       "       [  285,  2266]])"
      ]
     },
     "execution_count": 275,
     "metadata": {},
     "output_type": "execute_result"
    }
   ],
   "source": [
    "confusion_matrix(y_pred_tfidf, y_test)"
   ]
  },
  {
   "cell_type": "markdown",
   "id": "7556bde5",
   "metadata": {},
   "source": [
    "### 2.3 CatBoost в модели \"мешка слов\" в классе TfidfVectorizer()"
   ]
  },
  {
   "cell_type": "code",
   "execution_count": 276,
   "id": "ffb23471",
   "metadata": {
    "scrolled": true
   },
   "outputs": [
    {
     "name": "stdout",
     "output_type": "stream",
     "text": [
      "0:\tlearn: 0.5933380\ttotal: 2.81s\tremaining: 1m 49s\n",
      "1:\tlearn: 0.5175725\ttotal: 4.33s\tremaining: 1m 22s\n",
      "2:\tlearn: 0.4577321\ttotal: 5.42s\tremaining: 1m 6s\n",
      "3:\tlearn: 0.4124881\ttotal: 6.62s\tremaining: 59.6s\n",
      "4:\tlearn: 0.3776291\ttotal: 7.84s\tremaining: 54.9s\n",
      "5:\tlearn: 0.3478793\ttotal: 9.06s\tremaining: 51.3s\n",
      "6:\tlearn: 0.3246453\ttotal: 10.2s\tremaining: 47.9s\n",
      "7:\tlearn: 0.3068377\ttotal: 11.6s\tremaining: 46.3s\n",
      "8:\tlearn: 0.2921749\ttotal: 12.9s\tremaining: 44.5s\n",
      "9:\tlearn: 0.2791147\ttotal: 14.3s\tremaining: 43s\n",
      "10:\tlearn: 0.2697044\ttotal: 15.5s\tremaining: 40.8s\n",
      "11:\tlearn: 0.2619188\ttotal: 16.6s\tremaining: 38.7s\n",
      "12:\tlearn: 0.2555392\ttotal: 17.8s\tremaining: 37s\n",
      "13:\tlearn: 0.2499542\ttotal: 19s\tremaining: 35.3s\n",
      "14:\tlearn: 0.2454003\ttotal: 20.3s\tremaining: 33.8s\n",
      "15:\tlearn: 0.2415229\ttotal: 22s\tremaining: 33s\n",
      "16:\tlearn: 0.2379865\ttotal: 23.2s\tremaining: 31.4s\n",
      "17:\tlearn: 0.2347276\ttotal: 24.5s\tremaining: 30s\n",
      "18:\tlearn: 0.2322673\ttotal: 25.9s\tremaining: 28.6s\n",
      "19:\tlearn: 0.2292300\ttotal: 27.4s\tremaining: 27.4s\n",
      "20:\tlearn: 0.2272973\ttotal: 29s\tremaining: 26.2s\n",
      "21:\tlearn: 0.2252327\ttotal: 30.4s\tremaining: 24.9s\n",
      "22:\tlearn: 0.2234561\ttotal: 31.8s\tremaining: 23.5s\n",
      "23:\tlearn: 0.2216046\ttotal: 33.4s\tremaining: 22.2s\n",
      "24:\tlearn: 0.2201518\ttotal: 34.6s\tremaining: 20.8s\n",
      "25:\tlearn: 0.2187618\ttotal: 36.1s\tremaining: 19.4s\n",
      "26:\tlearn: 0.2170209\ttotal: 37.4s\tremaining: 18s\n",
      "27:\tlearn: 0.2156097\ttotal: 38.8s\tremaining: 16.6s\n",
      "28:\tlearn: 0.2141387\ttotal: 40.3s\tremaining: 15.3s\n",
      "29:\tlearn: 0.2130856\ttotal: 41.6s\tremaining: 13.9s\n",
      "30:\tlearn: 0.2118183\ttotal: 43s\tremaining: 12.5s\n",
      "31:\tlearn: 0.2108444\ttotal: 44.3s\tremaining: 11.1s\n",
      "32:\tlearn: 0.2098974\ttotal: 45.7s\tremaining: 9.69s\n",
      "33:\tlearn: 0.2084498\ttotal: 47s\tremaining: 8.3s\n",
      "34:\tlearn: 0.2075160\ttotal: 48.4s\tremaining: 6.91s\n",
      "35:\tlearn: 0.2063560\ttotal: 49.5s\tremaining: 5.5s\n",
      "36:\tlearn: 0.2055535\ttotal: 50.8s\tremaining: 4.12s\n",
      "37:\tlearn: 0.2046631\ttotal: 51.9s\tremaining: 2.73s\n",
      "38:\tlearn: 0.2036500\ttotal: 53.1s\tremaining: 1.36s\n",
      "39:\tlearn: 0.2028419\ttotal: 54.4s\tremaining: 0us\n",
      "0:\tlearn: 0.5926237\ttotal: 1.98s\tremaining: 1m 17s\n",
      "1:\tlearn: 0.5163423\ttotal: 4.1s\tremaining: 1m 17s\n",
      "2:\tlearn: 0.4542542\ttotal: 6.2s\tremaining: 1m 16s\n",
      "3:\tlearn: 0.4083219\ttotal: 7.46s\tremaining: 1m 7s\n",
      "4:\tlearn: 0.3740614\ttotal: 8.62s\tremaining: 1m\n",
      "5:\tlearn: 0.3458353\ttotal: 9.78s\tremaining: 55.4s\n",
      "6:\tlearn: 0.3230717\ttotal: 11s\tremaining: 52.1s\n",
      "7:\tlearn: 0.3048180\ttotal: 12.3s\tremaining: 49.2s\n",
      "8:\tlearn: 0.2902857\ttotal: 13.4s\tremaining: 46.3s\n",
      "9:\tlearn: 0.2785722\ttotal: 14.6s\tremaining: 43.8s\n",
      "10:\tlearn: 0.2694749\ttotal: 15.8s\tremaining: 41.7s\n",
      "11:\tlearn: 0.2619913\ttotal: 16.9s\tremaining: 39.4s\n",
      "12:\tlearn: 0.2555699\ttotal: 18s\tremaining: 37.3s\n",
      "13:\tlearn: 0.2498814\ttotal: 19s\tremaining: 35.4s\n",
      "14:\tlearn: 0.2452758\ttotal: 20.1s\tremaining: 33.6s\n",
      "15:\tlearn: 0.2402883\ttotal: 21.3s\tremaining: 31.9s\n",
      "16:\tlearn: 0.2367516\ttotal: 22.4s\tremaining: 30.3s\n",
      "17:\tlearn: 0.2339833\ttotal: 23.4s\tremaining: 28.7s\n",
      "18:\tlearn: 0.2305377\ttotal: 24.6s\tremaining: 27.1s\n",
      "19:\tlearn: 0.2281316\ttotal: 25.6s\tremaining: 25.6s\n",
      "20:\tlearn: 0.2258335\ttotal: 26.7s\tremaining: 24.2s\n",
      "21:\tlearn: 0.2240323\ttotal: 27.8s\tremaining: 22.8s\n",
      "22:\tlearn: 0.2223718\ttotal: 29s\tremaining: 21.4s\n",
      "23:\tlearn: 0.2207457\ttotal: 30.1s\tremaining: 20.1s\n",
      "24:\tlearn: 0.2193612\ttotal: 31.2s\tremaining: 18.7s\n",
      "25:\tlearn: 0.2175378\ttotal: 32.3s\tremaining: 17.4s\n",
      "26:\tlearn: 0.2156860\ttotal: 33.4s\tremaining: 16.1s\n",
      "27:\tlearn: 0.2145327\ttotal: 34.5s\tremaining: 14.8s\n",
      "28:\tlearn: 0.2134522\ttotal: 35.5s\tremaining: 13.5s\n",
      "29:\tlearn: 0.2120896\ttotal: 36.6s\tremaining: 12.2s\n",
      "30:\tlearn: 0.2110681\ttotal: 37.7s\tremaining: 10.9s\n",
      "31:\tlearn: 0.2097546\ttotal: 38.8s\tremaining: 9.69s\n",
      "32:\tlearn: 0.2088275\ttotal: 40s\tremaining: 8.49s\n",
      "33:\tlearn: 0.2075148\ttotal: 41.8s\tremaining: 7.37s\n",
      "34:\tlearn: 0.2066390\ttotal: 42.9s\tremaining: 6.12s\n",
      "35:\tlearn: 0.2058843\ttotal: 43.9s\tremaining: 4.88s\n",
      "36:\tlearn: 0.2050616\ttotal: 45s\tremaining: 3.65s\n",
      "37:\tlearn: 0.2042837\ttotal: 46.2s\tremaining: 2.43s\n",
      "38:\tlearn: 0.2033128\ttotal: 47.2s\tremaining: 1.21s\n",
      "39:\tlearn: 0.2023048\ttotal: 48.3s\tremaining: 0us\n",
      "0:\tlearn: 0.5939429\ttotal: 1.66s\tremaining: 1m 4s\n",
      "1:\tlearn: 0.5183331\ttotal: 2.83s\tremaining: 53.8s\n",
      "2:\tlearn: 0.4616284\ttotal: 4.05s\tremaining: 50s\n",
      "3:\tlearn: 0.4137906\ttotal: 5.2s\tremaining: 46.8s\n",
      "4:\tlearn: 0.3763662\ttotal: 6.3s\tremaining: 44.1s\n",
      "5:\tlearn: 0.3474195\ttotal: 7.41s\tremaining: 42s\n",
      "6:\tlearn: 0.3245326\ttotal: 8.56s\tremaining: 40.3s\n",
      "7:\tlearn: 0.3063396\ttotal: 9.64s\tremaining: 38.6s\n",
      "8:\tlearn: 0.2921139\ttotal: 10.7s\tremaining: 36.9s\n",
      "9:\tlearn: 0.2790390\ttotal: 11.8s\tremaining: 35.5s\n",
      "10:\tlearn: 0.2695440\ttotal: 12.9s\tremaining: 34.1s\n",
      "11:\tlearn: 0.2618796\ttotal: 14s\tremaining: 32.7s\n",
      "12:\tlearn: 0.2556178\ttotal: 15.1s\tremaining: 31.5s\n",
      "13:\tlearn: 0.2496003\ttotal: 16.3s\tremaining: 30.2s\n",
      "14:\tlearn: 0.2448353\ttotal: 17.3s\tremaining: 28.9s\n",
      "15:\tlearn: 0.2412070\ttotal: 18.4s\tremaining: 27.7s\n",
      "16:\tlearn: 0.2378149\ttotal: 19.5s\tremaining: 26.4s\n",
      "17:\tlearn: 0.2347732\ttotal: 20.6s\tremaining: 25.2s\n",
      "18:\tlearn: 0.2323917\ttotal: 21.6s\tremaining: 23.9s\n",
      "19:\tlearn: 0.2301276\ttotal: 22.7s\tremaining: 22.7s\n",
      "20:\tlearn: 0.2279727\ttotal: 23.8s\tremaining: 21.5s\n",
      "21:\tlearn: 0.2260463\ttotal: 24.8s\tremaining: 20.3s\n",
      "22:\tlearn: 0.2242355\ttotal: 26s\tremaining: 19.2s\n",
      "23:\tlearn: 0.2225291\ttotal: 27.1s\tremaining: 18.1s\n",
      "24:\tlearn: 0.2208637\ttotal: 28.1s\tremaining: 16.9s\n",
      "25:\tlearn: 0.2192829\ttotal: 29.2s\tremaining: 15.7s\n",
      "26:\tlearn: 0.2179616\ttotal: 30.3s\tremaining: 14.6s\n",
      "27:\tlearn: 0.2165843\ttotal: 31.4s\tremaining: 13.4s\n",
      "28:\tlearn: 0.2153887\ttotal: 32.6s\tremaining: 12.4s\n",
      "29:\tlearn: 0.2136305\ttotal: 33.7s\tremaining: 11.2s\n",
      "30:\tlearn: 0.2123138\ttotal: 34.8s\tremaining: 10.1s\n",
      "31:\tlearn: 0.2112684\ttotal: 35.9s\tremaining: 8.98s\n",
      "32:\tlearn: 0.2099427\ttotal: 37.2s\tremaining: 7.89s\n",
      "33:\tlearn: 0.2086088\ttotal: 38.5s\tremaining: 6.79s\n",
      "34:\tlearn: 0.2076530\ttotal: 39.6s\tremaining: 5.65s\n",
      "35:\tlearn: 0.2063587\ttotal: 40.7s\tremaining: 4.52s\n",
      "36:\tlearn: 0.2055096\ttotal: 41.7s\tremaining: 3.38s\n",
      "37:\tlearn: 0.2044671\ttotal: 42.8s\tremaining: 2.25s\n",
      "38:\tlearn: 0.2032669\ttotal: 44s\tremaining: 1.13s\n",
      "39:\tlearn: 0.2024803\ttotal: 45s\tremaining: 0us\n",
      "0:\tlearn: 0.4408546\ttotal: 1.56s\tremaining: 1m\n",
      "1:\tlearn: 0.3364933\ttotal: 2.7s\tremaining: 51.4s\n",
      "2:\tlearn: 0.2847566\ttotal: 3.81s\tremaining: 47s\n",
      "3:\tlearn: 0.2574013\ttotal: 4.97s\tremaining: 44.7s\n",
      "4:\tlearn: 0.2428040\ttotal: 6.04s\tremaining: 42.3s\n",
      "5:\tlearn: 0.2310029\ttotal: 7.14s\tremaining: 40.5s\n",
      "6:\tlearn: 0.2245343\ttotal: 8.21s\tremaining: 38.7s\n",
      "7:\tlearn: 0.2190031\ttotal: 9.52s\tremaining: 38.1s\n",
      "8:\tlearn: 0.2149138\ttotal: 10.6s\tremaining: 36.6s\n",
      "9:\tlearn: 0.2105801\ttotal: 11.7s\tremaining: 35s\n",
      "10:\tlearn: 0.2072724\ttotal: 12.8s\tremaining: 33.9s\n",
      "11:\tlearn: 0.2044469\ttotal: 13.9s\tremaining: 32.5s\n",
      "12:\tlearn: 0.2000763\ttotal: 15s\tremaining: 31.2s\n",
      "13:\tlearn: 0.1972702\ttotal: 16.1s\tremaining: 29.9s\n",
      "14:\tlearn: 0.1954904\ttotal: 17.1s\tremaining: 28.6s\n",
      "15:\tlearn: 0.1936124\ttotal: 18.2s\tremaining: 27.3s\n",
      "16:\tlearn: 0.1916510\ttotal: 19.3s\tremaining: 26.1s\n",
      "17:\tlearn: 0.1894046\ttotal: 20.3s\tremaining: 24.9s\n",
      "18:\tlearn: 0.1875594\ttotal: 21.4s\tremaining: 23.7s\n",
      "19:\tlearn: 0.1854031\ttotal: 22.5s\tremaining: 22.5s\n",
      "20:\tlearn: 0.1834818\ttotal: 23.7s\tremaining: 21.4s\n",
      "21:\tlearn: 0.1820463\ttotal: 24.7s\tremaining: 20.2s\n",
      "22:\tlearn: 0.1805133\ttotal: 25.8s\tremaining: 19.1s\n",
      "23:\tlearn: 0.1789856\ttotal: 26.9s\tremaining: 17.9s\n",
      "24:\tlearn: 0.1777677\ttotal: 28s\tremaining: 16.8s\n",
      "25:\tlearn: 0.1766430\ttotal: 29.1s\tremaining: 15.7s\n",
      "26:\tlearn: 0.1754400\ttotal: 30.1s\tremaining: 14.5s\n",
      "27:\tlearn: 0.1736923\ttotal: 31.2s\tremaining: 13.4s\n",
      "28:\tlearn: 0.1726997\ttotal: 32.3s\tremaining: 12.2s\n",
      "29:\tlearn: 0.1716841\ttotal: 33.7s\tremaining: 11.2s\n",
      "30:\tlearn: 0.1707755\ttotal: 34.8s\tremaining: 10.1s\n",
      "31:\tlearn: 0.1699798\ttotal: 35.9s\tremaining: 8.98s\n",
      "32:\tlearn: 0.1690738\ttotal: 37s\tremaining: 7.85s\n",
      "33:\tlearn: 0.1682322\ttotal: 38.1s\tremaining: 6.72s\n",
      "34:\tlearn: 0.1671928\ttotal: 39.2s\tremaining: 5.6s\n",
      "35:\tlearn: 0.1665513\ttotal: 40.3s\tremaining: 4.47s\n",
      "36:\tlearn: 0.1657600\ttotal: 41.4s\tremaining: 3.35s\n",
      "37:\tlearn: 0.1646481\ttotal: 42.4s\tremaining: 2.23s\n",
      "38:\tlearn: 0.1636286\ttotal: 43.5s\tremaining: 1.12s\n",
      "39:\tlearn: 0.1628628\ttotal: 44.6s\tremaining: 0us\n",
      "0:\tlearn: 0.4391716\ttotal: 1.74s\tremaining: 1m 7s\n",
      "1:\tlearn: 0.3338816\ttotal: 2.98s\tremaining: 56.7s\n",
      "2:\tlearn: 0.2817460\ttotal: 4.1s\tremaining: 50.6s\n"
     ]
    },
    {
     "name": "stdout",
     "output_type": "stream",
     "text": [
      "3:\tlearn: 0.2556833\ttotal: 5.21s\tremaining: 46.9s\n",
      "4:\tlearn: 0.2387147\ttotal: 7.83s\tremaining: 54.8s\n",
      "5:\tlearn: 0.2293371\ttotal: 9.82s\tremaining: 55.6s\n",
      "6:\tlearn: 0.2227093\ttotal: 11.1s\tremaining: 52.3s\n",
      "7:\tlearn: 0.2174192\ttotal: 12.3s\tremaining: 49.1s\n",
      "8:\tlearn: 0.2126394\ttotal: 13.5s\tremaining: 46.4s\n",
      "9:\tlearn: 0.2093301\ttotal: 14.7s\tremaining: 44s\n",
      "10:\tlearn: 0.2057444\ttotal: 15.8s\tremaining: 41.7s\n",
      "11:\tlearn: 0.2030823\ttotal: 16.9s\tremaining: 39.5s\n",
      "12:\tlearn: 0.2006431\ttotal: 18.1s\tremaining: 37.5s\n",
      "13:\tlearn: 0.1984051\ttotal: 19.1s\tremaining: 35.5s\n",
      "14:\tlearn: 0.1946389\ttotal: 20.3s\tremaining: 33.8s\n",
      "15:\tlearn: 0.1925636\ttotal: 21.4s\tremaining: 32.1s\n",
      "16:\tlearn: 0.1901323\ttotal: 22.5s\tremaining: 30.4s\n",
      "17:\tlearn: 0.1879302\ttotal: 23.6s\tremaining: 28.8s\n",
      "18:\tlearn: 0.1863549\ttotal: 24.6s\tremaining: 27.2s\n",
      "19:\tlearn: 0.1844847\ttotal: 25.7s\tremaining: 25.7s\n",
      "20:\tlearn: 0.1832741\ttotal: 26.8s\tremaining: 24.3s\n",
      "21:\tlearn: 0.1818297\ttotal: 27.9s\tremaining: 22.8s\n",
      "22:\tlearn: 0.1805295\ttotal: 29s\tremaining: 21.4s\n",
      "23:\tlearn: 0.1792458\ttotal: 30.2s\tremaining: 20.1s\n",
      "24:\tlearn: 0.1780793\ttotal: 31.3s\tremaining: 18.8s\n",
      "25:\tlearn: 0.1765369\ttotal: 32.5s\tremaining: 17.5s\n",
      "26:\tlearn: 0.1753936\ttotal: 33.6s\tremaining: 16.2s\n",
      "27:\tlearn: 0.1743139\ttotal: 34.7s\tremaining: 14.9s\n",
      "28:\tlearn: 0.1733233\ttotal: 35.8s\tremaining: 13.6s\n",
      "29:\tlearn: 0.1725589\ttotal: 36.9s\tremaining: 12.3s\n",
      "30:\tlearn: 0.1714650\ttotal: 37.9s\tremaining: 11s\n",
      "31:\tlearn: 0.1705193\ttotal: 39s\tremaining: 9.75s\n",
      "32:\tlearn: 0.1696152\ttotal: 40.1s\tremaining: 8.5s\n",
      "33:\tlearn: 0.1686447\ttotal: 41.3s\tremaining: 7.28s\n",
      "34:\tlearn: 0.1676425\ttotal: 42.3s\tremaining: 6.05s\n",
      "35:\tlearn: 0.1668958\ttotal: 43.4s\tremaining: 4.82s\n",
      "36:\tlearn: 0.1658809\ttotal: 44.5s\tremaining: 3.61s\n",
      "37:\tlearn: 0.1643283\ttotal: 45.6s\tremaining: 2.4s\n",
      "38:\tlearn: 0.1635947\ttotal: 46.6s\tremaining: 1.2s\n",
      "39:\tlearn: 0.1628095\ttotal: 47.7s\tremaining: 0us\n",
      "0:\tlearn: 0.4420928\ttotal: 1.62s\tremaining: 1m 3s\n",
      "1:\tlearn: 0.3355088\ttotal: 2.77s\tremaining: 52.5s\n",
      "2:\tlearn: 0.2837401\ttotal: 3.87s\tremaining: 47.7s\n",
      "3:\tlearn: 0.2576221\ttotal: 5.01s\tremaining: 45.1s\n",
      "4:\tlearn: 0.2433400\ttotal: 6.08s\tremaining: 42.6s\n",
      "5:\tlearn: 0.2319937\ttotal: 7.17s\tremaining: 40.6s\n",
      "6:\tlearn: 0.2246165\ttotal: 8.22s\tremaining: 38.8s\n",
      "7:\tlearn: 0.2191415\ttotal: 9.29s\tremaining: 37.2s\n",
      "8:\tlearn: 0.2150185\ttotal: 10.4s\tremaining: 35.8s\n",
      "9:\tlearn: 0.2112210\ttotal: 11.4s\tremaining: 34.3s\n",
      "10:\tlearn: 0.2081257\ttotal: 12.5s\tremaining: 33s\n",
      "11:\tlearn: 0.2053806\ttotal: 13.6s\tremaining: 31.7s\n",
      "12:\tlearn: 0.2017621\ttotal: 14.8s\tremaining: 30.6s\n",
      "13:\tlearn: 0.1987724\ttotal: 15.8s\tremaining: 29.4s\n",
      "14:\tlearn: 0.1961911\ttotal: 17s\tremaining: 28.3s\n",
      "15:\tlearn: 0.1936922\ttotal: 18.2s\tremaining: 27.3s\n",
      "16:\tlearn: 0.1911630\ttotal: 19.3s\tremaining: 26.1s\n",
      "17:\tlearn: 0.1893620\ttotal: 20.4s\tremaining: 24.9s\n",
      "18:\tlearn: 0.1870452\ttotal: 21.5s\tremaining: 23.8s\n",
      "19:\tlearn: 0.1857339\ttotal: 22.6s\tremaining: 22.6s\n",
      "20:\tlearn: 0.1842248\ttotal: 23.6s\tremaining: 21.4s\n",
      "21:\tlearn: 0.1828237\ttotal: 24.8s\tremaining: 20.3s\n",
      "22:\tlearn: 0.1811947\ttotal: 25.9s\tremaining: 19.1s\n",
      "23:\tlearn: 0.1793983\ttotal: 27.4s\tremaining: 18.2s\n",
      "24:\tlearn: 0.1780233\ttotal: 29.2s\tremaining: 17.5s\n",
      "25:\tlearn: 0.1768381\ttotal: 30.5s\tremaining: 16.4s\n",
      "26:\tlearn: 0.1756239\ttotal: 31.6s\tremaining: 15.2s\n",
      "27:\tlearn: 0.1744858\ttotal: 32.9s\tremaining: 14.1s\n",
      "28:\tlearn: 0.1731333\ttotal: 34s\tremaining: 12.9s\n",
      "29:\tlearn: 0.1722351\ttotal: 35.5s\tremaining: 11.8s\n",
      "30:\tlearn: 0.1714951\ttotal: 36.7s\tremaining: 10.7s\n",
      "31:\tlearn: 0.1702736\ttotal: 37.9s\tremaining: 9.47s\n",
      "32:\tlearn: 0.1694418\ttotal: 39s\tremaining: 8.28s\n",
      "33:\tlearn: 0.1685698\ttotal: 40.2s\tremaining: 7.09s\n",
      "34:\tlearn: 0.1674071\ttotal: 41.5s\tremaining: 5.93s\n",
      "35:\tlearn: 0.1664484\ttotal: 42.7s\tremaining: 4.74s\n",
      "36:\tlearn: 0.1656536\ttotal: 43.8s\tremaining: 3.55s\n",
      "37:\tlearn: 0.1649483\ttotal: 45.1s\tremaining: 2.37s\n",
      "38:\tlearn: 0.1635390\ttotal: 46.9s\tremaining: 1.2s\n",
      "39:\tlearn: 0.1623962\ttotal: 48.1s\tremaining: 0us\n",
      "0:\tlearn: 0.3436525\ttotal: 2.2s\tremaining: 1m 25s\n",
      "1:\tlearn: 0.2648715\ttotal: 4.55s\tremaining: 1m 26s\n",
      "2:\tlearn: 0.2396721\ttotal: 5.95s\tremaining: 1m 13s\n",
      "3:\tlearn: 0.2272722\ttotal: 7.2s\tremaining: 1m 4s\n",
      "4:\tlearn: 0.2163578\ttotal: 8.68s\tremaining: 1m\n",
      "5:\tlearn: 0.2097508\ttotal: 10.4s\tremaining: 58.9s\n",
      "6:\tlearn: 0.2047655\ttotal: 11.6s\tremaining: 54.9s\n",
      "7:\tlearn: 0.2002983\ttotal: 13.5s\tremaining: 54.1s\n",
      "8:\tlearn: 0.1967345\ttotal: 15.5s\tremaining: 53.5s\n",
      "9:\tlearn: 0.1916450\ttotal: 16.8s\tremaining: 50.4s\n",
      "10:\tlearn: 0.1878447\ttotal: 18.4s\tremaining: 48.4s\n",
      "11:\tlearn: 0.1856288\ttotal: 20.1s\tremaining: 46.9s\n",
      "12:\tlearn: 0.1818522\ttotal: 21.8s\tremaining: 45.3s\n",
      "13:\tlearn: 0.1790889\ttotal: 23.4s\tremaining: 43.4s\n",
      "14:\tlearn: 0.1767499\ttotal: 24.9s\tremaining: 41.5s\n",
      "15:\tlearn: 0.1745677\ttotal: 26.6s\tremaining: 39.9s\n",
      "16:\tlearn: 0.1729594\ttotal: 28.1s\tremaining: 38s\n",
      "17:\tlearn: 0.1712783\ttotal: 29.5s\tremaining: 36s\n",
      "18:\tlearn: 0.1690935\ttotal: 30.7s\tremaining: 34s\n",
      "19:\tlearn: 0.1660135\ttotal: 32.2s\tremaining: 32.2s\n",
      "20:\tlearn: 0.1646502\ttotal: 33.6s\tremaining: 30.4s\n",
      "21:\tlearn: 0.1631217\ttotal: 35.3s\tremaining: 28.9s\n",
      "22:\tlearn: 0.1618394\ttotal: 36.7s\tremaining: 27.2s\n",
      "23:\tlearn: 0.1605816\ttotal: 38.5s\tremaining: 25.7s\n",
      "24:\tlearn: 0.1588850\ttotal: 39.9s\tremaining: 23.9s\n",
      "25:\tlearn: 0.1577349\ttotal: 41.1s\tremaining: 22.1s\n",
      "26:\tlearn: 0.1564033\ttotal: 42.2s\tremaining: 20.3s\n",
      "27:\tlearn: 0.1553599\ttotal: 43.4s\tremaining: 18.6s\n",
      "28:\tlearn: 0.1540363\ttotal: 44.7s\tremaining: 16.9s\n",
      "29:\tlearn: 0.1528644\ttotal: 45.9s\tremaining: 15.3s\n",
      "30:\tlearn: 0.1519211\ttotal: 47.1s\tremaining: 13.7s\n",
      "31:\tlearn: 0.1509734\ttotal: 48.3s\tremaining: 12.1s\n",
      "32:\tlearn: 0.1500101\ttotal: 49.4s\tremaining: 10.5s\n",
      "33:\tlearn: 0.1492099\ttotal: 50.3s\tremaining: 8.88s\n",
      "34:\tlearn: 0.1482364\ttotal: 51.4s\tremaining: 7.34s\n",
      "35:\tlearn: 0.1470762\ttotal: 52.4s\tremaining: 5.82s\n",
      "36:\tlearn: 0.1461056\ttotal: 53.4s\tremaining: 4.33s\n",
      "37:\tlearn: 0.1453589\ttotal: 54.4s\tremaining: 2.86s\n",
      "38:\tlearn: 0.1448510\ttotal: 55.4s\tremaining: 1.42s\n",
      "39:\tlearn: 0.1436191\ttotal: 56.6s\tremaining: 0us\n",
      "0:\tlearn: 0.3414917\ttotal: 1.82s\tremaining: 1m 10s\n",
      "1:\tlearn: 0.2607262\ttotal: 3.77s\tremaining: 1m 11s\n",
      "2:\tlearn: 0.2354448\ttotal: 5.73s\tremaining: 1m 10s\n",
      "3:\tlearn: 0.2230097\ttotal: 7.73s\tremaining: 1m 9s\n",
      "4:\tlearn: 0.2127704\ttotal: 9.57s\tremaining: 1m 6s\n",
      "5:\tlearn: 0.2069010\ttotal: 11.7s\tremaining: 1m 6s\n",
      "6:\tlearn: 0.2024027\ttotal: 13.3s\tremaining: 1m 2s\n",
      "7:\tlearn: 0.1985196\ttotal: 15.9s\tremaining: 1m 3s\n",
      "8:\tlearn: 0.1944092\ttotal: 17.3s\tremaining: 59.6s\n",
      "9:\tlearn: 0.1911668\ttotal: 18.9s\tremaining: 56.6s\n",
      "10:\tlearn: 0.1877042\ttotal: 20.1s\tremaining: 53s\n",
      "11:\tlearn: 0.1843591\ttotal: 21.4s\tremaining: 49.9s\n",
      "12:\tlearn: 0.1805193\ttotal: 22.5s\tremaining: 46.6s\n",
      "13:\tlearn: 0.1784543\ttotal: 23.5s\tremaining: 43.7s\n",
      "14:\tlearn: 0.1766304\ttotal: 24.8s\tremaining: 41.4s\n",
      "15:\tlearn: 0.1744149\ttotal: 26.2s\tremaining: 39.2s\n",
      "16:\tlearn: 0.1726839\ttotal: 27.6s\tremaining: 37.4s\n",
      "17:\tlearn: 0.1702646\ttotal: 28.9s\tremaining: 35.4s\n",
      "18:\tlearn: 0.1689135\ttotal: 30.4s\tremaining: 33.6s\n",
      "19:\tlearn: 0.1668947\ttotal: 31.6s\tremaining: 31.6s\n",
      "20:\tlearn: 0.1657073\ttotal: 32.8s\tremaining: 29.7s\n",
      "21:\tlearn: 0.1646146\ttotal: 34.4s\tremaining: 28.1s\n",
      "22:\tlearn: 0.1632332\ttotal: 35.7s\tremaining: 26.4s\n",
      "23:\tlearn: 0.1618222\ttotal: 37.1s\tremaining: 24.7s\n",
      "24:\tlearn: 0.1599820\ttotal: 38.5s\tremaining: 23.1s\n",
      "25:\tlearn: 0.1588897\ttotal: 39.7s\tremaining: 21.4s\n",
      "26:\tlearn: 0.1576969\ttotal: 41.1s\tremaining: 19.8s\n",
      "27:\tlearn: 0.1567310\ttotal: 42.3s\tremaining: 18.1s\n",
      "28:\tlearn: 0.1551458\ttotal: 43.4s\tremaining: 16.5s\n",
      "29:\tlearn: 0.1544137\ttotal: 44.5s\tremaining: 14.8s\n",
      "30:\tlearn: 0.1534009\ttotal: 45.8s\tremaining: 13.3s\n",
      "31:\tlearn: 0.1525867\ttotal: 46.9s\tremaining: 11.7s\n",
      "32:\tlearn: 0.1515124\ttotal: 48.1s\tremaining: 10.2s\n",
      "33:\tlearn: 0.1503121\ttotal: 50s\tremaining: 8.82s\n",
      "34:\tlearn: 0.1495056\ttotal: 51.4s\tremaining: 7.35s\n",
      "35:\tlearn: 0.1481273\ttotal: 52.9s\tremaining: 5.87s\n",
      "36:\tlearn: 0.1473170\ttotal: 54.4s\tremaining: 4.41s\n",
      "37:\tlearn: 0.1465145\ttotal: 56s\tremaining: 2.95s\n",
      "38:\tlearn: 0.1454871\ttotal: 57.5s\tremaining: 1.47s\n",
      "39:\tlearn: 0.1448865\ttotal: 58.7s\tremaining: 0us\n",
      "0:\tlearn: 0.3448973\ttotal: 2.14s\tremaining: 1m 23s\n",
      "1:\tlearn: 0.2625103\ttotal: 3.81s\tremaining: 1m 12s\n",
      "2:\tlearn: 0.2348399\ttotal: 5.14s\tremaining: 1m 3s\n",
      "3:\tlearn: 0.2237317\ttotal: 6.57s\tremaining: 59.1s\n",
      "4:\tlearn: 0.2147681\ttotal: 7.98s\tremaining: 55.9s\n",
      "5:\tlearn: 0.2085412\ttotal: 9.32s\tremaining: 52.8s\n"
     ]
    },
    {
     "name": "stdout",
     "output_type": "stream",
     "text": [
      "6:\tlearn: 0.2028042\ttotal: 10.5s\tremaining: 49.5s\n",
      "7:\tlearn: 0.1985961\ttotal: 11.8s\tremaining: 47.1s\n",
      "8:\tlearn: 0.1947930\ttotal: 13.3s\tremaining: 45.8s\n",
      "9:\tlearn: 0.1909380\ttotal: 14.8s\tremaining: 44.4s\n",
      "10:\tlearn: 0.1864864\ttotal: 16.3s\tremaining: 43.1s\n",
      "11:\tlearn: 0.1837110\ttotal: 17.6s\tremaining: 41.1s\n",
      "12:\tlearn: 0.1813016\ttotal: 19.1s\tremaining: 39.6s\n",
      "13:\tlearn: 0.1790961\ttotal: 20.5s\tremaining: 38.1s\n",
      "14:\tlearn: 0.1762766\ttotal: 21.9s\tremaining: 36.5s\n",
      "15:\tlearn: 0.1742943\ttotal: 23.4s\tremaining: 35.1s\n",
      "16:\tlearn: 0.1725091\ttotal: 24.5s\tremaining: 33.1s\n",
      "17:\tlearn: 0.1707507\ttotal: 25.6s\tremaining: 31.3s\n",
      "18:\tlearn: 0.1686719\ttotal: 26.7s\tremaining: 29.5s\n",
      "19:\tlearn: 0.1675496\ttotal: 27.9s\tremaining: 27.9s\n",
      "20:\tlearn: 0.1659958\ttotal: 29.1s\tremaining: 26.3s\n",
      "21:\tlearn: 0.1640136\ttotal: 30.3s\tremaining: 24.8s\n",
      "22:\tlearn: 0.1624521\ttotal: 31.8s\tremaining: 23.5s\n",
      "23:\tlearn: 0.1608197\ttotal: 33s\tremaining: 22s\n",
      "24:\tlearn: 0.1597076\ttotal: 34.3s\tremaining: 20.6s\n",
      "25:\tlearn: 0.1584431\ttotal: 35.5s\tremaining: 19.1s\n",
      "26:\tlearn: 0.1571265\ttotal: 36.7s\tremaining: 17.7s\n",
      "27:\tlearn: 0.1559986\ttotal: 37.9s\tremaining: 16.2s\n",
      "28:\tlearn: 0.1548845\ttotal: 39s\tremaining: 14.8s\n",
      "29:\tlearn: 0.1537099\ttotal: 40.2s\tremaining: 13.4s\n",
      "30:\tlearn: 0.1525716\ttotal: 41.3s\tremaining: 12s\n",
      "31:\tlearn: 0.1514639\ttotal: 42.4s\tremaining: 10.6s\n",
      "32:\tlearn: 0.1507020\ttotal: 43.7s\tremaining: 9.26s\n",
      "33:\tlearn: 0.1497342\ttotal: 44.8s\tremaining: 7.91s\n",
      "34:\tlearn: 0.1489355\ttotal: 46s\tremaining: 6.57s\n",
      "35:\tlearn: 0.1478978\ttotal: 47.2s\tremaining: 5.24s\n",
      "36:\tlearn: 0.1470023\ttotal: 48.3s\tremaining: 3.91s\n",
      "37:\tlearn: 0.1464388\ttotal: 49.4s\tremaining: 2.6s\n",
      "38:\tlearn: 0.1455477\ttotal: 50.6s\tremaining: 1.3s\n",
      "39:\tlearn: 0.1448880\ttotal: 51.9s\tremaining: 0us\n",
      "0:\tlearn: 0.2900132\ttotal: 1.96s\tremaining: 1m 16s\n",
      "1:\tlearn: 0.2432852\ttotal: 3.18s\tremaining: 1m\n",
      "2:\tlearn: 0.2262020\ttotal: 4.45s\tremaining: 54.9s\n",
      "3:\tlearn: 0.2124883\ttotal: 5.74s\tremaining: 51.7s\n",
      "4:\tlearn: 0.2043814\ttotal: 7.04s\tremaining: 49.3s\n",
      "5:\tlearn: 0.1983427\ttotal: 8.28s\tremaining: 46.9s\n",
      "6:\tlearn: 0.1925858\ttotal: 9.56s\tremaining: 45.1s\n",
      "7:\tlearn: 0.1882851\ttotal: 10.8s\tremaining: 43.1s\n",
      "8:\tlearn: 0.1839932\ttotal: 12s\tremaining: 41.4s\n",
      "9:\tlearn: 0.1799046\ttotal: 13.2s\tremaining: 39.5s\n",
      "10:\tlearn: 0.1753006\ttotal: 14.3s\tremaining: 37.8s\n",
      "11:\tlearn: 0.1716290\ttotal: 15.5s\tremaining: 36.1s\n",
      "12:\tlearn: 0.1695336\ttotal: 16.6s\tremaining: 34.5s\n",
      "13:\tlearn: 0.1663433\ttotal: 17.7s\tremaining: 32.9s\n",
      "14:\tlearn: 0.1640191\ttotal: 19s\tremaining: 31.6s\n",
      "15:\tlearn: 0.1623799\ttotal: 20.1s\tremaining: 30.1s\n",
      "16:\tlearn: 0.1605577\ttotal: 21.1s\tremaining: 28.6s\n",
      "17:\tlearn: 0.1580853\ttotal: 22.2s\tremaining: 27.1s\n",
      "18:\tlearn: 0.1566339\ttotal: 23.4s\tremaining: 25.9s\n",
      "19:\tlearn: 0.1551318\ttotal: 24.6s\tremaining: 24.6s\n",
      "20:\tlearn: 0.1530552\ttotal: 25.7s\tremaining: 23.3s\n",
      "21:\tlearn: 0.1519412\ttotal: 26.8s\tremaining: 21.9s\n",
      "22:\tlearn: 0.1506024\ttotal: 27.9s\tremaining: 20.7s\n",
      "23:\tlearn: 0.1493384\ttotal: 29.4s\tremaining: 19.6s\n",
      "24:\tlearn: 0.1482083\ttotal: 30.7s\tremaining: 18.4s\n",
      "25:\tlearn: 0.1473172\ttotal: 32.2s\tremaining: 17.3s\n",
      "26:\tlearn: 0.1458254\ttotal: 33.6s\tremaining: 16.2s\n",
      "27:\tlearn: 0.1446164\ttotal: 34.8s\tremaining: 14.9s\n",
      "28:\tlearn: 0.1434712\ttotal: 35.9s\tremaining: 13.6s\n",
      "29:\tlearn: 0.1427642\ttotal: 36.9s\tremaining: 12.3s\n",
      "30:\tlearn: 0.1415948\ttotal: 37.9s\tremaining: 11s\n",
      "31:\tlearn: 0.1409636\ttotal: 38.9s\tremaining: 9.73s\n",
      "32:\tlearn: 0.1402058\ttotal: 40s\tremaining: 8.49s\n",
      "33:\tlearn: 0.1395661\ttotal: 41.2s\tremaining: 7.26s\n",
      "34:\tlearn: 0.1384026\ttotal: 42.3s\tremaining: 6.05s\n",
      "35:\tlearn: 0.1375870\ttotal: 43.4s\tremaining: 4.82s\n",
      "36:\tlearn: 0.1369915\ttotal: 44.5s\tremaining: 3.61s\n",
      "37:\tlearn: 0.1361974\ttotal: 45.6s\tremaining: 2.4s\n",
      "38:\tlearn: 0.1356386\ttotal: 46.7s\tremaining: 1.2s\n",
      "39:\tlearn: 0.1347422\ttotal: 47.9s\tremaining: 0us\n",
      "0:\tlearn: 0.2876736\ttotal: 1.67s\tremaining: 1m 5s\n",
      "1:\tlearn: 0.2377590\ttotal: 3.37s\tremaining: 1m 4s\n",
      "2:\tlearn: 0.2209665\ttotal: 4.78s\tremaining: 59s\n",
      "3:\tlearn: 0.2076199\ttotal: 6.17s\tremaining: 55.5s\n",
      "4:\tlearn: 0.2012099\ttotal: 7.38s\tremaining: 51.7s\n",
      "5:\tlearn: 0.1950206\ttotal: 8.51s\tremaining: 48.2s\n",
      "6:\tlearn: 0.1905004\ttotal: 9.68s\tremaining: 45.6s\n",
      "7:\tlearn: 0.1851516\ttotal: 10.8s\tremaining: 43.2s\n",
      "8:\tlearn: 0.1806956\ttotal: 12s\tremaining: 41.5s\n",
      "9:\tlearn: 0.1772916\ttotal: 13.2s\tremaining: 39.5s\n",
      "10:\tlearn: 0.1735815\ttotal: 14.4s\tremaining: 37.9s\n",
      "11:\tlearn: 0.1703252\ttotal: 15.7s\tremaining: 36.5s\n",
      "12:\tlearn: 0.1681495\ttotal: 17s\tremaining: 35.4s\n",
      "13:\tlearn: 0.1664306\ttotal: 18.5s\tremaining: 34.4s\n",
      "14:\tlearn: 0.1643740\ttotal: 19.8s\tremaining: 33s\n",
      "15:\tlearn: 0.1626401\ttotal: 21s\tremaining: 31.5s\n",
      "16:\tlearn: 0.1609241\ttotal: 22.1s\tremaining: 29.9s\n",
      "17:\tlearn: 0.1592133\ttotal: 23.2s\tremaining: 28.4s\n",
      "18:\tlearn: 0.1576144\ttotal: 24.3s\tremaining: 26.9s\n",
      "19:\tlearn: 0.1561689\ttotal: 25.4s\tremaining: 25.4s\n",
      "20:\tlearn: 0.1551652\ttotal: 26.5s\tremaining: 24s\n",
      "21:\tlearn: 0.1538389\ttotal: 27.7s\tremaining: 22.6s\n",
      "22:\tlearn: 0.1522906\ttotal: 28.8s\tremaining: 21.3s\n",
      "23:\tlearn: 0.1513317\ttotal: 30s\tremaining: 20s\n",
      "24:\tlearn: 0.1500388\ttotal: 31.2s\tremaining: 18.7s\n",
      "25:\tlearn: 0.1486944\ttotal: 32.4s\tremaining: 17.4s\n",
      "26:\tlearn: 0.1474417\ttotal: 33.5s\tremaining: 16.1s\n",
      "27:\tlearn: 0.1465565\ttotal: 34.7s\tremaining: 14.9s\n",
      "28:\tlearn: 0.1450636\ttotal: 35.9s\tremaining: 13.6s\n",
      "29:\tlearn: 0.1433038\ttotal: 37.2s\tremaining: 12.4s\n",
      "30:\tlearn: 0.1423670\ttotal: 38.5s\tremaining: 11.2s\n",
      "31:\tlearn: 0.1414829\ttotal: 39.8s\tremaining: 9.95s\n",
      "32:\tlearn: 0.1405962\ttotal: 41s\tremaining: 8.7s\n",
      "33:\tlearn: 0.1398847\ttotal: 42.3s\tremaining: 7.46s\n",
      "34:\tlearn: 0.1391496\ttotal: 43.3s\tremaining: 6.19s\n",
      "35:\tlearn: 0.1385701\ttotal: 44.4s\tremaining: 4.93s\n",
      "36:\tlearn: 0.1380616\ttotal: 45.4s\tremaining: 3.69s\n",
      "37:\tlearn: 0.1371538\ttotal: 46.6s\tremaining: 2.45s\n",
      "38:\tlearn: 0.1360142\ttotal: 47.7s\tremaining: 1.22s\n",
      "39:\tlearn: 0.1354588\ttotal: 48.7s\tremaining: 0us\n",
      "0:\tlearn: 0.2911529\ttotal: 1.36s\tremaining: 53.2s\n",
      "1:\tlearn: 0.2419378\ttotal: 2.53s\tremaining: 48.2s\n",
      "2:\tlearn: 0.2209637\ttotal: 3.68s\tremaining: 45.4s\n",
      "3:\tlearn: 0.2105109\ttotal: 4.79s\tremaining: 43.1s\n",
      "4:\tlearn: 0.2030395\ttotal: 5.95s\tremaining: 41.6s\n",
      "5:\tlearn: 0.1969751\ttotal: 7.24s\tremaining: 41s\n",
      "6:\tlearn: 0.1916737\ttotal: 8.42s\tremaining: 39.7s\n",
      "7:\tlearn: 0.1863519\ttotal: 9.77s\tremaining: 39.1s\n",
      "8:\tlearn: 0.1820933\ttotal: 11s\tremaining: 37.8s\n",
      "9:\tlearn: 0.1771280\ttotal: 12.1s\tremaining: 36.2s\n",
      "10:\tlearn: 0.1745373\ttotal: 13.2s\tremaining: 34.7s\n",
      "11:\tlearn: 0.1718862\ttotal: 14.3s\tremaining: 33.3s\n",
      "12:\tlearn: 0.1696482\ttotal: 15.4s\tremaining: 32s\n",
      "13:\tlearn: 0.1672437\ttotal: 16.6s\tremaining: 30.8s\n",
      "14:\tlearn: 0.1637946\ttotal: 17.7s\tremaining: 29.4s\n",
      "15:\tlearn: 0.1619339\ttotal: 18.9s\tremaining: 28.3s\n",
      "16:\tlearn: 0.1601746\ttotal: 20.2s\tremaining: 27.4s\n",
      "17:\tlearn: 0.1588526\ttotal: 21.3s\tremaining: 26.1s\n",
      "18:\tlearn: 0.1567531\ttotal: 22.4s\tremaining: 24.8s\n",
      "19:\tlearn: 0.1553022\ttotal: 23.5s\tremaining: 23.5s\n",
      "20:\tlearn: 0.1539926\ttotal: 24.7s\tremaining: 22.4s\n",
      "21:\tlearn: 0.1527990\ttotal: 25.7s\tremaining: 21.1s\n",
      "22:\tlearn: 0.1513433\ttotal: 26.8s\tremaining: 19.8s\n",
      "23:\tlearn: 0.1497932\ttotal: 27.8s\tremaining: 18.5s\n",
      "24:\tlearn: 0.1489613\ttotal: 28.9s\tremaining: 17.3s\n",
      "25:\tlearn: 0.1476806\ttotal: 30.3s\tremaining: 16.3s\n",
      "26:\tlearn: 0.1465116\ttotal: 31.6s\tremaining: 15.2s\n",
      "27:\tlearn: 0.1457964\ttotal: 32.8s\tremaining: 14s\n",
      "28:\tlearn: 0.1449246\ttotal: 34.2s\tremaining: 13s\n",
      "29:\tlearn: 0.1438634\ttotal: 35.3s\tremaining: 11.8s\n",
      "30:\tlearn: 0.1425424\ttotal: 36.5s\tremaining: 10.6s\n",
      "31:\tlearn: 0.1417958\ttotal: 37.5s\tremaining: 9.39s\n",
      "32:\tlearn: 0.1407720\ttotal: 38.7s\tremaining: 8.21s\n",
      "33:\tlearn: 0.1399375\ttotal: 40s\tremaining: 7.06s\n",
      "34:\tlearn: 0.1386884\ttotal: 41.4s\tremaining: 5.91s\n",
      "35:\tlearn: 0.1375189\ttotal: 42.7s\tremaining: 4.74s\n",
      "36:\tlearn: 0.1369114\ttotal: 44s\tremaining: 3.56s\n",
      "37:\tlearn: 0.1361190\ttotal: 45.1s\tremaining: 2.37s\n",
      "38:\tlearn: 0.1355233\ttotal: 46.3s\tremaining: 1.19s\n",
      "39:\tlearn: 0.1342472\ttotal: 47.5s\tremaining: 0us\n",
      "0:\tlearn: 0.2680971\ttotal: 1.24s\tremaining: 48.2s\n",
      "1:\tlearn: 0.2366972\ttotal: 2.28s\tremaining: 43.3s\n",
      "2:\tlearn: 0.2190936\ttotal: 3.33s\tremaining: 41s\n",
      "3:\tlearn: 0.2054562\ttotal: 4.46s\tremaining: 40.1s\n",
      "4:\tlearn: 0.1967754\ttotal: 5.46s\tremaining: 38.2s\n",
      "5:\tlearn: 0.1909397\ttotal: 6.44s\tremaining: 36.5s\n",
      "6:\tlearn: 0.1854040\ttotal: 7.48s\tremaining: 35.3s\n",
      "7:\tlearn: 0.1803137\ttotal: 8.48s\tremaining: 33.9s\n",
      "8:\tlearn: 0.1763097\ttotal: 9.45s\tremaining: 32.5s\n"
     ]
    },
    {
     "name": "stdout",
     "output_type": "stream",
     "text": [
      "9:\tlearn: 0.1716666\ttotal: 10.5s\tremaining: 31.4s\n",
      "10:\tlearn: 0.1683999\ttotal: 11.6s\tremaining: 30.7s\n",
      "11:\tlearn: 0.1659729\ttotal: 12.8s\tremaining: 29.9s\n",
      "12:\tlearn: 0.1635707\ttotal: 14.2s\tremaining: 29.5s\n",
      "13:\tlearn: 0.1611274\ttotal: 15.6s\tremaining: 29s\n",
      "14:\tlearn: 0.1575093\ttotal: 16.8s\tremaining: 28s\n",
      "15:\tlearn: 0.1557665\ttotal: 17.9s\tremaining: 26.9s\n",
      "16:\tlearn: 0.1537733\ttotal: 19s\tremaining: 25.7s\n",
      "17:\tlearn: 0.1523189\ttotal: 20.1s\tremaining: 24.6s\n",
      "18:\tlearn: 0.1502122\ttotal: 21.4s\tremaining: 23.6s\n",
      "19:\tlearn: 0.1489838\ttotal: 22.6s\tremaining: 22.6s\n",
      "20:\tlearn: 0.1473350\ttotal: 23.8s\tremaining: 21.5s\n",
      "21:\tlearn: 0.1461934\ttotal: 25.2s\tremaining: 20.6s\n",
      "22:\tlearn: 0.1452004\ttotal: 26.5s\tremaining: 19.6s\n",
      "23:\tlearn: 0.1438480\ttotal: 27.9s\tremaining: 18.6s\n",
      "24:\tlearn: 0.1423177\ttotal: 29.1s\tremaining: 17.5s\n",
      "25:\tlearn: 0.1415840\ttotal: 30.4s\tremaining: 16.4s\n",
      "26:\tlearn: 0.1404310\ttotal: 31.4s\tremaining: 15.1s\n",
      "27:\tlearn: 0.1396061\ttotal: 32.4s\tremaining: 13.9s\n",
      "28:\tlearn: 0.1387042\ttotal: 33.5s\tremaining: 12.7s\n",
      "29:\tlearn: 0.1375720\ttotal: 34.7s\tremaining: 11.6s\n",
      "30:\tlearn: 0.1368480\ttotal: 35.8s\tremaining: 10.4s\n",
      "31:\tlearn: 0.1360662\ttotal: 37s\tremaining: 9.24s\n",
      "32:\tlearn: 0.1351579\ttotal: 38s\tremaining: 8.06s\n",
      "33:\tlearn: 0.1344414\ttotal: 39.1s\tremaining: 6.89s\n",
      "34:\tlearn: 0.1337912\ttotal: 40.1s\tremaining: 5.72s\n",
      "35:\tlearn: 0.1331517\ttotal: 41.1s\tremaining: 4.57s\n",
      "36:\tlearn: 0.1325556\ttotal: 42.3s\tremaining: 3.43s\n",
      "37:\tlearn: 0.1318660\ttotal: 43.5s\tremaining: 2.29s\n",
      "38:\tlearn: 0.1304599\ttotal: 44.6s\tremaining: 1.14s\n",
      "39:\tlearn: 0.1298924\ttotal: 45.7s\tremaining: 0us\n",
      "0:\tlearn: 0.2656487\ttotal: 1.67s\tremaining: 1m 5s\n",
      "1:\tlearn: 0.2342907\ttotal: 2.98s\tremaining: 56.7s\n",
      "2:\tlearn: 0.2177438\ttotal: 4.27s\tremaining: 52.7s\n",
      "3:\tlearn: 0.2034161\ttotal: 5.63s\tremaining: 50.7s\n",
      "4:\tlearn: 0.1957610\ttotal: 6.79s\tremaining: 47.5s\n",
      "5:\tlearn: 0.1901517\ttotal: 7.84s\tremaining: 44.4s\n",
      "6:\tlearn: 0.1850134\ttotal: 8.88s\tremaining: 41.8s\n",
      "7:\tlearn: 0.1802443\ttotal: 10s\tremaining: 40s\n",
      "8:\tlearn: 0.1765269\ttotal: 11.1s\tremaining: 38.2s\n",
      "9:\tlearn: 0.1730274\ttotal: 12.1s\tremaining: 36.4s\n",
      "10:\tlearn: 0.1703404\ttotal: 13.2s\tremaining: 34.7s\n",
      "11:\tlearn: 0.1672348\ttotal: 14.2s\tremaining: 33.2s\n",
      "12:\tlearn: 0.1648243\ttotal: 15.2s\tremaining: 31.7s\n",
      "13:\tlearn: 0.1626471\ttotal: 16.3s\tremaining: 30.2s\n",
      "14:\tlearn: 0.1596128\ttotal: 17.3s\tremaining: 28.9s\n",
      "15:\tlearn: 0.1564484\ttotal: 18.4s\tremaining: 27.5s\n",
      "16:\tlearn: 0.1547080\ttotal: 19.4s\tremaining: 26.3s\n",
      "17:\tlearn: 0.1530161\ttotal: 20.7s\tremaining: 25.3s\n",
      "18:\tlearn: 0.1505794\ttotal: 21.8s\tremaining: 24.1s\n",
      "19:\tlearn: 0.1493945\ttotal: 22.9s\tremaining: 22.9s\n",
      "20:\tlearn: 0.1481542\ttotal: 24.3s\tremaining: 21.9s\n",
      "21:\tlearn: 0.1468717\ttotal: 25.6s\tremaining: 20.9s\n",
      "22:\tlearn: 0.1457518\ttotal: 26.6s\tremaining: 19.6s\n",
      "23:\tlearn: 0.1449194\ttotal: 27.6s\tremaining: 18.4s\n",
      "24:\tlearn: 0.1436212\ttotal: 28.6s\tremaining: 17.2s\n",
      "25:\tlearn: 0.1419941\ttotal: 29.6s\tremaining: 15.9s\n",
      "26:\tlearn: 0.1405495\ttotal: 30.7s\tremaining: 14.8s\n",
      "27:\tlearn: 0.1394805\ttotal: 31.8s\tremaining: 13.6s\n",
      "28:\tlearn: 0.1384124\ttotal: 32.8s\tremaining: 12.4s\n",
      "29:\tlearn: 0.1377531\ttotal: 33.8s\tremaining: 11.3s\n",
      "30:\tlearn: 0.1369577\ttotal: 34.9s\tremaining: 10.1s\n",
      "31:\tlearn: 0.1356998\ttotal: 35.9s\tremaining: 8.97s\n",
      "32:\tlearn: 0.1350607\ttotal: 37.1s\tremaining: 7.87s\n",
      "33:\tlearn: 0.1344611\ttotal: 38.5s\tremaining: 6.8s\n",
      "34:\tlearn: 0.1338826\ttotal: 39.8s\tremaining: 5.68s\n",
      "35:\tlearn: 0.1328632\ttotal: 40.8s\tremaining: 4.54s\n",
      "36:\tlearn: 0.1323369\ttotal: 41.9s\tremaining: 3.4s\n",
      "37:\tlearn: 0.1318544\ttotal: 42.9s\tremaining: 2.26s\n",
      "38:\tlearn: 0.1312440\ttotal: 43.9s\tremaining: 1.13s\n",
      "39:\tlearn: 0.1300361\ttotal: 45s\tremaining: 0us\n",
      "0:\tlearn: 0.2691216\ttotal: 1.45s\tremaining: 56.7s\n",
      "1:\tlearn: 0.2376509\ttotal: 2.61s\tremaining: 49.6s\n",
      "2:\tlearn: 0.2217325\ttotal: 3.63s\tremaining: 44.8s\n",
      "3:\tlearn: 0.2076798\ttotal: 4.69s\tremaining: 42.2s\n",
      "4:\tlearn: 0.1982212\ttotal: 5.71s\tremaining: 40s\n",
      "5:\tlearn: 0.1923061\ttotal: 6.73s\tremaining: 38.2s\n",
      "6:\tlearn: 0.1864236\ttotal: 7.76s\tremaining: 36.6s\n",
      "7:\tlearn: 0.1829932\ttotal: 8.83s\tremaining: 35.3s\n",
      "8:\tlearn: 0.1780850\ttotal: 9.88s\tremaining: 34s\n",
      "9:\tlearn: 0.1747496\ttotal: 10.9s\tremaining: 32.7s\n",
      "10:\tlearn: 0.1717837\ttotal: 11.9s\tremaining: 31.4s\n",
      "11:\tlearn: 0.1679647\ttotal: 13s\tremaining: 30.2s\n",
      "12:\tlearn: 0.1649383\ttotal: 14s\tremaining: 29s\n",
      "13:\tlearn: 0.1618226\ttotal: 15s\tremaining: 27.8s\n",
      "14:\tlearn: 0.1590376\ttotal: 16s\tremaining: 26.7s\n",
      "15:\tlearn: 0.1572328\ttotal: 17.1s\tremaining: 25.6s\n",
      "16:\tlearn: 0.1556264\ttotal: 18.1s\tremaining: 24.5s\n",
      "17:\tlearn: 0.1537176\ttotal: 19.2s\tremaining: 23.4s\n",
      "18:\tlearn: 0.1522248\ttotal: 20.3s\tremaining: 22.5s\n",
      "19:\tlearn: 0.1508866\ttotal: 21.5s\tremaining: 21.5s\n",
      "20:\tlearn: 0.1498557\ttotal: 22.5s\tremaining: 20.4s\n",
      "21:\tlearn: 0.1480760\ttotal: 23.5s\tremaining: 19.2s\n",
      "22:\tlearn: 0.1461083\ttotal: 24.5s\tremaining: 18.1s\n",
      "23:\tlearn: 0.1452681\ttotal: 25.6s\tremaining: 17.1s\n",
      "24:\tlearn: 0.1443120\ttotal: 26.6s\tremaining: 16s\n",
      "25:\tlearn: 0.1430515\ttotal: 27.6s\tremaining: 14.9s\n",
      "26:\tlearn: 0.1420717\ttotal: 28.7s\tremaining: 13.8s\n",
      "27:\tlearn: 0.1412024\ttotal: 29.7s\tremaining: 12.7s\n",
      "28:\tlearn: 0.1402471\ttotal: 30.8s\tremaining: 11.7s\n",
      "29:\tlearn: 0.1389178\ttotal: 31.9s\tremaining: 10.6s\n",
      "30:\tlearn: 0.1377806\ttotal: 32.9s\tremaining: 9.55s\n",
      "31:\tlearn: 0.1371044\ttotal: 33.9s\tremaining: 8.48s\n",
      "32:\tlearn: 0.1361025\ttotal: 35s\tremaining: 7.42s\n",
      "33:\tlearn: 0.1354907\ttotal: 36s\tremaining: 6.36s\n",
      "34:\tlearn: 0.1349088\ttotal: 37s\tremaining: 5.29s\n",
      "35:\tlearn: 0.1342430\ttotal: 38s\tremaining: 4.23s\n",
      "36:\tlearn: 0.1337071\ttotal: 39.1s\tremaining: 3.17s\n",
      "37:\tlearn: 0.1330974\ttotal: 40.1s\tremaining: 2.11s\n",
      "38:\tlearn: 0.1325684\ttotal: 41.1s\tremaining: 1.05s\n",
      "39:\tlearn: 0.1320093\ttotal: 42.2s\tremaining: 0us\n",
      "0:\tlearn: 0.2625338\ttotal: 2.51s\tremaining: 1m 37s\n",
      "1:\tlearn: 0.2311615\ttotal: 4.64s\tremaining: 1m 28s\n",
      "2:\tlearn: 0.2163376\ttotal: 6.12s\tremaining: 1m 15s\n",
      "3:\tlearn: 0.2023834\ttotal: 7.58s\tremaining: 1m 8s\n",
      "4:\tlearn: 0.1953354\ttotal: 8.99s\tremaining: 1m 2s\n",
      "5:\tlearn: 0.1899241\ttotal: 10.4s\tremaining: 58.8s\n",
      "6:\tlearn: 0.1849066\ttotal: 11.8s\tremaining: 55.5s\n",
      "7:\tlearn: 0.1794891\ttotal: 13.2s\tremaining: 52.7s\n",
      "8:\tlearn: 0.1758081\ttotal: 14.6s\tremaining: 50.4s\n",
      "9:\tlearn: 0.1722775\ttotal: 16s\tremaining: 48s\n",
      "10:\tlearn: 0.1695839\ttotal: 17.4s\tremaining: 45.9s\n",
      "11:\tlearn: 0.1668666\ttotal: 18.8s\tremaining: 43.8s\n",
      "12:\tlearn: 0.1634920\ttotal: 20.2s\tremaining: 41.9s\n",
      "13:\tlearn: 0.1617352\ttotal: 21.5s\tremaining: 40s\n",
      "14:\tlearn: 0.1589272\ttotal: 22.9s\tremaining: 38.2s\n",
      "15:\tlearn: 0.1572132\ttotal: 24.3s\tremaining: 36.4s\n",
      "16:\tlearn: 0.1557657\ttotal: 25.7s\tremaining: 34.8s\n",
      "17:\tlearn: 0.1542326\ttotal: 27s\tremaining: 33.1s\n",
      "18:\tlearn: 0.1525601\ttotal: 28.6s\tremaining: 31.6s\n",
      "19:\tlearn: 0.1506632\ttotal: 29.9s\tremaining: 29.9s\n",
      "20:\tlearn: 0.1495598\ttotal: 31.3s\tremaining: 28.3s\n",
      "21:\tlearn: 0.1486678\ttotal: 32.6s\tremaining: 26.7s\n",
      "22:\tlearn: 0.1475194\ttotal: 34s\tremaining: 25.1s\n",
      "23:\tlearn: 0.1459026\ttotal: 35.4s\tremaining: 23.6s\n",
      "24:\tlearn: 0.1446910\ttotal: 37s\tremaining: 22.2s\n",
      "25:\tlearn: 0.1438059\ttotal: 38.5s\tremaining: 20.7s\n",
      "26:\tlearn: 0.1425349\ttotal: 39.9s\tremaining: 19.2s\n",
      "27:\tlearn: 0.1418151\ttotal: 41.3s\tremaining: 17.7s\n",
      "28:\tlearn: 0.1409687\ttotal: 42.7s\tremaining: 16.2s\n",
      "29:\tlearn: 0.1397887\ttotal: 44.1s\tremaining: 14.7s\n",
      "30:\tlearn: 0.1392246\ttotal: 45.5s\tremaining: 13.2s\n",
      "31:\tlearn: 0.1380292\ttotal: 46.9s\tremaining: 11.7s\n",
      "32:\tlearn: 0.1372622\ttotal: 48.2s\tremaining: 10.2s\n",
      "33:\tlearn: 0.1367564\ttotal: 49.8s\tremaining: 8.8s\n",
      "34:\tlearn: 0.1358182\ttotal: 51.8s\tremaining: 7.4s\n",
      "35:\tlearn: 0.1352925\ttotal: 53.1s\tremaining: 5.91s\n",
      "36:\tlearn: 0.1342703\ttotal: 54.5s\tremaining: 4.42s\n",
      "37:\tlearn: 0.1338259\ttotal: 55.9s\tremaining: 2.94s\n",
      "38:\tlearn: 0.1333250\ttotal: 57.3s\tremaining: 1.47s\n",
      "39:\tlearn: 0.1324778\ttotal: 58.6s\tremaining: 0us\n"
     ]
    },
    {
     "data": {
      "text/html": [
       "<style>#sk-container-id-2 {color: black;background-color: white;}#sk-container-id-2 pre{padding: 0;}#sk-container-id-2 div.sk-toggleable {background-color: white;}#sk-container-id-2 label.sk-toggleable__label {cursor: pointer;display: block;width: 100%;margin-bottom: 0;padding: 0.3em;box-sizing: border-box;text-align: center;}#sk-container-id-2 label.sk-toggleable__label-arrow:before {content: \"▸\";float: left;margin-right: 0.25em;color: #696969;}#sk-container-id-2 label.sk-toggleable__label-arrow:hover:before {color: black;}#sk-container-id-2 div.sk-estimator:hover label.sk-toggleable__label-arrow:before {color: black;}#sk-container-id-2 div.sk-toggleable__content {max-height: 0;max-width: 0;overflow: hidden;text-align: left;background-color: #f0f8ff;}#sk-container-id-2 div.sk-toggleable__content pre {margin: 0.2em;color: black;border-radius: 0.25em;background-color: #f0f8ff;}#sk-container-id-2 input.sk-toggleable__control:checked~div.sk-toggleable__content {max-height: 200px;max-width: 100%;overflow: auto;}#sk-container-id-2 input.sk-toggleable__control:checked~label.sk-toggleable__label-arrow:before {content: \"▾\";}#sk-container-id-2 div.sk-estimator input.sk-toggleable__control:checked~label.sk-toggleable__label {background-color: #d4ebff;}#sk-container-id-2 div.sk-label input.sk-toggleable__control:checked~label.sk-toggleable__label {background-color: #d4ebff;}#sk-container-id-2 input.sk-hidden--visually {border: 0;clip: rect(1px 1px 1px 1px);clip: rect(1px, 1px, 1px, 1px);height: 1px;margin: -1px;overflow: hidden;padding: 0;position: absolute;width: 1px;}#sk-container-id-2 div.sk-estimator {font-family: monospace;background-color: #f0f8ff;border: 1px dotted black;border-radius: 0.25em;box-sizing: border-box;margin-bottom: 0.5em;}#sk-container-id-2 div.sk-estimator:hover {background-color: #d4ebff;}#sk-container-id-2 div.sk-parallel-item::after {content: \"\";width: 100%;border-bottom: 1px solid gray;flex-grow: 1;}#sk-container-id-2 div.sk-label:hover label.sk-toggleable__label {background-color: #d4ebff;}#sk-container-id-2 div.sk-serial::before {content: \"\";position: absolute;border-left: 1px solid gray;box-sizing: border-box;top: 0;bottom: 0;left: 50%;z-index: 0;}#sk-container-id-2 div.sk-serial {display: flex;flex-direction: column;align-items: center;background-color: white;padding-right: 0.2em;padding-left: 0.2em;position: relative;}#sk-container-id-2 div.sk-item {position: relative;z-index: 1;}#sk-container-id-2 div.sk-parallel {display: flex;align-items: stretch;justify-content: center;background-color: white;position: relative;}#sk-container-id-2 div.sk-item::before, #sk-container-id-2 div.sk-parallel-item::before {content: \"\";position: absolute;border-left: 1px solid gray;box-sizing: border-box;top: 0;bottom: 0;left: 50%;z-index: -1;}#sk-container-id-2 div.sk-parallel-item {display: flex;flex-direction: column;z-index: 1;position: relative;background-color: white;}#sk-container-id-2 div.sk-parallel-item:first-child::after {align-self: flex-end;width: 50%;}#sk-container-id-2 div.sk-parallel-item:last-child::after {align-self: flex-start;width: 50%;}#sk-container-id-2 div.sk-parallel-item:only-child::after {width: 0;}#sk-container-id-2 div.sk-dashed-wrapped {border: 1px dashed gray;margin: 0 0.4em 0.5em 0.4em;box-sizing: border-box;padding-bottom: 0.4em;background-color: white;}#sk-container-id-2 div.sk-label label {font-family: monospace;font-weight: bold;display: inline-block;line-height: 1.2em;}#sk-container-id-2 div.sk-label-container {text-align: center;}#sk-container-id-2 div.sk-container {/* jupyter's `normalize.less` sets `[hidden] { display: none; }` but bootstrap.min.css set `[hidden] { display: none !important; }` so we also need the `!important` here to be able to override the default hidden behavior on the sphinx rendered scikit-learn.org. See: https://github.com/scikit-learn/scikit-learn/issues/21755 */display: inline-block !important;position: relative;}#sk-container-id-2 div.sk-text-repr-fallback {display: none;}</style><div id=\"sk-container-id-2\" class=\"sk-top-container\"><div class=\"sk-text-repr-fallback\"><pre>GridSearchCV(cv=3,\n",
       "             estimator=&lt;catboost.core.CatBoostClassifier object at 0x167244d30&gt;,\n",
       "             param_grid={&#x27;iterations&#x27;: [40],\n",
       "                         &#x27;learning_rate&#x27;: array([0.1, 0.3, 0.5, 0.7, 0.9])},\n",
       "             scoring=&#x27;f1&#x27;, verbose=False)</pre><b>In a Jupyter environment, please rerun this cell to show the HTML representation or trust the notebook. <br />On GitHub, the HTML representation is unable to render, please try loading this page with nbviewer.org.</b></div><div class=\"sk-container\" hidden><div class=\"sk-item sk-dashed-wrapped\"><div class=\"sk-label-container\"><div class=\"sk-label sk-toggleable\"><input class=\"sk-toggleable__control sk-hidden--visually\" id=\"sk-estimator-id-4\" type=\"checkbox\" ><label for=\"sk-estimator-id-4\" class=\"sk-toggleable__label sk-toggleable__label-arrow\">GridSearchCV</label><div class=\"sk-toggleable__content\"><pre>GridSearchCV(cv=3,\n",
       "             estimator=&lt;catboost.core.CatBoostClassifier object at 0x167244d30&gt;,\n",
       "             param_grid={&#x27;iterations&#x27;: [40],\n",
       "                         &#x27;learning_rate&#x27;: array([0.1, 0.3, 0.5, 0.7, 0.9])},\n",
       "             scoring=&#x27;f1&#x27;, verbose=False)</pre></div></div></div><div class=\"sk-parallel\"><div class=\"sk-parallel-item\"><div class=\"sk-item\"><div class=\"sk-label-container\"><div class=\"sk-label sk-toggleable\"><input class=\"sk-toggleable__control sk-hidden--visually\" id=\"sk-estimator-id-5\" type=\"checkbox\" ><label for=\"sk-estimator-id-5\" class=\"sk-toggleable__label sk-toggleable__label-arrow\">estimator: CatBoostClassifier</label><div class=\"sk-toggleable__content\"><pre>&lt;catboost.core.CatBoostClassifier object at 0x167244d30&gt;</pre></div></div></div><div class=\"sk-serial\"><div class=\"sk-item\"><div class=\"sk-estimator sk-toggleable\"><input class=\"sk-toggleable__control sk-hidden--visually\" id=\"sk-estimator-id-6\" type=\"checkbox\" ><label for=\"sk-estimator-id-6\" class=\"sk-toggleable__label sk-toggleable__label-arrow\">CatBoostClassifier</label><div class=\"sk-toggleable__content\"><pre>&lt;catboost.core.CatBoostClassifier object at 0x167244d30&gt;</pre></div></div></div></div></div></div></div></div></div></div>"
      ],
      "text/plain": [
       "GridSearchCV(cv=3,\n",
       "             estimator=<catboost.core.CatBoostClassifier object at 0x167244d30>,\n",
       "             param_grid={'iterations': [40],\n",
       "                         'learning_rate': array([0.1, 0.3, 0.5, 0.7, 0.9])},\n",
       "             scoring='f1', verbose=False)"
      ]
     },
     "execution_count": 276,
     "metadata": {},
     "output_type": "execute_result"
    }
   ],
   "source": [
    "# initiatint the model\n",
    "catboost = CatBoostClassifier(random_seed=5,\n",
    "                              loss_function='Logloss')\n",
    "\n",
    "# preparing parameters to ask GridSearch, which contains cross validation\n",
    "parameters_cat = {'iterations':[40], \n",
    "                  'learning_rate': np.arange(0.1,1,0.2)}\n",
    "\n",
    "gsearch_catboost = GridSearchCV(catboost, \n",
    "                                param_grid=parameters_cat,\n",
    "                                cv=3,\n",
    "                                verbose=False,\n",
    "                               scoring='f1')\n",
    "\n",
    "gsearch_catboost.fit(tf_idf_X_train, y_train)"
   ]
  },
  {
   "cell_type": "markdown",
   "id": "6fdd1e06",
   "metadata": {},
   "source": [
    "### 2.4 Gradient Boosting в модели \"мешка слова\" в классе TfidfVectorizer()"
   ]
  },
  {
   "cell_type": "code",
   "execution_count": 79,
   "id": "be494f5c",
   "metadata": {},
   "outputs": [],
   "source": [
    "from lightgbm import LGBMClassifier\n",
    "import lightgbm as lgb"
   ]
  },
  {
   "cell_type": "code",
   "execution_count": 80,
   "id": "37b4df5c",
   "metadata": {
    "scrolled": true
   },
   "outputs": [],
   "source": [
    "model = lgb.LGBMClassifier(random_state=5)"
   ]
  },
  {
   "cell_type": "code",
   "execution_count": null,
   "id": "2f9f1482",
   "metadata": {},
   "outputs": [],
   "source": [
    "params_LGBMClassifier = {    \n",
    "    \n",
    "    'n_estimators': [50, 100], \n",
    "    'learning_rate': [0.05, 0.1], \n",
    "    'verbose' : [-1],\n",
    "#     'boosting_type' : ['gbdt'],\n",
    "#     'num_leaves': [100],\n",
    "    'max_depth' : [-1],\n",
    "#     'min_split_gain' : [0.0],\n",
    "#     'min_child_samples' : [20],\n",
    "#     'subsample' : [1.0],\n",
    "#     'subsample_freq' : [0],\n",
    "#     'colsample_bytree': [1.0],\n",
    "#     'reg_alpha' : [0.0],\n",
    "#     'reg_lambda' : [0.0],\n",
    "#     'random_state' : [5],\n",
    "#     'silent' : [True]\n",
    "}\n",
    "\n",
    "LGBMClassifier_gsearch = GridSearchCV(estimator=model, \n",
    "                                     cv=3, \n",
    "                                     param_grid=params_LGBMClassifier,\n",
    "                                     scoring='f1')\n",
    "\n",
    "LGBMClassifier_gsearch.fit(tf_idf_X_train, y_train)"
   ]
  },
  {
   "cell_type": "markdown",
   "id": "982c915b",
   "metadata": {},
   "source": [
    "### 2.5 Сравним модели"
   ]
  },
  {
   "cell_type": "code",
   "execution_count": 281,
   "id": "60bf0306",
   "metadata": {},
   "outputs": [
    {
     "name": "stdout",
     "output_type": "stream",
     "text": [
      "Best score Logistic Regression CountVectorizer: 0.76\n"
     ]
    }
   ],
   "source": [
    "# Logistic Regression CountVectorizer\n",
    "best_score_vect = round(logreg_grid.best_score_, 2)\n",
    "print(\"Best score Logistic Regression CountVectorizer: {:.2f}\".format(best_score_vect))\n",
    "\n",
    "# f1_logreg_vect = round(f1_score(logreg_grid.predict(tf_idf_X_train), y_train), 2)\n",
    "# print(\"F1-score Logistic Regression CountVectorizer: {:.2f}\".format(f1_logreg_vect))"
   ]
  },
  {
   "cell_type": "code",
   "execution_count": 280,
   "id": "ef87e95b",
   "metadata": {
    "scrolled": true
   },
   "outputs": [
    {
     "name": "stdout",
     "output_type": "stream",
     "text": [
      "Best score Logistic Regression (TF-IDF): 0.76\n"
     ]
    }
   ],
   "source": [
    "# Logistic Regression TF-IDF\n",
    "best_score_tfidf = round(grid.best_score_, 2)\n",
    "print('Best score Logistic Regression (TF-IDF): {:.2f}'.format(best_score_tfidf))\n",
    "\n",
    "# f1_logreg_tfidf = round(f1_score(grid.predict(tf_idf_X_train), y_train), 2)\n",
    "# print(\"F1-score Logistic Regression CountVectorizer: {:.2f}\".format(f1_logreg_tfidf))"
   ]
  },
  {
   "cell_type": "code",
   "execution_count": 279,
   "id": "9a4ca4fa",
   "metadata": {
    "scrolled": true
   },
   "outputs": [
    {
     "name": "stdout",
     "output_type": "stream",
     "text": [
      "Best score CatBoostClassifier (TF-IDF): 0.73\n"
     ]
    }
   ],
   "source": [
    "# CatBoost\n",
    "best_score_catboost = round(gsearch_catboost.best_score_, 2)\n",
    "print('Best score CatBoostClassifier (TF-IDF): {}'.format(best_score_catboost))\n",
    "\n",
    "# f1_catboost = round(f1_score(gsearch_catboost.predict(tf_idf_X_train), y_train), 2)\n",
    "# print(\"F1-score Logistic Regression CountVectorizer: {:.2f}\".format(f1_catboost))"
   ]
  },
  {
   "cell_type": "code",
   "execution_count": 80,
   "id": "c414752e",
   "metadata": {},
   "outputs": [
    {
     "name": "stdout",
     "output_type": "stream",
     "text": [
      "Best score LGBMClassifier (TF-IDF): 0.96\n",
      "F1-score Logistic Regression CountVectorizer: 0.78\n"
     ]
    }
   ],
   "source": [
    "# LGBMClassifier\n",
    "best_score_LGBM = round(LGBMClassifier_gsearch.best_score_, 2)\n",
    "print('Best score LGBMClassifier (TF-IDF): {}'.format(best_score_LGBM))\n",
    "\n",
    "# f1_lgbm = round(f1_score(LGBMClassifier_gsearch.predict(tf_idf_X_train), y_train), 2)\n",
    "# print(\"F1-score Logistic Regression CountVectorizer: {:.2f}\".format(f1_lgbm))"
   ]
  },
  {
   "cell_type": "code",
   "execution_count": 282,
   "id": "40ee49ee",
   "metadata": {},
   "outputs": [
    {
     "ename": "NameError",
     "evalue": "name 'best_score_LGBM' is not defined",
     "output_type": "error",
     "traceback": [
      "\u001b[0;31m---------------------------------------------------------------------------\u001b[0m",
      "\u001b[0;31mNameError\u001b[0m                                 Traceback (most recent call last)",
      "Cell \u001b[0;32mIn [282], line 17\u001b[0m\n\u001b[1;32m      7\u001b[0m fig, ax \u001b[38;5;241m=\u001b[39m plt\u001b[38;5;241m.\u001b[39msubplots(figsize\u001b[38;5;241m=\u001b[39m(\u001b[38;5;241m19\u001b[39m, \u001b[38;5;241m6\u001b[39m))\n\u001b[1;32m      9\u001b[0m x \u001b[38;5;241m=\u001b[39m [\u001b[38;5;124m'\u001b[39m\u001b[38;5;124mLogistic Regression (Count)\u001b[39m\u001b[38;5;124m'\u001b[39m, \n\u001b[1;32m     10\u001b[0m      \u001b[38;5;124m'\u001b[39m\u001b[38;5;124mLogistic Regression (TF-IDF)\u001b[39m\u001b[38;5;124m'\u001b[39m, \n\u001b[1;32m     11\u001b[0m      \u001b[38;5;124m'\u001b[39m\u001b[38;5;124mCat Boost (TF-IDF)\u001b[39m\u001b[38;5;124m'\u001b[39m,\n\u001b[1;32m     12\u001b[0m     \u001b[38;5;124m'\u001b[39m\u001b[38;5;124mLightGBM (TF-IDF)\u001b[39m\u001b[38;5;124m'\u001b[39m]\n\u001b[1;32m     14\u001b[0m y \u001b[38;5;241m=\u001b[39m [best_score_vect, \n\u001b[1;32m     15\u001b[0m      best_score_tfidf, \n\u001b[1;32m     16\u001b[0m      best_score_catboost,\n\u001b[0;32m---> 17\u001b[0m      \u001b[43mbest_score_LGBM\u001b[49m]\n\u001b[1;32m     19\u001b[0m ax\u001b[38;5;241m.\u001b[39mbar(x, y, width\u001b[38;5;241m=\u001b[39m\u001b[38;5;241m0.4\u001b[39m, color\u001b[38;5;241m=\u001b[39m\u001b[38;5;124m'\u001b[39m\u001b[38;5;124m#008B8B\u001b[39m\u001b[38;5;124m'\u001b[39m)\n\u001b[1;32m     20\u001b[0m ax\u001b[38;5;241m.\u001b[39mset_title(\u001b[38;5;124m'\u001b[39m\u001b[38;5;124mF1-score for each ML algorithm (train data)\u001b[39m\u001b[38;5;124m'\u001b[39m, fontsize\u001b[38;5;241m=\u001b[39m\u001b[38;5;241m18\u001b[39m)\n",
      "\u001b[0;31mNameError\u001b[0m: name 'best_score_LGBM' is not defined"
     ]
    },
    {
     "data": {
      "image/png": "[encoded data removed]",
      "text/plain": [
       "<Figure size 1900x600 with 1 Axes>"
      ]
     },
     "metadata": {},
     "output_type": "display_data"
    }
   ],
   "source": [
    "# Generate F1-score plots\n",
    "\n",
    "plt.rcParams.update({'font.size': 17, \n",
    "                     'text.color' : 'black', \n",
    "                     'axes.labelcolor' : \"blue\"})\n",
    "# plt.rcParams.update({'axes.titlesize': 'large'})\n",
    "fig, ax = plt.subplots(figsize=(19, 6))\n",
    "\n",
    "x = ['Logistic Regression (Count)', \n",
    "     'Logistic Regression (TF-IDF)', \n",
    "     'Cat Boost (TF-IDF)',\n",
    "    'LightGBM (TF-IDF)']\n",
    "\n",
    "y = [best_score_vect, \n",
    "     best_score_tfidf, \n",
    "     best_score_catboost,\n",
    "     best_score_LGBM]\n",
    "\n",
    "ax.bar(x, y, width=0.4, color='#008B8B')\n",
    "ax.set_title('F1-score for each ML algorithm (train data)', fontsize=18)\n",
    "ax.set_xlabel('Classification Models', fontsize=18)\n",
    "ax.set_ylabel('F1-score', fontsize=18)\n",
    "ax.set_ylim(0, 1.1)\n",
    "\n",
    "for index, value in enumerate(y):\n",
    "    plt.text(x=index, y=value + 0.05, s=str(value), ha='center')\n",
    "    \n",
    "plt.tight_layout();"
   ]
  },
  {
   "cell_type": "markdown",
   "id": "43a8fe3a",
   "metadata": {},
   "source": [
    "###  Вывод: Максимальное значение F1-меры приходится на модель логистической регрессии, примененной к модели TF-IDF (F1-score = 0.76). \n",
    "\n",
    "Протестируем данный алгоритм на тестовой выборке."
   ]
  },
  {
   "cell_type": "markdown",
   "id": "674c548a",
   "metadata": {},
   "source": [
    "## 3 Выводы"
   ]
  },
  {
   "cell_type": "code",
   "execution_count": 84,
   "id": "5929322b",
   "metadata": {},
   "outputs": [
    {
     "name": "stdout",
     "output_type": "stream",
     "text": [
      "F1-score Logistic Regression CountVectorizer (test data): 0.78\n"
     ]
    }
   ],
   "source": [
    "# Logistic Regression TF-IDF\n",
    "f1_logreg_tfidf_test = round(f1_score(grid.predict(tf_idf_X_test), y_test), 2)\n",
    "print(\"F1-score Logistic Regression CountVectorizer (test data): {:.2f}\".format(f1_logreg_tfidf_test))"
   ]
  },
  {
   "cell_type": "markdown",
   "id": "6c2fe3a0",
   "metadata": {},
   "source": [
    "### ***Вывод:*** Наилучшая модель классификации текста - это логистическая регрессия с максимальным значением F1-меры."
   ]
  },
  {
   "cell_type": "markdown",
   "id": "4771856b",
   "metadata": {},
   "source": [
    "- [x]  Jupyter Notebook открыт\n",
    "- [ ]  Весь код выполняется без ошибок\n",
    "- [ ]  Ячейки с кодом расположены в порядке исполнения\n",
    "- [ ]  Данные загружены и подготовлены\n",
    "- [ ]  Модели обучены\n",
    "- [ ]  Значение метрики *F1* не меньше 0.75\n",
    "- [ ]  Выводы написаны"
   ]
  },
  {
   "cell_type": "markdown",
   "id": "cf8fde8a",
   "metadata": {},
   "source": [
    "***Thank you for going through this project. Your comments are more then welcome to ybezginova2021@gmail.com***\n",
    "\n",
    "***Best wishes,***\n",
    "\n",
    "***Yulia***"
   ]
  }
 ],
 "metadata": {
  "kernelspec": {
   "display_name": "Python 3 (ipykernel)",
   "language": "python",
   "name": "python3"
  },
  "language_info": {
   "codemirror_mode": {
    "name": "ipython",
    "version": 3
   },
   "file_extension": ".py",
   "mimetype": "text/x-python",
   "name": "python",
   "nbconvert_exporter": "python",
   "pygments_lexer": "ipython3",
   "version": "3.10.8"
  }
 },
 "nbformat": 4,
 "nbformat_minor": 5
}
