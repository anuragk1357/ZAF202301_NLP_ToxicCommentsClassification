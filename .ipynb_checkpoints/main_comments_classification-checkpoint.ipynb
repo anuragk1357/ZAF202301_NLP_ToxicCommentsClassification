{
 "cells": [
  {
   "cell_type": "markdown",
   "id": "7b003554",
   "metadata": {},
   "source": [
    "<h1>Contents<span class=\"tocSkip\"></span></h1>\n",
    "<div class=\"toc\"><ul class=\"toc-item\"><li><span><a href=\"#Подготовка\" data-toc-modified-id=\"Подготовка-1\"><span class=\"toc-item-num\">1&nbsp;&nbsp;</span>Dara Loading and Preprocessing</a></span></li><li><span><a href=\"#Обучение\" data-toc-modified-id=\"Обучение-2\"><span class=\"toc-item-num\">2&nbsp;&nbsp;</span>Training</a></span></li><li><span><a href=\"#Выводы\" data-toc-modified-id=\"Выводы-3\"><span class=\"toc-item-num\">3&nbsp;&nbsp;</span>Conclustions</a></span></li><li><span><a href=\"#Чек-лист-проверки\" data-toc-modified-id=\"Чек-лист-проверки-4\"><span class=\"toc-item-num\">4&nbsp;&nbsp;</span>Чек-лист проверки</a></span></li></ul></div>"
   ]
  },
  {
   "cell_type": "markdown",
   "id": "8d0eb7e0",
   "metadata": {},
   "source": [
    "# 01 - ***ML for Texts*** - Project for WikiShop\n",
    "\n",
    "[Nice reading about BERT](https://docs.deeppavlov.ai/en/master/features/models/bert.html)\n",
    "\n",
    "BERT (Bidirectional Encoder Representations from Transformers) is a Transformer pre-trained on masked language model and next sentence prediction tasks. This approach showed state-of-the-art results on a wide range of NLP tasks in English."
   ]
  },
  {
   "cell_type": "markdown",
   "id": "dece3c66",
   "metadata": {},
   "source": [
    "### Project Goal\n",
    "The project goal is a binary text classification using BERT model.\n",
    "\n",
    "Интернет-магазин «Викишоп» запускает новый сервис. Теперь пользователи могут редактировать и дополнять описания товаров, как в вики-сообществах. То есть клиенты предлагают свои правки и комментируют изменения других. Магазину нужен инструмент, который будет искать токсичные комментарии и отправлять их на модерацию. \n",
    "\n",
    "Обучите модель классифицировать комментарии на позитивные и негативные. В вашем распоряжении набор данных с разметкой о токсичности правок.\n",
    "\n",
    "Постройте модель со значением метрики качества *F1* не меньше 0.75. \n",
    "\n",
    "**Инструкция по выполнению проекта**\n",
    "\n",
    "1. Загрузить и подготовить данные.\n",
    "2. Обучить разные модели. \n",
    "3. Сделать выводы.\n",
    "\n",
    "**Описание данных**\n",
    "\n",
    "Столбец *text* в нём содержит текст комментария, а *toxic* — целевой признак."
   ]
  },
  {
   "cell_type": "code",
   "execution_count": 107,
   "id": "654e9b56",
   "metadata": {
    "scrolled": true
   },
   "outputs": [
    {
     "name": "stdout",
     "output_type": "stream",
     "text": [
      "\r\n",
      "\u001b[1m[\u001b[0m\u001b[34;49mnotice\u001b[0m\u001b[1;39;49m]\u001b[0m\u001b[39;49m A new release of pip available: \u001b[0m\u001b[31;49m22.2.2\u001b[0m\u001b[39;49m -> \u001b[0m\u001b[32;49m22.3.1\u001b[0m\r\n",
      "\u001b[1m[\u001b[0m\u001b[34;49mnotice\u001b[0m\u001b[1;39;49m]\u001b[0m\u001b[39;49m To update, run: \u001b[0m\u001b[32;49m/usr/local/opt/python@3.10/bin/python3.10 -m pip install --upgrade pip\u001b[0m\r\n"
     ]
    }
   ],
   "source": [
    "!pip3 install -q transformers"
   ]
  },
  {
   "cell_type": "code",
   "execution_count": 2,
   "id": "9364e85c",
   "metadata": {
    "scrolled": true
   },
   "outputs": [
    {
     "name": "stdout",
     "output_type": "stream",
     "text": [
      "shell-init: error retrieving current directory: getcwd: cannot access parent directories: Operation not permitted\n",
      "Traceback (most recent call last):\n",
      "  File \"/usr/local/Cellar/python@3.10/3.10.8/Frameworks/Python.framework/Versions/3.10/lib/python3.10/runpy.py\", line 196, in _run_module_as_main\n",
      "    return _run_code(code, main_globals, None,\n",
      "  File \"/usr/local/Cellar/python@3.10/3.10.8/Frameworks/Python.framework/Versions/3.10/lib/python3.10/runpy.py\", line 86, in _run_code\n",
      "    exec(code, run_globals)\n",
      "  File \"/usr/local/Cellar/jupyterlab/3.4.8/libexec/lib/python3.10/site-packages/pip/__main__.py\", line 9, in <module>\n",
      "    if sys.path[0] in (\"\", os.getcwd()):\n",
      "PermissionError: [Errno 1] Operation not permitted\n",
      "shell-init: error retrieving current directory: getcwd: cannot access parent directories: Operation not permitted\n",
      "2022-11-30 20:54:17.459138: I tensorflow/core/platform/cpu_feature_guard.cc:193] This TensorFlow binary is optimized with oneAPI Deep Neural Network Library (oneDNN) to use the following CPU instructions in performance-critical operations:  AVX2 FMA\n",
      "To enable them in other operations, rebuild TensorFlow with the appropriate compiler flags.\n",
      "Traceback (most recent call last):\n",
      "  File \"/usr/local/Cellar/python@3.10/3.10.8/Frameworks/Python.framework/Versions/3.10/lib/python3.10/runpy.py\", line 187, in _run_module_as_main\n",
      "    mod_name, mod_spec, code = _get_module_details(mod_name, _Error)\n",
      "  File \"/usr/local/Cellar/python@3.10/3.10.8/Frameworks/Python.framework/Versions/3.10/lib/python3.10/runpy.py\", line 146, in _get_module_details\n",
      "    return _get_module_details(pkg_main_name, error)\n",
      "  File \"/usr/local/Cellar/python@3.10/3.10.8/Frameworks/Python.framework/Versions/3.10/lib/python3.10/runpy.py\", line 110, in _get_module_details\n",
      "    __import__(pkg_name)\n",
      "  File \"/usr/local/Cellar/jupyterlab/3.4.8/libexec/lib/python3.10/site-packages/spacy/__init__.py\", line 15, in <module>\n",
      "    from .cli.info import info  # noqa: F401\n",
      "  File \"/usr/local/Cellar/jupyterlab/3.4.8/libexec/lib/python3.10/site-packages/spacy/cli/__init__.py\", line 24, in <module>\n",
      "    from .project.assets import project_assets  # noqa: F401\n",
      "  File \"/usr/local/Cellar/jupyterlab/3.4.8/libexec/lib/python3.10/site-packages/spacy/cli/project/assets.py\", line 26, in <module>\n",
      "    project_dir: Path = Arg(Path.cwd(), help=\"Path to cloned project. Defaults to current working directory.\", exists=True, file_okay=False),\n",
      "  File \"/usr/local/Cellar/python@3.10/3.10.8/Frameworks/Python.framework/Versions/3.10/lib/python3.10/pathlib.py\", line 993, in cwd\n",
      "    return cls(cls._accessor.getcwd())\n",
      "PermissionError: [Errno 1] Operation not permitted\n"
     ]
    }
   ],
   "source": [
    "import sys\n",
    "!{sys.executable} -m pip install spacy -q\n",
    "!{sys.executable} -m spacy download en_core_web_sm -q"
   ]
  },
  {
   "cell_type": "code",
   "execution_count": 56,
   "id": "7105cb30",
   "metadata": {},
   "outputs": [],
   "source": [
    "import numpy as np\n",
    "import pandas as pd\n",
    "from sklearn.linear_model import LogisticRegression\n",
    "from sklearn.model_selection import GridSearchCV\n",
    "from sklearn.metrics import accuracy_score\n",
    "from sklearn.feature_extraction.text import CountVectorizer\n",
    "\n",
    "import nltk\n",
    "from nltk.corpus import stopwords as nltk_stopwords\n",
    "from sklearn.feature_extraction.text import TfidfVectorizer\n",
    "from pymystem3 import Mystem\n",
    "import re\n",
    "import spacy\n",
    "from tqdm import notebook\n",
    "from sklearn.model_selection import train_test_split\n",
    "\n",
    "from catboost import CatBoostClassifier\n",
    "import lightgbm as lgb\n",
    "\n",
    "import matplotlib.pyplot as plt\n",
    "from sklearn.metrics import confusion_matrix\n",
    "from sklearn.metrics import f1_score, make_scorer\n",
    "from catboost import CatBoostClassifier\n",
    "import torch\n",
    "import transformers\n",
    "from tqdm import notebook\n",
    "\n",
    "from sklearn.utils import shuffle\n",
    "from sklearn.model_selection import cross_val_score\n",
    "\n",
    "import pandas as pd\n",
    "import warnings\n",
    "warnings.simplefilter(\"ignore\", category=RuntimeWarning)\n",
    "pd.options.mode.chained_assignment = None "
   ]
  },
  {
   "cell_type": "markdown",
   "id": "a5e4141b",
   "metadata": {},
   "source": [
    "## 1 Подготовка"
   ]
  },
  {
   "cell_type": "code",
   "execution_count": 9,
   "id": "5e57dfce",
   "metadata": {},
   "outputs": [],
   "source": [
    "data = pd.read_csv('/Users/yuliabezginova/PycharmProjects/00_files-for_NLP/toxic_comments.csv', index_col=[0])"
   ]
  },
  {
   "cell_type": "code",
   "execution_count": 10,
   "id": "b0c5bcfe",
   "metadata": {},
   "outputs": [
    {
     "data": {
      "text/html": [
       "<div>\n",
       "<style scoped>\n",
       "    .dataframe tbody tr th:only-of-type {\n",
       "        vertical-align: middle;\n",
       "    }\n",
       "\n",
       "    .dataframe tbody tr th {\n",
       "        vertical-align: top;\n",
       "    }\n",
       "\n",
       "    .dataframe thead th {\n",
       "        text-align: right;\n",
       "    }\n",
       "</style>\n",
       "<table border=\"1\" class=\"dataframe\">\n",
       "  <thead>\n",
       "    <tr style=\"text-align: right;\">\n",
       "      <th></th>\n",
       "      <th>text</th>\n",
       "      <th>toxic</th>\n",
       "    </tr>\n",
       "  </thead>\n",
       "  <tbody>\n",
       "    <tr>\n",
       "      <th>0</th>\n",
       "      <td>Explanation\\nWhy the edits made under my usern...</td>\n",
       "      <td>0</td>\n",
       "    </tr>\n",
       "    <tr>\n",
       "      <th>1</th>\n",
       "      <td>D'aww! He matches this background colour I'm s...</td>\n",
       "      <td>0</td>\n",
       "    </tr>\n",
       "    <tr>\n",
       "      <th>2</th>\n",
       "      <td>Hey man, I'm really not trying to edit war. It...</td>\n",
       "      <td>0</td>\n",
       "    </tr>\n",
       "    <tr>\n",
       "      <th>3</th>\n",
       "      <td>\"\\nMore\\nI can't make any real suggestions on ...</td>\n",
       "      <td>0</td>\n",
       "    </tr>\n",
       "    <tr>\n",
       "      <th>4</th>\n",
       "      <td>You, sir, are my hero. Any chance you remember...</td>\n",
       "      <td>0</td>\n",
       "    </tr>\n",
       "  </tbody>\n",
       "</table>\n",
       "</div>"
      ],
      "text/plain": [
       "                                                text  toxic\n",
       "0  Explanation\\nWhy the edits made under my usern...      0\n",
       "1  D'aww! He matches this background colour I'm s...      0\n",
       "2  Hey man, I'm really not trying to edit war. It...      0\n",
       "3  \"\\nMore\\nI can't make any real suggestions on ...      0\n",
       "4  You, sir, are my hero. Any chance you remember...      0"
      ]
     },
     "execution_count": 10,
     "metadata": {},
     "output_type": "execute_result"
    }
   ],
   "source": [
    "data.head()"
   ]
  },
  {
   "cell_type": "code",
   "execution_count": 11,
   "id": "c11acab9",
   "metadata": {},
   "outputs": [
    {
     "data": {
      "text/plain": [
       "array([0, 1])"
      ]
     },
     "execution_count": 11,
     "metadata": {},
     "output_type": "execute_result"
    }
   ],
   "source": [
    "data.toxic.unique()"
   ]
  },
  {
   "cell_type": "code",
   "execution_count": 12,
   "id": "5a1d2240",
   "metadata": {
    "scrolled": true
   },
   "outputs": [
    {
     "data": {
      "text/plain": [
       "0"
      ]
     },
     "execution_count": 12,
     "metadata": {},
     "output_type": "execute_result"
    }
   ],
   "source": [
    "# проверка на пропуски в таргете\n",
    "data['toxic'].isna().sum()"
   ]
  },
  {
   "cell_type": "markdown",
   "id": "b57e07c7",
   "metadata": {},
   "source": [
    "### 1.1 Работаем со стоп-словами"
   ]
  },
  {
   "cell_type": "code",
   "execution_count": 13,
   "id": "958e3a1a",
   "metadata": {
    "scrolled": true
   },
   "outputs": [
    {
     "name": "stderr",
     "output_type": "stream",
     "text": [
      "[nltk_data] Downloading package stopwords to\n",
      "[nltk_data]     /Users/yuliabezginova/nltk_data...\n",
      "[nltk_data]   Package stopwords is already up-to-date!\n"
     ]
    }
   ],
   "source": [
    "nltk.download('stopwords')\n",
    "stopwords = set(nltk_stopwords.words('english'))"
   ]
  },
  {
   "cell_type": "markdown",
   "id": "a674949d",
   "metadata": {},
   "source": [
    "### 1.2 Переведём тексты в стандартный для Python формат: кодировку Unicode U."
   ]
  },
  {
   "cell_type": "code",
   "execution_count": 14,
   "id": "321cd929",
   "metadata": {},
   "outputs": [],
   "source": [
    "# Изменим кодировку методом astype():\n",
    "corpus = data['text'].values.astype('U')\n",
    "# corpus_train = X_train.values.astype('U')\n",
    "# corpus_test = X_test.values.astype('U')"
   ]
  },
  {
   "cell_type": "markdown",
   "id": "12c24893",
   "metadata": {},
   "source": [
    "### 1.3 Создадим функцию для лемматизации и очистки текста"
   ]
  },
  {
   "cell_type": "code",
   "execution_count": 15,
   "id": "6a7e9449",
   "metadata": {},
   "outputs": [],
   "source": [
    "def lemmatize(text):\n",
    "    m = Mystem()\n",
    "    m = re.sub(r'[^a-zA-Z ]', ' ', text)\n",
    "    # объединим элементы в одну строку пробелом или без него\n",
    "    lem = ' '.join(m.split())\n",
    "    return lem"
   ]
  },
  {
   "cell_type": "markdown",
   "id": "048384d6",
   "metadata": {},
   "source": [
    "#### Протестируем работу функции лемматизации и очистки текста."
   ]
  },
  {
   "cell_type": "code",
   "execution_count": 16,
   "id": "aec7381e",
   "metadata": {},
   "outputs": [
    {
     "name": "stdout",
     "output_type": "stream",
     "text": [
      "Исходный текст: you are a stupid fuck \n",
      "\n",
      "and your mother's cunt stinks\n",
      "Очищенный и лемматизированный текст: you are a stupid fuck and your mother s cunt stinks\n"
     ]
    }
   ],
   "source": [
    "print(\"Исходный текст:\", corpus[181])\n",
    "print(\"Очищенный и лемматизированный текст:\", lemmatize(corpus[181]))"
   ]
  },
  {
   "cell_type": "markdown",
   "id": "439ad650",
   "metadata": {},
   "source": [
    "#### Применим функцию для лемматизации и очистки текста"
   ]
  },
  {
   "cell_type": "code",
   "execution_count": 17,
   "id": "134123ca",
   "metadata": {},
   "outputs": [],
   "source": [
    "data['lem_text'] = data.text.apply(lemmatize)"
   ]
  },
  {
   "cell_type": "code",
   "execution_count": 18,
   "id": "d16d8041",
   "metadata": {
    "scrolled": true
   },
   "outputs": [
    {
     "data": {
      "text/html": [
       "<div>\n",
       "<style scoped>\n",
       "    .dataframe tbody tr th:only-of-type {\n",
       "        vertical-align: middle;\n",
       "    }\n",
       "\n",
       "    .dataframe tbody tr th {\n",
       "        vertical-align: top;\n",
       "    }\n",
       "\n",
       "    .dataframe thead th {\n",
       "        text-align: right;\n",
       "    }\n",
       "</style>\n",
       "<table border=\"1\" class=\"dataframe\">\n",
       "  <thead>\n",
       "    <tr style=\"text-align: right;\">\n",
       "      <th></th>\n",
       "      <th>text</th>\n",
       "      <th>toxic</th>\n",
       "      <th>lem_text</th>\n",
       "    </tr>\n",
       "  </thead>\n",
       "  <tbody>\n",
       "    <tr>\n",
       "      <th>0</th>\n",
       "      <td>Explanation\\nWhy the edits made under my usern...</td>\n",
       "      <td>0</td>\n",
       "      <td>Explanation Why the edits made under my userna...</td>\n",
       "    </tr>\n",
       "    <tr>\n",
       "      <th>1</th>\n",
       "      <td>D'aww! He matches this background colour I'm s...</td>\n",
       "      <td>0</td>\n",
       "      <td>D aww He matches this background colour I m se...</td>\n",
       "    </tr>\n",
       "    <tr>\n",
       "      <th>2</th>\n",
       "      <td>Hey man, I'm really not trying to edit war. It...</td>\n",
       "      <td>0</td>\n",
       "      <td>Hey man I m really not trying to edit war It s...</td>\n",
       "    </tr>\n",
       "    <tr>\n",
       "      <th>3</th>\n",
       "      <td>\"\\nMore\\nI can't make any real suggestions on ...</td>\n",
       "      <td>0</td>\n",
       "      <td>More I can t make any real suggestions on impr...</td>\n",
       "    </tr>\n",
       "    <tr>\n",
       "      <th>4</th>\n",
       "      <td>You, sir, are my hero. Any chance you remember...</td>\n",
       "      <td>0</td>\n",
       "      <td>You sir are my hero Any chance you remember wh...</td>\n",
       "    </tr>\n",
       "  </tbody>\n",
       "</table>\n",
       "</div>"
      ],
      "text/plain": [
       "                                                text  toxic  \\\n",
       "0  Explanation\\nWhy the edits made under my usern...      0   \n",
       "1  D'aww! He matches this background colour I'm s...      0   \n",
       "2  Hey man, I'm really not trying to edit war. It...      0   \n",
       "3  \"\\nMore\\nI can't make any real suggestions on ...      0   \n",
       "4  You, sir, are my hero. Any chance you remember...      0   \n",
       "\n",
       "                                            lem_text  \n",
       "0  Explanation Why the edits made under my userna...  \n",
       "1  D aww He matches this background colour I m se...  \n",
       "2  Hey man I m really not trying to edit war It s...  \n",
       "3  More I can t make any real suggestions on impr...  \n",
       "4  You sir are my hero Any chance you remember wh...  "
      ]
     },
     "execution_count": 18,
     "metadata": {},
     "output_type": "execute_result"
    }
   ],
   "source": [
    "data.head()"
   ]
  },
  {
   "cell_type": "markdown",
   "id": "dffe278f",
   "metadata": {},
   "source": [
    "### 1.4 Разделим данные на тестовую и обучающую выборки"
   ]
  },
  {
   "cell_type": "code",
   "execution_count": 19,
   "id": "0c6140f0",
   "metadata": {},
   "outputs": [],
   "source": [
    "features = data.drop(columns='toxic', axis=1)\n",
    "target = data['toxic']"
   ]
  },
  {
   "cell_type": "code",
   "execution_count": 20,
   "id": "1755abcf",
   "metadata": {
    "scrolled": true
   },
   "outputs": [
    {
     "data": {
      "text/plain": [
       "(159292, 2)"
      ]
     },
     "execution_count": 20,
     "metadata": {},
     "output_type": "execute_result"
    }
   ],
   "source": [
    "features.shape"
   ]
  },
  {
   "cell_type": "code",
   "execution_count": 21,
   "id": "b193e817",
   "metadata": {
    "scrolled": true
   },
   "outputs": [
    {
     "data": {
      "text/plain": [
       "(159292,)"
      ]
     },
     "execution_count": 21,
     "metadata": {},
     "output_type": "execute_result"
    }
   ],
   "source": [
    "target.shape"
   ]
  },
  {
   "cell_type": "code",
   "execution_count": 22,
   "id": "e5585b39",
   "metadata": {},
   "outputs": [],
   "source": [
    "# Разделяю на обучающую и тестовую\n",
    "X_train, X_test, y_train, y_test = train_test_split(features, target, \n",
    "                                                    test_size=0.2, \n",
    "                                                    random_state=5)"
   ]
  },
  {
   "cell_type": "code",
   "execution_count": 23,
   "id": "8087464b",
   "metadata": {},
   "outputs": [
    {
     "name": "stdout",
     "output_type": "stream",
     "text": [
      "Train features sample size: 127433\n",
      "Train target sample size: 127433\n",
      "\n",
      "Test features sample size: 31859\n",
      "Test target sample size: 31859\n",
      "\n",
      "Test sample, %: 20.0\n"
     ]
    }
   ],
   "source": [
    "print('Train features sample size:', X_train.shape[0])\n",
    "print('Train target sample size:', y_train.shape[0])\n",
    "print()\n",
    "print('Test features sample size:', X_test.shape[0])\n",
    "print('Test target sample size:', y_test.shape[0])\n",
    "print()\n",
    "print('Test sample, %:', round(X_test.shape[0] / (X_test.shape[0] + X_train.shape[0]) * 100, 2))"
   ]
  },
  {
   "cell_type": "markdown",
   "id": "bb9fd71d",
   "metadata": {},
   "source": [
    "### ВЫВОД: Исходные данные разделены на тестовые и обучающие, выделены признаки и таргетные значения. Дальнейшие преобразования текста будем производить только с признаками (текстом).\n",
    "\n",
    "Применим модель \"мешка слов\" к набору данных."
   ]
  },
  {
   "cell_type": "markdown",
   "id": "51b51041",
   "metadata": {},
   "source": [
    "### 1.5 Реализуем модель «мешка слов» в классе CountVectorizer"
   ]
  },
  {
   "cell_type": "markdown",
   "id": "687fcf09",
   "metadata": {},
   "source": [
    "Мы импортируем класс CountVectorizer, создам экземпляр класса и подгоняем модель к нашим данным для анализа тональности твитов."
   ]
  },
  {
   "cell_type": "code",
   "execution_count": 24,
   "id": "4009b5b8",
   "metadata": {},
   "outputs": [],
   "source": [
    "vect = CountVectorizer(stop_words=stopwords)"
   ]
  },
  {
   "cell_type": "code",
   "execution_count": 25,
   "id": "0daa4c41",
   "metadata": {},
   "outputs": [],
   "source": [
    "# Считаю Tf-idf для обучающей\n",
    "X_train_vect = vect.fit_transform(X_train.lem_text)\n",
    "\n",
    "# Считаю Tf-idf для тестовой\n",
    "X_test_vect = vect.transform(X_test.lem_text)"
   ]
  },
  {
   "cell_type": "markdown",
   "id": "b4be7f4f",
   "metadata": {},
   "source": [
    "Перед тем как мы пытаемся улучшить выделение признаков, давайте измерим качество модели, построив классификатор. \n",
    "\n",
    "У нас есть обучающие метки, хранящиеся в y_train и обучающие данные, представленные в виде «мешка слов» X_train, таким образом, мы можем обучить классификатор по этим данным. \n",
    "\n",
    "Как правило, для подобных высокоразмерных разреженных данных лучше всего работают линейные модели типа LogisticRegression."
   ]
  },
  {
   "cell_type": "markdown",
   "id": "56f30e9b",
   "metadata": {},
   "source": [
    "### 1.6 Масштабирование признаков с помощью TF-IDF\n",
    "\n",
    "Следующий подход вместо исключения несущественных признаков пытается масштабировать признаки в зависимости от степени их информативности. Одним из наиболее распространенных способов такого масштабирования является метод частота термина-обратная частота документа (term frequency-inverse document frequency, tf-idf). \n",
    "\n",
    "**Идея этого метода заключается в том, чтобы присвоить большой вес термину, который часто встречается в конкретном документе, но при этом редко встречается в остальных документах корпуса. Если слово часто появляется в конкретном документе, но при этом редко встречается в остальных документах, оно, вероятно, будет описывать содержимое этого документа лучше.**\n",
    "\n",
    "Мешок слов учитывает частоту употребления слов. Посмотрим, как часто уникальное слово встречается во всём корпусе и в отдельном его тексте.\n",
    "\n",
    "Оценка важности слова определяется величиной TF-IDF (от англ. term frequency, «частота терма, или слова»; inverse document frequency, «обратная частота документа, или текста»). То есть TF отвечает за количество упоминаний слова в отдельном тексте, а IDF отражает частоту его употребления во всём корпусе.\n",
    "\n",
    "#### TFIDF = TF * IDF\n",
    "\n",
    "IDF нужна в формуле, чтобы уменьшить вес слов, наиболее\n",
    "распространённых в любом другом тексте заданного корпуса.\n",
    "IDF зависит от общего числа текстов в корпусе (D) и количества\n",
    "текстов, в которых это слово встречается (d).\n",
    "\n",
    "Большая величина TF-IDF говорит об уникальности слова в тексте\n",
    "по отношению к корпусу. Чем чаще оно встречается в конкретном\n",
    "тексте и реже в остальных, тем выше значение TF-IDF.\n",
    "\n",
    "**Если данные разделены на обучающую и тестовую выборки,\n",
    "функцию fit() запустим только на обучающей. Иначе тестирование\n",
    "будет нечестным: в модели будут учтены частоты слов из тестовой\n",
    "выборки.**\n",
    "\n",
    "Сначала переведем выборки X_train, X_test в векторный вид.\n"
   ]
  },
  {
   "cell_type": "code",
   "execution_count": 26,
   "id": "02f86d35",
   "metadata": {},
   "outputs": [],
   "source": [
    "count_tf_idf = TfidfVectorizer(stop_words=stopwords)"
   ]
  },
  {
   "cell_type": "code",
   "execution_count": 27,
   "id": "c78b5700",
   "metadata": {},
   "outputs": [],
   "source": [
    "# Считаю Tf-idf для обучающей\n",
    "tf_idf_X_train = count_tf_idf.fit_transform(X_train['lem_text'])\n",
    "\n",
    "# Считаю Tf-idf для тестовой\n",
    "tf_idf_X_test = count_tf_idf.transform(X_test['lem_text'])"
   ]
  },
  {
   "cell_type": "code",
   "execution_count": 28,
   "id": "e5748667",
   "metadata": {},
   "outputs": [
    {
     "name": "stdout",
     "output_type": "stream",
     "text": [
      "Размер матрицы TF-IDF X_train: (127433, 147485)\n",
      "Размер матрицы TF-IDF X_test: (31859, 147485)\n"
     ]
    }
   ],
   "source": [
    "print(\"Размер матрицы TF-IDF X_train:\", tf_idf_X_train.shape)\n",
    "print(\"Размер матрицы TF-IDF X_test:\", tf_idf_X_test.shape)"
   ]
  },
  {
   "cell_type": "markdown",
   "id": "631cab78",
   "metadata": {},
   "source": [
    "### ВЫВОД: Данные очищены от странных букв и знаков, знаки пунктуации и стоп-слова удалены, данные разделены на тестовую и обучающую выборки, в каждой из которой выделены признаки и целевое значение. Выборки признаков приведены к векторному виду и готовы к обучению."
   ]
  },
  {
   "cell_type": "markdown",
   "id": "e1703465",
   "metadata": {},
   "source": [
    "## 2 Обучение"
   ]
  },
  {
   "cell_type": "markdown",
   "id": "c9382ded",
   "metadata": {},
   "source": [
    "### 2.1 Logistic Regression с использованием перекрестной проверки для модели «мешка слов» в классе CountVectorizer()"
   ]
  },
  {
   "cell_type": "code",
   "execution_count": 29,
   "id": "7a59c316",
   "metadata": {},
   "outputs": [],
   "source": [
    "logreg = LogisticRegression(random_state=5)"
   ]
  },
  {
   "cell_type": "code",
   "execution_count": 30,
   "id": "19d3047a",
   "metadata": {},
   "outputs": [],
   "source": [
    "param_grid = [\n",
    "    {'C': [0.01, 0.1, 1, 2, 10, 100], \n",
    "     'penalty': ['l1', 'l2']}\n",
    "]"
   ]
  },
  {
   "cell_type": "code",
   "execution_count": 31,
   "id": "1994f98b",
   "metadata": {},
   "outputs": [
    {
     "name": "stderr",
     "output_type": "stream",
     "text": [
      "/usr/local/Cellar/jupyterlab/3.4.8/libexec/lib/python3.10/site-packages/sklearn/linear_model/_logistic.py:444: ConvergenceWarning: lbfgs failed to converge (status=1):\n",
      "STOP: TOTAL NO. of ITERATIONS REACHED LIMIT.\n",
      "\n",
      "Increase the number of iterations (max_iter) or scale the data as shown in:\n",
      "    https://scikit-learn.org/stable/modules/preprocessing.html\n",
      "Please also refer to the documentation for alternative solver options:\n",
      "    https://scikit-learn.org/stable/modules/linear_model.html#logistic-regression\n",
      "  n_iter_i = _check_optimize_result(\n",
      "/usr/local/Cellar/jupyterlab/3.4.8/libexec/lib/python3.10/site-packages/sklearn/linear_model/_logistic.py:444: ConvergenceWarning: lbfgs failed to converge (status=1):\n",
      "STOP: TOTAL NO. of ITERATIONS REACHED LIMIT.\n",
      "\n",
      "Increase the number of iterations (max_iter) or scale the data as shown in:\n",
      "    https://scikit-learn.org/stable/modules/preprocessing.html\n",
      "Please also refer to the documentation for alternative solver options:\n",
      "    https://scikit-learn.org/stable/modules/linear_model.html#logistic-regression\n",
      "  n_iter_i = _check_optimize_result(\n",
      "/usr/local/Cellar/jupyterlab/3.4.8/libexec/lib/python3.10/site-packages/sklearn/linear_model/_logistic.py:444: ConvergenceWarning: lbfgs failed to converge (status=1):\n",
      "STOP: TOTAL NO. of ITERATIONS REACHED LIMIT.\n",
      "\n",
      "Increase the number of iterations (max_iter) or scale the data as shown in:\n",
      "    https://scikit-learn.org/stable/modules/preprocessing.html\n",
      "Please also refer to the documentation for alternative solver options:\n",
      "    https://scikit-learn.org/stable/modules/linear_model.html#logistic-regression\n",
      "  n_iter_i = _check_optimize_result(\n",
      "/usr/local/Cellar/jupyterlab/3.4.8/libexec/lib/python3.10/site-packages/sklearn/linear_model/_logistic.py:444: ConvergenceWarning: lbfgs failed to converge (status=1):\n",
      "STOP: TOTAL NO. of ITERATIONS REACHED LIMIT.\n",
      "\n",
      "Increase the number of iterations (max_iter) or scale the data as shown in:\n",
      "    https://scikit-learn.org/stable/modules/preprocessing.html\n",
      "Please also refer to the documentation for alternative solver options:\n",
      "    https://scikit-learn.org/stable/modules/linear_model.html#logistic-regression\n",
      "  n_iter_i = _check_optimize_result(\n",
      "/usr/local/Cellar/jupyterlab/3.4.8/libexec/lib/python3.10/site-packages/sklearn/linear_model/_logistic.py:444: ConvergenceWarning: lbfgs failed to converge (status=1):\n",
      "STOP: TOTAL NO. of ITERATIONS REACHED LIMIT.\n",
      "\n",
      "Increase the number of iterations (max_iter) or scale the data as shown in:\n",
      "    https://scikit-learn.org/stable/modules/preprocessing.html\n",
      "Please also refer to the documentation for alternative solver options:\n",
      "    https://scikit-learn.org/stable/modules/linear_model.html#logistic-regression\n",
      "  n_iter_i = _check_optimize_result(\n",
      "/usr/local/Cellar/jupyterlab/3.4.8/libexec/lib/python3.10/site-packages/sklearn/linear_model/_logistic.py:444: ConvergenceWarning: lbfgs failed to converge (status=1):\n",
      "STOP: TOTAL NO. of ITERATIONS REACHED LIMIT.\n",
      "\n",
      "Increase the number of iterations (max_iter) or scale the data as shown in:\n",
      "    https://scikit-learn.org/stable/modules/preprocessing.html\n",
      "Please also refer to the documentation for alternative solver options:\n",
      "    https://scikit-learn.org/stable/modules/linear_model.html#logistic-regression\n",
      "  n_iter_i = _check_optimize_result(\n",
      "/usr/local/Cellar/jupyterlab/3.4.8/libexec/lib/python3.10/site-packages/sklearn/linear_model/_logistic.py:444: ConvergenceWarning: lbfgs failed to converge (status=1):\n",
      "STOP: TOTAL NO. of ITERATIONS REACHED LIMIT.\n",
      "\n",
      "Increase the number of iterations (max_iter) or scale the data as shown in:\n",
      "    https://scikit-learn.org/stable/modules/preprocessing.html\n",
      "Please also refer to the documentation for alternative solver options:\n",
      "    https://scikit-learn.org/stable/modules/linear_model.html#logistic-regression\n",
      "  n_iter_i = _check_optimize_result(\n",
      "/usr/local/Cellar/jupyterlab/3.4.8/libexec/lib/python3.10/site-packages/sklearn/linear_model/_logistic.py:444: ConvergenceWarning: lbfgs failed to converge (status=1):\n",
      "STOP: TOTAL NO. of ITERATIONS REACHED LIMIT.\n",
      "\n",
      "Increase the number of iterations (max_iter) or scale the data as shown in:\n",
      "    https://scikit-learn.org/stable/modules/preprocessing.html\n",
      "Please also refer to the documentation for alternative solver options:\n",
      "    https://scikit-learn.org/stable/modules/linear_model.html#logistic-regression\n",
      "  n_iter_i = _check_optimize_result(\n",
      "/usr/local/Cellar/jupyterlab/3.4.8/libexec/lib/python3.10/site-packages/sklearn/linear_model/_logistic.py:444: ConvergenceWarning: lbfgs failed to converge (status=1):\n",
      "STOP: TOTAL NO. of ITERATIONS REACHED LIMIT.\n",
      "\n",
      "Increase the number of iterations (max_iter) or scale the data as shown in:\n",
      "    https://scikit-learn.org/stable/modules/preprocessing.html\n",
      "Please also refer to the documentation for alternative solver options:\n",
      "    https://scikit-learn.org/stable/modules/linear_model.html#logistic-regression\n",
      "  n_iter_i = _check_optimize_result(\n",
      "/usr/local/Cellar/jupyterlab/3.4.8/libexec/lib/python3.10/site-packages/sklearn/linear_model/_logistic.py:444: ConvergenceWarning: lbfgs failed to converge (status=1):\n",
      "STOP: TOTAL NO. of ITERATIONS REACHED LIMIT.\n",
      "\n",
      "Increase the number of iterations (max_iter) or scale the data as shown in:\n",
      "    https://scikit-learn.org/stable/modules/preprocessing.html\n",
      "Please also refer to the documentation for alternative solver options:\n",
      "    https://scikit-learn.org/stable/modules/linear_model.html#logistic-regression\n",
      "  n_iter_i = _check_optimize_result(\n",
      "/usr/local/Cellar/jupyterlab/3.4.8/libexec/lib/python3.10/site-packages/sklearn/linear_model/_logistic.py:444: ConvergenceWarning: lbfgs failed to converge (status=1):\n",
      "STOP: TOTAL NO. of ITERATIONS REACHED LIMIT.\n",
      "\n",
      "Increase the number of iterations (max_iter) or scale the data as shown in:\n",
      "    https://scikit-learn.org/stable/modules/preprocessing.html\n",
      "Please also refer to the documentation for alternative solver options:\n",
      "    https://scikit-learn.org/stable/modules/linear_model.html#logistic-regression\n",
      "  n_iter_i = _check_optimize_result(\n",
      "/usr/local/Cellar/jupyterlab/3.4.8/libexec/lib/python3.10/site-packages/sklearn/linear_model/_logistic.py:444: ConvergenceWarning: lbfgs failed to converge (status=1):\n",
      "STOP: TOTAL NO. of ITERATIONS REACHED LIMIT.\n",
      "\n",
      "Increase the number of iterations (max_iter) or scale the data as shown in:\n",
      "    https://scikit-learn.org/stable/modules/preprocessing.html\n",
      "Please also refer to the documentation for alternative solver options:\n",
      "    https://scikit-learn.org/stable/modules/linear_model.html#logistic-regression\n",
      "  n_iter_i = _check_optimize_result(\n",
      "/usr/local/Cellar/jupyterlab/3.4.8/libexec/lib/python3.10/site-packages/sklearn/linear_model/_logistic.py:444: ConvergenceWarning: lbfgs failed to converge (status=1):\n",
      "STOP: TOTAL NO. of ITERATIONS REACHED LIMIT.\n",
      "\n",
      "Increase the number of iterations (max_iter) or scale the data as shown in:\n",
      "    https://scikit-learn.org/stable/modules/preprocessing.html\n",
      "Please also refer to the documentation for alternative solver options:\n",
      "    https://scikit-learn.org/stable/modules/linear_model.html#logistic-regression\n",
      "  n_iter_i = _check_optimize_result(\n",
      "/usr/local/Cellar/jupyterlab/3.4.8/libexec/lib/python3.10/site-packages/sklearn/linear_model/_logistic.py:444: ConvergenceWarning: lbfgs failed to converge (status=1):\n",
      "STOP: TOTAL NO. of ITERATIONS REACHED LIMIT.\n",
      "\n",
      "Increase the number of iterations (max_iter) or scale the data as shown in:\n",
      "    https://scikit-learn.org/stable/modules/preprocessing.html\n",
      "Please also refer to the documentation for alternative solver options:\n",
      "    https://scikit-learn.org/stable/modules/linear_model.html#logistic-regression\n",
      "  n_iter_i = _check_optimize_result(\n",
      "/usr/local/Cellar/jupyterlab/3.4.8/libexec/lib/python3.10/site-packages/sklearn/linear_model/_logistic.py:444: ConvergenceWarning: lbfgs failed to converge (status=1):\n",
      "STOP: TOTAL NO. of ITERATIONS REACHED LIMIT.\n",
      "\n",
      "Increase the number of iterations (max_iter) or scale the data as shown in:\n",
      "    https://scikit-learn.org/stable/modules/preprocessing.html\n",
      "Please also refer to the documentation for alternative solver options:\n",
      "    https://scikit-learn.org/stable/modules/linear_model.html#logistic-regression\n",
      "  n_iter_i = _check_optimize_result(\n",
      "/usr/local/Cellar/jupyterlab/3.4.8/libexec/lib/python3.10/site-packages/sklearn/model_selection/_search.py:953: UserWarning: One or more of the test scores are non-finite: [       nan 0.93058313        nan 0.94952641        nan 0.95585915\n",
      "        nan 0.95599255        nan 0.9548547         nan 0.95270455]\n",
      "  warnings.warn(\n"
     ]
    },
    {
     "name": "stderr",
     "output_type": "stream",
     "text": [
      "/usr/local/Cellar/jupyterlab/3.4.8/libexec/lib/python3.10/site-packages/sklearn/linear_model/_logistic.py:444: ConvergenceWarning: lbfgs failed to converge (status=1):\n",
      "STOP: TOTAL NO. of ITERATIONS REACHED LIMIT.\n",
      "\n",
      "Increase the number of iterations (max_iter) or scale the data as shown in:\n",
      "    https://scikit-learn.org/stable/modules/preprocessing.html\n",
      "Please also refer to the documentation for alternative solver options:\n",
      "    https://scikit-learn.org/stable/modules/linear_model.html#logistic-regression\n",
      "  n_iter_i = _check_optimize_result(\n"
     ]
    },
    {
     "data": {
      "text/html": [
       "<style>#sk-container-id-1 {color: black;background-color: white;}#sk-container-id-1 pre{padding: 0;}#sk-container-id-1 div.sk-toggleable {background-color: white;}#sk-container-id-1 label.sk-toggleable__label {cursor: pointer;display: block;width: 100%;margin-bottom: 0;padding: 0.3em;box-sizing: border-box;text-align: center;}#sk-container-id-1 label.sk-toggleable__label-arrow:before {content: \"▸\";float: left;margin-right: 0.25em;color: #696969;}#sk-container-id-1 label.sk-toggleable__label-arrow:hover:before {color: black;}#sk-container-id-1 div.sk-estimator:hover label.sk-toggleable__label-arrow:before {color: black;}#sk-container-id-1 div.sk-toggleable__content {max-height: 0;max-width: 0;overflow: hidden;text-align: left;background-color: #f0f8ff;}#sk-container-id-1 div.sk-toggleable__content pre {margin: 0.2em;color: black;border-radius: 0.25em;background-color: #f0f8ff;}#sk-container-id-1 input.sk-toggleable__control:checked~div.sk-toggleable__content {max-height: 200px;max-width: 100%;overflow: auto;}#sk-container-id-1 input.sk-toggleable__control:checked~label.sk-toggleable__label-arrow:before {content: \"▾\";}#sk-container-id-1 div.sk-estimator input.sk-toggleable__control:checked~label.sk-toggleable__label {background-color: #d4ebff;}#sk-container-id-1 div.sk-label input.sk-toggleable__control:checked~label.sk-toggleable__label {background-color: #d4ebff;}#sk-container-id-1 input.sk-hidden--visually {border: 0;clip: rect(1px 1px 1px 1px);clip: rect(1px, 1px, 1px, 1px);height: 1px;margin: -1px;overflow: hidden;padding: 0;position: absolute;width: 1px;}#sk-container-id-1 div.sk-estimator {font-family: monospace;background-color: #f0f8ff;border: 1px dotted black;border-radius: 0.25em;box-sizing: border-box;margin-bottom: 0.5em;}#sk-container-id-1 div.sk-estimator:hover {background-color: #d4ebff;}#sk-container-id-1 div.sk-parallel-item::after {content: \"\";width: 100%;border-bottom: 1px solid gray;flex-grow: 1;}#sk-container-id-1 div.sk-label:hover label.sk-toggleable__label {background-color: #d4ebff;}#sk-container-id-1 div.sk-serial::before {content: \"\";position: absolute;border-left: 1px solid gray;box-sizing: border-box;top: 0;bottom: 0;left: 50%;z-index: 0;}#sk-container-id-1 div.sk-serial {display: flex;flex-direction: column;align-items: center;background-color: white;padding-right: 0.2em;padding-left: 0.2em;position: relative;}#sk-container-id-1 div.sk-item {position: relative;z-index: 1;}#sk-container-id-1 div.sk-parallel {display: flex;align-items: stretch;justify-content: center;background-color: white;position: relative;}#sk-container-id-1 div.sk-item::before, #sk-container-id-1 div.sk-parallel-item::before {content: \"\";position: absolute;border-left: 1px solid gray;box-sizing: border-box;top: 0;bottom: 0;left: 50%;z-index: -1;}#sk-container-id-1 div.sk-parallel-item {display: flex;flex-direction: column;z-index: 1;position: relative;background-color: white;}#sk-container-id-1 div.sk-parallel-item:first-child::after {align-self: flex-end;width: 50%;}#sk-container-id-1 div.sk-parallel-item:last-child::after {align-self: flex-start;width: 50%;}#sk-container-id-1 div.sk-parallel-item:only-child::after {width: 0;}#sk-container-id-1 div.sk-dashed-wrapped {border: 1px dashed gray;margin: 0 0.4em 0.5em 0.4em;box-sizing: border-box;padding-bottom: 0.4em;background-color: white;}#sk-container-id-1 div.sk-label label {font-family: monospace;font-weight: bold;display: inline-block;line-height: 1.2em;}#sk-container-id-1 div.sk-label-container {text-align: center;}#sk-container-id-1 div.sk-container {/* jupyter's `normalize.less` sets `[hidden] { display: none; }` but bootstrap.min.css set `[hidden] { display: none !important; }` so we also need the `!important` here to be able to override the default hidden behavior on the sphinx rendered scikit-learn.org. See: https://github.com/scikit-learn/scikit-learn/issues/21755 */display: inline-block !important;position: relative;}#sk-container-id-1 div.sk-text-repr-fallback {display: none;}</style><div id=\"sk-container-id-1\" class=\"sk-top-container\"><div class=\"sk-text-repr-fallback\"><pre>GridSearchCV(cv=3, estimator=LogisticRegression(random_state=5), n_jobs=-1,\n",
       "             param_grid=[{&#x27;C&#x27;: [0.01, 0.1, 1, 2, 10, 100],\n",
       "                          &#x27;penalty&#x27;: [&#x27;l1&#x27;, &#x27;l2&#x27;]}],\n",
       "             verbose=False)</pre><b>In a Jupyter environment, please rerun this cell to show the HTML representation or trust the notebook. <br />On GitHub, the HTML representation is unable to render, please try loading this page with nbviewer.org.</b></div><div class=\"sk-container\" hidden><div class=\"sk-item sk-dashed-wrapped\"><div class=\"sk-label-container\"><div class=\"sk-label sk-toggleable\"><input class=\"sk-toggleable__control sk-hidden--visually\" id=\"sk-estimator-id-1\" type=\"checkbox\" ><label for=\"sk-estimator-id-1\" class=\"sk-toggleable__label sk-toggleable__label-arrow\">GridSearchCV</label><div class=\"sk-toggleable__content\"><pre>GridSearchCV(cv=3, estimator=LogisticRegression(random_state=5), n_jobs=-1,\n",
       "             param_grid=[{&#x27;C&#x27;: [0.01, 0.1, 1, 2, 10, 100],\n",
       "                          &#x27;penalty&#x27;: [&#x27;l1&#x27;, &#x27;l2&#x27;]}],\n",
       "             verbose=False)</pre></div></div></div><div class=\"sk-parallel\"><div class=\"sk-parallel-item\"><div class=\"sk-item\"><div class=\"sk-label-container\"><div class=\"sk-label sk-toggleable\"><input class=\"sk-toggleable__control sk-hidden--visually\" id=\"sk-estimator-id-2\" type=\"checkbox\" ><label for=\"sk-estimator-id-2\" class=\"sk-toggleable__label sk-toggleable__label-arrow\">estimator: LogisticRegression</label><div class=\"sk-toggleable__content\"><pre>LogisticRegression(random_state=5)</pre></div></div></div><div class=\"sk-serial\"><div class=\"sk-item\"><div class=\"sk-estimator sk-toggleable\"><input class=\"sk-toggleable__control sk-hidden--visually\" id=\"sk-estimator-id-3\" type=\"checkbox\" ><label for=\"sk-estimator-id-3\" class=\"sk-toggleable__label sk-toggleable__label-arrow\">LogisticRegression</label><div class=\"sk-toggleable__content\"><pre>LogisticRegression(random_state=5)</pre></div></div></div></div></div></div></div></div></div></div>"
      ],
      "text/plain": [
       "GridSearchCV(cv=3, estimator=LogisticRegression(random_state=5), n_jobs=-1,\n",
       "             param_grid=[{'C': [0.01, 0.1, 1, 2, 10, 100],\n",
       "                          'penalty': ['l1', 'l2']}],\n",
       "             verbose=False)"
      ]
     },
     "execution_count": 31,
     "metadata": {},
     "output_type": "execute_result"
    }
   ],
   "source": [
    "logreg_grid = GridSearchCV(logreg, \n",
    "                           param_grid, \n",
    "                           cv=3, \n",
    "                           verbose=False, \n",
    "                           n_jobs=-1)\n",
    "\n",
    "logreg_grid.fit(X_train_vect, y_train)"
   ]
  },
  {
   "cell_type": "code",
   "execution_count": 32,
   "id": "38b4f939",
   "metadata": {},
   "outputs": [
    {
     "name": "stdout",
     "output_type": "stream",
     "text": [
      "Наилучшее значение перекрестной проверки: 0.96\n",
      "Наилучшие параметры:  {'C': 2, 'penalty': 'l2'}\n"
     ]
    }
   ],
   "source": [
    "print(\"Наилучшее значение перекрестной проверки: {:.2f}\".format(logreg_grid.best_score_))\n",
    "print(\"Наилучшие параметры: \", logreg_grid.best_params_)"
   ]
  },
  {
   "cell_type": "code",
   "execution_count": 35,
   "id": "dbdf0a4d",
   "metadata": {},
   "outputs": [],
   "source": [
    "y_pred_vect = logreg_grid.predict(tf_idf_X_test)"
   ]
  },
  {
   "cell_type": "code",
   "execution_count": 36,
   "id": "c9f532b0",
   "metadata": {},
   "outputs": [
    {
     "data": {
      "text/plain": [
       "array([[28565,  2220],\n",
       "       [    2,  1072]])"
      ]
     },
     "execution_count": 36,
     "metadata": {},
     "output_type": "execute_result"
    }
   ],
   "source": [
    "confusion_matrix(y_pred_vect, y_test)"
   ]
  },
  {
   "cell_type": "markdown",
   "id": "8f36a3c4",
   "metadata": {},
   "source": [
    "### 2.2 Logistic Regression с использованием решетчатого поиска для модели «мешка слов» в классе TfidfVectorizer()"
   ]
  },
  {
   "cell_type": "markdown",
   "id": "1e022641",
   "metadata": {},
   "source": [
    "Поскольку tf-idf фактически использует статистические свойства\n",
    "обучающих данных, мы воспользуемся конвейером, чтобы убедиться в достоверности результатов решетчатого поиска."
   ]
  },
  {
   "cell_type": "code",
   "execution_count": 164,
   "id": "5e60a49a",
   "metadata": {},
   "outputs": [],
   "source": [
    "logreg_tfidf = LogisticRegression(random_state=5)"
   ]
  },
  {
   "cell_type": "code",
   "execution_count": 37,
   "id": "e2b07c66",
   "metadata": {},
   "outputs": [
    {
     "name": "stderr",
     "output_type": "stream",
     "text": [
      "/usr/local/Cellar/jupyterlab/3.4.8/libexec/lib/python3.10/site-packages/sklearn/linear_model/_logistic.py:444: ConvergenceWarning: lbfgs failed to converge (status=1):\n",
      "STOP: TOTAL NO. of ITERATIONS REACHED LIMIT.\n",
      "\n",
      "Increase the number of iterations (max_iter) or scale the data as shown in:\n",
      "    https://scikit-learn.org/stable/modules/preprocessing.html\n",
      "Please also refer to the documentation for alternative solver options:\n",
      "    https://scikit-learn.org/stable/modules/linear_model.html#logistic-regression\n",
      "  n_iter_i = _check_optimize_result(\n",
      "/usr/local/Cellar/jupyterlab/3.4.8/libexec/lib/python3.10/site-packages/sklearn/linear_model/_logistic.py:444: ConvergenceWarning: lbfgs failed to converge (status=1):\n",
      "STOP: TOTAL NO. of ITERATIONS REACHED LIMIT.\n",
      "\n",
      "Increase the number of iterations (max_iter) or scale the data as shown in:\n",
      "    https://scikit-learn.org/stable/modules/preprocessing.html\n",
      "Please also refer to the documentation for alternative solver options:\n",
      "    https://scikit-learn.org/stable/modules/linear_model.html#logistic-regression\n",
      "  n_iter_i = _check_optimize_result(\n",
      "/usr/local/Cellar/jupyterlab/3.4.8/libexec/lib/python3.10/site-packages/sklearn/linear_model/_logistic.py:444: ConvergenceWarning: lbfgs failed to converge (status=1):\n",
      "STOP: TOTAL NO. of ITERATIONS REACHED LIMIT.\n",
      "\n",
      "Increase the number of iterations (max_iter) or scale the data as shown in:\n",
      "    https://scikit-learn.org/stable/modules/preprocessing.html\n",
      "Please also refer to the documentation for alternative solver options:\n",
      "    https://scikit-learn.org/stable/modules/linear_model.html#logistic-regression\n",
      "  n_iter_i = _check_optimize_result(\n"
     ]
    },
    {
     "name": "stdout",
     "output_type": "stream",
     "text": [
      "Наилучшее значение перекрестной проверки: 0.96\n"
     ]
    },
    {
     "name": "stderr",
     "output_type": "stream",
     "text": [
      "/usr/local/Cellar/jupyterlab/3.4.8/libexec/lib/python3.10/site-packages/sklearn/linear_model/_logistic.py:444: ConvergenceWarning: lbfgs failed to converge (status=1):\n",
      "STOP: TOTAL NO. of ITERATIONS REACHED LIMIT.\n",
      "\n",
      "Increase the number of iterations (max_iter) or scale the data as shown in:\n",
      "    https://scikit-learn.org/stable/modules/preprocessing.html\n",
      "Please also refer to the documentation for alternative solver options:\n",
      "    https://scikit-learn.org/stable/modules/linear_model.html#logistic-regression\n",
      "  n_iter_i = _check_optimize_result(\n"
     ]
    }
   ],
   "source": [
    "param_grid = {'C': [0.001, 0.01, 0.1, 1, 10]}\n",
    "\n",
    "grid = GridSearchCV(logreg_tfidf, param_grid, cv=3)\n",
    "\n",
    "grid.fit(tf_idf_X_train, y_train)\n",
    "\n",
    "print(\"Наилучшее значение перекрестной проверки: {:.2f}\".format(grid.best_score_))"
   ]
  },
  {
   "cell_type": "code",
   "execution_count": 40,
   "id": "0858472b",
   "metadata": {},
   "outputs": [],
   "source": [
    "y_pred_tfidf = grid.predict(tf_idf_X_test)"
   ]
  },
  {
   "cell_type": "code",
   "execution_count": 41,
   "id": "6c230e6e",
   "metadata": {},
   "outputs": [
    {
     "data": {
      "text/plain": [
       "array([[28295,  1027],\n",
       "       [  272,  2265]])"
      ]
     },
     "execution_count": 41,
     "metadata": {},
     "output_type": "execute_result"
    }
   ],
   "source": [
    "confusion_matrix(y_pred_tfidf, y_test)"
   ]
  },
  {
   "cell_type": "markdown",
   "id": "7556bde5",
   "metadata": {},
   "source": [
    "### 2.3 CatBoost в модели \"мешка слова\" в классе TfidfVectorizer()"
   ]
  },
  {
   "cell_type": "code",
   "execution_count": 46,
   "id": "ffb23471",
   "metadata": {
    "scrolled": true
   },
   "outputs": [
    {
     "name": "stdout",
     "output_type": "stream",
     "text": [
      "0:\tlearn: 0.5941847\ttotal: 1.32s\tremaining: 51.7s\n",
      "1:\tlearn: 0.5140168\ttotal: 2.39s\tremaining: 45.5s\n",
      "2:\tlearn: 0.4551864\ttotal: 3.37s\tremaining: 41.6s\n",
      "3:\tlearn: 0.4091247\ttotal: 4.35s\tremaining: 39.1s\n",
      "4:\tlearn: 0.3740592\ttotal: 5.36s\tremaining: 37.5s\n",
      "5:\tlearn: 0.3451588\ttotal: 6.32s\tremaining: 35.8s\n",
      "6:\tlearn: 0.3233061\ttotal: 7.28s\tremaining: 34.3s\n",
      "7:\tlearn: 0.3048152\ttotal: 8.23s\tremaining: 32.9s\n",
      "8:\tlearn: 0.2900218\ttotal: 9.28s\tremaining: 32s\n",
      "9:\tlearn: 0.2778057\ttotal: 10.2s\tremaining: 30.7s\n",
      "10:\tlearn: 0.2682009\ttotal: 11.2s\tremaining: 29.6s\n",
      "11:\tlearn: 0.2604367\ttotal: 12.2s\tremaining: 28.5s\n",
      "12:\tlearn: 0.2540546\ttotal: 13.2s\tremaining: 27.4s\n",
      "13:\tlearn: 0.2487223\ttotal: 14.2s\tremaining: 26.3s\n",
      "14:\tlearn: 0.2440905\ttotal: 15.1s\tremaining: 25.2s\n",
      "15:\tlearn: 0.2401068\ttotal: 16.1s\tremaining: 24.1s\n",
      "16:\tlearn: 0.2366856\ttotal: 17s\tremaining: 23s\n",
      "17:\tlearn: 0.2338888\ttotal: 18s\tremaining: 21.9s\n",
      "18:\tlearn: 0.2306113\ttotal: 18.9s\tremaining: 20.9s\n",
      "19:\tlearn: 0.2278546\ttotal: 19.9s\tremaining: 19.9s\n",
      "20:\tlearn: 0.2257618\ttotal: 20.8s\tremaining: 18.8s\n",
      "21:\tlearn: 0.2234065\ttotal: 21.8s\tremaining: 17.8s\n",
      "22:\tlearn: 0.2214283\ttotal: 22.8s\tremaining: 16.9s\n",
      "23:\tlearn: 0.2198083\ttotal: 23.8s\tremaining: 15.8s\n",
      "24:\tlearn: 0.2182443\ttotal: 24.7s\tremaining: 14.8s\n",
      "25:\tlearn: 0.2167805\ttotal: 25.7s\tremaining: 13.8s\n",
      "26:\tlearn: 0.2154838\ttotal: 26.6s\tremaining: 12.8s\n",
      "27:\tlearn: 0.2144204\ttotal: 27.7s\tremaining: 11.9s\n",
      "28:\tlearn: 0.2132215\ttotal: 28.6s\tremaining: 10.9s\n",
      "29:\tlearn: 0.2120014\ttotal: 29.6s\tremaining: 9.88s\n",
      "30:\tlearn: 0.2110162\ttotal: 30.6s\tremaining: 8.87s\n",
      "31:\tlearn: 0.2094782\ttotal: 31.7s\tremaining: 7.91s\n",
      "32:\tlearn: 0.2085461\ttotal: 32.6s\tremaining: 6.92s\n",
      "33:\tlearn: 0.2074429\ttotal: 33.6s\tremaining: 5.93s\n",
      "34:\tlearn: 0.2065780\ttotal: 34.6s\tremaining: 4.95s\n",
      "35:\tlearn: 0.2056092\ttotal: 35.6s\tremaining: 3.95s\n",
      "36:\tlearn: 0.2046893\ttotal: 36.5s\tremaining: 2.96s\n",
      "37:\tlearn: 0.2032680\ttotal: 37.5s\tremaining: 1.97s\n",
      "38:\tlearn: 0.2024431\ttotal: 38.4s\tremaining: 985ms\n",
      "39:\tlearn: 0.2015522\ttotal: 39.4s\tremaining: 0us\n",
      "0:\tlearn: 0.5964484\ttotal: 1.61s\tremaining: 1m 2s\n",
      "1:\tlearn: 0.5198430\ttotal: 2.71s\tremaining: 51.5s\n",
      "2:\tlearn: 0.4591270\ttotal: 3.66s\tremaining: 45.2s\n",
      "3:\tlearn: 0.4110768\ttotal: 4.63s\tremaining: 41.6s\n",
      "4:\tlearn: 0.3735702\ttotal: 5.57s\tremaining: 39s\n",
      "5:\tlearn: 0.3450998\ttotal: 6.53s\tremaining: 37s\n",
      "6:\tlearn: 0.3218763\ttotal: 7.5s\tremaining: 35.4s\n",
      "7:\tlearn: 0.3034262\ttotal: 8.98s\tremaining: 35.9s\n",
      "8:\tlearn: 0.2900051\ttotal: 10s\tremaining: 34.5s\n",
      "9:\tlearn: 0.2783091\ttotal: 11s\tremaining: 32.9s\n",
      "10:\tlearn: 0.2688607\ttotal: 11.9s\tremaining: 31.5s\n",
      "11:\tlearn: 0.2609408\ttotal: 13s\tremaining: 30.4s\n",
      "12:\tlearn: 0.2547820\ttotal: 14.2s\tremaining: 29.4s\n",
      "13:\tlearn: 0.2494042\ttotal: 15.3s\tremaining: 28.4s\n",
      "14:\tlearn: 0.2433667\ttotal: 16.5s\tremaining: 27.5s\n",
      "15:\tlearn: 0.2392755\ttotal: 17.5s\tremaining: 26.3s\n",
      "16:\tlearn: 0.2358936\ttotal: 18.6s\tremaining: 25.2s\n",
      "17:\tlearn: 0.2331672\ttotal: 19.7s\tremaining: 24.1s\n",
      "18:\tlearn: 0.2308580\ttotal: 20.8s\tremaining: 23s\n",
      "19:\tlearn: 0.2280316\ttotal: 22.1s\tremaining: 22.1s\n",
      "20:\tlearn: 0.2259779\ttotal: 23s\tremaining: 20.8s\n",
      "21:\tlearn: 0.2238566\ttotal: 24.3s\tremaining: 19.8s\n",
      "22:\tlearn: 0.2220231\ttotal: 25.3s\tremaining: 18.7s\n",
      "23:\tlearn: 0.2194351\ttotal: 26.3s\tremaining: 17.5s\n",
      "24:\tlearn: 0.2181026\ttotal: 27.3s\tremaining: 16.4s\n",
      "25:\tlearn: 0.2162620\ttotal: 28.2s\tremaining: 15.2s\n",
      "26:\tlearn: 0.2146517\ttotal: 29.2s\tremaining: 14.1s\n",
      "27:\tlearn: 0.2132545\ttotal: 30.2s\tremaining: 12.9s\n",
      "28:\tlearn: 0.2117989\ttotal: 31.1s\tremaining: 11.8s\n",
      "29:\tlearn: 0.2106222\ttotal: 32.1s\tremaining: 10.7s\n",
      "30:\tlearn: 0.2096764\ttotal: 33.2s\tremaining: 9.65s\n",
      "31:\tlearn: 0.2088333\ttotal: 34.3s\tremaining: 8.57s\n",
      "32:\tlearn: 0.2078775\ttotal: 35.3s\tremaining: 7.48s\n",
      "33:\tlearn: 0.2063936\ttotal: 36.2s\tremaining: 6.39s\n",
      "34:\tlearn: 0.2052697\ttotal: 37.2s\tremaining: 5.31s\n",
      "35:\tlearn: 0.2042582\ttotal: 38.1s\tremaining: 4.24s\n",
      "36:\tlearn: 0.2034207\ttotal: 39.2s\tremaining: 3.18s\n",
      "37:\tlearn: 0.2026336\ttotal: 40.1s\tremaining: 2.11s\n",
      "38:\tlearn: 0.2018616\ttotal: 41.1s\tremaining: 1.05s\n",
      "39:\tlearn: 0.2008428\ttotal: 42s\tremaining: 0us\n",
      "0:\tlearn: 0.5946070\ttotal: 1.13s\tremaining: 44.1s\n",
      "1:\tlearn: 0.5182555\ttotal: 2.1s\tremaining: 40s\n",
      "2:\tlearn: 0.4565665\ttotal: 3.05s\tremaining: 37.7s\n",
      "3:\tlearn: 0.4094806\ttotal: 4.07s\tremaining: 36.7s\n",
      "4:\tlearn: 0.3729292\ttotal: 5.02s\tremaining: 35.2s\n",
      "5:\tlearn: 0.3447773\ttotal: 5.98s\tremaining: 33.9s\n",
      "6:\tlearn: 0.3230442\ttotal: 6.93s\tremaining: 32.7s\n",
      "7:\tlearn: 0.3050146\ttotal: 7.88s\tremaining: 31.5s\n",
      "8:\tlearn: 0.2903939\ttotal: 8.85s\tremaining: 30.5s\n",
      "9:\tlearn: 0.2777594\ttotal: 9.83s\tremaining: 29.5s\n",
      "10:\tlearn: 0.2681944\ttotal: 10.8s\tremaining: 28.4s\n",
      "11:\tlearn: 0.2601732\ttotal: 11.7s\tremaining: 27.4s\n",
      "12:\tlearn: 0.2538726\ttotal: 12.7s\tremaining: 26.4s\n",
      "13:\tlearn: 0.2484827\ttotal: 13.6s\tremaining: 25.3s\n",
      "14:\tlearn: 0.2441973\ttotal: 14.7s\tremaining: 24.4s\n",
      "15:\tlearn: 0.2403889\ttotal: 15.6s\tremaining: 23.4s\n",
      "16:\tlearn: 0.2370407\ttotal: 16.6s\tremaining: 22.5s\n",
      "17:\tlearn: 0.2338728\ttotal: 17.6s\tremaining: 21.5s\n",
      "18:\tlearn: 0.2305958\ttotal: 18.6s\tremaining: 20.5s\n",
      "19:\tlearn: 0.2281720\ttotal: 19.5s\tremaining: 19.5s\n",
      "20:\tlearn: 0.2261077\ttotal: 20.5s\tremaining: 18.5s\n",
      "21:\tlearn: 0.2241822\ttotal: 21.5s\tremaining: 17.6s\n",
      "22:\tlearn: 0.2225075\ttotal: 22.4s\tremaining: 16.6s\n",
      "23:\tlearn: 0.2204292\ttotal: 23.4s\tremaining: 15.6s\n",
      "24:\tlearn: 0.2188912\ttotal: 24.4s\tremaining: 14.7s\n",
      "25:\tlearn: 0.2174799\ttotal: 25.4s\tremaining: 13.7s\n",
      "26:\tlearn: 0.2159515\ttotal: 26.3s\tremaining: 12.7s\n",
      "27:\tlearn: 0.2144071\ttotal: 27.3s\tremaining: 11.7s\n",
      "28:\tlearn: 0.2133433\ttotal: 28.3s\tremaining: 10.7s\n",
      "29:\tlearn: 0.2119216\ttotal: 29.3s\tremaining: 9.76s\n",
      "30:\tlearn: 0.2107169\ttotal: 30.2s\tremaining: 8.77s\n",
      "31:\tlearn: 0.2097093\ttotal: 31.2s\tremaining: 7.79s\n",
      "32:\tlearn: 0.2084990\ttotal: 32.1s\tremaining: 6.81s\n",
      "33:\tlearn: 0.2073786\ttotal: 33.1s\tremaining: 5.84s\n",
      "34:\tlearn: 0.2064583\ttotal: 34.1s\tremaining: 4.86s\n",
      "35:\tlearn: 0.2051200\ttotal: 35.1s\tremaining: 3.9s\n",
      "36:\tlearn: 0.2042758\ttotal: 36s\tremaining: 2.92s\n",
      "37:\tlearn: 0.2034327\ttotal: 37s\tremaining: 1.95s\n",
      "38:\tlearn: 0.2027077\ttotal: 38s\tremaining: 974ms\n",
      "39:\tlearn: 0.2019730\ttotal: 38.9s\tremaining: 0us\n",
      "0:\tlearn: 0.4431891\ttotal: 1.19s\tremaining: 46.5s\n",
      "1:\tlearn: 0.3301504\ttotal: 2.25s\tremaining: 42.7s\n",
      "2:\tlearn: 0.2800391\ttotal: 3.21s\tremaining: 39.6s\n",
      "3:\tlearn: 0.2534308\ttotal: 4.2s\tremaining: 37.8s\n",
      "4:\tlearn: 0.2394325\ttotal: 5.16s\tremaining: 36.1s\n",
      "5:\tlearn: 0.2285313\ttotal: 6.13s\tremaining: 34.7s\n",
      "6:\tlearn: 0.2218272\ttotal: 7.09s\tremaining: 33.4s\n",
      "7:\tlearn: 0.2163979\ttotal: 8.04s\tremaining: 32.2s\n",
      "8:\tlearn: 0.2125630\ttotal: 8.98s\tremaining: 30.9s\n",
      "9:\tlearn: 0.2077757\ttotal: 9.95s\tremaining: 29.9s\n",
      "10:\tlearn: 0.2049163\ttotal: 10.9s\tremaining: 28.7s\n",
      "11:\tlearn: 0.2015944\ttotal: 11.9s\tremaining: 27.7s\n",
      "12:\tlearn: 0.1984088\ttotal: 12.9s\tremaining: 26.8s\n",
      "13:\tlearn: 0.1954919\ttotal: 13.8s\tremaining: 25.7s\n",
      "14:\tlearn: 0.1932811\ttotal: 14.8s\tremaining: 24.7s\n",
      "15:\tlearn: 0.1914502\ttotal: 15.8s\tremaining: 23.6s\n",
      "16:\tlearn: 0.1894553\ttotal: 16.7s\tremaining: 22.6s\n",
      "17:\tlearn: 0.1875961\ttotal: 17.7s\tremaining: 21.6s\n",
      "18:\tlearn: 0.1859652\ttotal: 18.6s\tremaining: 20.6s\n",
      "19:\tlearn: 0.1842256\ttotal: 19.6s\tremaining: 19.6s\n",
      "20:\tlearn: 0.1825235\ttotal: 20.5s\tremaining: 18.6s\n",
      "21:\tlearn: 0.1806327\ttotal: 21.5s\tremaining: 17.6s\n",
      "22:\tlearn: 0.1792240\ttotal: 22.5s\tremaining: 16.7s\n",
      "23:\tlearn: 0.1781591\ttotal: 23.5s\tremaining: 15.6s\n",
      "24:\tlearn: 0.1768206\ttotal: 24.4s\tremaining: 14.7s\n",
      "25:\tlearn: 0.1751231\ttotal: 25.4s\tremaining: 13.7s\n",
      "26:\tlearn: 0.1739830\ttotal: 26.4s\tremaining: 12.7s\n",
      "27:\tlearn: 0.1730389\ttotal: 27.3s\tremaining: 11.7s\n",
      "28:\tlearn: 0.1722142\ttotal: 28.3s\tremaining: 10.8s\n",
      "29:\tlearn: 0.1712017\ttotal: 29.4s\tremaining: 9.79s\n",
      "30:\tlearn: 0.1699798\ttotal: 30.3s\tremaining: 8.81s\n",
      "31:\tlearn: 0.1689209\ttotal: 31.3s\tremaining: 7.83s\n",
      "32:\tlearn: 0.1680748\ttotal: 32.3s\tremaining: 6.84s\n",
      "33:\tlearn: 0.1669395\ttotal: 33.3s\tremaining: 5.87s\n",
      "34:\tlearn: 0.1661448\ttotal: 34.2s\tremaining: 4.89s\n",
      "35:\tlearn: 0.1652352\ttotal: 35.2s\tremaining: 3.91s\n",
      "36:\tlearn: 0.1640402\ttotal: 36.2s\tremaining: 2.93s\n",
      "37:\tlearn: 0.1632894\ttotal: 37.1s\tremaining: 1.95s\n",
      "38:\tlearn: 0.1621310\ttotal: 38s\tremaining: 975ms\n",
      "39:\tlearn: 0.1612384\ttotal: 39s\tremaining: 0us\n",
      "0:\tlearn: 0.4483782\ttotal: 1.16s\tremaining: 45.2s\n",
      "1:\tlearn: 0.3323859\ttotal: 2.19s\tremaining: 41.6s\n",
      "2:\tlearn: 0.2795674\ttotal: 3.17s\tremaining: 39.1s\n"
     ]
    },
    {
     "name": "stdout",
     "output_type": "stream",
     "text": [
      "3:\tlearn: 0.2542544\ttotal: 4.27s\tremaining: 38.4s\n",
      "4:\tlearn: 0.2382944\ttotal: 5.23s\tremaining: 36.6s\n",
      "5:\tlearn: 0.2280852\ttotal: 6.22s\tremaining: 35.2s\n",
      "6:\tlearn: 0.2219446\ttotal: 7.17s\tremaining: 33.8s\n",
      "7:\tlearn: 0.2164232\ttotal: 8.18s\tremaining: 32.7s\n",
      "8:\tlearn: 0.2125471\ttotal: 9.13s\tremaining: 31.5s\n",
      "9:\tlearn: 0.2084450\ttotal: 10.2s\tremaining: 30.5s\n",
      "10:\tlearn: 0.2048333\ttotal: 11.1s\tremaining: 29.3s\n",
      "11:\tlearn: 0.2021961\ttotal: 12.1s\tremaining: 28.1s\n",
      "12:\tlearn: 0.1999005\ttotal: 13s\tremaining: 27s\n",
      "13:\tlearn: 0.1968188\ttotal: 14s\tremaining: 25.9s\n",
      "14:\tlearn: 0.1938770\ttotal: 14.9s\tremaining: 24.8s\n",
      "15:\tlearn: 0.1921163\ttotal: 15.8s\tremaining: 23.8s\n",
      "16:\tlearn: 0.1902464\ttotal: 16.8s\tremaining: 22.7s\n",
      "17:\tlearn: 0.1882921\ttotal: 17.7s\tremaining: 21.7s\n",
      "18:\tlearn: 0.1867297\ttotal: 18.7s\tremaining: 20.6s\n",
      "19:\tlearn: 0.1850715\ttotal: 19.6s\tremaining: 19.6s\n",
      "20:\tlearn: 0.1834536\ttotal: 20.6s\tremaining: 18.6s\n",
      "21:\tlearn: 0.1818599\ttotal: 21.5s\tremaining: 17.6s\n",
      "22:\tlearn: 0.1797888\ttotal: 22.5s\tremaining: 16.6s\n",
      "23:\tlearn: 0.1785302\ttotal: 23.4s\tremaining: 15.6s\n",
      "24:\tlearn: 0.1773486\ttotal: 24.3s\tremaining: 14.6s\n",
      "25:\tlearn: 0.1764283\ttotal: 25.3s\tremaining: 13.6s\n",
      "26:\tlearn: 0.1753581\ttotal: 26.2s\tremaining: 12.6s\n",
      "27:\tlearn: 0.1742042\ttotal: 27.2s\tremaining: 11.6s\n",
      "28:\tlearn: 0.1731197\ttotal: 28.1s\tremaining: 10.7s\n",
      "29:\tlearn: 0.1719624\ttotal: 29s\tremaining: 9.68s\n",
      "30:\tlearn: 0.1711451\ttotal: 30s\tremaining: 8.71s\n",
      "31:\tlearn: 0.1701581\ttotal: 31s\tremaining: 7.75s\n",
      "32:\tlearn: 0.1691609\ttotal: 31.9s\tremaining: 6.77s\n",
      "33:\tlearn: 0.1673703\ttotal: 33s\tremaining: 5.82s\n",
      "34:\tlearn: 0.1665390\ttotal: 33.9s\tremaining: 4.84s\n",
      "35:\tlearn: 0.1656016\ttotal: 34.9s\tremaining: 3.88s\n",
      "36:\tlearn: 0.1646418\ttotal: 35.9s\tremaining: 2.91s\n",
      "37:\tlearn: 0.1635065\ttotal: 36.8s\tremaining: 1.94s\n",
      "38:\tlearn: 0.1627606\ttotal: 37.7s\tremaining: 968ms\n",
      "39:\tlearn: 0.1620569\ttotal: 38.7s\tremaining: 0us\n",
      "0:\tlearn: 0.4436419\ttotal: 1.18s\tremaining: 45.9s\n",
      "1:\tlearn: 0.3340140\ttotal: 2.19s\tremaining: 41.7s\n",
      "2:\tlearn: 0.2821184\ttotal: 3.16s\tremaining: 39s\n",
      "3:\tlearn: 0.2565302\ttotal: 4.12s\tremaining: 37.1s\n",
      "4:\tlearn: 0.2411575\ttotal: 5.08s\tremaining: 35.6s\n",
      "5:\tlearn: 0.2299681\ttotal: 6.06s\tremaining: 34.3s\n",
      "6:\tlearn: 0.2239153\ttotal: 7.01s\tremaining: 33.1s\n",
      "7:\tlearn: 0.2178757\ttotal: 8.01s\tremaining: 32.1s\n",
      "8:\tlearn: 0.2140443\ttotal: 9.04s\tremaining: 31.1s\n",
      "9:\tlearn: 0.2107887\ttotal: 10s\tremaining: 30s\n",
      "10:\tlearn: 0.2064144\ttotal: 11s\tremaining: 29s\n",
      "11:\tlearn: 0.2035315\ttotal: 12s\tremaining: 27.9s\n",
      "12:\tlearn: 0.2010699\ttotal: 12.9s\tremaining: 26.9s\n",
      "13:\tlearn: 0.1984015\ttotal: 14.1s\tremaining: 26.3s\n",
      "14:\tlearn: 0.1959355\ttotal: 15.3s\tremaining: 25.5s\n",
      "15:\tlearn: 0.1936723\ttotal: 16.2s\tremaining: 24.4s\n",
      "16:\tlearn: 0.1920433\ttotal: 17.3s\tremaining: 23.4s\n",
      "17:\tlearn: 0.1896451\ttotal: 18.3s\tremaining: 22.4s\n",
      "18:\tlearn: 0.1863528\ttotal: 19.3s\tremaining: 21.4s\n",
      "19:\tlearn: 0.1848458\ttotal: 20.3s\tremaining: 20.3s\n",
      "20:\tlearn: 0.1834961\ttotal: 21.2s\tremaining: 19.2s\n",
      "21:\tlearn: 0.1822083\ttotal: 22.2s\tremaining: 18.1s\n",
      "22:\tlearn: 0.1810887\ttotal: 23.1s\tremaining: 17.1s\n",
      "23:\tlearn: 0.1795365\ttotal: 24.1s\tremaining: 16.1s\n",
      "24:\tlearn: 0.1784515\ttotal: 25.1s\tremaining: 15s\n",
      "25:\tlearn: 0.1771981\ttotal: 26s\tremaining: 14s\n",
      "26:\tlearn: 0.1759871\ttotal: 27s\tremaining: 13s\n",
      "27:\tlearn: 0.1745642\ttotal: 27.9s\tremaining: 12s\n",
      "28:\tlearn: 0.1734454\ttotal: 28.9s\tremaining: 11s\n",
      "29:\tlearn: 0.1723348\ttotal: 29.8s\tremaining: 9.94s\n",
      "30:\tlearn: 0.1712876\ttotal: 30.8s\tremaining: 8.93s\n",
      "31:\tlearn: 0.1698658\ttotal: 31.7s\tremaining: 7.93s\n",
      "32:\tlearn: 0.1689520\ttotal: 32.6s\tremaining: 6.92s\n",
      "33:\tlearn: 0.1680190\ttotal: 33.6s\tremaining: 5.93s\n",
      "34:\tlearn: 0.1670463\ttotal: 34.5s\tremaining: 4.93s\n",
      "35:\tlearn: 0.1660263\ttotal: 35.5s\tremaining: 3.94s\n",
      "36:\tlearn: 0.1650372\ttotal: 36.4s\tremaining: 2.95s\n",
      "37:\tlearn: 0.1640079\ttotal: 37.3s\tremaining: 1.97s\n",
      "38:\tlearn: 0.1628785\ttotal: 38.3s\tremaining: 982ms\n",
      "39:\tlearn: 0.1620444\ttotal: 39.3s\tremaining: 0us\n",
      "0:\tlearn: 0.3469143\ttotal: 1.14s\tremaining: 44.4s\n",
      "1:\tlearn: 0.2617731\ttotal: 2.14s\tremaining: 40.7s\n",
      "2:\tlearn: 0.2353190\ttotal: 3.1s\tremaining: 38.2s\n",
      "3:\tlearn: 0.2221690\ttotal: 4.04s\tremaining: 36.4s\n",
      "4:\tlearn: 0.2143610\ttotal: 4.98s\tremaining: 34.9s\n",
      "5:\tlearn: 0.2083245\ttotal: 5.94s\tremaining: 33.7s\n",
      "6:\tlearn: 0.2032592\ttotal: 6.93s\tremaining: 32.7s\n",
      "7:\tlearn: 0.1975649\ttotal: 7.88s\tremaining: 31.5s\n",
      "8:\tlearn: 0.1925784\ttotal: 8.82s\tremaining: 30.4s\n",
      "9:\tlearn: 0.1895705\ttotal: 9.74s\tremaining: 29.2s\n",
      "10:\tlearn: 0.1862056\ttotal: 10.7s\tremaining: 28.2s\n",
      "11:\tlearn: 0.1838098\ttotal: 11.6s\tremaining: 27.1s\n",
      "12:\tlearn: 0.1804463\ttotal: 12.6s\tremaining: 26.1s\n",
      "13:\tlearn: 0.1770687\ttotal: 13.5s\tremaining: 25.1s\n",
      "14:\tlearn: 0.1751185\ttotal: 14.5s\tremaining: 24.1s\n",
      "15:\tlearn: 0.1728223\ttotal: 15.4s\tremaining: 23.1s\n",
      "16:\tlearn: 0.1708309\ttotal: 16.4s\tremaining: 22.1s\n",
      "17:\tlearn: 0.1692938\ttotal: 17.3s\tremaining: 21.2s\n",
      "18:\tlearn: 0.1673898\ttotal: 18.2s\tremaining: 20.2s\n",
      "19:\tlearn: 0.1658654\ttotal: 19.2s\tremaining: 19.2s\n",
      "20:\tlearn: 0.1644101\ttotal: 20.1s\tremaining: 18.2s\n",
      "21:\tlearn: 0.1630886\ttotal: 21.1s\tremaining: 17.2s\n",
      "22:\tlearn: 0.1612001\ttotal: 22s\tremaining: 16.3s\n",
      "23:\tlearn: 0.1599126\ttotal: 23s\tremaining: 15.3s\n",
      "24:\tlearn: 0.1585448\ttotal: 23.9s\tremaining: 14.3s\n",
      "25:\tlearn: 0.1574088\ttotal: 24.8s\tremaining: 13.4s\n",
      "26:\tlearn: 0.1561633\ttotal: 25.8s\tremaining: 12.4s\n",
      "27:\tlearn: 0.1548555\ttotal: 26.8s\tremaining: 11.5s\n",
      "28:\tlearn: 0.1539639\ttotal: 27.7s\tremaining: 10.5s\n",
      "29:\tlearn: 0.1530564\ttotal: 28.6s\tremaining: 9.54s\n",
      "30:\tlearn: 0.1519873\ttotal: 29.6s\tremaining: 8.58s\n",
      "31:\tlearn: 0.1503295\ttotal: 30.5s\tremaining: 7.63s\n",
      "32:\tlearn: 0.1495063\ttotal: 31.4s\tremaining: 6.67s\n",
      "33:\tlearn: 0.1486418\ttotal: 32.4s\tremaining: 5.71s\n",
      "34:\tlearn: 0.1479712\ttotal: 33.3s\tremaining: 4.76s\n",
      "35:\tlearn: 0.1468422\ttotal: 34.2s\tremaining: 3.8s\n",
      "36:\tlearn: 0.1458155\ttotal: 35.2s\tremaining: 2.85s\n",
      "37:\tlearn: 0.1446513\ttotal: 36.1s\tremaining: 1.9s\n",
      "38:\tlearn: 0.1440954\ttotal: 37.1s\tremaining: 951ms\n",
      "39:\tlearn: 0.1434157\ttotal: 38s\tremaining: 0us\n",
      "0:\tlearn: 0.3535563\ttotal: 1.14s\tremaining: 44.6s\n",
      "1:\tlearn: 0.2669839\ttotal: 2.13s\tremaining: 40.5s\n",
      "2:\tlearn: 0.2398271\ttotal: 3.11s\tremaining: 38.4s\n",
      "3:\tlearn: 0.2252274\ttotal: 4.07s\tremaining: 36.6s\n",
      "4:\tlearn: 0.2139342\ttotal: 5.1s\tremaining: 35.7s\n",
      "5:\tlearn: 0.2075619\ttotal: 6.07s\tremaining: 34.4s\n",
      "6:\tlearn: 0.2025166\ttotal: 7.07s\tremaining: 33.3s\n",
      "7:\tlearn: 0.1969321\ttotal: 8.03s\tremaining: 32.1s\n",
      "8:\tlearn: 0.1927918\ttotal: 8.97s\tremaining: 30.9s\n",
      "9:\tlearn: 0.1892113\ttotal: 9.9s\tremaining: 29.7s\n",
      "10:\tlearn: 0.1865294\ttotal: 10.8s\tremaining: 28.6s\n",
      "11:\tlearn: 0.1832046\ttotal: 11.8s\tremaining: 27.5s\n",
      "12:\tlearn: 0.1800180\ttotal: 12.7s\tremaining: 26.4s\n",
      "13:\tlearn: 0.1776229\ttotal: 13.7s\tremaining: 25.4s\n",
      "14:\tlearn: 0.1752491\ttotal: 14.6s\tremaining: 24.3s\n",
      "15:\tlearn: 0.1729548\ttotal: 15.6s\tremaining: 23.4s\n",
      "16:\tlearn: 0.1709090\ttotal: 16.6s\tremaining: 22.4s\n",
      "17:\tlearn: 0.1693395\ttotal: 17.5s\tremaining: 21.4s\n",
      "18:\tlearn: 0.1676053\ttotal: 18.4s\tremaining: 20.4s\n",
      "19:\tlearn: 0.1661746\ttotal: 19.4s\tremaining: 19.4s\n",
      "20:\tlearn: 0.1648307\ttotal: 20.3s\tremaining: 18.4s\n",
      "21:\tlearn: 0.1633405\ttotal: 21.3s\tremaining: 17.4s\n",
      "22:\tlearn: 0.1614191\ttotal: 22.3s\tremaining: 16.5s\n",
      "23:\tlearn: 0.1600594\ttotal: 23.2s\tremaining: 15.5s\n",
      "24:\tlearn: 0.1590853\ttotal: 24.1s\tremaining: 14.5s\n",
      "25:\tlearn: 0.1576690\ttotal: 25.1s\tremaining: 13.5s\n",
      "26:\tlearn: 0.1565322\ttotal: 26.1s\tremaining: 12.6s\n",
      "27:\tlearn: 0.1555652\ttotal: 27s\tremaining: 11.6s\n",
      "28:\tlearn: 0.1543514\ttotal: 28s\tremaining: 10.6s\n",
      "29:\tlearn: 0.1535544\ttotal: 28.9s\tremaining: 9.63s\n",
      "30:\tlearn: 0.1524234\ttotal: 29.9s\tremaining: 8.67s\n",
      "31:\tlearn: 0.1509725\ttotal: 30.8s\tremaining: 7.7s\n",
      "32:\tlearn: 0.1495886\ttotal: 31.7s\tremaining: 6.73s\n",
      "33:\tlearn: 0.1486386\ttotal: 32.7s\tremaining: 5.76s\n",
      "34:\tlearn: 0.1477785\ttotal: 33.6s\tremaining: 4.8s\n",
      "35:\tlearn: 0.1465251\ttotal: 34.5s\tremaining: 3.84s\n",
      "36:\tlearn: 0.1457904\ttotal: 35.5s\tremaining: 2.87s\n",
      "37:\tlearn: 0.1449130\ttotal: 36.4s\tremaining: 1.92s\n",
      "38:\tlearn: 0.1443154\ttotal: 37.4s\tremaining: 958ms\n",
      "39:\tlearn: 0.1436311\ttotal: 38.3s\tremaining: 0us\n",
      "0:\tlearn: 0.3469083\ttotal: 1.94s\tremaining: 1m 15s\n",
      "1:\tlearn: 0.2648733\ttotal: 4.02s\tremaining: 1m 16s\n",
      "2:\tlearn: 0.2382348\ttotal: 5.13s\tremaining: 1m 3s\n",
      "3:\tlearn: 0.2232322\ttotal: 6.61s\tremaining: 59.5s\n",
      "4:\tlearn: 0.2149701\ttotal: 7.88s\tremaining: 55.2s\n",
      "5:\tlearn: 0.2081680\ttotal: 8.83s\tremaining: 50s\n"
     ]
    },
    {
     "name": "stdout",
     "output_type": "stream",
     "text": [
      "6:\tlearn: 0.2031963\ttotal: 9.76s\tremaining: 46s\n",
      "7:\tlearn: 0.1972127\ttotal: 10.7s\tremaining: 42.9s\n",
      "8:\tlearn: 0.1932723\ttotal: 11.7s\tremaining: 40.2s\n",
      "9:\tlearn: 0.1901387\ttotal: 12.6s\tremaining: 37.8s\n",
      "10:\tlearn: 0.1866634\ttotal: 13.6s\tremaining: 35.7s\n",
      "11:\tlearn: 0.1841816\ttotal: 14.5s\tremaining: 33.9s\n",
      "12:\tlearn: 0.1810100\ttotal: 15.5s\tremaining: 32.3s\n",
      "13:\tlearn: 0.1777945\ttotal: 16.5s\tremaining: 30.6s\n",
      "14:\tlearn: 0.1754552\ttotal: 19.1s\tremaining: 31.8s\n",
      "15:\tlearn: 0.1728250\ttotal: 20.4s\tremaining: 30.6s\n",
      "16:\tlearn: 0.1712708\ttotal: 21.8s\tremaining: 29.4s\n",
      "17:\tlearn: 0.1698149\ttotal: 22.9s\tremaining: 28s\n",
      "18:\tlearn: 0.1679602\ttotal: 24.1s\tremaining: 26.6s\n",
      "19:\tlearn: 0.1663967\ttotal: 25.1s\tremaining: 25.1s\n",
      "20:\tlearn: 0.1649753\ttotal: 26.1s\tremaining: 23.6s\n",
      "21:\tlearn: 0.1634822\ttotal: 27.1s\tremaining: 22.2s\n",
      "22:\tlearn: 0.1618309\ttotal: 28.2s\tremaining: 20.8s\n",
      "23:\tlearn: 0.1604024\ttotal: 29.2s\tremaining: 19.5s\n",
      "24:\tlearn: 0.1590146\ttotal: 30.2s\tremaining: 18.1s\n",
      "25:\tlearn: 0.1576598\ttotal: 31.1s\tremaining: 16.8s\n",
      "26:\tlearn: 0.1560003\ttotal: 32.1s\tremaining: 15.5s\n",
      "27:\tlearn: 0.1549271\ttotal: 33.1s\tremaining: 14.2s\n",
      "28:\tlearn: 0.1535794\ttotal: 34.2s\tremaining: 13s\n",
      "29:\tlearn: 0.1523899\ttotal: 35.1s\tremaining: 11.7s\n",
      "30:\tlearn: 0.1515608\ttotal: 36.1s\tremaining: 10.5s\n",
      "31:\tlearn: 0.1507111\ttotal: 37.1s\tremaining: 9.27s\n",
      "32:\tlearn: 0.1498387\ttotal: 38.1s\tremaining: 8.08s\n",
      "33:\tlearn: 0.1488454\ttotal: 39.1s\tremaining: 6.91s\n",
      "34:\tlearn: 0.1482165\ttotal: 40.1s\tremaining: 5.73s\n",
      "35:\tlearn: 0.1471690\ttotal: 41.1s\tremaining: 4.57s\n",
      "36:\tlearn: 0.1461605\ttotal: 42.1s\tremaining: 3.42s\n",
      "37:\tlearn: 0.1451344\ttotal: 43.1s\tremaining: 2.27s\n",
      "38:\tlearn: 0.1444524\ttotal: 44.1s\tremaining: 1.13s\n",
      "39:\tlearn: 0.1438004\ttotal: 45.1s\tremaining: 0us\n",
      "0:\tlearn: 0.2936916\ttotal: 1.31s\tremaining: 51.3s\n",
      "1:\tlearn: 0.2427348\ttotal: 2.35s\tremaining: 44.7s\n",
      "2:\tlearn: 0.2254244\ttotal: 3.38s\tremaining: 41.7s\n",
      "3:\tlearn: 0.2115658\ttotal: 4.37s\tremaining: 39.3s\n",
      "4:\tlearn: 0.2040337\ttotal: 5.46s\tremaining: 38.2s\n",
      "5:\tlearn: 0.1978614\ttotal: 6.42s\tremaining: 36.4s\n",
      "6:\tlearn: 0.1922487\ttotal: 7.47s\tremaining: 35.2s\n",
      "7:\tlearn: 0.1868275\ttotal: 8.92s\tremaining: 35.7s\n",
      "8:\tlearn: 0.1829276\ttotal: 10.2s\tremaining: 35.2s\n",
      "9:\tlearn: 0.1785473\ttotal: 11.3s\tremaining: 34s\n",
      "10:\tlearn: 0.1750115\ttotal: 12.4s\tremaining: 32.7s\n",
      "11:\tlearn: 0.1726197\ttotal: 13.5s\tremaining: 31.4s\n",
      "12:\tlearn: 0.1700934\ttotal: 14.6s\tremaining: 30.4s\n",
      "13:\tlearn: 0.1677407\ttotal: 15.7s\tremaining: 29.2s\n",
      "14:\tlearn: 0.1647814\ttotal: 16.8s\tremaining: 28s\n",
      "15:\tlearn: 0.1624698\ttotal: 17.9s\tremaining: 26.8s\n",
      "16:\tlearn: 0.1600707\ttotal: 19s\tremaining: 25.7s\n",
      "17:\tlearn: 0.1584569\ttotal: 19.9s\tremaining: 24.4s\n",
      "18:\tlearn: 0.1569860\ttotal: 21.1s\tremaining: 23.3s\n",
      "19:\tlearn: 0.1549854\ttotal: 22.2s\tremaining: 22.2s\n",
      "20:\tlearn: 0.1536719\ttotal: 23.2s\tremaining: 21s\n",
      "21:\tlearn: 0.1524681\ttotal: 24.4s\tremaining: 19.9s\n",
      "22:\tlearn: 0.1511782\ttotal: 25.5s\tremaining: 18.9s\n",
      "23:\tlearn: 0.1495118\ttotal: 26.6s\tremaining: 17.7s\n",
      "24:\tlearn: 0.1477134\ttotal: 27.6s\tremaining: 16.6s\n",
      "25:\tlearn: 0.1464994\ttotal: 28.6s\tremaining: 15.4s\n",
      "26:\tlearn: 0.1452544\ttotal: 29.5s\tremaining: 14.2s\n",
      "27:\tlearn: 0.1444663\ttotal: 30.5s\tremaining: 13.1s\n",
      "28:\tlearn: 0.1437329\ttotal: 31.4s\tremaining: 11.9s\n",
      "29:\tlearn: 0.1428927\ttotal: 32.3s\tremaining: 10.8s\n",
      "30:\tlearn: 0.1421835\ttotal: 33.3s\tremaining: 9.66s\n",
      "31:\tlearn: 0.1409974\ttotal: 34.2s\tremaining: 8.56s\n",
      "32:\tlearn: 0.1391571\ttotal: 35.3s\tremaining: 7.49s\n",
      "33:\tlearn: 0.1380225\ttotal: 36.4s\tremaining: 6.43s\n",
      "34:\tlearn: 0.1370745\ttotal: 37.6s\tremaining: 5.37s\n",
      "35:\tlearn: 0.1364684\ttotal: 38.6s\tremaining: 4.29s\n",
      "36:\tlearn: 0.1356412\ttotal: 39.5s\tremaining: 3.21s\n",
      "37:\tlearn: 0.1348976\ttotal: 40.6s\tremaining: 2.13s\n",
      "38:\tlearn: 0.1341010\ttotal: 41.6s\tremaining: 1.07s\n",
      "39:\tlearn: 0.1335503\ttotal: 42.5s\tremaining: 0us\n",
      "0:\tlearn: 0.3008531\ttotal: 1.59s\tremaining: 1m 1s\n",
      "1:\tlearn: 0.2445628\ttotal: 2.81s\tremaining: 53.3s\n",
      "2:\tlearn: 0.2252857\ttotal: 3.97s\tremaining: 48.9s\n",
      "3:\tlearn: 0.2102109\ttotal: 5.14s\tremaining: 46.2s\n",
      "4:\tlearn: 0.2042238\ttotal: 6.25s\tremaining: 43.7s\n",
      "5:\tlearn: 0.1978610\ttotal: 7.29s\tremaining: 41.3s\n",
      "6:\tlearn: 0.1926740\ttotal: 8.38s\tremaining: 39.5s\n",
      "7:\tlearn: 0.1866045\ttotal: 9.51s\tremaining: 38s\n",
      "8:\tlearn: 0.1820070\ttotal: 10.6s\tremaining: 36.5s\n",
      "9:\tlearn: 0.1781004\ttotal: 11.7s\tremaining: 35s\n",
      "10:\tlearn: 0.1756039\ttotal: 12.8s\tremaining: 33.7s\n",
      "11:\tlearn: 0.1724637\ttotal: 13.7s\tremaining: 32s\n",
      "12:\tlearn: 0.1689015\ttotal: 14.7s\tremaining: 30.6s\n",
      "13:\tlearn: 0.1667717\ttotal: 15.8s\tremaining: 29.4s\n",
      "14:\tlearn: 0.1648320\ttotal: 17s\tremaining: 28.3s\n",
      "15:\tlearn: 0.1624634\ttotal: 17.9s\tremaining: 26.8s\n",
      "16:\tlearn: 0.1606462\ttotal: 19s\tremaining: 25.7s\n",
      "17:\tlearn: 0.1580704\ttotal: 20s\tremaining: 24.5s\n",
      "18:\tlearn: 0.1563647\ttotal: 21.1s\tremaining: 23.3s\n",
      "19:\tlearn: 0.1548312\ttotal: 22.2s\tremaining: 22.2s\n",
      "20:\tlearn: 0.1533494\ttotal: 23.4s\tremaining: 21.2s\n",
      "21:\tlearn: 0.1517213\ttotal: 24.6s\tremaining: 20.1s\n",
      "22:\tlearn: 0.1508656\ttotal: 25.6s\tremaining: 18.9s\n",
      "23:\tlearn: 0.1493328\ttotal: 26.7s\tremaining: 17.8s\n",
      "24:\tlearn: 0.1480803\ttotal: 27.8s\tremaining: 16.7s\n",
      "25:\tlearn: 0.1468710\ttotal: 28.8s\tremaining: 15.5s\n",
      "26:\tlearn: 0.1460888\ttotal: 29.9s\tremaining: 14.4s\n",
      "27:\tlearn: 0.1449297\ttotal: 30.9s\tremaining: 13.2s\n",
      "28:\tlearn: 0.1436550\ttotal: 31.8s\tremaining: 12.1s\n",
      "29:\tlearn: 0.1426817\ttotal: 33s\tremaining: 11s\n",
      "30:\tlearn: 0.1415648\ttotal: 34s\tremaining: 9.87s\n",
      "31:\tlearn: 0.1407095\ttotal: 34.9s\tremaining: 8.73s\n",
      "32:\tlearn: 0.1393592\ttotal: 35.9s\tremaining: 7.62s\n",
      "33:\tlearn: 0.1386629\ttotal: 36.9s\tremaining: 6.51s\n",
      "34:\tlearn: 0.1377092\ttotal: 37.8s\tremaining: 5.4s\n",
      "35:\tlearn: 0.1370672\ttotal: 38.7s\tremaining: 4.3s\n",
      "36:\tlearn: 0.1355953\ttotal: 39.7s\tremaining: 3.22s\n",
      "37:\tlearn: 0.1350299\ttotal: 40.7s\tremaining: 2.14s\n",
      "38:\tlearn: 0.1343169\ttotal: 41.6s\tremaining: 1.07s\n",
      "39:\tlearn: 0.1337729\ttotal: 42.5s\tremaining: 0us\n",
      "0:\tlearn: 0.2933568\ttotal: 1.36s\tremaining: 53.1s\n",
      "1:\tlearn: 0.2413370\ttotal: 2.53s\tremaining: 48.1s\n",
      "2:\tlearn: 0.2210318\ttotal: 3.67s\tremaining: 45.3s\n",
      "3:\tlearn: 0.2109951\ttotal: 4.69s\tremaining: 42.2s\n",
      "4:\tlearn: 0.2028947\ttotal: 5.68s\tremaining: 39.8s\n",
      "5:\tlearn: 0.1971996\ttotal: 6.79s\tremaining: 38.5s\n",
      "6:\tlearn: 0.1911892\ttotal: 7.95s\tremaining: 37.5s\n",
      "7:\tlearn: 0.1860128\ttotal: 9.02s\tremaining: 36.1s\n",
      "8:\tlearn: 0.1820756\ttotal: 10.1s\tremaining: 34.8s\n",
      "9:\tlearn: 0.1781841\ttotal: 11.3s\tremaining: 33.8s\n",
      "10:\tlearn: 0.1751018\ttotal: 12.4s\tremaining: 32.8s\n",
      "11:\tlearn: 0.1732403\ttotal: 13.5s\tremaining: 31.5s\n",
      "12:\tlearn: 0.1710377\ttotal: 14.5s\tremaining: 30.1s\n",
      "13:\tlearn: 0.1673596\ttotal: 15.6s\tremaining: 29s\n",
      "14:\tlearn: 0.1655227\ttotal: 16.7s\tremaining: 27.9s\n",
      "15:\tlearn: 0.1635586\ttotal: 17.8s\tremaining: 26.6s\n",
      "16:\tlearn: 0.1616592\ttotal: 18.8s\tremaining: 25.4s\n",
      "17:\tlearn: 0.1590408\ttotal: 19.7s\tremaining: 24.1s\n",
      "18:\tlearn: 0.1572811\ttotal: 20.6s\tremaining: 22.8s\n",
      "19:\tlearn: 0.1558109\ttotal: 21.6s\tremaining: 21.6s\n",
      "20:\tlearn: 0.1546454\ttotal: 22.7s\tremaining: 20.6s\n",
      "21:\tlearn: 0.1534660\ttotal: 23.8s\tremaining: 19.5s\n",
      "22:\tlearn: 0.1516624\ttotal: 24.9s\tremaining: 18.4s\n",
      "23:\tlearn: 0.1502481\ttotal: 26s\tremaining: 17.4s\n",
      "24:\tlearn: 0.1492413\ttotal: 27.1s\tremaining: 16.3s\n",
      "25:\tlearn: 0.1480193\ttotal: 28.1s\tremaining: 15.1s\n",
      "26:\tlearn: 0.1468152\ttotal: 29.1s\tremaining: 14s\n",
      "27:\tlearn: 0.1452085\ttotal: 30.1s\tremaining: 12.9s\n",
      "28:\tlearn: 0.1442300\ttotal: 31.2s\tremaining: 11.8s\n",
      "29:\tlearn: 0.1434174\ttotal: 32.1s\tremaining: 10.7s\n",
      "30:\tlearn: 0.1419679\ttotal: 33.1s\tremaining: 9.62s\n",
      "31:\tlearn: 0.1411815\ttotal: 34.1s\tremaining: 8.52s\n",
      "32:\tlearn: 0.1399310\ttotal: 35s\tremaining: 7.43s\n",
      "33:\tlearn: 0.1393084\ttotal: 35.9s\tremaining: 6.34s\n",
      "34:\tlearn: 0.1381057\ttotal: 36.9s\tremaining: 5.27s\n",
      "35:\tlearn: 0.1372349\ttotal: 37.8s\tremaining: 4.2s\n",
      "36:\tlearn: 0.1362169\ttotal: 38.8s\tremaining: 3.14s\n",
      "37:\tlearn: 0.1356613\ttotal: 39.7s\tremaining: 2.09s\n",
      "38:\tlearn: 0.1344991\ttotal: 40.7s\tremaining: 1.04s\n",
      "39:\tlearn: 0.1337965\ttotal: 41.6s\tremaining: 0us\n",
      "0:\tlearn: 0.2718304\ttotal: 1.14s\tremaining: 44.3s\n",
      "1:\tlearn: 0.2391021\ttotal: 2.13s\tremaining: 40.4s\n",
      "2:\tlearn: 0.2204154\ttotal: 3.09s\tremaining: 38.1s\n",
      "3:\tlearn: 0.2079842\ttotal: 4.04s\tremaining: 36.4s\n",
      "4:\tlearn: 0.1990809\ttotal: 5s\tremaining: 35s\n",
      "5:\tlearn: 0.1918418\ttotal: 5.95s\tremaining: 33.7s\n",
      "6:\tlearn: 0.1845677\ttotal: 6.9s\tremaining: 32.5s\n",
      "7:\tlearn: 0.1791497\ttotal: 7.91s\tremaining: 31.6s\n",
      "8:\tlearn: 0.1746657\ttotal: 8.86s\tremaining: 30.5s\n"
     ]
    },
    {
     "name": "stdout",
     "output_type": "stream",
     "text": [
      "9:\tlearn: 0.1714539\ttotal: 9.81s\tremaining: 29.4s\n",
      "10:\tlearn: 0.1680199\ttotal: 10.7s\tremaining: 28.3s\n",
      "11:\tlearn: 0.1649429\ttotal: 11.7s\tremaining: 27.3s\n",
      "12:\tlearn: 0.1616416\ttotal: 12.6s\tremaining: 26.3s\n",
      "13:\tlearn: 0.1578717\ttotal: 13.6s\tremaining: 25.3s\n",
      "14:\tlearn: 0.1558578\ttotal: 14.6s\tremaining: 24.3s\n",
      "15:\tlearn: 0.1539911\ttotal: 15.7s\tremaining: 23.6s\n",
      "16:\tlearn: 0.1526313\ttotal: 16.7s\tremaining: 22.6s\n",
      "17:\tlearn: 0.1504321\ttotal: 17.9s\tremaining: 21.9s\n",
      "18:\tlearn: 0.1485735\ttotal: 18.9s\tremaining: 20.9s\n",
      "19:\tlearn: 0.1467912\ttotal: 20s\tremaining: 20s\n",
      "20:\tlearn: 0.1453706\ttotal: 20.9s\tremaining: 18.9s\n",
      "21:\tlearn: 0.1443144\ttotal: 21.9s\tremaining: 17.9s\n",
      "22:\tlearn: 0.1429847\ttotal: 22.9s\tremaining: 17s\n",
      "23:\tlearn: 0.1418746\ttotal: 24s\tremaining: 16s\n",
      "24:\tlearn: 0.1410294\ttotal: 25.1s\tremaining: 15.1s\n",
      "25:\tlearn: 0.1402395\ttotal: 26.2s\tremaining: 14.1s\n",
      "26:\tlearn: 0.1388484\ttotal: 27.3s\tremaining: 13.1s\n",
      "27:\tlearn: 0.1379762\ttotal: 28.4s\tremaining: 12.2s\n",
      "28:\tlearn: 0.1372208\ttotal: 29.5s\tremaining: 11.2s\n",
      "29:\tlearn: 0.1363295\ttotal: 30.6s\tremaining: 10.2s\n",
      "30:\tlearn: 0.1350328\ttotal: 31.7s\tremaining: 9.2s\n",
      "31:\tlearn: 0.1342864\ttotal: 32.8s\tremaining: 8.19s\n",
      "32:\tlearn: 0.1335265\ttotal: 33.8s\tremaining: 7.17s\n",
      "33:\tlearn: 0.1328540\ttotal: 34.9s\tremaining: 6.15s\n",
      "34:\tlearn: 0.1322283\ttotal: 35.9s\tremaining: 5.13s\n",
      "35:\tlearn: 0.1311417\ttotal: 36.8s\tremaining: 4.09s\n",
      "36:\tlearn: 0.1298520\ttotal: 37.8s\tremaining: 3.07s\n",
      "37:\tlearn: 0.1292299\ttotal: 38.8s\tremaining: 2.04s\n",
      "38:\tlearn: 0.1284995\ttotal: 39.7s\tremaining: 1.02s\n",
      "39:\tlearn: 0.1278758\ttotal: 40.6s\tremaining: 0us\n",
      "0:\tlearn: 0.2791121\ttotal: 1.33s\tremaining: 51.8s\n",
      "1:\tlearn: 0.2401441\ttotal: 2.5s\tremaining: 47.5s\n",
      "2:\tlearn: 0.2194558\ttotal: 3.53s\tremaining: 43.5s\n",
      "3:\tlearn: 0.2075704\ttotal: 4.5s\tremaining: 40.5s\n",
      "4:\tlearn: 0.1970677\ttotal: 5.45s\tremaining: 38.2s\n",
      "5:\tlearn: 0.1909850\ttotal: 6.39s\tremaining: 36.2s\n",
      "6:\tlearn: 0.1860001\ttotal: 7.32s\tremaining: 34.5s\n",
      "7:\tlearn: 0.1793608\ttotal: 8.28s\tremaining: 33.1s\n",
      "8:\tlearn: 0.1749241\ttotal: 9.21s\tremaining: 31.7s\n",
      "9:\tlearn: 0.1715828\ttotal: 10.1s\tremaining: 30.4s\n",
      "10:\tlearn: 0.1685341\ttotal: 11.1s\tremaining: 29.2s\n",
      "11:\tlearn: 0.1654584\ttotal: 12s\tremaining: 28s\n",
      "12:\tlearn: 0.1626227\ttotal: 12.9s\tremaining: 26.9s\n",
      "13:\tlearn: 0.1595513\ttotal: 14s\tremaining: 25.9s\n",
      "14:\tlearn: 0.1574463\ttotal: 14.9s\tremaining: 24.8s\n",
      "15:\tlearn: 0.1553483\ttotal: 15.8s\tremaining: 23.7s\n",
      "16:\tlearn: 0.1534884\ttotal: 16.8s\tremaining: 22.8s\n",
      "17:\tlearn: 0.1518260\ttotal: 17.8s\tremaining: 21.7s\n",
      "18:\tlearn: 0.1501231\ttotal: 18.7s\tremaining: 20.7s\n",
      "19:\tlearn: 0.1488028\ttotal: 19.7s\tremaining: 19.7s\n",
      "20:\tlearn: 0.1472680\ttotal: 20.6s\tremaining: 18.7s\n",
      "21:\tlearn: 0.1451167\ttotal: 21.6s\tremaining: 17.6s\n",
      "22:\tlearn: 0.1436178\ttotal: 22.5s\tremaining: 16.6s\n",
      "23:\tlearn: 0.1426712\ttotal: 23.4s\tremaining: 15.6s\n",
      "24:\tlearn: 0.1408778\ttotal: 24.4s\tremaining: 14.7s\n",
      "25:\tlearn: 0.1396724\ttotal: 25.4s\tremaining: 13.7s\n",
      "26:\tlearn: 0.1382963\ttotal: 26.4s\tremaining: 12.7s\n",
      "27:\tlearn: 0.1375726\ttotal: 27.4s\tremaining: 11.7s\n",
      "28:\tlearn: 0.1365831\ttotal: 28.3s\tremaining: 10.7s\n",
      "29:\tlearn: 0.1358624\ttotal: 29.2s\tremaining: 9.73s\n",
      "30:\tlearn: 0.1346870\ttotal: 30.1s\tremaining: 8.75s\n",
      "31:\tlearn: 0.1339024\ttotal: 31.1s\tremaining: 7.76s\n",
      "32:\tlearn: 0.1330583\ttotal: 32s\tremaining: 6.79s\n",
      "33:\tlearn: 0.1324503\ttotal: 32.9s\tremaining: 5.81s\n",
      "34:\tlearn: 0.1318573\ttotal: 33.9s\tremaining: 4.84s\n",
      "35:\tlearn: 0.1313423\ttotal: 34.8s\tremaining: 3.87s\n",
      "36:\tlearn: 0.1302951\ttotal: 35.8s\tremaining: 2.9s\n",
      "37:\tlearn: 0.1293767\ttotal: 36.7s\tremaining: 1.93s\n",
      "38:\tlearn: 0.1288417\ttotal: 37.6s\tremaining: 965ms\n",
      "39:\tlearn: 0.1282685\ttotal: 38.5s\tremaining: 0us\n",
      "0:\tlearn: 0.2713731\ttotal: 1.28s\tremaining: 49.8s\n",
      "1:\tlearn: 0.2371289\ttotal: 2.3s\tremaining: 43.8s\n",
      "2:\tlearn: 0.2208084\ttotal: 3.29s\tremaining: 40.6s\n",
      "3:\tlearn: 0.2099326\ttotal: 4.28s\tremaining: 38.5s\n",
      "4:\tlearn: 0.1985922\ttotal: 5.27s\tremaining: 36.9s\n",
      "5:\tlearn: 0.1927999\ttotal: 6.29s\tremaining: 35.6s\n",
      "6:\tlearn: 0.1872349\ttotal: 7.27s\tremaining: 34.3s\n",
      "7:\tlearn: 0.1796741\ttotal: 8.35s\tremaining: 33.4s\n",
      "8:\tlearn: 0.1760158\ttotal: 9.41s\tremaining: 32.4s\n",
      "9:\tlearn: 0.1727912\ttotal: 10.4s\tremaining: 31.3s\n",
      "10:\tlearn: 0.1692754\ttotal: 11.6s\tremaining: 30.7s\n",
      "11:\tlearn: 0.1661992\ttotal: 12.7s\tremaining: 29.5s\n",
      "12:\tlearn: 0.1638073\ttotal: 13.7s\tremaining: 28.4s\n",
      "13:\tlearn: 0.1615649\ttotal: 14.7s\tremaining: 27.2s\n",
      "14:\tlearn: 0.1593603\ttotal: 15.6s\tremaining: 26s\n",
      "15:\tlearn: 0.1566955\ttotal: 16.6s\tremaining: 24.9s\n",
      "16:\tlearn: 0.1549017\ttotal: 17.6s\tremaining: 23.7s\n",
      "17:\tlearn: 0.1523000\ttotal: 18.5s\tremaining: 22.6s\n",
      "18:\tlearn: 0.1510241\ttotal: 19.5s\tremaining: 21.6s\n",
      "19:\tlearn: 0.1494849\ttotal: 20.5s\tremaining: 20.5s\n",
      "20:\tlearn: 0.1477384\ttotal: 21.5s\tremaining: 19.5s\n",
      "21:\tlearn: 0.1464859\ttotal: 22.5s\tremaining: 18.4s\n",
      "22:\tlearn: 0.1453627\ttotal: 23.4s\tremaining: 17.3s\n",
      "23:\tlearn: 0.1443391\ttotal: 24.4s\tremaining: 16.3s\n",
      "24:\tlearn: 0.1435274\ttotal: 25.4s\tremaining: 15.2s\n",
      "25:\tlearn: 0.1419920\ttotal: 26.4s\tremaining: 14.2s\n",
      "26:\tlearn: 0.1407539\ttotal: 27.3s\tremaining: 13.1s\n",
      "27:\tlearn: 0.1399908\ttotal: 28.3s\tremaining: 12.1s\n",
      "28:\tlearn: 0.1389637\ttotal: 29.2s\tremaining: 11.1s\n",
      "29:\tlearn: 0.1382601\ttotal: 30.2s\tremaining: 10.1s\n",
      "30:\tlearn: 0.1370962\ttotal: 31.1s\tremaining: 9.04s\n",
      "31:\tlearn: 0.1358251\ttotal: 32.2s\tremaining: 8.05s\n",
      "32:\tlearn: 0.1352549\ttotal: 33.1s\tremaining: 7.03s\n",
      "33:\tlearn: 0.1344160\ttotal: 34.1s\tremaining: 6.02s\n",
      "34:\tlearn: 0.1331966\ttotal: 35.1s\tremaining: 5.01s\n",
      "35:\tlearn: 0.1325966\ttotal: 36s\tremaining: 4s\n",
      "36:\tlearn: 0.1315178\ttotal: 37s\tremaining: 3s\n",
      "37:\tlearn: 0.1305085\ttotal: 38s\tremaining: 2s\n",
      "38:\tlearn: 0.1295356\ttotal: 39s\tremaining: 1s\n",
      "39:\tlearn: 0.1289206\ttotal: 40s\tremaining: 0us\n",
      "0:\tlearn: 0.2625970\ttotal: 1.99s\tremaining: 1m 17s\n",
      "1:\tlearn: 0.2331027\ttotal: 4.21s\tremaining: 1m 20s\n",
      "2:\tlearn: 0.2178306\ttotal: 5.74s\tremaining: 1m 10s\n",
      "3:\tlearn: 0.2046657\ttotal: 7.12s\tremaining: 1m 4s\n",
      "4:\tlearn: 0.1967849\ttotal: 8.52s\tremaining: 59.6s\n",
      "5:\tlearn: 0.1905300\ttotal: 9.87s\tremaining: 55.9s\n",
      "6:\tlearn: 0.1846486\ttotal: 11.2s\tremaining: 53s\n",
      "7:\tlearn: 0.1796960\ttotal: 12.6s\tremaining: 50.3s\n",
      "8:\tlearn: 0.1757913\ttotal: 13.9s\tremaining: 47.8s\n",
      "9:\tlearn: 0.1714862\ttotal: 15.3s\tremaining: 45.8s\n",
      "10:\tlearn: 0.1680889\ttotal: 16.6s\tremaining: 43.7s\n",
      "11:\tlearn: 0.1651391\ttotal: 18s\tremaining: 42s\n",
      "12:\tlearn: 0.1627564\ttotal: 19.5s\tremaining: 40.5s\n",
      "13:\tlearn: 0.1605342\ttotal: 20.8s\tremaining: 38.6s\n",
      "14:\tlearn: 0.1578222\ttotal: 22.2s\tremaining: 37s\n",
      "15:\tlearn: 0.1561417\ttotal: 23.5s\tremaining: 35.3s\n",
      "16:\tlearn: 0.1544021\ttotal: 24.8s\tremaining: 33.6s\n",
      "17:\tlearn: 0.1527434\ttotal: 26.1s\tremaining: 31.9s\n",
      "18:\tlearn: 0.1508950\ttotal: 27.5s\tremaining: 30.4s\n",
      "19:\tlearn: 0.1494505\ttotal: 28.9s\tremaining: 28.9s\n",
      "20:\tlearn: 0.1481610\ttotal: 30.2s\tremaining: 27.4s\n",
      "21:\tlearn: 0.1469046\ttotal: 31.6s\tremaining: 25.8s\n",
      "22:\tlearn: 0.1458557\ttotal: 32.9s\tremaining: 24.3s\n",
      "23:\tlearn: 0.1447038\ttotal: 34.3s\tremaining: 22.8s\n",
      "24:\tlearn: 0.1433749\ttotal: 35.8s\tremaining: 21.5s\n",
      "25:\tlearn: 0.1426583\ttotal: 37.2s\tremaining: 20s\n",
      "26:\tlearn: 0.1418932\ttotal: 38.8s\tremaining: 18.7s\n",
      "27:\tlearn: 0.1408464\ttotal: 40.3s\tremaining: 17.3s\n",
      "28:\tlearn: 0.1395335\ttotal: 41.7s\tremaining: 15.8s\n",
      "29:\tlearn: 0.1381381\ttotal: 43s\tremaining: 14.3s\n",
      "30:\tlearn: 0.1368861\ttotal: 44.5s\tremaining: 12.9s\n",
      "31:\tlearn: 0.1358766\ttotal: 45.9s\tremaining: 11.5s\n",
      "32:\tlearn: 0.1353003\ttotal: 47.2s\tremaining: 10s\n",
      "33:\tlearn: 0.1346032\ttotal: 48.5s\tremaining: 8.55s\n",
      "34:\tlearn: 0.1340393\ttotal: 49.9s\tremaining: 7.12s\n",
      "35:\tlearn: 0.1331977\ttotal: 51.4s\tremaining: 5.71s\n",
      "36:\tlearn: 0.1327306\ttotal: 52.7s\tremaining: 4.27s\n",
      "37:\tlearn: 0.1322745\ttotal: 54s\tremaining: 2.84s\n",
      "38:\tlearn: 0.1312750\ttotal: 55.2s\tremaining: 1.42s\n",
      "39:\tlearn: 0.1304393\ttotal: 56.5s\tremaining: 0us\n"
     ]
    },
    {
     "data": {
      "text/html": [
       "<style>#sk-container-id-2 {color: black;background-color: white;}#sk-container-id-2 pre{padding: 0;}#sk-container-id-2 div.sk-toggleable {background-color: white;}#sk-container-id-2 label.sk-toggleable__label {cursor: pointer;display: block;width: 100%;margin-bottom: 0;padding: 0.3em;box-sizing: border-box;text-align: center;}#sk-container-id-2 label.sk-toggleable__label-arrow:before {content: \"▸\";float: left;margin-right: 0.25em;color: #696969;}#sk-container-id-2 label.sk-toggleable__label-arrow:hover:before {color: black;}#sk-container-id-2 div.sk-estimator:hover label.sk-toggleable__label-arrow:before {color: black;}#sk-container-id-2 div.sk-toggleable__content {max-height: 0;max-width: 0;overflow: hidden;text-align: left;background-color: #f0f8ff;}#sk-container-id-2 div.sk-toggleable__content pre {margin: 0.2em;color: black;border-radius: 0.25em;background-color: #f0f8ff;}#sk-container-id-2 input.sk-toggleable__control:checked~div.sk-toggleable__content {max-height: 200px;max-width: 100%;overflow: auto;}#sk-container-id-2 input.sk-toggleable__control:checked~label.sk-toggleable__label-arrow:before {content: \"▾\";}#sk-container-id-2 div.sk-estimator input.sk-toggleable__control:checked~label.sk-toggleable__label {background-color: #d4ebff;}#sk-container-id-2 div.sk-label input.sk-toggleable__control:checked~label.sk-toggleable__label {background-color: #d4ebff;}#sk-container-id-2 input.sk-hidden--visually {border: 0;clip: rect(1px 1px 1px 1px);clip: rect(1px, 1px, 1px, 1px);height: 1px;margin: -1px;overflow: hidden;padding: 0;position: absolute;width: 1px;}#sk-container-id-2 div.sk-estimator {font-family: monospace;background-color: #f0f8ff;border: 1px dotted black;border-radius: 0.25em;box-sizing: border-box;margin-bottom: 0.5em;}#sk-container-id-2 div.sk-estimator:hover {background-color: #d4ebff;}#sk-container-id-2 div.sk-parallel-item::after {content: \"\";width: 100%;border-bottom: 1px solid gray;flex-grow: 1;}#sk-container-id-2 div.sk-label:hover label.sk-toggleable__label {background-color: #d4ebff;}#sk-container-id-2 div.sk-serial::before {content: \"\";position: absolute;border-left: 1px solid gray;box-sizing: border-box;top: 0;bottom: 0;left: 50%;z-index: 0;}#sk-container-id-2 div.sk-serial {display: flex;flex-direction: column;align-items: center;background-color: white;padding-right: 0.2em;padding-left: 0.2em;position: relative;}#sk-container-id-2 div.sk-item {position: relative;z-index: 1;}#sk-container-id-2 div.sk-parallel {display: flex;align-items: stretch;justify-content: center;background-color: white;position: relative;}#sk-container-id-2 div.sk-item::before, #sk-container-id-2 div.sk-parallel-item::before {content: \"\";position: absolute;border-left: 1px solid gray;box-sizing: border-box;top: 0;bottom: 0;left: 50%;z-index: -1;}#sk-container-id-2 div.sk-parallel-item {display: flex;flex-direction: column;z-index: 1;position: relative;background-color: white;}#sk-container-id-2 div.sk-parallel-item:first-child::after {align-self: flex-end;width: 50%;}#sk-container-id-2 div.sk-parallel-item:last-child::after {align-self: flex-start;width: 50%;}#sk-container-id-2 div.sk-parallel-item:only-child::after {width: 0;}#sk-container-id-2 div.sk-dashed-wrapped {border: 1px dashed gray;margin: 0 0.4em 0.5em 0.4em;box-sizing: border-box;padding-bottom: 0.4em;background-color: white;}#sk-container-id-2 div.sk-label label {font-family: monospace;font-weight: bold;display: inline-block;line-height: 1.2em;}#sk-container-id-2 div.sk-label-container {text-align: center;}#sk-container-id-2 div.sk-container {/* jupyter's `normalize.less` sets `[hidden] { display: none; }` but bootstrap.min.css set `[hidden] { display: none !important; }` so we also need the `!important` here to be able to override the default hidden behavior on the sphinx rendered scikit-learn.org. See: https://github.com/scikit-learn/scikit-learn/issues/21755 */display: inline-block !important;position: relative;}#sk-container-id-2 div.sk-text-repr-fallback {display: none;}</style><div id=\"sk-container-id-2\" class=\"sk-top-container\"><div class=\"sk-text-repr-fallback\"><pre>GridSearchCV(cv=3,\n",
       "             estimator=&lt;catboost.core.CatBoostClassifier object at 0x15cfe8280&gt;,\n",
       "             param_grid={&#x27;iterations&#x27;: [40],\n",
       "                         &#x27;learning_rate&#x27;: array([0.1, 0.3, 0.5, 0.7, 0.9])},\n",
       "             verbose=False)</pre><b>In a Jupyter environment, please rerun this cell to show the HTML representation or trust the notebook. <br />On GitHub, the HTML representation is unable to render, please try loading this page with nbviewer.org.</b></div><div class=\"sk-container\" hidden><div class=\"sk-item sk-dashed-wrapped\"><div class=\"sk-label-container\"><div class=\"sk-label sk-toggleable\"><input class=\"sk-toggleable__control sk-hidden--visually\" id=\"sk-estimator-id-4\" type=\"checkbox\" ><label for=\"sk-estimator-id-4\" class=\"sk-toggleable__label sk-toggleable__label-arrow\">GridSearchCV</label><div class=\"sk-toggleable__content\"><pre>GridSearchCV(cv=3,\n",
       "             estimator=&lt;catboost.core.CatBoostClassifier object at 0x15cfe8280&gt;,\n",
       "             param_grid={&#x27;iterations&#x27;: [40],\n",
       "                         &#x27;learning_rate&#x27;: array([0.1, 0.3, 0.5, 0.7, 0.9])},\n",
       "             verbose=False)</pre></div></div></div><div class=\"sk-parallel\"><div class=\"sk-parallel-item\"><div class=\"sk-item\"><div class=\"sk-label-container\"><div class=\"sk-label sk-toggleable\"><input class=\"sk-toggleable__control sk-hidden--visually\" id=\"sk-estimator-id-5\" type=\"checkbox\" ><label for=\"sk-estimator-id-5\" class=\"sk-toggleable__label sk-toggleable__label-arrow\">estimator: CatBoostClassifier</label><div class=\"sk-toggleable__content\"><pre>&lt;catboost.core.CatBoostClassifier object at 0x15cfe8280&gt;</pre></div></div></div><div class=\"sk-serial\"><div class=\"sk-item\"><div class=\"sk-estimator sk-toggleable\"><input class=\"sk-toggleable__control sk-hidden--visually\" id=\"sk-estimator-id-6\" type=\"checkbox\" ><label for=\"sk-estimator-id-6\" class=\"sk-toggleable__label sk-toggleable__label-arrow\">CatBoostClassifier</label><div class=\"sk-toggleable__content\"><pre>&lt;catboost.core.CatBoostClassifier object at 0x15cfe8280&gt;</pre></div></div></div></div></div></div></div></div></div></div>"
      ],
      "text/plain": [
       "GridSearchCV(cv=3,\n",
       "             estimator=<catboost.core.CatBoostClassifier object at 0x15cfe8280>,\n",
       "             param_grid={'iterations': [40],\n",
       "                         'learning_rate': array([0.1, 0.3, 0.5, 0.7, 0.9])},\n",
       "             verbose=False)"
      ]
     },
     "execution_count": 46,
     "metadata": {},
     "output_type": "execute_result"
    }
   ],
   "source": [
    "# initiatint the model\n",
    "catboost = CatBoostClassifier(random_seed=5,\n",
    "                              loss_function='Logloss')\n",
    "\n",
    "# preparing parameters to ask GridSearch, which contains cross validation\n",
    "parameters_cat = {'iterations':[40], \n",
    "                  'learning_rate': np.arange(0.1,1,0.2)}\n",
    "\n",
    "gsearch_catboost = GridSearchCV(catboost, \n",
    "                                param_grid=parameters_cat,\n",
    "                                cv=3,\n",
    "                                verbose=False)\n",
    "\n",
    "gsearch_catboost.fit(tf_idf_X_train, y_train)"
   ]
  },
  {
   "cell_type": "markdown",
   "id": "6fdd1e06",
   "metadata": {},
   "source": [
    "### 2.4 Gradient Boosting в модели \"мешка слова\" в классе TfidfVectorizer()"
   ]
  },
  {
   "cell_type": "code",
   "execution_count": 53,
   "id": "be494f5c",
   "metadata": {},
   "outputs": [],
   "source": [
    "from lightgbm import LGBMClassifier\n",
    "import lightgbm as lgb"
   ]
  },
  {
   "cell_type": "code",
   "execution_count": 54,
   "id": "37b4df5c",
   "metadata": {
    "scrolled": true
   },
   "outputs": [],
   "source": [
    "model = lgb.LGBMClassifier(random_state=5)"
   ]
  },
  {
   "cell_type": "code",
   "execution_count": 55,
   "id": "2f9f1482",
   "metadata": {},
   "outputs": [
    {
     "data": {
      "text/html": [
       "<style>#sk-container-id-3 {color: black;background-color: white;}#sk-container-id-3 pre{padding: 0;}#sk-container-id-3 div.sk-toggleable {background-color: white;}#sk-container-id-3 label.sk-toggleable__label {cursor: pointer;display: block;width: 100%;margin-bottom: 0;padding: 0.3em;box-sizing: border-box;text-align: center;}#sk-container-id-3 label.sk-toggleable__label-arrow:before {content: \"▸\";float: left;margin-right: 0.25em;color: #696969;}#sk-container-id-3 label.sk-toggleable__label-arrow:hover:before {color: black;}#sk-container-id-3 div.sk-estimator:hover label.sk-toggleable__label-arrow:before {color: black;}#sk-container-id-3 div.sk-toggleable__content {max-height: 0;max-width: 0;overflow: hidden;text-align: left;background-color: #f0f8ff;}#sk-container-id-3 div.sk-toggleable__content pre {margin: 0.2em;color: black;border-radius: 0.25em;background-color: #f0f8ff;}#sk-container-id-3 input.sk-toggleable__control:checked~div.sk-toggleable__content {max-height: 200px;max-width: 100%;overflow: auto;}#sk-container-id-3 input.sk-toggleable__control:checked~label.sk-toggleable__label-arrow:before {content: \"▾\";}#sk-container-id-3 div.sk-estimator input.sk-toggleable__control:checked~label.sk-toggleable__label {background-color: #d4ebff;}#sk-container-id-3 div.sk-label input.sk-toggleable__control:checked~label.sk-toggleable__label {background-color: #d4ebff;}#sk-container-id-3 input.sk-hidden--visually {border: 0;clip: rect(1px 1px 1px 1px);clip: rect(1px, 1px, 1px, 1px);height: 1px;margin: -1px;overflow: hidden;padding: 0;position: absolute;width: 1px;}#sk-container-id-3 div.sk-estimator {font-family: monospace;background-color: #f0f8ff;border: 1px dotted black;border-radius: 0.25em;box-sizing: border-box;margin-bottom: 0.5em;}#sk-container-id-3 div.sk-estimator:hover {background-color: #d4ebff;}#sk-container-id-3 div.sk-parallel-item::after {content: \"\";width: 100%;border-bottom: 1px solid gray;flex-grow: 1;}#sk-container-id-3 div.sk-label:hover label.sk-toggleable__label {background-color: #d4ebff;}#sk-container-id-3 div.sk-serial::before {content: \"\";position: absolute;border-left: 1px solid gray;box-sizing: border-box;top: 0;bottom: 0;left: 50%;z-index: 0;}#sk-container-id-3 div.sk-serial {display: flex;flex-direction: column;align-items: center;background-color: white;padding-right: 0.2em;padding-left: 0.2em;position: relative;}#sk-container-id-3 div.sk-item {position: relative;z-index: 1;}#sk-container-id-3 div.sk-parallel {display: flex;align-items: stretch;justify-content: center;background-color: white;position: relative;}#sk-container-id-3 div.sk-item::before, #sk-container-id-3 div.sk-parallel-item::before {content: \"\";position: absolute;border-left: 1px solid gray;box-sizing: border-box;top: 0;bottom: 0;left: 50%;z-index: -1;}#sk-container-id-3 div.sk-parallel-item {display: flex;flex-direction: column;z-index: 1;position: relative;background-color: white;}#sk-container-id-3 div.sk-parallel-item:first-child::after {align-self: flex-end;width: 50%;}#sk-container-id-3 div.sk-parallel-item:last-child::after {align-self: flex-start;width: 50%;}#sk-container-id-3 div.sk-parallel-item:only-child::after {width: 0;}#sk-container-id-3 div.sk-dashed-wrapped {border: 1px dashed gray;margin: 0 0.4em 0.5em 0.4em;box-sizing: border-box;padding-bottom: 0.4em;background-color: white;}#sk-container-id-3 div.sk-label label {font-family: monospace;font-weight: bold;display: inline-block;line-height: 1.2em;}#sk-container-id-3 div.sk-label-container {text-align: center;}#sk-container-id-3 div.sk-container {/* jupyter's `normalize.less` sets `[hidden] { display: none; }` but bootstrap.min.css set `[hidden] { display: none !important; }` so we also need the `!important` here to be able to override the default hidden behavior on the sphinx rendered scikit-learn.org. See: https://github.com/scikit-learn/scikit-learn/issues/21755 */display: inline-block !important;position: relative;}#sk-container-id-3 div.sk-text-repr-fallback {display: none;}</style><div id=\"sk-container-id-3\" class=\"sk-top-container\"><div class=\"sk-text-repr-fallback\"><pre>GridSearchCV(cv=3, estimator=LGBMClassifier(random_state=5),\n",
       "             param_grid={&#x27;learning_rate&#x27;: [0.05, 0.1], &#x27;max_depth&#x27;: [-1],\n",
       "                         &#x27;n_estimators&#x27;: [50, 100], &#x27;verbose&#x27;: [-1]})</pre><b>In a Jupyter environment, please rerun this cell to show the HTML representation or trust the notebook. <br />On GitHub, the HTML representation is unable to render, please try loading this page with nbviewer.org.</b></div><div class=\"sk-container\" hidden><div class=\"sk-item sk-dashed-wrapped\"><div class=\"sk-label-container\"><div class=\"sk-label sk-toggleable\"><input class=\"sk-toggleable__control sk-hidden--visually\" id=\"sk-estimator-id-7\" type=\"checkbox\" ><label for=\"sk-estimator-id-7\" class=\"sk-toggleable__label sk-toggleable__label-arrow\">GridSearchCV</label><div class=\"sk-toggleable__content\"><pre>GridSearchCV(cv=3, estimator=LGBMClassifier(random_state=5),\n",
       "             param_grid={&#x27;learning_rate&#x27;: [0.05, 0.1], &#x27;max_depth&#x27;: [-1],\n",
       "                         &#x27;n_estimators&#x27;: [50, 100], &#x27;verbose&#x27;: [-1]})</pre></div></div></div><div class=\"sk-parallel\"><div class=\"sk-parallel-item\"><div class=\"sk-item\"><div class=\"sk-label-container\"><div class=\"sk-label sk-toggleable\"><input class=\"sk-toggleable__control sk-hidden--visually\" id=\"sk-estimator-id-8\" type=\"checkbox\" ><label for=\"sk-estimator-id-8\" class=\"sk-toggleable__label sk-toggleable__label-arrow\">estimator: LGBMClassifier</label><div class=\"sk-toggleable__content\"><pre>LGBMClassifier(random_state=5)</pre></div></div></div><div class=\"sk-serial\"><div class=\"sk-item\"><div class=\"sk-estimator sk-toggleable\"><input class=\"sk-toggleable__control sk-hidden--visually\" id=\"sk-estimator-id-9\" type=\"checkbox\" ><label for=\"sk-estimator-id-9\" class=\"sk-toggleable__label sk-toggleable__label-arrow\">LGBMClassifier</label><div class=\"sk-toggleable__content\"><pre>LGBMClassifier(random_state=5)</pre></div></div></div></div></div></div></div></div></div></div>"
      ],
      "text/plain": [
       "GridSearchCV(cv=3, estimator=LGBMClassifier(random_state=5),\n",
       "             param_grid={'learning_rate': [0.05, 0.1], 'max_depth': [-1],\n",
       "                         'n_estimators': [50, 100], 'verbose': [-1]})"
      ]
     },
     "execution_count": 55,
     "metadata": {},
     "output_type": "execute_result"
    }
   ],
   "source": [
    "params_LGBMClassifier = {    \n",
    "    \n",
    "    'n_estimators': [50, 100], \n",
    "    'learning_rate': [0.05, 0.1], \n",
    "    'verbose' : [-1],\n",
    "#     'boosting_type' : ['gbdt'],\n",
    "#     'num_leaves': [100],\n",
    "    'max_depth' : [-1],\n",
    "#     'min_split_gain' : [0.0],\n",
    "#     'min_child_samples' : [20],\n",
    "#     'subsample' : [1.0],\n",
    "#     'subsample_freq' : [0],\n",
    "#     'colsample_bytree': [1.0],\n",
    "#     'reg_alpha' : [0.0],\n",
    "#     'reg_lambda' : [0.0],\n",
    "#     'random_state' : [5],\n",
    "#     'silent' : [True]\n",
    "}\n",
    "\n",
    "LGBMClassifier_gsearch = GridSearchCV(estimator=model, \n",
    "                                     cv=3, \n",
    "                                     param_grid=params_LGBMClassifier)\n",
    "\n",
    "LGBMClassifier_gsearch.fit(tf_idf_X_train, y_train)"
   ]
  },
  {
   "cell_type": "markdown",
   "id": "982c915b",
   "metadata": {},
   "source": [
    "### 2.5 Сравним модели"
   ]
  },
  {
   "cell_type": "code",
   "execution_count": 77,
   "id": "60bf0306",
   "metadata": {},
   "outputs": [
    {
     "name": "stdout",
     "output_type": "stream",
     "text": [
      "Best score Logistic Regression CountVectorizer: 0.96\n",
      "F1-score Logistic Regression CountVectorizer: 0.48\n"
     ]
    }
   ],
   "source": [
    "# Logistic Regression CountVectorizer\n",
    "best_score_vect = round(logreg_grid.best_score_, 2)\n",
    "print(\"Best score Logistic Regression CountVectorizer: {:.2f}\".format(best_score_vect))\n",
    "\n",
    "f1_logreg_vect = round(f1_score(logreg_grid.predict(tf_idf_X_train), y_train), 2)\n",
    "print(\"F1-score Logistic Regression CountVectorizer: {:.2f}\".format(f1_logreg_vect))"
   ]
  },
  {
   "cell_type": "code",
   "execution_count": 82,
   "id": "ef87e95b",
   "metadata": {
    "scrolled": true
   },
   "outputs": [
    {
     "name": "stdout",
     "output_type": "stream",
     "text": [
      "Best score Logistic Regression (TF-IDF): 0.96\n",
      "F1-score Logistic Regression CountVectorizer: 0.91\n"
     ]
    }
   ],
   "source": [
    "# Logistic Regression TF-IDF\n",
    "best_score_tfidf = round(grid.best_score_, 2)\n",
    "print('Best score Logistic Regression (TF-IDF): {:.2f}'.format(best_score_tfidf))\n",
    "\n",
    "f1_logreg_tfidf = round(f1_score(grid.predict(tf_idf_X_train), y_train), 2)\n",
    "print(\"F1-score Logistic Regression CountVectorizer: {:.2f}\".format(f1_logreg_tfidf))"
   ]
  },
  {
   "cell_type": "code",
   "execution_count": 79,
   "id": "9a4ca4fa",
   "metadata": {
    "scrolled": true
   },
   "outputs": [
    {
     "name": "stdout",
     "output_type": "stream",
     "text": [
      "Best score CatBoostClassifier (TF-IDF): 0.95\n",
      "F1-score Logistic Regression CountVectorizer: 0.77\n"
     ]
    }
   ],
   "source": [
    "# CatBoost\n",
    "best_score_catboost = round(gsearch_catboost.best_score_, 2)\n",
    "print('Best score CatBoostClassifier (TF-IDF): {}'.format(best_score_catboost))\n",
    "\n",
    "f1_catboost = round(f1_score(gsearch_catboost.predict(tf_idf_X_train), y_train), 2)\n",
    "print(\"F1-score Logistic Regression CountVectorizer: {:.2f}\".format(f1_catboost))"
   ]
  },
  {
   "cell_type": "code",
   "execution_count": 80,
   "id": "c414752e",
   "metadata": {},
   "outputs": [
    {
     "name": "stdout",
     "output_type": "stream",
     "text": [
      "Best score LGBMClassifier (TF-IDF): 0.96\n",
      "F1-score Logistic Regression CountVectorizer: 0.78\n"
     ]
    }
   ],
   "source": [
    "# LGBMClassifier\n",
    "best_score_LGBM = round(LGBMClassifier_gsearch.best_score_, 2)\n",
    "print('Best score LGBMClassifier (TF-IDF): {}'.format(best_score_LGBM))\n",
    "\n",
    "f1_lgbm = round(f1_score(LGBMClassifier_gsearch.predict(tf_idf_X_train), y_train), 2)\n",
    "print(\"F1-score Logistic Regression CountVectorizer: {:.2f}\".format(f1_lgbm))"
   ]
  },
  {
   "cell_type": "code",
   "execution_count": 87,
   "id": "40ee49ee",
   "metadata": {},
   "outputs": [
    {
     "data": {
      "image/png": "[encoded data removed]",
      "text/plain": [
       "<Figure size 1900x600 with 1 Axes>"
      ]
     },
     "metadata": {},
     "output_type": "display_data"
    }
   ],
   "source": [
    "# Generate F1-score plots\n",
    "\n",
    "plt.rcParams.update({'font.size': 17, \n",
    "                     'text.color' : 'black', \n",
    "                     'axes.labelcolor' : \"blue\"})\n",
    "# plt.rcParams.update({'axes.titlesize': 'large'})\n",
    "fig, ax = plt.subplots(figsize=(19, 6))\n",
    "\n",
    "x = ['Logistic Regression (Count)', \n",
    "     'Logistic Regression (TF-IDF)', \n",
    "     'Cat Boost (TF-IDF)',\n",
    "    'LightGBM (TF-IDF)']\n",
    "\n",
    "y = [f1_logreg_vect, \n",
    "     f1_logreg_tfidf, \n",
    "     f1_catboost,\n",
    "     f1_lgbm]\n",
    "\n",
    "ax.bar(x, y, width=0.4, color='#008B8B')\n",
    "ax.set_title('F1-score for each ML algorithm (train data)', fontsize=18)\n",
    "ax.set_xlabel('Classification Models', fontsize=18)\n",
    "ax.set_ylabel('F1-score', fontsize=18)\n",
    "ax.set_ylim(0, 1.1)\n",
    "\n",
    "for index, value in enumerate(y):\n",
    "    plt.text(x=index, y=value + 0.05, s=str(value), ha='center')\n",
    "    \n",
    "plt.tight_layout();"
   ]
  },
  {
   "cell_type": "markdown",
   "id": "43a8fe3a",
   "metadata": {},
   "source": [
    "###  Вывод: Максимальное значение F1-меры приходится на модель логистической регрессии, примененной к модели TF-IDF (F1-score = 0.91). \n",
    "\n",
    "Протестируем данный алгоритм на тестовой выборке."
   ]
  },
  {
   "cell_type": "markdown",
   "id": "674c548a",
   "metadata": {},
   "source": [
    "## 3 Выводы"
   ]
  },
  {
   "cell_type": "code",
   "execution_count": 84,
   "id": "5929322b",
   "metadata": {},
   "outputs": [
    {
     "name": "stdout",
     "output_type": "stream",
     "text": [
      "F1-score Logistic Regression CountVectorizer (test data): 0.78\n"
     ]
    }
   ],
   "source": [
    "# Logistic Regression TF-IDF\n",
    "f1_logreg_tfidf_test = round(f1_score(grid.predict(tf_idf_X_test), y_test), 2)\n",
    "print(\"F1-score Logistic Regression CountVectorizer (test data): {:.2f}\".format(f1_logreg_tfidf_test))"
   ]
  },
  {
   "cell_type": "markdown",
   "id": "6c2fe3a0",
   "metadata": {},
   "source": [
    "### Вывод: Наилучшая модель классификации текста - это логистическая регрессия с максимальным значением F1-меры."
   ]
  },
  {
   "cell_type": "markdown",
   "id": "4771856b",
   "metadata": {},
   "source": [
    "- [x]  Jupyter Notebook открыт\n",
    "- [ ]  Весь код выполняется без ошибок\n",
    "- [ ]  Ячейки с кодом расположены в порядке исполнения\n",
    "- [ ]  Данные загружены и подготовлены\n",
    "- [ ]  Модели обучены\n",
    "- [ ]  Значение метрики *F1* не меньше 0.75\n",
    "- [ ]  Выводы написаны"
   ]
  },
  {
   "cell_type": "markdown",
   "id": "cf8fde8a",
   "metadata": {},
   "source": [
    "***Thank you for going through this project. Your comments are more then welcome to ybezginova2021@gmail.com***\n",
    "\n",
    "***Best wishes,***\n",
    "\n",
    "***Yulia***"
   ]
  }
 ],
 "metadata": {
  "kernelspec": {
   "display_name": "Python 3 (ipykernel)",
   "language": "python",
   "name": "python3"
  },
  "language_info": {
   "codemirror_mode": {
    "name": "ipython",
    "version": 3
   },
   "file_extension": ".py",
   "mimetype": "text/x-python",
   "name": "python",
   "nbconvert_exporter": "python",
   "pygments_lexer": "ipython3",
   "version": "3.10.8"
  }
 },
 "nbformat": 4,
 "nbformat_minor": 5
}
