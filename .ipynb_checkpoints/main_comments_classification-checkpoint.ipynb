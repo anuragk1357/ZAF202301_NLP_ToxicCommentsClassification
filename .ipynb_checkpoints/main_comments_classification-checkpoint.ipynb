{
 "cells": [
  {
   "cell_type": "markdown",
   "id": "7b003554",
   "metadata": {},
   "source": [
    "<h1>Contents<span class=\"tocSkip\"></span></h1>\n",
    "<div class=\"toc\"><ul class=\"toc-item\"><li><span><a href=\"#Подготовка\" data-toc-modified-id=\"Подготовка-1\"><span class=\"toc-item-num\">1&nbsp;&nbsp;</span>Dara Loading and Preprocessing</a></span></li><li><span><a href=\"#Обучение\" data-toc-modified-id=\"Обучение-2\"><span class=\"toc-item-num\">2&nbsp;&nbsp;</span>Training</a></span></li><li><span><a href=\"#Выводы\" data-toc-modified-id=\"Выводы-3\"><span class=\"toc-item-num\">3&nbsp;&nbsp;</span>Conclustions</a></span></li><li><span><a href=\"#Чек-лист-проверки\" data-toc-modified-id=\"Чек-лист-проверки-4\"><span class=\"toc-item-num\">4&nbsp;&nbsp;</span>Чек-лист проверки</a></span></li></ul></div>"
   ]
  },
  {
   "cell_type": "markdown",
   "id": "8d0eb7e0",
   "metadata": {},
   "source": [
    "# 01 - ***ML for Texts*** - Project for WikiShop\n",
    "\n",
    "[Nice reading about BERT](https://docs.deeppavlov.ai/en/master/features/models/bert.html)\n",
    "\n",
    "BERT (Bidirectional Encoder Representations from Transformers) is a Transformer pre-trained on masked language model and next sentence prediction tasks. This approach showed state-of-the-art results on a wide range of NLP tasks in English."
   ]
  },
  {
   "cell_type": "markdown",
   "id": "dece3c66",
   "metadata": {},
   "source": [
    "### Project Goal\n",
    "The project goal is a binary text classification using BERT model.\n",
    "\n",
    "Интернет-магазин «Викишоп» запускает новый сервис. Теперь пользователи могут редактировать и дополнять описания товаров, как в вики-сообществах. То есть клиенты предлагают свои правки и комментируют изменения других. Магазину нужен инструмент, который будет искать токсичные комментарии и отправлять их на модерацию. \n",
    "\n",
    "Обучите модель классифицировать комментарии на позитивные и негативные. В вашем распоряжении набор данных с разметкой о токсичности правок.\n",
    "\n",
    "Постройте модель со значением метрики качества *F1* не меньше 0.75. \n",
    "\n",
    "### Инструкция по выполнению проекта\n",
    "\n",
    "1. Загрузить и подготовить данные.\n",
    "2. Обучить разные модели. \n",
    "3. Сделать выводы.\n",
    "\n",
    "### Описание данных\n",
    "\n",
    "Столбец *text* в нём содержит текст комментария, а *toxic* — целевой признак.\n",
    "\n",
    "<font color=blue>\n",
    "<b> Полезные ссылки по машинному обучению для текстов</b>\n",
    "    \n",
    "Основы Natural Language Processing для текста  — https://habr.com/ru/company/Voximplant/blog/446738/\n",
    "    \n",
    "Интересная статья в общем по NLP — https://habr.com/ru/company/oleg-bunin/blog/352614/\n",
    "    \n",
    "BERT, ELMO и Ко в картинках (как в NLP пришло трансферное обучение) — https://habr.com/ru/post/487358/\n",
    "    \n",
    "В частности, BERT является довольно популярной моделью. Вот еще информация по этой модели:\n",
    "    \n",
    "https://habr.com/ru/post/436878/\n",
    "    \n",
    "http://jalammar.github.io/illustrated-bert/; https://huggingface.co/docs/transformers/model_doc/bert\n",
    "    \n",
    "И другие ссылки: \n",
    "    \n",
    "http://jalammar.github.io/illustrated-word2vec/\n",
    "    \n",
    "https://colah.github.io/posts/2015-08-Understanding-LSTMs/\n",
    "    \n",
    "http://jalammar.github.io/illustrated-transformer/\n",
    "    \n",
    "https://colab.research.google.com/drive/1SBha91u6142pW5mSiQOOjJWCCSAFj4HI?usp=sharing    \n",
    " \n",
    "</font>   "
   ]
  },
  {
   "cell_type": "code",
   "execution_count": 75,
   "id": "654e9b56",
   "metadata": {
    "scrolled": true
   },
   "outputs": [
    {
     "name": "stdout",
     "output_type": "stream",
     "text": [
      "\r\n",
      "\u001b[1m[\u001b[0m\u001b[34;49mnotice\u001b[0m\u001b[1;39;49m]\u001b[0m\u001b[39;49m A new release of pip available: \u001b[0m\u001b[31;49m22.2.2\u001b[0m\u001b[39;49m -> \u001b[0m\u001b[32;49m22.3.1\u001b[0m\r\n",
      "\u001b[1m[\u001b[0m\u001b[34;49mnotice\u001b[0m\u001b[1;39;49m]\u001b[0m\u001b[39;49m To update, run: \u001b[0m\u001b[32;49m/usr/local/opt/python@3.10/bin/python3.10 -m pip install --upgrade pip\u001b[0m\r\n"
     ]
    }
   ],
   "source": [
    "!pip3 install -q transformers"
   ]
  },
  {
   "cell_type": "code",
   "execution_count": 2,
   "id": "9364e85c",
   "metadata": {
    "scrolled": false
   },
   "outputs": [
    {
     "name": "stdout",
     "output_type": "stream",
     "text": [
      "shell-init: error retrieving current directory: getcwd: cannot access parent directories: Operation not permitted\n",
      "Traceback (most recent call last):\n",
      "  File \"/usr/local/Cellar/python@3.10/3.10.8/Frameworks/Python.framework/Versions/3.10/lib/python3.10/runpy.py\", line 196, in _run_module_as_main\n",
      "    return _run_code(code, main_globals, None,\n",
      "  File \"/usr/local/Cellar/python@3.10/3.10.8/Frameworks/Python.framework/Versions/3.10/lib/python3.10/runpy.py\", line 86, in _run_code\n",
      "    exec(code, run_globals)\n",
      "  File \"/usr/local/Cellar/jupyterlab/3.4.8/libexec/lib/python3.10/site-packages/pip/__main__.py\", line 9, in <module>\n",
      "    if sys.path[0] in (\"\", os.getcwd()):\n",
      "PermissionError: [Errno 1] Operation not permitted\n",
      "shell-init: error retrieving current directory: getcwd: cannot access parent directories: Operation not permitted\n",
      "2022-11-30 20:54:17.459138: I tensorflow/core/platform/cpu_feature_guard.cc:193] This TensorFlow binary is optimized with oneAPI Deep Neural Network Library (oneDNN) to use the following CPU instructions in performance-critical operations:  AVX2 FMA\n",
      "To enable them in other operations, rebuild TensorFlow with the appropriate compiler flags.\n",
      "Traceback (most recent call last):\n",
      "  File \"/usr/local/Cellar/python@3.10/3.10.8/Frameworks/Python.framework/Versions/3.10/lib/python3.10/runpy.py\", line 187, in _run_module_as_main\n",
      "    mod_name, mod_spec, code = _get_module_details(mod_name, _Error)\n",
      "  File \"/usr/local/Cellar/python@3.10/3.10.8/Frameworks/Python.framework/Versions/3.10/lib/python3.10/runpy.py\", line 146, in _get_module_details\n",
      "    return _get_module_details(pkg_main_name, error)\n",
      "  File \"/usr/local/Cellar/python@3.10/3.10.8/Frameworks/Python.framework/Versions/3.10/lib/python3.10/runpy.py\", line 110, in _get_module_details\n",
      "    __import__(pkg_name)\n",
      "  File \"/usr/local/Cellar/jupyterlab/3.4.8/libexec/lib/python3.10/site-packages/spacy/__init__.py\", line 15, in <module>\n",
      "    from .cli.info import info  # noqa: F401\n",
      "  File \"/usr/local/Cellar/jupyterlab/3.4.8/libexec/lib/python3.10/site-packages/spacy/cli/__init__.py\", line 24, in <module>\n",
      "    from .project.assets import project_assets  # noqa: F401\n",
      "  File \"/usr/local/Cellar/jupyterlab/3.4.8/libexec/lib/python3.10/site-packages/spacy/cli/project/assets.py\", line 26, in <module>\n",
      "    project_dir: Path = Arg(Path.cwd(), help=\"Path to cloned project. Defaults to current working directory.\", exists=True, file_okay=False),\n",
      "  File \"/usr/local/Cellar/python@3.10/3.10.8/Frameworks/Python.framework/Versions/3.10/lib/python3.10/pathlib.py\", line 993, in cwd\n",
      "    return cls(cls._accessor.getcwd())\n",
      "PermissionError: [Errno 1] Operation not permitted\n"
     ]
    }
   ],
   "source": [
    "import sys\n",
    "!{sys.executable} -m pip install spacy -q\n",
    "!{sys.executable} -m spacy download en_core_web_sm -q"
   ]
  },
  {
   "cell_type": "code",
   "execution_count": 82,
   "id": "7105cb30",
   "metadata": {},
   "outputs": [],
   "source": [
    "# 1 - импорты из стандартной библиотеки\n",
    "import lightgbm as lgb\n",
    "import matplotlib.pyplot as plt\n",
    "import nltk\n",
    "import numpy as np\n",
    "import pandas as pd\n",
    "import numpy as np\n",
    "import pandas as pd\n",
    "import re\n",
    "import torch\n",
    "import transformers\n",
    "import warnings\n",
    "\n",
    "# 2 - импорты сторонних библиотек\n",
    "from catboost import CatBoostClassifier\n",
    "from nltk.corpus import stopwords as nltk_stopwords\n",
    "from nltk.stem.wordnet import WordNetLemmatizer\n",
    "from sklearn.metrics import confusion_matrix\n",
    "from sklearn.metrics import f1_score\n",
    "from sklearn.metrics import make_scorer\n",
    "from sklearn.feature_extraction.text import CountVectorizer\n",
    "from sklearn.feature_extraction.text import TfidfVectorizer\n",
    "from sklearn.model_selection import train_test_split\n",
    "from sklearn.linear_model import LogisticRegression\n",
    "from sklearn.model_selection import GridSearchCV\n",
    "from sklearn.metrics import accuracy_score\n",
    "from sklearn.utils import shuffle\n",
    "from sklearn.model_selection import cross_val_score\n",
    "from tqdm import notebook\n",
    "from tqdm import tqdm\n",
    "\n",
    "# 3 - импорты модулей текущего проекта\n",
    "warnings.simplefilter(\"ignore\", category=RuntimeWarning)\n",
    "pd.options.mode.chained_assignment = None \n",
    "tqdm.pandas()"
   ]
  },
  {
   "cell_type": "markdown",
   "id": "bea2fe9a",
   "metadata": {},
   "source": [
    "<div class=\"alert alert-warning\">\n",
    "<b>⚠️PEP-8: </b> \n",
    "При написании кода, в частности оформлении импорта библиотек, стоит придерживаться стандарта PEP-8:\n",
    "    \n",
    "https://pythonworld.ru/osnovy/pep-8-rukovodstvo-po-napisaniyu-koda-na-python.html\n",
    "\n",
    "</div>"
   ]
  },
  {
   "cell_type": "markdown",
   "id": "a5e4141b",
   "metadata": {},
   "source": [
    "## 1 Подготовка"
   ]
  },
  {
   "cell_type": "code",
   "execution_count": 45,
   "id": "517020d1",
   "metadata": {},
   "outputs": [],
   "source": [
    "# read the file handling exceptions\n",
    "try:\n",
    "    data = pd.read_csv('/Users/yuliabezginova/PycharmProjects/00_files-for_NLP/toxic_comments.csv', index_col=[0])\n",
    "except FileNotFoundError:\n",
    "        data = pd.read_csv('https://code.s3.yandex.net/datasets/toxic_comments.csv', index_col=[0])"
   ]
  },
  {
   "cell_type": "code",
   "execution_count": 46,
   "id": "0a23f5b7",
   "metadata": {},
   "outputs": [],
   "source": [
    "# https://code.s3.yandex.net/datasets/toxic_comments.csv"
   ]
  },
  {
   "cell_type": "code",
   "execution_count": 47,
   "id": "b0c5bcfe",
   "metadata": {},
   "outputs": [
    {
     "data": {
      "text/html": [
       "<div>\n",
       "<style scoped>\n",
       "    .dataframe tbody tr th:only-of-type {\n",
       "        vertical-align: middle;\n",
       "    }\n",
       "\n",
       "    .dataframe tbody tr th {\n",
       "        vertical-align: top;\n",
       "    }\n",
       "\n",
       "    .dataframe thead th {\n",
       "        text-align: right;\n",
       "    }\n",
       "</style>\n",
       "<table border=\"1\" class=\"dataframe\">\n",
       "  <thead>\n",
       "    <tr style=\"text-align: right;\">\n",
       "      <th></th>\n",
       "      <th>text</th>\n",
       "      <th>toxic</th>\n",
       "    </tr>\n",
       "  </thead>\n",
       "  <tbody>\n",
       "    <tr>\n",
       "      <th>0</th>\n",
       "      <td>Explanation\\nWhy the edits made under my usern...</td>\n",
       "      <td>0</td>\n",
       "    </tr>\n",
       "    <tr>\n",
       "      <th>1</th>\n",
       "      <td>D'aww! He matches this background colour I'm s...</td>\n",
       "      <td>0</td>\n",
       "    </tr>\n",
       "    <tr>\n",
       "      <th>2</th>\n",
       "      <td>Hey man, I'm really not trying to edit war. It...</td>\n",
       "      <td>0</td>\n",
       "    </tr>\n",
       "    <tr>\n",
       "      <th>3</th>\n",
       "      <td>\"\\nMore\\nI can't make any real suggestions on ...</td>\n",
       "      <td>0</td>\n",
       "    </tr>\n",
       "    <tr>\n",
       "      <th>4</th>\n",
       "      <td>You, sir, are my hero. Any chance you remember...</td>\n",
       "      <td>0</td>\n",
       "    </tr>\n",
       "  </tbody>\n",
       "</table>\n",
       "</div>"
      ],
      "text/plain": [
       "                                                text  toxic\n",
       "0  Explanation\\nWhy the edits made under my usern...      0\n",
       "1  D'aww! He matches this background colour I'm s...      0\n",
       "2  Hey man, I'm really not trying to edit war. It...      0\n",
       "3  \"\\nMore\\nI can't make any real suggestions on ...      0\n",
       "4  You, sir, are my hero. Any chance you remember...      0"
      ]
     },
     "execution_count": 47,
     "metadata": {},
     "output_type": "execute_result"
    }
   ],
   "source": [
    "data.head()"
   ]
  },
  {
   "cell_type": "code",
   "execution_count": 48,
   "id": "c11acab9",
   "metadata": {},
   "outputs": [
    {
     "data": {
      "text/plain": [
       "array([0, 1])"
      ]
     },
     "execution_count": 48,
     "metadata": {},
     "output_type": "execute_result"
    }
   ],
   "source": [
    "data.toxic.unique()"
   ]
  },
  {
   "cell_type": "code",
   "execution_count": 49,
   "id": "5a1d2240",
   "metadata": {
    "scrolled": true
   },
   "outputs": [
    {
     "data": {
      "text/plain": [
       "0"
      ]
     },
     "execution_count": 49,
     "metadata": {},
     "output_type": "execute_result"
    }
   ],
   "source": [
    "# проверка на пропуски в таргете\n",
    "data['toxic'].isna().sum()"
   ]
  },
  {
   "cell_type": "code",
   "execution_count": 50,
   "id": "d7f92566",
   "metadata": {},
   "outputs": [
    {
     "data": {
      "text/plain": [
       "0    143106\n",
       "1     16186\n",
       "Name: toxic, dtype: int64"
      ]
     },
     "execution_count": 50,
     "metadata": {},
     "output_type": "execute_result"
    }
   ],
   "source": [
    "data['toxic'].value_counts()"
   ]
  },
  {
   "cell_type": "markdown",
   "id": "bd42ab84",
   "metadata": {},
   "source": [
    "### ***Вывод:*** Видим, что таргет не сбалансирован. Это нужно учесть при подготовке обучающей выборки. Так как для наилучшего обучения модели целевое значение должно быть сбалансировано."
   ]
  },
  {
   "cell_type": "markdown",
   "id": "b57e07c7",
   "metadata": {},
   "source": [
    "### 1.1 Работаем со стоп-словами"
   ]
  },
  {
   "cell_type": "code",
   "execution_count": 51,
   "id": "958e3a1a",
   "metadata": {
    "scrolled": true
   },
   "outputs": [
    {
     "name": "stderr",
     "output_type": "stream",
     "text": [
      "[nltk_data] Downloading package stopwords to\n",
      "[nltk_data]     /Users/yuliabezginova/nltk_data...\n",
      "[nltk_data]   Package stopwords is already up-to-date!\n"
     ]
    }
   ],
   "source": [
    "nltk.download('stopwords')\n",
    "stopwords = set(nltk_stopwords.words('english')) "
   ]
  },
  {
   "cell_type": "markdown",
   "id": "a674949d",
   "metadata": {},
   "source": [
    "### 1.2 Переведём тексты в стандартный для Python формат: кодировку Unicode U (для русских текстов, для английских - НЕ требуется)."
   ]
  },
  {
   "cell_type": "code",
   "execution_count": 52,
   "id": "321cd929",
   "metadata": {},
   "outputs": [],
   "source": [
    "# Изменим кодировку методом astype():\n",
    "# corpus = data['text'].values.astype('U')\n",
    "# corpus = data['text']\n",
    "# corpus_train = X_train.values.astype('U')\n",
    "# corpus_test = X_test.values.astype('U')"
   ]
  },
  {
   "cell_type": "markdown",
   "id": "12c24893",
   "metadata": {},
   "source": [
    "### 1.3 Создадим функцию для лемматизации и очистки текста\n",
    "\n",
    "Лемматизатор Mystem подходит только для русского языка. Вместо него можно применить, например ***WordNetLemmatizer().***\n",
    "\n",
    "Пример кода можно взять из тренажера. Лемматизацию мы должны применять к каждому токену (слову в тексте):\n",
    "\n",
    "```\n",
    "lemm_text = \" \".join(lemmatizer.lemmatize(word) for word in text.split())\n",
    "\n",
    "```"
   ]
  },
  {
   "cell_type": "code",
   "execution_count": 53,
   "id": "6d200b2a",
   "metadata": {},
   "outputs": [],
   "source": [
    "corpus = list(data['text'])"
   ]
  },
  {
   "cell_type": "code",
   "execution_count": 54,
   "id": "506b6710",
   "metadata": {},
   "outputs": [
    {
     "name": "stderr",
     "output_type": "stream",
     "text": [
      "[nltk_data] Downloading package omw-1.4 to\n",
      "[nltk_data]     /Users/yuliabezginova/nltk_data...\n",
      "[nltk_data]   Package omw-1.4 is already up-to-date!\n"
     ]
    },
    {
     "data": {
      "text/plain": [
       "True"
      ]
     },
     "execution_count": 54,
     "metadata": {},
     "output_type": "execute_result"
    }
   ],
   "source": [
    "nltk.download('omw-1.4')"
   ]
  },
  {
   "cell_type": "code",
   "execution_count": 55,
   "id": "c2b010c9",
   "metadata": {},
   "outputs": [],
   "source": [
    "def lemmatize(text):\n",
    "    lemmatizer = nltk.WordNetLemmatizer()\n",
    "    \n",
    "    lem_text = \" \".join(lemmatizer.lemmatize(word) for word in text.split())\n",
    "    \n",
    "    lem_final = re.sub(r'[^a-zA-Z ]', '', lem_text)\n",
    "    \n",
    "    return lem_final.lower()"
   ]
  },
  {
   "cell_type": "markdown",
   "id": "de0cd127",
   "metadata": {},
   "source": [
    "<div class=\"alert alert-success\">\n",
    "<b>✔️ Способы лемматизации текста</b>\n",
    "    \n",
    "1. Лемматизация с помощью Spacy. Но если делать на всем датасете, может занять 0,5-1 час, в зависимости от возможностей компьютера.\n",
    "https://spacy.io/ или https://webdevblog.ru/podhody-lemmatizacii-s-primerami-v-python/\n",
    "\n",
    "2. Использовать POS-теги, это сделает лемматизацию точнее:\n",
    "https://webdevblog.ru/podhody-lemmatizacii-s-primerami-v-python/\n",
    "    \n",
    "Это занимает больше времени, поэтому можешь проверить локально, на небольшой выборке. \n",
    "    \n",
    "Для контроля времени лемматизации, поскольку процесс длительный, можно применять индикатор прогресса. Различные варианты можно посмотреть здесь: \n",
    "    \n",
    "https://habr.com/ru/post/483400/ \n",
    "    \n",
    "Пример:\n",
    "    \n",
    "```\n",
    "from tqdm import tqdm\n",
    "tqdm.pandas()\n",
    "data['lemm_text'] = data['text'].progress_apply(lemmatize)\n",
    "\n",
    "```\n",
    "\n",
    "</div>"
   ]
  },
  {
   "cell_type": "markdown",
   "id": "048384d6",
   "metadata": {},
   "source": [
    "#### Протестируем работу функции лемматизации и очистки текста."
   ]
  },
  {
   "cell_type": "code",
   "execution_count": 56,
   "id": "06116fff",
   "metadata": {
    "scrolled": false
   },
   "outputs": [
    {
     "name": "stdout",
     "output_type": "stream",
     "text": [
      "Исходный текст: However, the Moonlite edit noted by golden daph was me (on optus ...)  Wake up wikkis.  So funny\n",
      "Очищенный и лемматизированный текст: however the moonlite edit noted by golden daph wa me on optus  wake up wikkis so funny\n"
     ]
    }
   ],
   "source": [
    "print(\"Исходный текст:\", corpus[100])\n",
    "print(\"Очищенный и лемматизированный текст:\", lemmatize(corpus[100]))"
   ]
  },
  {
   "cell_type": "markdown",
   "id": "439ad650",
   "metadata": {},
   "source": [
    "#### Применим функцию для лемматизации и очистки текста"
   ]
  },
  {
   "cell_type": "code",
   "execution_count": 57,
   "id": "134123ca",
   "metadata": {},
   "outputs": [
    {
     "name": "stderr",
     "output_type": "stream",
     "text": [
      "100%|█████████████████████████████████| 159292/159292 [00:56<00:00, 2803.33it/s]\n"
     ]
    }
   ],
   "source": [
    "# applying the function without tracking the progress\n",
    "# data['lem_text'] = data.text.apply(lemmatize)\n",
    "\n",
    "# lemmatizing with tracking the progress\n",
    "data['lem_text'] = data['text'].progress_apply(lemmatize)"
   ]
  },
  {
   "cell_type": "code",
   "execution_count": 58,
   "id": "d16d8041",
   "metadata": {
    "scrolled": true
   },
   "outputs": [
    {
     "data": {
      "text/html": [
       "<div>\n",
       "<style scoped>\n",
       "    .dataframe tbody tr th:only-of-type {\n",
       "        vertical-align: middle;\n",
       "    }\n",
       "\n",
       "    .dataframe tbody tr th {\n",
       "        vertical-align: top;\n",
       "    }\n",
       "\n",
       "    .dataframe thead th {\n",
       "        text-align: right;\n",
       "    }\n",
       "</style>\n",
       "<table border=\"1\" class=\"dataframe\">\n",
       "  <thead>\n",
       "    <tr style=\"text-align: right;\">\n",
       "      <th></th>\n",
       "      <th>text</th>\n",
       "      <th>toxic</th>\n",
       "      <th>lem_text</th>\n",
       "    </tr>\n",
       "  </thead>\n",
       "  <tbody>\n",
       "    <tr>\n",
       "      <th>0</th>\n",
       "      <td>Explanation\\nWhy the edits made under my usern...</td>\n",
       "      <td>0</td>\n",
       "      <td>explanation why the edits made under my userna...</td>\n",
       "    </tr>\n",
       "    <tr>\n",
       "      <th>1</th>\n",
       "      <td>D'aww! He matches this background colour I'm s...</td>\n",
       "      <td>0</td>\n",
       "      <td>daww he match this background colour im seemin...</td>\n",
       "    </tr>\n",
       "    <tr>\n",
       "      <th>2</th>\n",
       "      <td>Hey man, I'm really not trying to edit war. It...</td>\n",
       "      <td>0</td>\n",
       "      <td>hey man im really not trying to edit war its j...</td>\n",
       "    </tr>\n",
       "    <tr>\n",
       "      <th>3</th>\n",
       "      <td>\"\\nMore\\nI can't make any real suggestions on ...</td>\n",
       "      <td>0</td>\n",
       "      <td>more i cant make any real suggestion on impro...</td>\n",
       "    </tr>\n",
       "    <tr>\n",
       "      <th>4</th>\n",
       "      <td>You, sir, are my hero. Any chance you remember...</td>\n",
       "      <td>0</td>\n",
       "      <td>you sir are my hero any chance you remember wh...</td>\n",
       "    </tr>\n",
       "  </tbody>\n",
       "</table>\n",
       "</div>"
      ],
      "text/plain": [
       "                                                text  toxic  \\\n",
       "0  Explanation\\nWhy the edits made under my usern...      0   \n",
       "1  D'aww! He matches this background colour I'm s...      0   \n",
       "2  Hey man, I'm really not trying to edit war. It...      0   \n",
       "3  \"\\nMore\\nI can't make any real suggestions on ...      0   \n",
       "4  You, sir, are my hero. Any chance you remember...      0   \n",
       "\n",
       "                                            lem_text  \n",
       "0  explanation why the edits made under my userna...  \n",
       "1  daww he match this background colour im seemin...  \n",
       "2  hey man im really not trying to edit war its j...  \n",
       "3   more i cant make any real suggestion on impro...  \n",
       "4  you sir are my hero any chance you remember wh...  "
      ]
     },
     "execution_count": 58,
     "metadata": {},
     "output_type": "execute_result"
    }
   ],
   "source": [
    "data.head()"
   ]
  },
  {
   "cell_type": "markdown",
   "id": "dffe278f",
   "metadata": {},
   "source": [
    "### 1.4 Разделим данные на тестовую и обучающую выборки"
   ]
  },
  {
   "cell_type": "code",
   "execution_count": 59,
   "id": "0c6140f0",
   "metadata": {},
   "outputs": [],
   "source": [
    "features = data.drop(columns='toxic', axis=1)\n",
    "target = data['toxic']"
   ]
  },
  {
   "cell_type": "code",
   "execution_count": 60,
   "id": "1755abcf",
   "metadata": {
    "scrolled": true
   },
   "outputs": [
    {
     "data": {
      "text/plain": [
       "(159292, 2)"
      ]
     },
     "execution_count": 60,
     "metadata": {},
     "output_type": "execute_result"
    }
   ],
   "source": [
    "features.shape"
   ]
  },
  {
   "cell_type": "code",
   "execution_count": 61,
   "id": "b193e817",
   "metadata": {
    "scrolled": true
   },
   "outputs": [
    {
     "data": {
      "text/plain": [
       "(159292,)"
      ]
     },
     "execution_count": 61,
     "metadata": {},
     "output_type": "execute_result"
    }
   ],
   "source": [
    "target.shape"
   ]
  },
  {
   "cell_type": "code",
   "execution_count": 62,
   "id": "e5585b39",
   "metadata": {},
   "outputs": [],
   "source": [
    "# Разделяю на обучающую и тестовую\n",
    "X_train, X_test, y_train, y_test = train_test_split(features, target, \n",
    "                                                    test_size=0.2, \n",
    "                                                    random_state=5)"
   ]
  },
  {
   "cell_type": "code",
   "execution_count": 63,
   "id": "8087464b",
   "metadata": {
    "scrolled": true
   },
   "outputs": [
    {
     "name": "stdout",
     "output_type": "stream",
     "text": [
      "Train features sample size: 127433\n",
      "Train target sample size: 127433\n",
      "\n",
      "Test features sample size: 31859\n",
      "Test target sample size: 31859\n",
      "\n",
      "Test sample, %: 20.0\n"
     ]
    }
   ],
   "source": [
    "print('Train features sample size:', X_train.shape[0])\n",
    "print('Train target sample size:', y_train.shape[0])\n",
    "print()\n",
    "print('Test features sample size:', X_test.shape[0])\n",
    "print('Test target sample size:', y_test.shape[0])\n",
    "print()\n",
    "print('Test sample, %:', round(X_test.shape[0] / (X_test.shape[0] + X_train.shape[0]) * 100, 2))"
   ]
  },
  {
   "cell_type": "markdown",
   "id": "e88c45dd",
   "metadata": {},
   "source": [
    "### Проведем upsampling для корректировки дисбаланса таргетов в обучающей выборке"
   ]
  },
  {
   "cell_type": "code",
   "execution_count": 117,
   "id": "e7c50a69",
   "metadata": {},
   "outputs": [],
   "source": [
    "# функция upsample для создания сбалансированности выборки \n",
    "def upsample(features, target, repeat):\n",
    "    \n",
    "    features_zeros = features[target == 0]\n",
    "    features_ones = features[target == 1]\n",
    "    \n",
    "    target_zeros = target[target == 0]  \n",
    "    target_ones = target[target == 1]\n",
    "    \n",
    "    features_upsampled = pd.concat([features_zeros] + [features_ones] * repeat)\n",
    "    \n",
    "    target_upsampled = pd.concat([target_zeros] + [target_ones] * repeat)\n",
    "    \n",
    "    features_upsampled, target_upsampled = shuffle(features_upsampled, target_upsampled, random_state=5)\n",
    "    \n",
    "    return features_upsampled, target_upsampled"
   ]
  },
  {
   "cell_type": "code",
   "execution_count": 118,
   "id": "5f43e86d",
   "metadata": {
    "scrolled": true
   },
   "outputs": [],
   "source": [
    "# upsample for target disbalance correction\n",
    "X_train_up, y_train_up = upsample(X_train,\n",
    "                                  y_train,\n",
    "                                  repeat = 5)"
   ]
  },
  {
   "cell_type": "code",
   "execution_count": 123,
   "id": "1ee19b1b",
   "metadata": {},
   "outputs": [
    {
     "data": {
      "image/png": "[encoded data removed]",
      "text/plain": [
       "<Figure size 640x480 with 1 Axes>"
      ]
     },
     "metadata": {},
     "output_type": "display_data"
    }
   ],
   "source": [
    "y_train_up.hist()\n",
    "y_train.hist();"
   ]
  },
  {
   "cell_type": "markdown",
   "id": "773db34b",
   "metadata": {},
   "source": [
    "#### Таргетные значения теперь сбалансированы лучше, что положительно скажется на обучении."
   ]
  },
  {
   "cell_type": "markdown",
   "id": "bb9fd71d",
   "metadata": {},
   "source": [
    "### ВЫВОД: Исходные данные разделены на тестовые и обучающие, выделены признаки и таргетные значения. Учтен дисбаланс целевых значений на обучающей выборке, проведен upsampling.\n",
    "\n",
    "Применим модели \"мешка слов\" к набору данных."
   ]
  },
  {
   "cell_type": "markdown",
   "id": "51b51041",
   "metadata": {},
   "source": [
    "### 1.5 Реализуем модель «мешка слов» в классе CountVectorizer"
   ]
  },
  {
   "cell_type": "markdown",
   "id": "687fcf09",
   "metadata": {},
   "source": [
    "Мы импортируем класс CountVectorizer, создам экземпляр класса и подгоняем модель к нашим данным для анализа тональности твитов."
   ]
  },
  {
   "cell_type": "code",
   "execution_count": 64,
   "id": "4009b5b8",
   "metadata": {},
   "outputs": [],
   "source": [
    "vect = CountVectorizer(stop_words=stopwords)"
   ]
  },
  {
   "cell_type": "code",
   "execution_count": 65,
   "id": "0daa4c41",
   "metadata": {},
   "outputs": [],
   "source": [
    "# Считаю Tf-idf для обучающей\n",
    "X_train_vect = vect.fit_transform(X_train.lem_text)\n",
    "\n",
    "# Считаю Tf-idf для тестовой\n",
    "X_test_vect = vect.transform(X_test.lem_text)"
   ]
  },
  {
   "cell_type": "markdown",
   "id": "b4be7f4f",
   "metadata": {},
   "source": [
    "Перед тем как мы пытаемся улучшить выделение признаков, давайте измерим качество модели, построив классификатор. \n",
    "\n",
    "У нас есть обучающие метки, хранящиеся в y_train и обучающие данные, представленные в виде «мешка слов» X_train, таким образом, мы можем обучить классификатор по этим данным. \n",
    "\n",
    "Как правило, для подобных высокоразмерных разреженных данных лучше всего работают линейные модели типа LogisticRegression."
   ]
  },
  {
   "cell_type": "markdown",
   "id": "56f30e9b",
   "metadata": {},
   "source": [
    "### 1.6 Масштабирование признаков с помощью TF-IDF\n",
    "\n",
    "Следующий подход вместо исключения несущественных признаков пытается масштабировать признаки в зависимости от степени их информативности. Одним из наиболее распространенных способов такого масштабирования является метод частота термина-обратная частота документа (term frequency-inverse document frequency, tf-idf). \n",
    "\n",
    "**Идея этого метода заключается в том, чтобы присвоить большой вес термину, который часто встречается в конкретном документе, но при этом редко встречается в остальных документах корпуса. Если слово часто появляется в конкретном документе, но при этом редко встречается в остальных документах, оно, вероятно, будет описывать содержимое этого документа лучше.**\n",
    "\n",
    "Мешок слов учитывает частоту употребления слов. Посмотрим, как часто уникальное слово встречается во всём корпусе и в отдельном его тексте.\n",
    "\n",
    "Оценка важности слова определяется величиной TF-IDF (от англ. term frequency, «частота терма, или слова»; inverse document frequency, «обратная частота документа, или текста»). То есть TF отвечает за количество упоминаний слова в отдельном тексте, а IDF отражает частоту его употребления во всём корпусе.\n",
    "\n",
    "#### TFIDF = TF * IDF\n",
    "\n",
    "IDF нужна в формуле, чтобы уменьшить вес слов, наиболее\n",
    "распространённых в любом другом тексте заданного корпуса.\n",
    "IDF зависит от общего числа текстов в корпусе (D) и количества\n",
    "текстов, в которых это слово встречается (d).\n",
    "\n",
    "Большая величина TF-IDF говорит об уникальности слова в тексте\n",
    "по отношению к корпусу. Чем чаще оно встречается в конкретном\n",
    "тексте и реже в остальных, тем выше значение TF-IDF.\n",
    "\n",
    "**Если данные разделены на обучающую и тестовую выборки,\n",
    "функцию fit() запустим только на обучающей. Иначе тестирование\n",
    "будет нечестным: в модели будут учтены частоты слов из тестовой\n",
    "выборки.**\n",
    "\n",
    "Сначала переведем выборки X_train, X_test в векторный вид.\n"
   ]
  },
  {
   "cell_type": "markdown",
   "id": "68d1a2ef",
   "metadata": {},
   "source": [
    "#### Несбалансированная выборка таргетов"
   ]
  },
  {
   "cell_type": "code",
   "execution_count": 66,
   "id": "02f86d35",
   "metadata": {},
   "outputs": [],
   "source": [
    "count_tf_idf = TfidfVectorizer(stop_words=stopwords)"
   ]
  },
  {
   "cell_type": "code",
   "execution_count": 67,
   "id": "c78b5700",
   "metadata": {},
   "outputs": [],
   "source": [
    "# Считаю Tf-idf для обучающей\n",
    "tf_idf_X_train = count_tf_idf.fit_transform(X_train['lem_text'])\n",
    "\n",
    "# Считаю Tf-idf для тестовой\n",
    "tf_idf_X_test = count_tf_idf.transform(X_test['lem_text'])"
   ]
  },
  {
   "cell_type": "code",
   "execution_count": 68,
   "id": "e5748667",
   "metadata": {
    "scrolled": true
   },
   "outputs": [
    {
     "name": "stdout",
     "output_type": "stream",
     "text": [
      "Размер матрицы TF-IDF X_train: (127433, 191019)\n",
      "Размер матрицы TF-IDF X_test: (31859, 191019)\n"
     ]
    }
   ],
   "source": [
    "print(\"Размер матрицы TF-IDF X_train:\", tf_idf_X_train.shape)\n",
    "print(\"Размер матрицы TF-IDF X_test:\", tf_idf_X_test.shape)"
   ]
  },
  {
   "cell_type": "markdown",
   "id": "1c0a09d8",
   "metadata": {},
   "source": [
    "#### Сбалансированная выборка таргетов"
   ]
  },
  {
   "cell_type": "code",
   "execution_count": 125,
   "id": "3dadb4ca",
   "metadata": {},
   "outputs": [],
   "source": [
    "# Считаю Tf-idf для обучающей\n",
    "tf_idf_X_train_up = count_tf_idf.fit_transform(X_train_up['lem_text'])"
   ]
  },
  {
   "cell_type": "code",
   "execution_count": 126,
   "id": "1fa7924f",
   "metadata": {},
   "outputs": [
    {
     "name": "stdout",
     "output_type": "stream",
     "text": [
      "Размер матрицы TF-IDF X_train_up: (179009, 191019)\n"
     ]
    }
   ],
   "source": [
    "print(\"Размер матрицы TF-IDF X_train_up:\", tf_idf_X_train_up.shape)"
   ]
  },
  {
   "cell_type": "markdown",
   "id": "631cab78",
   "metadata": {},
   "source": [
    "### ВЫВОД: Данные очищены от странных букв и знаков, знаки пунктуации и стоп-слова удалены, данные разделены на тестовую и обучающую выборки, в каждой из которой выделены признаки и целевое значение. Выборки признаков приведены к векторному виду и готовы к обучению."
   ]
  },
  {
   "cell_type": "markdown",
   "id": "e1703465",
   "metadata": {},
   "source": [
    "## 2 Обучение"
   ]
  },
  {
   "cell_type": "markdown",
   "id": "afb7f1ff",
   "metadata": {},
   "source": [
    "<div class=\"alert alert-success\">\n",
    "<b>✔️ Pipeline</b>\n",
    "    \n",
    "Обычно мы обучаем на выборке train и применяем кросс-валидацию, например GridSearchCV. Но когда используется кросс-валидация, получается, что модель в итоге обучается на всей обучающей выборке и это немного не правильно — происходит утечка данных. \n",
    "    \n",
    "В таких случаях рекомендуется оборачивать конструкцию в Pipeline.\n",
    "    \n",
    "https://medium.com/analytics-vidhya/ml-pipelines-using-scikit-learn-and-gridsearchcv-fe605a7f9e05\n",
    "    \n",
    "https://habr.com/ru/post/538458/\n",
    "    \n",
    "Pipeline + GridSearchCV: https://towardsdatascience.com/nlp-with-pipeline-gridsearch-5922266e82f4\n",
    "    \n",
    "Таким образом в GridSearchCV можно добавить пайплайн.\n",
    "    \n",
    "В данном случае в pipeline можно завести функцию upsampling, tf-idf и модель для машинного обучения.\n",
    "</div>"
   ]
  },
  {
   "cell_type": "markdown",
   "id": "c9382ded",
   "metadata": {},
   "source": [
    "### 2.1 Logistic Regression с использованием перекрестной проверки для модели «мешка слов» в классе CountVectorizer()"
   ]
  },
  {
   "cell_type": "code",
   "execution_count": 83,
   "id": "7a59c316",
   "metadata": {},
   "outputs": [],
   "source": [
    "logreg = LogisticRegression(random_state=5)"
   ]
  },
  {
   "cell_type": "code",
   "execution_count": 84,
   "id": "19d3047a",
   "metadata": {},
   "outputs": [],
   "source": [
    "param_grid = [\n",
    "    {'C': [0.01, 0.1, 1, 2, 10, 100], \n",
    "     'penalty': ['l1', 'l2']}\n",
    "]"
   ]
  },
  {
   "cell_type": "code",
   "execution_count": 85,
   "id": "1994f98b",
   "metadata": {},
   "outputs": [
    {
     "name": "stderr",
     "output_type": "stream",
     "text": [
      "/usr/local/Cellar/jupyterlab/3.4.8/libexec/lib/python3.10/site-packages/sklearn/linear_model/_logistic.py:444: ConvergenceWarning: lbfgs failed to converge (status=1):\n",
      "STOP: TOTAL NO. of ITERATIONS REACHED LIMIT.\n",
      "\n",
      "Increase the number of iterations (max_iter) or scale the data as shown in:\n",
      "    https://scikit-learn.org/stable/modules/preprocessing.html\n",
      "Please also refer to the documentation for alternative solver options:\n",
      "    https://scikit-learn.org/stable/modules/linear_model.html#logistic-regression\n",
      "  n_iter_i = _check_optimize_result(\n",
      "/usr/local/Cellar/jupyterlab/3.4.8/libexec/lib/python3.10/site-packages/sklearn/linear_model/_logistic.py:444: ConvergenceWarning: lbfgs failed to converge (status=1):\n",
      "STOP: TOTAL NO. of ITERATIONS REACHED LIMIT.\n",
      "\n",
      "Increase the number of iterations (max_iter) or scale the data as shown in:\n",
      "    https://scikit-learn.org/stable/modules/preprocessing.html\n",
      "Please also refer to the documentation for alternative solver options:\n",
      "    https://scikit-learn.org/stable/modules/linear_model.html#logistic-regression\n",
      "  n_iter_i = _check_optimize_result(\n",
      "/usr/local/Cellar/jupyterlab/3.4.8/libexec/lib/python3.10/site-packages/sklearn/linear_model/_logistic.py:444: ConvergenceWarning: lbfgs failed to converge (status=1):\n",
      "STOP: TOTAL NO. of ITERATIONS REACHED LIMIT.\n",
      "\n",
      "Increase the number of iterations (max_iter) or scale the data as shown in:\n",
      "    https://scikit-learn.org/stable/modules/preprocessing.html\n",
      "Please also refer to the documentation for alternative solver options:\n",
      "    https://scikit-learn.org/stable/modules/linear_model.html#logistic-regression\n",
      "  n_iter_i = _check_optimize_result(\n",
      "/usr/local/Cellar/jupyterlab/3.4.8/libexec/lib/python3.10/site-packages/sklearn/linear_model/_logistic.py:444: ConvergenceWarning: lbfgs failed to converge (status=1):\n",
      "STOP: TOTAL NO. of ITERATIONS REACHED LIMIT.\n",
      "\n",
      "Increase the number of iterations (max_iter) or scale the data as shown in:\n",
      "    https://scikit-learn.org/stable/modules/preprocessing.html\n",
      "Please also refer to the documentation for alternative solver options:\n",
      "    https://scikit-learn.org/stable/modules/linear_model.html#logistic-regression\n",
      "  n_iter_i = _check_optimize_result(\n",
      "/usr/local/Cellar/jupyterlab/3.4.8/libexec/lib/python3.10/site-packages/sklearn/linear_model/_logistic.py:444: ConvergenceWarning: lbfgs failed to converge (status=1):\n",
      "STOP: TOTAL NO. of ITERATIONS REACHED LIMIT.\n",
      "\n",
      "Increase the number of iterations (max_iter) or scale the data as shown in:\n",
      "    https://scikit-learn.org/stable/modules/preprocessing.html\n",
      "Please also refer to the documentation for alternative solver options:\n",
      "    https://scikit-learn.org/stable/modules/linear_model.html#logistic-regression\n",
      "  n_iter_i = _check_optimize_result(\n",
      "/usr/local/Cellar/jupyterlab/3.4.8/libexec/lib/python3.10/site-packages/sklearn/linear_model/_logistic.py:444: ConvergenceWarning: lbfgs failed to converge (status=1):\n",
      "STOP: TOTAL NO. of ITERATIONS REACHED LIMIT.\n",
      "\n",
      "Increase the number of iterations (max_iter) or scale the data as shown in:\n",
      "    https://scikit-learn.org/stable/modules/preprocessing.html\n",
      "Please also refer to the documentation for alternative solver options:\n",
      "    https://scikit-learn.org/stable/modules/linear_model.html#logistic-regression\n",
      "  n_iter_i = _check_optimize_result(\n",
      "/usr/local/Cellar/jupyterlab/3.4.8/libexec/lib/python3.10/site-packages/sklearn/linear_model/_logistic.py:444: ConvergenceWarning: lbfgs failed to converge (status=1):\n",
      "STOP: TOTAL NO. of ITERATIONS REACHED LIMIT.\n",
      "\n",
      "Increase the number of iterations (max_iter) or scale the data as shown in:\n",
      "    https://scikit-learn.org/stable/modules/preprocessing.html\n",
      "Please also refer to the documentation for alternative solver options:\n",
      "    https://scikit-learn.org/stable/modules/linear_model.html#logistic-regression\n",
      "  n_iter_i = _check_optimize_result(\n",
      "/usr/local/Cellar/jupyterlab/3.4.8/libexec/lib/python3.10/site-packages/sklearn/linear_model/_logistic.py:444: ConvergenceWarning: lbfgs failed to converge (status=1):\n",
      "STOP: TOTAL NO. of ITERATIONS REACHED LIMIT.\n",
      "\n",
      "Increase the number of iterations (max_iter) or scale the data as shown in:\n",
      "    https://scikit-learn.org/stable/modules/preprocessing.html\n",
      "Please also refer to the documentation for alternative solver options:\n",
      "    https://scikit-learn.org/stable/modules/linear_model.html#logistic-regression\n",
      "  n_iter_i = _check_optimize_result(\n",
      "/usr/local/Cellar/jupyterlab/3.4.8/libexec/lib/python3.10/site-packages/sklearn/linear_model/_logistic.py:444: ConvergenceWarning: lbfgs failed to converge (status=1):\n",
      "STOP: TOTAL NO. of ITERATIONS REACHED LIMIT.\n",
      "\n",
      "Increase the number of iterations (max_iter) or scale the data as shown in:\n",
      "    https://scikit-learn.org/stable/modules/preprocessing.html\n",
      "Please also refer to the documentation for alternative solver options:\n",
      "    https://scikit-learn.org/stable/modules/linear_model.html#logistic-regression\n",
      "  n_iter_i = _check_optimize_result(\n",
      "/usr/local/Cellar/jupyterlab/3.4.8/libexec/lib/python3.10/site-packages/sklearn/linear_model/_logistic.py:444: ConvergenceWarning: lbfgs failed to converge (status=1):\n",
      "STOP: TOTAL NO. of ITERATIONS REACHED LIMIT.\n",
      "\n",
      "Increase the number of iterations (max_iter) or scale the data as shown in:\n",
      "    https://scikit-learn.org/stable/modules/preprocessing.html\n",
      "Please also refer to the documentation for alternative solver options:\n",
      "    https://scikit-learn.org/stable/modules/linear_model.html#logistic-regression\n",
      "  n_iter_i = _check_optimize_result(\n",
      "/usr/local/Cellar/jupyterlab/3.4.8/libexec/lib/python3.10/site-packages/sklearn/linear_model/_logistic.py:444: ConvergenceWarning: lbfgs failed to converge (status=1):\n",
      "STOP: TOTAL NO. of ITERATIONS REACHED LIMIT.\n",
      "\n",
      "Increase the number of iterations (max_iter) or scale the data as shown in:\n",
      "    https://scikit-learn.org/stable/modules/preprocessing.html\n",
      "Please also refer to the documentation for alternative solver options:\n",
      "    https://scikit-learn.org/stable/modules/linear_model.html#logistic-regression\n",
      "  n_iter_i = _check_optimize_result(\n",
      "/usr/local/Cellar/jupyterlab/3.4.8/libexec/lib/python3.10/site-packages/sklearn/linear_model/_logistic.py:444: ConvergenceWarning: lbfgs failed to converge (status=1):\n",
      "STOP: TOTAL NO. of ITERATIONS REACHED LIMIT.\n",
      "\n",
      "Increase the number of iterations (max_iter) or scale the data as shown in:\n",
      "    https://scikit-learn.org/stable/modules/preprocessing.html\n",
      "Please also refer to the documentation for alternative solver options:\n",
      "    https://scikit-learn.org/stable/modules/linear_model.html#logistic-regression\n",
      "  n_iter_i = _check_optimize_result(\n",
      "/usr/local/Cellar/jupyterlab/3.4.8/libexec/lib/python3.10/site-packages/sklearn/linear_model/_logistic.py:444: ConvergenceWarning: lbfgs failed to converge (status=1):\n",
      "STOP: TOTAL NO. of ITERATIONS REACHED LIMIT.\n",
      "\n",
      "Increase the number of iterations (max_iter) or scale the data as shown in:\n",
      "    https://scikit-learn.org/stable/modules/preprocessing.html\n",
      "Please also refer to the documentation for alternative solver options:\n",
      "    https://scikit-learn.org/stable/modules/linear_model.html#logistic-regression\n",
      "  n_iter_i = _check_optimize_result(\n",
      "/usr/local/Cellar/jupyterlab/3.4.8/libexec/lib/python3.10/site-packages/sklearn/linear_model/_logistic.py:444: ConvergenceWarning: lbfgs failed to converge (status=1):\n",
      "STOP: TOTAL NO. of ITERATIONS REACHED LIMIT.\n",
      "\n",
      "Increase the number of iterations (max_iter) or scale the data as shown in:\n",
      "    https://scikit-learn.org/stable/modules/preprocessing.html\n",
      "Please also refer to the documentation for alternative solver options:\n",
      "    https://scikit-learn.org/stable/modules/linear_model.html#logistic-regression\n",
      "  n_iter_i = _check_optimize_result(\n",
      "/usr/local/Cellar/jupyterlab/3.4.8/libexec/lib/python3.10/site-packages/sklearn/linear_model/_logistic.py:444: ConvergenceWarning: lbfgs failed to converge (status=1):\n",
      "STOP: TOTAL NO. of ITERATIONS REACHED LIMIT.\n",
      "\n",
      "Increase the number of iterations (max_iter) or scale the data as shown in:\n",
      "    https://scikit-learn.org/stable/modules/preprocessing.html\n",
      "Please also refer to the documentation for alternative solver options:\n",
      "    https://scikit-learn.org/stable/modules/linear_model.html#logistic-regression\n",
      "  n_iter_i = _check_optimize_result(\n",
      "/usr/local/Cellar/jupyterlab/3.4.8/libexec/lib/python3.10/site-packages/sklearn/model_selection/_search.py:953: UserWarning: One or more of the test scores are non-finite: [       nan 0.4952852         nan 0.68842455        nan 0.7503582\n",
      "        nan 0.75865468        nan 0.76083769        nan 0.75427823]\n",
      "  warnings.warn(\n"
     ]
    },
    {
     "name": "stderr",
     "output_type": "stream",
     "text": [
      "/usr/local/Cellar/jupyterlab/3.4.8/libexec/lib/python3.10/site-packages/sklearn/linear_model/_logistic.py:444: ConvergenceWarning: lbfgs failed to converge (status=1):\n",
      "STOP: TOTAL NO. of ITERATIONS REACHED LIMIT.\n",
      "\n",
      "Increase the number of iterations (max_iter) or scale the data as shown in:\n",
      "    https://scikit-learn.org/stable/modules/preprocessing.html\n",
      "Please also refer to the documentation for alternative solver options:\n",
      "    https://scikit-learn.org/stable/modules/linear_model.html#logistic-regression\n",
      "  n_iter_i = _check_optimize_result(\n"
     ]
    },
    {
     "data": {
      "text/html": [
       "<style>#sk-container-id-3 {color: black;background-color: white;}#sk-container-id-3 pre{padding: 0;}#sk-container-id-3 div.sk-toggleable {background-color: white;}#sk-container-id-3 label.sk-toggleable__label {cursor: pointer;display: block;width: 100%;margin-bottom: 0;padding: 0.3em;box-sizing: border-box;text-align: center;}#sk-container-id-3 label.sk-toggleable__label-arrow:before {content: \"▸\";float: left;margin-right: 0.25em;color: #696969;}#sk-container-id-3 label.sk-toggleable__label-arrow:hover:before {color: black;}#sk-container-id-3 div.sk-estimator:hover label.sk-toggleable__label-arrow:before {color: black;}#sk-container-id-3 div.sk-toggleable__content {max-height: 0;max-width: 0;overflow: hidden;text-align: left;background-color: #f0f8ff;}#sk-container-id-3 div.sk-toggleable__content pre {margin: 0.2em;color: black;border-radius: 0.25em;background-color: #f0f8ff;}#sk-container-id-3 input.sk-toggleable__control:checked~div.sk-toggleable__content {max-height: 200px;max-width: 100%;overflow: auto;}#sk-container-id-3 input.sk-toggleable__control:checked~label.sk-toggleable__label-arrow:before {content: \"▾\";}#sk-container-id-3 div.sk-estimator input.sk-toggleable__control:checked~label.sk-toggleable__label {background-color: #d4ebff;}#sk-container-id-3 div.sk-label input.sk-toggleable__control:checked~label.sk-toggleable__label {background-color: #d4ebff;}#sk-container-id-3 input.sk-hidden--visually {border: 0;clip: rect(1px 1px 1px 1px);clip: rect(1px, 1px, 1px, 1px);height: 1px;margin: -1px;overflow: hidden;padding: 0;position: absolute;width: 1px;}#sk-container-id-3 div.sk-estimator {font-family: monospace;background-color: #f0f8ff;border: 1px dotted black;border-radius: 0.25em;box-sizing: border-box;margin-bottom: 0.5em;}#sk-container-id-3 div.sk-estimator:hover {background-color: #d4ebff;}#sk-container-id-3 div.sk-parallel-item::after {content: \"\";width: 100%;border-bottom: 1px solid gray;flex-grow: 1;}#sk-container-id-3 div.sk-label:hover label.sk-toggleable__label {background-color: #d4ebff;}#sk-container-id-3 div.sk-serial::before {content: \"\";position: absolute;border-left: 1px solid gray;box-sizing: border-box;top: 0;bottom: 0;left: 50%;z-index: 0;}#sk-container-id-3 div.sk-serial {display: flex;flex-direction: column;align-items: center;background-color: white;padding-right: 0.2em;padding-left: 0.2em;position: relative;}#sk-container-id-3 div.sk-item {position: relative;z-index: 1;}#sk-container-id-3 div.sk-parallel {display: flex;align-items: stretch;justify-content: center;background-color: white;position: relative;}#sk-container-id-3 div.sk-item::before, #sk-container-id-3 div.sk-parallel-item::before {content: \"\";position: absolute;border-left: 1px solid gray;box-sizing: border-box;top: 0;bottom: 0;left: 50%;z-index: -1;}#sk-container-id-3 div.sk-parallel-item {display: flex;flex-direction: column;z-index: 1;position: relative;background-color: white;}#sk-container-id-3 div.sk-parallel-item:first-child::after {align-self: flex-end;width: 50%;}#sk-container-id-3 div.sk-parallel-item:last-child::after {align-self: flex-start;width: 50%;}#sk-container-id-3 div.sk-parallel-item:only-child::after {width: 0;}#sk-container-id-3 div.sk-dashed-wrapped {border: 1px dashed gray;margin: 0 0.4em 0.5em 0.4em;box-sizing: border-box;padding-bottom: 0.4em;background-color: white;}#sk-container-id-3 div.sk-label label {font-family: monospace;font-weight: bold;display: inline-block;line-height: 1.2em;}#sk-container-id-3 div.sk-label-container {text-align: center;}#sk-container-id-3 div.sk-container {/* jupyter's `normalize.less` sets `[hidden] { display: none; }` but bootstrap.min.css set `[hidden] { display: none !important; }` so we also need the `!important` here to be able to override the default hidden behavior on the sphinx rendered scikit-learn.org. See: https://github.com/scikit-learn/scikit-learn/issues/21755 */display: inline-block !important;position: relative;}#sk-container-id-3 div.sk-text-repr-fallback {display: none;}</style><div id=\"sk-container-id-3\" class=\"sk-top-container\"><div class=\"sk-text-repr-fallback\"><pre>GridSearchCV(cv=3, estimator=LogisticRegression(random_state=5), n_jobs=-1,\n",
       "             param_grid=[{&#x27;C&#x27;: [0.01, 0.1, 1, 2, 10, 100],\n",
       "                          &#x27;penalty&#x27;: [&#x27;l1&#x27;, &#x27;l2&#x27;]}],\n",
       "             scoring=&#x27;f1&#x27;, verbose=False)</pre><b>In a Jupyter environment, please rerun this cell to show the HTML representation or trust the notebook. <br />On GitHub, the HTML representation is unable to render, please try loading this page with nbviewer.org.</b></div><div class=\"sk-container\" hidden><div class=\"sk-item sk-dashed-wrapped\"><div class=\"sk-label-container\"><div class=\"sk-label sk-toggleable\"><input class=\"sk-toggleable__control sk-hidden--visually\" id=\"sk-estimator-id-7\" type=\"checkbox\" ><label for=\"sk-estimator-id-7\" class=\"sk-toggleable__label sk-toggleable__label-arrow\">GridSearchCV</label><div class=\"sk-toggleable__content\"><pre>GridSearchCV(cv=3, estimator=LogisticRegression(random_state=5), n_jobs=-1,\n",
       "             param_grid=[{&#x27;C&#x27;: [0.01, 0.1, 1, 2, 10, 100],\n",
       "                          &#x27;penalty&#x27;: [&#x27;l1&#x27;, &#x27;l2&#x27;]}],\n",
       "             scoring=&#x27;f1&#x27;, verbose=False)</pre></div></div></div><div class=\"sk-parallel\"><div class=\"sk-parallel-item\"><div class=\"sk-item\"><div class=\"sk-label-container\"><div class=\"sk-label sk-toggleable\"><input class=\"sk-toggleable__control sk-hidden--visually\" id=\"sk-estimator-id-8\" type=\"checkbox\" ><label for=\"sk-estimator-id-8\" class=\"sk-toggleable__label sk-toggleable__label-arrow\">estimator: LogisticRegression</label><div class=\"sk-toggleable__content\"><pre>LogisticRegression(random_state=5)</pre></div></div></div><div class=\"sk-serial\"><div class=\"sk-item\"><div class=\"sk-estimator sk-toggleable\"><input class=\"sk-toggleable__control sk-hidden--visually\" id=\"sk-estimator-id-9\" type=\"checkbox\" ><label for=\"sk-estimator-id-9\" class=\"sk-toggleable__label sk-toggleable__label-arrow\">LogisticRegression</label><div class=\"sk-toggleable__content\"><pre>LogisticRegression(random_state=5)</pre></div></div></div></div></div></div></div></div></div></div>"
      ],
      "text/plain": [
       "GridSearchCV(cv=3, estimator=LogisticRegression(random_state=5), n_jobs=-1,\n",
       "             param_grid=[{'C': [0.01, 0.1, 1, 2, 10, 100],\n",
       "                          'penalty': ['l1', 'l2']}],\n",
       "             scoring='f1', verbose=False)"
      ]
     },
     "execution_count": 85,
     "metadata": {},
     "output_type": "execute_result"
    }
   ],
   "source": [
    "logreg_grid = GridSearchCV(logreg, \n",
    "                           param_grid, \n",
    "                           cv=3, \n",
    "                           verbose=False, \n",
    "                           n_jobs=-1,\n",
    "                          scoring='f1')\n",
    "\n",
    "logreg_grid.fit(X_train_vect, y_train)"
   ]
  },
  {
   "cell_type": "code",
   "execution_count": 89,
   "id": "38b4f939",
   "metadata": {},
   "outputs": [
    {
     "name": "stdout",
     "output_type": "stream",
     "text": [
      "Наилучшее значение перекрестной проверки: 0.76\n",
      "Наилучшие параметры:  {'C': 10, 'penalty': 'l2'}\n"
     ]
    }
   ],
   "source": [
    "print(\"Наилучшее значение перекрестной проверки: {:.2f}\".format(logreg_grid.best_score_))\n",
    "print(\"Наилучшие параметры: \", logreg_grid.best_params_)"
   ]
  },
  {
   "cell_type": "code",
   "execution_count": 90,
   "id": "dbdf0a4d",
   "metadata": {},
   "outputs": [],
   "source": [
    "y_pred_vect = logreg_grid.predict(tf_idf_X_test)"
   ]
  },
  {
   "cell_type": "code",
   "execution_count": 91,
   "id": "c9f532b0",
   "metadata": {
    "scrolled": true
   },
   "outputs": [
    {
     "data": {
      "text/plain": [
       "array([[28553,  2011],\n",
       "       [   14,  1281]])"
      ]
     },
     "execution_count": 91,
     "metadata": {},
     "output_type": "execute_result"
    }
   ],
   "source": [
    "confusion_matrix(y_pred_vect, y_test)"
   ]
  },
  {
   "cell_type": "markdown",
   "id": "f998fa73",
   "metadata": {},
   "source": [
    "### ***Вывод:*** Полученная confusion_matrix представляет собой массив размером 2x2, где строки соответствуют фактическим классам, а столбцы соответствуют спрогнозированным классам. В данном случае речь идет о классах 0 и 1, то есть нетоксичный (0) и токсичный (1) комментарий.\n",
    "\n",
    "Число в каждой ячейке показывает количество примеров, когда спрогнозированный класс, представленный столбцом, совпадает или не совпадает с фактическим классом, представленным строкой.\n",
    "\n",
    "#### В полученной матрице видим, что элементы главной диагонали (28553 --> 0, 2011 --> 1) соответствуют правильным прогнозам (результатам классификации), тогда как остальные элементы показывают, сколько примеров, относящихся к одному классу, были ошибочно классифицированы как другой класс.\n",
    "\n",
    "**Получается, что фактический класс 0 (28553) и спрогнозированный класс 0 (14) прогнозируется довольно точно. В то время, как фактический класс 1 (1281) прогнозируется с низкой точностью: только 1281 класс действительно является классом 1 из 2011 наблюдений, тогда как 2011 - ложно положительны. Эту модель точно нельзя рекомендовать к использованию.**"
   ]
  },
  {
   "cell_type": "markdown",
   "id": "8f36a3c4",
   "metadata": {},
   "source": [
    "### 2.2 Logistic Regression с использованием решетчатого поиска для модели «мешка слов» в классе TfidfVectorizer()"
   ]
  },
  {
   "cell_type": "markdown",
   "id": "1e022641",
   "metadata": {},
   "source": [
    "Поскольку tf-idf фактически использует статистические свойства\n",
    "обучающих данных, мы воспользуемся конвейером, чтобы убедиться в достоверности результатов решетчатого поиска."
   ]
  },
  {
   "cell_type": "markdown",
   "id": "e568d936",
   "metadata": {},
   "source": [
    "#### Обучим модель на несбалансированной выборке таргетов"
   ]
  },
  {
   "cell_type": "code",
   "execution_count": 92,
   "id": "5e60a49a",
   "metadata": {},
   "outputs": [],
   "source": [
    "logreg_tfidf = LogisticRegression(random_state=5)"
   ]
  },
  {
   "cell_type": "code",
   "execution_count": 93,
   "id": "e2b07c66",
   "metadata": {
    "scrolled": true
   },
   "outputs": [
    {
     "name": "stderr",
     "output_type": "stream",
     "text": [
      "/usr/local/Cellar/jupyterlab/3.4.8/libexec/lib/python3.10/site-packages/sklearn/linear_model/_logistic.py:444: ConvergenceWarning: lbfgs failed to converge (status=1):\n",
      "STOP: TOTAL NO. of ITERATIONS REACHED LIMIT.\n",
      "\n",
      "Increase the number of iterations (max_iter) or scale the data as shown in:\n",
      "    https://scikit-learn.org/stable/modules/preprocessing.html\n",
      "Please also refer to the documentation for alternative solver options:\n",
      "    https://scikit-learn.org/stable/modules/linear_model.html#logistic-regression\n",
      "  n_iter_i = _check_optimize_result(\n",
      "/usr/local/Cellar/jupyterlab/3.4.8/libexec/lib/python3.10/site-packages/sklearn/linear_model/_logistic.py:444: ConvergenceWarning: lbfgs failed to converge (status=1):\n",
      "STOP: TOTAL NO. of ITERATIONS REACHED LIMIT.\n",
      "\n",
      "Increase the number of iterations (max_iter) or scale the data as shown in:\n",
      "    https://scikit-learn.org/stable/modules/preprocessing.html\n",
      "Please also refer to the documentation for alternative solver options:\n",
      "    https://scikit-learn.org/stable/modules/linear_model.html#logistic-regression\n",
      "  n_iter_i = _check_optimize_result(\n",
      "/usr/local/Cellar/jupyterlab/3.4.8/libexec/lib/python3.10/site-packages/sklearn/linear_model/_logistic.py:444: ConvergenceWarning: lbfgs failed to converge (status=1):\n",
      "STOP: TOTAL NO. of ITERATIONS REACHED LIMIT.\n",
      "\n",
      "Increase the number of iterations (max_iter) or scale the data as shown in:\n",
      "    https://scikit-learn.org/stable/modules/preprocessing.html\n",
      "Please also refer to the documentation for alternative solver options:\n",
      "    https://scikit-learn.org/stable/modules/linear_model.html#logistic-regression\n",
      "  n_iter_i = _check_optimize_result(\n",
      "/usr/local/Cellar/jupyterlab/3.4.8/libexec/lib/python3.10/site-packages/sklearn/linear_model/_logistic.py:444: ConvergenceWarning: lbfgs failed to converge (status=1):\n",
      "STOP: TOTAL NO. of ITERATIONS REACHED LIMIT.\n",
      "\n",
      "Increase the number of iterations (max_iter) or scale the data as shown in:\n",
      "    https://scikit-learn.org/stable/modules/preprocessing.html\n",
      "Please also refer to the documentation for alternative solver options:\n",
      "    https://scikit-learn.org/stable/modules/linear_model.html#logistic-regression\n",
      "  n_iter_i = _check_optimize_result(\n"
     ]
    },
    {
     "name": "stdout",
     "output_type": "stream",
     "text": [
      "Наилучшее значение перекрестной проверки: 0.76\n"
     ]
    },
    {
     "name": "stderr",
     "output_type": "stream",
     "text": [
      "/usr/local/Cellar/jupyterlab/3.4.8/libexec/lib/python3.10/site-packages/sklearn/linear_model/_logistic.py:444: ConvergenceWarning: lbfgs failed to converge (status=1):\n",
      "STOP: TOTAL NO. of ITERATIONS REACHED LIMIT.\n",
      "\n",
      "Increase the number of iterations (max_iter) or scale the data as shown in:\n",
      "    https://scikit-learn.org/stable/modules/preprocessing.html\n",
      "Please also refer to the documentation for alternative solver options:\n",
      "    https://scikit-learn.org/stable/modules/linear_model.html#logistic-regression\n",
      "  n_iter_i = _check_optimize_result(\n"
     ]
    }
   ],
   "source": [
    "param_grid = {'C': [0.001, 0.01, 0.1, 1, 10]}\n",
    "\n",
    "grid = GridSearchCV(logreg_tfidf, \n",
    "                    param_grid, \n",
    "                    cv=3,\n",
    "                   scoring='f1')\n",
    "\n",
    "grid.fit(tf_idf_X_train, y_train)"
   ]
  },
  {
   "cell_type": "code",
   "execution_count": 97,
   "id": "0858472b",
   "metadata": {},
   "outputs": [],
   "source": [
    "y_pred_tfidf = grid.predict(tf_idf_X_test)"
   ]
  },
  {
   "cell_type": "code",
   "execution_count": 98,
   "id": "6c230e6e",
   "metadata": {},
   "outputs": [
    {
     "data": {
      "text/plain": [
       "array([[28282,  1026],\n",
       "       [  285,  2266]])"
      ]
     },
     "execution_count": 98,
     "metadata": {},
     "output_type": "execute_result"
    }
   ],
   "source": [
    "confusion_matrix(y_pred_tfidf, y_test)"
   ]
  },
  {
   "cell_type": "markdown",
   "id": "ba4313fc",
   "metadata": {},
   "source": [
    "### ***Вывод:*** Видим, что мажоритарный класс предсказывается хорошо, а миноритарный дает больше половины ложноположительной ответов FP=1026."
   ]
  },
  {
   "cell_type": "markdown",
   "id": "1415572f",
   "metadata": {},
   "source": [
    "#### Обучим модель на сбалансированной выборке таргетов"
   ]
  },
  {
   "cell_type": "code",
   "execution_count": 128,
   "id": "4b272447",
   "metadata": {},
   "outputs": [
    {
     "name": "stderr",
     "output_type": "stream",
     "text": [
      "/usr/local/Cellar/jupyterlab/3.4.8/libexec/lib/python3.10/site-packages/sklearn/linear_model/_logistic.py:444: ConvergenceWarning: lbfgs failed to converge (status=1):\n",
      "STOP: TOTAL NO. of ITERATIONS REACHED LIMIT.\n",
      "\n",
      "Increase the number of iterations (max_iter) or scale the data as shown in:\n",
      "    https://scikit-learn.org/stable/modules/preprocessing.html\n",
      "Please also refer to the documentation for alternative solver options:\n",
      "    https://scikit-learn.org/stable/modules/linear_model.html#logistic-regression\n",
      "  n_iter_i = _check_optimize_result(\n",
      "/usr/local/Cellar/jupyterlab/3.4.8/libexec/lib/python3.10/site-packages/sklearn/linear_model/_logistic.py:444: ConvergenceWarning: lbfgs failed to converge (status=1):\n",
      "STOP: TOTAL NO. of ITERATIONS REACHED LIMIT.\n",
      "\n",
      "Increase the number of iterations (max_iter) or scale the data as shown in:\n",
      "    https://scikit-learn.org/stable/modules/preprocessing.html\n",
      "Please also refer to the documentation for alternative solver options:\n",
      "    https://scikit-learn.org/stable/modules/linear_model.html#logistic-regression\n",
      "  n_iter_i = _check_optimize_result(\n",
      "/usr/local/Cellar/jupyterlab/3.4.8/libexec/lib/python3.10/site-packages/sklearn/linear_model/_logistic.py:444: ConvergenceWarning: lbfgs failed to converge (status=1):\n",
      "STOP: TOTAL NO. of ITERATIONS REACHED LIMIT.\n",
      "\n",
      "Increase the number of iterations (max_iter) or scale the data as shown in:\n",
      "    https://scikit-learn.org/stable/modules/preprocessing.html\n",
      "Please also refer to the documentation for alternative solver options:\n",
      "    https://scikit-learn.org/stable/modules/linear_model.html#logistic-regression\n",
      "  n_iter_i = _check_optimize_result(\n",
      "/usr/local/Cellar/jupyterlab/3.4.8/libexec/lib/python3.10/site-packages/sklearn/linear_model/_logistic.py:444: ConvergenceWarning: lbfgs failed to converge (status=1):\n",
      "STOP: TOTAL NO. of ITERATIONS REACHED LIMIT.\n",
      "\n",
      "Increase the number of iterations (max_iter) or scale the data as shown in:\n",
      "    https://scikit-learn.org/stable/modules/preprocessing.html\n",
      "Please also refer to the documentation for alternative solver options:\n",
      "    https://scikit-learn.org/stable/modules/linear_model.html#logistic-regression\n",
      "  n_iter_i = _check_optimize_result(\n",
      "/usr/local/Cellar/jupyterlab/3.4.8/libexec/lib/python3.10/site-packages/sklearn/linear_model/_logistic.py:444: ConvergenceWarning: lbfgs failed to converge (status=1):\n",
      "STOP: TOTAL NO. of ITERATIONS REACHED LIMIT.\n",
      "\n",
      "Increase the number of iterations (max_iter) or scale the data as shown in:\n",
      "    https://scikit-learn.org/stable/modules/preprocessing.html\n",
      "Please also refer to the documentation for alternative solver options:\n",
      "    https://scikit-learn.org/stable/modules/linear_model.html#logistic-regression\n",
      "  n_iter_i = _check_optimize_result(\n",
      "/usr/local/Cellar/jupyterlab/3.4.8/libexec/lib/python3.10/site-packages/sklearn/linear_model/_logistic.py:444: ConvergenceWarning: lbfgs failed to converge (status=1):\n",
      "STOP: TOTAL NO. of ITERATIONS REACHED LIMIT.\n",
      "\n",
      "Increase the number of iterations (max_iter) or scale the data as shown in:\n",
      "    https://scikit-learn.org/stable/modules/preprocessing.html\n",
      "Please also refer to the documentation for alternative solver options:\n",
      "    https://scikit-learn.org/stable/modules/linear_model.html#logistic-regression\n",
      "  n_iter_i = _check_optimize_result(\n",
      "/usr/local/Cellar/jupyterlab/3.4.8/libexec/lib/python3.10/site-packages/sklearn/linear_model/_logistic.py:444: ConvergenceWarning: lbfgs failed to converge (status=1):\n",
      "STOP: TOTAL NO. of ITERATIONS REACHED LIMIT.\n",
      "\n",
      "Increase the number of iterations (max_iter) or scale the data as shown in:\n",
      "    https://scikit-learn.org/stable/modules/preprocessing.html\n",
      "Please also refer to the documentation for alternative solver options:\n",
      "    https://scikit-learn.org/stable/modules/linear_model.html#logistic-regression\n",
      "  n_iter_i = _check_optimize_result(\n"
     ]
    },
    {
     "data": {
      "text/html": [
       "<style>#sk-container-id-5 {color: black;background-color: white;}#sk-container-id-5 pre{padding: 0;}#sk-container-id-5 div.sk-toggleable {background-color: white;}#sk-container-id-5 label.sk-toggleable__label {cursor: pointer;display: block;width: 100%;margin-bottom: 0;padding: 0.3em;box-sizing: border-box;text-align: center;}#sk-container-id-5 label.sk-toggleable__label-arrow:before {content: \"▸\";float: left;margin-right: 0.25em;color: #696969;}#sk-container-id-5 label.sk-toggleable__label-arrow:hover:before {color: black;}#sk-container-id-5 div.sk-estimator:hover label.sk-toggleable__label-arrow:before {color: black;}#sk-container-id-5 div.sk-toggleable__content {max-height: 0;max-width: 0;overflow: hidden;text-align: left;background-color: #f0f8ff;}#sk-container-id-5 div.sk-toggleable__content pre {margin: 0.2em;color: black;border-radius: 0.25em;background-color: #f0f8ff;}#sk-container-id-5 input.sk-toggleable__control:checked~div.sk-toggleable__content {max-height: 200px;max-width: 100%;overflow: auto;}#sk-container-id-5 input.sk-toggleable__control:checked~label.sk-toggleable__label-arrow:before {content: \"▾\";}#sk-container-id-5 div.sk-estimator input.sk-toggleable__control:checked~label.sk-toggleable__label {background-color: #d4ebff;}#sk-container-id-5 div.sk-label input.sk-toggleable__control:checked~label.sk-toggleable__label {background-color: #d4ebff;}#sk-container-id-5 input.sk-hidden--visually {border: 0;clip: rect(1px 1px 1px 1px);clip: rect(1px, 1px, 1px, 1px);height: 1px;margin: -1px;overflow: hidden;padding: 0;position: absolute;width: 1px;}#sk-container-id-5 div.sk-estimator {font-family: monospace;background-color: #f0f8ff;border: 1px dotted black;border-radius: 0.25em;box-sizing: border-box;margin-bottom: 0.5em;}#sk-container-id-5 div.sk-estimator:hover {background-color: #d4ebff;}#sk-container-id-5 div.sk-parallel-item::after {content: \"\";width: 100%;border-bottom: 1px solid gray;flex-grow: 1;}#sk-container-id-5 div.sk-label:hover label.sk-toggleable__label {background-color: #d4ebff;}#sk-container-id-5 div.sk-serial::before {content: \"\";position: absolute;border-left: 1px solid gray;box-sizing: border-box;top: 0;bottom: 0;left: 50%;z-index: 0;}#sk-container-id-5 div.sk-serial {display: flex;flex-direction: column;align-items: center;background-color: white;padding-right: 0.2em;padding-left: 0.2em;position: relative;}#sk-container-id-5 div.sk-item {position: relative;z-index: 1;}#sk-container-id-5 div.sk-parallel {display: flex;align-items: stretch;justify-content: center;background-color: white;position: relative;}#sk-container-id-5 div.sk-item::before, #sk-container-id-5 div.sk-parallel-item::before {content: \"\";position: absolute;border-left: 1px solid gray;box-sizing: border-box;top: 0;bottom: 0;left: 50%;z-index: -1;}#sk-container-id-5 div.sk-parallel-item {display: flex;flex-direction: column;z-index: 1;position: relative;background-color: white;}#sk-container-id-5 div.sk-parallel-item:first-child::after {align-self: flex-end;width: 50%;}#sk-container-id-5 div.sk-parallel-item:last-child::after {align-self: flex-start;width: 50%;}#sk-container-id-5 div.sk-parallel-item:only-child::after {width: 0;}#sk-container-id-5 div.sk-dashed-wrapped {border: 1px dashed gray;margin: 0 0.4em 0.5em 0.4em;box-sizing: border-box;padding-bottom: 0.4em;background-color: white;}#sk-container-id-5 div.sk-label label {font-family: monospace;font-weight: bold;display: inline-block;line-height: 1.2em;}#sk-container-id-5 div.sk-label-container {text-align: center;}#sk-container-id-5 div.sk-container {/* jupyter's `normalize.less` sets `[hidden] { display: none; }` but bootstrap.min.css set `[hidden] { display: none !important; }` so we also need the `!important` here to be able to override the default hidden behavior on the sphinx rendered scikit-learn.org. See: https://github.com/scikit-learn/scikit-learn/issues/21755 */display: inline-block !important;position: relative;}#sk-container-id-5 div.sk-text-repr-fallback {display: none;}</style><div id=\"sk-container-id-5\" class=\"sk-top-container\"><div class=\"sk-text-repr-fallback\"><pre>GridSearchCV(cv=3, estimator=LogisticRegression(random_state=5),\n",
       "             param_grid={&#x27;C&#x27;: [0.001, 0.01, 0.1, 1, 10]}, scoring=&#x27;f1&#x27;)</pre><b>In a Jupyter environment, please rerun this cell to show the HTML representation or trust the notebook. <br />On GitHub, the HTML representation is unable to render, please try loading this page with nbviewer.org.</b></div><div class=\"sk-container\" hidden><div class=\"sk-item sk-dashed-wrapped\"><div class=\"sk-label-container\"><div class=\"sk-label sk-toggleable\"><input class=\"sk-toggleable__control sk-hidden--visually\" id=\"sk-estimator-id-13\" type=\"checkbox\" ><label for=\"sk-estimator-id-13\" class=\"sk-toggleable__label sk-toggleable__label-arrow\">GridSearchCV</label><div class=\"sk-toggleable__content\"><pre>GridSearchCV(cv=3, estimator=LogisticRegression(random_state=5),\n",
       "             param_grid={&#x27;C&#x27;: [0.001, 0.01, 0.1, 1, 10]}, scoring=&#x27;f1&#x27;)</pre></div></div></div><div class=\"sk-parallel\"><div class=\"sk-parallel-item\"><div class=\"sk-item\"><div class=\"sk-label-container\"><div class=\"sk-label sk-toggleable\"><input class=\"sk-toggleable__control sk-hidden--visually\" id=\"sk-estimator-id-14\" type=\"checkbox\" ><label for=\"sk-estimator-id-14\" class=\"sk-toggleable__label sk-toggleable__label-arrow\">estimator: LogisticRegression</label><div class=\"sk-toggleable__content\"><pre>LogisticRegression(random_state=5)</pre></div></div></div><div class=\"sk-serial\"><div class=\"sk-item\"><div class=\"sk-estimator sk-toggleable\"><input class=\"sk-toggleable__control sk-hidden--visually\" id=\"sk-estimator-id-15\" type=\"checkbox\" ><label for=\"sk-estimator-id-15\" class=\"sk-toggleable__label sk-toggleable__label-arrow\">LogisticRegression</label><div class=\"sk-toggleable__content\"><pre>LogisticRegression(random_state=5)</pre></div></div></div></div></div></div></div></div></div></div>"
      ],
      "text/plain": [
       "GridSearchCV(cv=3, estimator=LogisticRegression(random_state=5),\n",
       "             param_grid={'C': [0.001, 0.01, 0.1, 1, 10]}, scoring='f1')"
      ]
     },
     "execution_count": 128,
     "metadata": {},
     "output_type": "execute_result"
    }
   ],
   "source": [
    "logreg_tfidf_up = LogisticRegression(random_state=5)\n",
    "\n",
    "param_grid_up = {'C': [0.001, 0.01, 0.1, 1, 10]}\n",
    "\n",
    "grid_up = GridSearchCV(logreg_tfidf_up, \n",
    "                    param_grid_up, \n",
    "                    cv=3,\n",
    "                   scoring='f1')\n",
    "\n",
    "grid_up.fit(tf_idf_X_train_up, y_train_up)"
   ]
  },
  {
   "cell_type": "code",
   "execution_count": 129,
   "id": "07a94ddb",
   "metadata": {
    "scrolled": true
   },
   "outputs": [
    {
     "data": {
      "text/plain": [
       "array([[28282,  1026],\n",
       "       [  285,  2266]])"
      ]
     },
     "execution_count": 129,
     "metadata": {},
     "output_type": "execute_result"
    }
   ],
   "source": [
    "y_pred_tfidf_up = grid_up.predict(tf_idf_X_test)\n",
    "confusion_matrix(y_pred_tfidf, y_test)"
   ]
  },
  {
   "cell_type": "markdown",
   "id": "be5078fd",
   "metadata": {},
   "source": [
    "### ***Вывод:*** Видим, что балансировка классов не улучшила качество обучения модели: число ложно положительных ответов по-прежнему высокое FP=1026, однако мажоритарный класс предсказывается хорошо. Обратим внимание, какое значение F1-меры показал алгоритм на сбалансированной выборке."
   ]
  },
  {
   "cell_type": "markdown",
   "id": "7556bde5",
   "metadata": {},
   "source": [
    "### 2.3 CatBoost в модели \"мешка слов\" в классе TfidfVectorizer()"
   ]
  },
  {
   "cell_type": "markdown",
   "id": "21aecb79",
   "metadata": {},
   "source": [
    "#### Обучим модель на несбалансированной выборке таргетов"
   ]
  },
  {
   "cell_type": "code",
   "execution_count": 103,
   "id": "ffb23471",
   "metadata": {
    "scrolled": true
   },
   "outputs": [
    {
     "name": "stdout",
     "output_type": "stream",
     "text": [
      "0:\tlearn: 0.5933380\ttotal: 3.78s\tremaining: 2m 27s\n",
      "1:\tlearn: 0.5175725\ttotal: 6.8s\tremaining: 2m 9s\n",
      "2:\tlearn: 0.4577321\ttotal: 9.01s\tremaining: 1m 51s\n",
      "3:\tlearn: 0.4124881\ttotal: 10.8s\tremaining: 1m 37s\n",
      "4:\tlearn: 0.3776291\ttotal: 12.7s\tremaining: 1m 28s\n",
      "5:\tlearn: 0.3478793\ttotal: 14.5s\tremaining: 1m 21s\n",
      "6:\tlearn: 0.3246453\ttotal: 16s\tremaining: 1m 15s\n",
      "7:\tlearn: 0.3068377\ttotal: 17.5s\tremaining: 1m 9s\n",
      "8:\tlearn: 0.2921749\ttotal: 18.9s\tremaining: 1m 5s\n",
      "9:\tlearn: 0.2791147\ttotal: 20.3s\tremaining: 1m\n",
      "10:\tlearn: 0.2697044\ttotal: 21.7s\tremaining: 57.3s\n",
      "11:\tlearn: 0.2619188\ttotal: 23s\tremaining: 53.6s\n",
      "12:\tlearn: 0.2555392\ttotal: 24.5s\tremaining: 50.9s\n",
      "13:\tlearn: 0.2499542\ttotal: 26.2s\tremaining: 48.6s\n",
      "14:\tlearn: 0.2454003\ttotal: 27.9s\tremaining: 46.5s\n",
      "15:\tlearn: 0.2415229\ttotal: 29.6s\tremaining: 44.4s\n",
      "16:\tlearn: 0.2379865\ttotal: 31.5s\tremaining: 42.6s\n",
      "17:\tlearn: 0.2347276\ttotal: 33.5s\tremaining: 40.9s\n",
      "18:\tlearn: 0.2322673\ttotal: 35.2s\tremaining: 38.9s\n",
      "19:\tlearn: 0.2292300\ttotal: 37s\tremaining: 37s\n",
      "20:\tlearn: 0.2272973\ttotal: 38.6s\tremaining: 34.9s\n",
      "21:\tlearn: 0.2252327\ttotal: 40.3s\tremaining: 33s\n",
      "22:\tlearn: 0.2234561\ttotal: 42s\tremaining: 31s\n",
      "23:\tlearn: 0.2216046\ttotal: 43.7s\tremaining: 29.2s\n",
      "24:\tlearn: 0.2201518\ttotal: 45.4s\tremaining: 27.2s\n",
      "25:\tlearn: 0.2187618\ttotal: 47.1s\tremaining: 25.4s\n",
      "26:\tlearn: 0.2170209\ttotal: 48.7s\tremaining: 23.5s\n",
      "27:\tlearn: 0.2156097\ttotal: 50.5s\tremaining: 21.6s\n",
      "28:\tlearn: 0.2141387\ttotal: 52.8s\tremaining: 20s\n",
      "29:\tlearn: 0.2130856\ttotal: 54.9s\tremaining: 18.3s\n",
      "30:\tlearn: 0.2118183\ttotal: 56.7s\tremaining: 16.5s\n",
      "31:\tlearn: 0.2108444\ttotal: 58.5s\tremaining: 14.6s\n",
      "32:\tlearn: 0.2098974\ttotal: 1m\tremaining: 12.8s\n",
      "33:\tlearn: 0.2084498\ttotal: 1m 2s\tremaining: 11s\n",
      "34:\tlearn: 0.2075160\ttotal: 1m 3s\tremaining: 9.14s\n",
      "35:\tlearn: 0.2063560\ttotal: 1m 5s\tremaining: 7.32s\n",
      "36:\tlearn: 0.2055535\ttotal: 1m 7s\tremaining: 5.48s\n",
      "37:\tlearn: 0.2046631\ttotal: 1m 9s\tremaining: 3.65s\n",
      "38:\tlearn: 0.2036500\ttotal: 1m 11s\tremaining: 1.82s\n",
      "39:\tlearn: 0.2028419\ttotal: 1m 12s\tremaining: 0us\n",
      "0:\tlearn: 0.5926237\ttotal: 2.89s\tremaining: 1m 52s\n",
      "1:\tlearn: 0.5163423\ttotal: 4.71s\tremaining: 1m 29s\n",
      "2:\tlearn: 0.4542542\ttotal: 6.57s\tremaining: 1m 21s\n",
      "3:\tlearn: 0.4083219\ttotal: 8.34s\tremaining: 1m 15s\n",
      "4:\tlearn: 0.3740614\ttotal: 10.2s\tremaining: 1m 11s\n",
      "5:\tlearn: 0.3458353\ttotal: 12s\tremaining: 1m 7s\n",
      "6:\tlearn: 0.3230717\ttotal: 13.6s\tremaining: 1m 4s\n",
      "7:\tlearn: 0.3048180\ttotal: 14.8s\tremaining: 59.2s\n",
      "8:\tlearn: 0.2902857\ttotal: 16.2s\tremaining: 55.9s\n",
      "9:\tlearn: 0.2785722\ttotal: 17.5s\tremaining: 52.6s\n",
      "10:\tlearn: 0.2694749\ttotal: 18.9s\tremaining: 49.9s\n",
      "11:\tlearn: 0.2619913\ttotal: 20.2s\tremaining: 47.1s\n",
      "12:\tlearn: 0.2555699\ttotal: 21.7s\tremaining: 45.1s\n",
      "13:\tlearn: 0.2498814\ttotal: 23.4s\tremaining: 43.4s\n",
      "14:\tlearn: 0.2452758\ttotal: 25s\tremaining: 41.7s\n",
      "15:\tlearn: 0.2402883\ttotal: 26.8s\tremaining: 40.1s\n",
      "16:\tlearn: 0.2367516\ttotal: 28.4s\tremaining: 38.5s\n",
      "17:\tlearn: 0.2339833\ttotal: 30.3s\tremaining: 37s\n",
      "18:\tlearn: 0.2305377\ttotal: 32s\tremaining: 35.4s\n",
      "19:\tlearn: 0.2281316\ttotal: 33.7s\tremaining: 33.7s\n",
      "20:\tlearn: 0.2258335\ttotal: 35.3s\tremaining: 32s\n",
      "21:\tlearn: 0.2240323\ttotal: 37s\tremaining: 30.3s\n",
      "22:\tlearn: 0.2223718\ttotal: 38.7s\tremaining: 28.6s\n",
      "23:\tlearn: 0.2207457\ttotal: 40.4s\tremaining: 26.9s\n",
      "24:\tlearn: 0.2193612\ttotal: 42.1s\tremaining: 25.2s\n",
      "25:\tlearn: 0.2175378\ttotal: 43.7s\tremaining: 23.5s\n",
      "26:\tlearn: 0.2156860\ttotal: 45.5s\tremaining: 21.9s\n",
      "27:\tlearn: 0.2145327\ttotal: 47.4s\tremaining: 20.3s\n",
      "28:\tlearn: 0.2134522\ttotal: 49.8s\tremaining: 18.9s\n",
      "29:\tlearn: 0.2120896\ttotal: 52s\tremaining: 17.3s\n",
      "30:\tlearn: 0.2110681\ttotal: 53.8s\tremaining: 15.6s\n",
      "31:\tlearn: 0.2097546\ttotal: 56s\tremaining: 14s\n",
      "32:\tlearn: 0.2088275\ttotal: 58.3s\tremaining: 12.4s\n",
      "33:\tlearn: 0.2075148\ttotal: 1m 1s\tremaining: 10.8s\n",
      "34:\tlearn: 0.2066390\ttotal: 1m 2s\tremaining: 8.99s\n",
      "35:\tlearn: 0.2058843\ttotal: 1m 4s\tremaining: 7.2s\n",
      "36:\tlearn: 0.2050616\ttotal: 1m 6s\tremaining: 5.4s\n",
      "37:\tlearn: 0.2042837\ttotal: 1m 8s\tremaining: 3.6s\n",
      "38:\tlearn: 0.2033128\ttotal: 1m 10s\tremaining: 1.81s\n",
      "39:\tlearn: 0.2023048\ttotal: 1m 12s\tremaining: 0us\n",
      "0:\tlearn: 0.5939429\ttotal: 3.43s\tremaining: 2m 13s\n",
      "1:\tlearn: 0.5183331\ttotal: 6.05s\tremaining: 1m 54s\n",
      "2:\tlearn: 0.4616284\ttotal: 8.22s\tremaining: 1m 41s\n",
      "3:\tlearn: 0.4137906\ttotal: 10.4s\tremaining: 1m 33s\n",
      "4:\tlearn: 0.3763662\ttotal: 12.4s\tremaining: 1m 27s\n",
      "5:\tlearn: 0.3474195\ttotal: 15s\tremaining: 1m 25s\n",
      "6:\tlearn: 0.3245326\ttotal: 17.3s\tremaining: 1m 21s\n",
      "7:\tlearn: 0.3063396\ttotal: 18.5s\tremaining: 1m 13s\n",
      "8:\tlearn: 0.2921139\ttotal: 20s\tremaining: 1m 8s\n",
      "9:\tlearn: 0.2790390\ttotal: 21.4s\tremaining: 1m 4s\n",
      "10:\tlearn: 0.2695440\ttotal: 22.8s\tremaining: 1m\n",
      "11:\tlearn: 0.2618796\ttotal: 24s\tremaining: 56.1s\n",
      "12:\tlearn: 0.2556178\ttotal: 25.4s\tremaining: 52.7s\n",
      "13:\tlearn: 0.2496003\ttotal: 27.2s\tremaining: 50.5s\n",
      "14:\tlearn: 0.2448353\ttotal: 28.9s\tremaining: 48.2s\n",
      "15:\tlearn: 0.2412070\ttotal: 30.6s\tremaining: 45.8s\n",
      "16:\tlearn: 0.2378149\ttotal: 32.2s\tremaining: 43.6s\n",
      "17:\tlearn: 0.2347732\ttotal: 33.9s\tremaining: 41.5s\n",
      "18:\tlearn: 0.2323917\ttotal: 35.6s\tremaining: 39.3s\n",
      "19:\tlearn: 0.2301276\ttotal: 37.3s\tremaining: 37.3s\n",
      "20:\tlearn: 0.2279727\ttotal: 39s\tremaining: 35.3s\n",
      "21:\tlearn: 0.2260463\ttotal: 40.7s\tremaining: 33.3s\n",
      "22:\tlearn: 0.2242355\ttotal: 42.4s\tremaining: 31.4s\n",
      "23:\tlearn: 0.2225291\ttotal: 44.1s\tremaining: 29.4s\n",
      "24:\tlearn: 0.2208637\ttotal: 45.8s\tremaining: 27.5s\n",
      "25:\tlearn: 0.2192829\ttotal: 47.6s\tremaining: 25.6s\n",
      "26:\tlearn: 0.2179616\ttotal: 49.2s\tremaining: 23.7s\n",
      "27:\tlearn: 0.2165843\ttotal: 50.8s\tremaining: 21.8s\n",
      "28:\tlearn: 0.2153887\ttotal: 53s\tremaining: 20.1s\n",
      "29:\tlearn: 0.2136305\ttotal: 55.1s\tremaining: 18.4s\n",
      "30:\tlearn: 0.2123138\ttotal: 57s\tremaining: 16.5s\n",
      "31:\tlearn: 0.2112684\ttotal: 58.8s\tremaining: 14.7s\n",
      "32:\tlearn: 0.2099427\ttotal: 1m\tremaining: 12.8s\n",
      "33:\tlearn: 0.2086088\ttotal: 1m 2s\tremaining: 11s\n",
      "34:\tlearn: 0.2076530\ttotal: 1m 4s\tremaining: 9.19s\n",
      "35:\tlearn: 0.2063587\ttotal: 1m 6s\tremaining: 7.36s\n",
      "36:\tlearn: 0.2055096\ttotal: 1m 8s\tremaining: 5.52s\n",
      "37:\tlearn: 0.2044671\ttotal: 1m 9s\tremaining: 3.68s\n",
      "38:\tlearn: 0.2032669\ttotal: 1m 11s\tremaining: 1.84s\n",
      "39:\tlearn: 0.2024803\ttotal: 1m 13s\tremaining: 0us\n",
      "0:\tlearn: 0.4408546\ttotal: 2.64s\tremaining: 1m 43s\n",
      "1:\tlearn: 0.3364933\ttotal: 4.93s\tremaining: 1m 33s\n",
      "2:\tlearn: 0.2847566\ttotal: 6.78s\tremaining: 1m 23s\n",
      "3:\tlearn: 0.2574013\ttotal: 8.59s\tremaining: 1m 17s\n",
      "4:\tlearn: 0.2428040\ttotal: 10.4s\tremaining: 1m 12s\n",
      "5:\tlearn: 0.2310029\ttotal: 12.3s\tremaining: 1m 9s\n",
      "6:\tlearn: 0.2245343\ttotal: 14.1s\tremaining: 1m 6s\n",
      "7:\tlearn: 0.2190031\ttotal: 15.4s\tremaining: 1m 1s\n",
      "8:\tlearn: 0.2149138\ttotal: 16.8s\tremaining: 58s\n",
      "9:\tlearn: 0.2105801\ttotal: 18.2s\tremaining: 54.6s\n",
      "10:\tlearn: 0.2072724\ttotal: 19.6s\tremaining: 51.7s\n",
      "11:\tlearn: 0.2044469\ttotal: 20.8s\tremaining: 48.6s\n",
      "12:\tlearn: 0.2000763\ttotal: 22.5s\tremaining: 46.7s\n",
      "13:\tlearn: 0.1972702\ttotal: 24.2s\tremaining: 44.9s\n",
      "14:\tlearn: 0.1954904\ttotal: 25.9s\tremaining: 43.2s\n",
      "15:\tlearn: 0.1936124\ttotal: 27.6s\tremaining: 41.4s\n",
      "16:\tlearn: 0.1916510\ttotal: 29.3s\tremaining: 39.6s\n",
      "17:\tlearn: 0.1894046\ttotal: 31s\tremaining: 37.9s\n",
      "18:\tlearn: 0.1875594\ttotal: 32.7s\tremaining: 36.1s\n",
      "19:\tlearn: 0.1854031\ttotal: 34.4s\tremaining: 34.4s\n",
      "20:\tlearn: 0.1834818\ttotal: 36.1s\tremaining: 32.7s\n",
      "21:\tlearn: 0.1820463\ttotal: 37.8s\tremaining: 30.9s\n",
      "22:\tlearn: 0.1805133\ttotal: 39.5s\tremaining: 29.2s\n",
      "23:\tlearn: 0.1789856\ttotal: 41.2s\tremaining: 27.5s\n",
      "24:\tlearn: 0.1777677\ttotal: 43s\tremaining: 25.8s\n",
      "25:\tlearn: 0.1766430\ttotal: 44.7s\tremaining: 24.1s\n",
      "26:\tlearn: 0.1754400\ttotal: 46.4s\tremaining: 22.3s\n",
      "27:\tlearn: 0.1736923\ttotal: 48.3s\tremaining: 20.7s\n",
      "28:\tlearn: 0.1726997\ttotal: 50.3s\tremaining: 19.1s\n",
      "29:\tlearn: 0.1716841\ttotal: 52.1s\tremaining: 17.4s\n",
      "30:\tlearn: 0.1707755\ttotal: 53.9s\tremaining: 15.6s\n",
      "31:\tlearn: 0.1699798\ttotal: 55.7s\tremaining: 13.9s\n",
      "32:\tlearn: 0.1690738\ttotal: 57.5s\tremaining: 12.2s\n",
      "33:\tlearn: 0.1682322\ttotal: 59.4s\tremaining: 10.5s\n",
      "34:\tlearn: 0.1671928\ttotal: 1m 1s\tremaining: 8.74s\n",
      "35:\tlearn: 0.1665513\ttotal: 1m 3s\tremaining: 7s\n",
      "36:\tlearn: 0.1657600\ttotal: 1m 4s\tremaining: 5.25s\n",
      "37:\tlearn: 0.1646481\ttotal: 1m 6s\tremaining: 3.5s\n",
      "38:\tlearn: 0.1636286\ttotal: 1m 8s\tremaining: 1.75s\n",
      "39:\tlearn: 0.1628628\ttotal: 1m 10s\tremaining: 0us\n",
      "0:\tlearn: 0.4391716\ttotal: 2.52s\tremaining: 1m 38s\n",
      "1:\tlearn: 0.3338816\ttotal: 4.82s\tremaining: 1m 31s\n",
      "2:\tlearn: 0.2817460\ttotal: 6.64s\tremaining: 1m 21s\n"
     ]
    },
    {
     "name": "stdout",
     "output_type": "stream",
     "text": [
      "3:\tlearn: 0.2556833\ttotal: 8.47s\tremaining: 1m 16s\n",
      "4:\tlearn: 0.2387147\ttotal: 10.2s\tremaining: 1m 11s\n",
      "5:\tlearn: 0.2293371\ttotal: 12.1s\tremaining: 1m 8s\n",
      "6:\tlearn: 0.2227093\ttotal: 13.7s\tremaining: 1m 4s\n",
      "7:\tlearn: 0.2174192\ttotal: 15.1s\tremaining: 1m\n",
      "8:\tlearn: 0.2126394\ttotal: 16.4s\tremaining: 56.6s\n",
      "9:\tlearn: 0.2093301\ttotal: 17.8s\tremaining: 53.5s\n",
      "10:\tlearn: 0.2057444\ttotal: 19.1s\tremaining: 50.5s\n",
      "11:\tlearn: 0.2030823\ttotal: 20.5s\tremaining: 47.7s\n",
      "12:\tlearn: 0.2006431\ttotal: 22.1s\tremaining: 46s\n",
      "13:\tlearn: 0.1984051\ttotal: 23.8s\tremaining: 44.3s\n",
      "14:\tlearn: 0.1946389\ttotal: 25.6s\tremaining: 42.6s\n",
      "15:\tlearn: 0.1925636\ttotal: 27.3s\tremaining: 40.9s\n",
      "16:\tlearn: 0.1901323\ttotal: 29s\tremaining: 39.2s\n",
      "17:\tlearn: 0.1879302\ttotal: 30.7s\tremaining: 37.5s\n",
      "18:\tlearn: 0.1863549\ttotal: 32.4s\tremaining: 35.8s\n",
      "19:\tlearn: 0.1844847\ttotal: 34.1s\tremaining: 34.1s\n",
      "20:\tlearn: 0.1832741\ttotal: 35.8s\tremaining: 32.4s\n",
      "21:\tlearn: 0.1818297\ttotal: 37.6s\tremaining: 30.7s\n",
      "22:\tlearn: 0.1805295\ttotal: 39.3s\tremaining: 29s\n",
      "23:\tlearn: 0.1792458\ttotal: 41s\tremaining: 27.3s\n",
      "24:\tlearn: 0.1780793\ttotal: 42.6s\tremaining: 25.6s\n",
      "25:\tlearn: 0.1765369\ttotal: 44.3s\tremaining: 23.9s\n",
      "26:\tlearn: 0.1753936\ttotal: 45.9s\tremaining: 22.1s\n",
      "27:\tlearn: 0.1743139\ttotal: 47.9s\tremaining: 20.5s\n",
      "28:\tlearn: 0.1733233\ttotal: 49.8s\tremaining: 18.9s\n",
      "29:\tlearn: 0.1725589\ttotal: 51.7s\tremaining: 17.2s\n",
      "30:\tlearn: 0.1714650\ttotal: 53.5s\tremaining: 15.5s\n",
      "31:\tlearn: 0.1705193\ttotal: 55.3s\tremaining: 13.8s\n",
      "32:\tlearn: 0.1696152\ttotal: 57.1s\tremaining: 12.1s\n",
      "33:\tlearn: 0.1686447\ttotal: 59s\tremaining: 10.4s\n",
      "34:\tlearn: 0.1676425\ttotal: 1m\tremaining: 8.68s\n",
      "35:\tlearn: 0.1668958\ttotal: 1m 2s\tremaining: 6.97s\n",
      "36:\tlearn: 0.1658809\ttotal: 1m 4s\tremaining: 5.23s\n",
      "37:\tlearn: 0.1643283\ttotal: 1m 6s\tremaining: 3.5s\n",
      "38:\tlearn: 0.1635947\ttotal: 1m 8s\tremaining: 1.75s\n",
      "39:\tlearn: 0.1628095\ttotal: 1m 10s\tremaining: 0us\n",
      "0:\tlearn: 0.4420928\ttotal: 2.68s\tremaining: 1m 44s\n",
      "1:\tlearn: 0.3355088\ttotal: 4.97s\tremaining: 1m 34s\n",
      "2:\tlearn: 0.2837401\ttotal: 6.85s\tremaining: 1m 24s\n",
      "3:\tlearn: 0.2576221\ttotal: 8.65s\tremaining: 1m 17s\n",
      "4:\tlearn: 0.2433400\ttotal: 10.7s\tremaining: 1m 15s\n",
      "5:\tlearn: 0.2319937\ttotal: 12.8s\tremaining: 1m 12s\n",
      "6:\tlearn: 0.2246165\ttotal: 14.3s\tremaining: 1m 7s\n",
      "7:\tlearn: 0.2191415\ttotal: 15.7s\tremaining: 1m 2s\n",
      "8:\tlearn: 0.2150185\ttotal: 17.2s\tremaining: 59.2s\n",
      "9:\tlearn: 0.2112210\ttotal: 18.7s\tremaining: 56s\n",
      "10:\tlearn: 0.2081257\ttotal: 20.1s\tremaining: 53s\n",
      "11:\tlearn: 0.2053806\ttotal: 21.5s\tremaining: 50.2s\n",
      "12:\tlearn: 0.2017621\ttotal: 23.4s\tremaining: 48.7s\n",
      "13:\tlearn: 0.1987724\ttotal: 25.3s\tremaining: 47s\n",
      "14:\tlearn: 0.1961911\ttotal: 27.1s\tremaining: 45.1s\n",
      "15:\tlearn: 0.1936922\ttotal: 28.8s\tremaining: 43.2s\n",
      "16:\tlearn: 0.1911630\ttotal: 30.6s\tremaining: 41.4s\n",
      "17:\tlearn: 0.1893620\ttotal: 32.4s\tremaining: 39.6s\n",
      "18:\tlearn: 0.1870452\ttotal: 34.2s\tremaining: 37.8s\n",
      "19:\tlearn: 0.1857339\ttotal: 35.9s\tremaining: 35.9s\n",
      "20:\tlearn: 0.1842248\ttotal: 37.6s\tremaining: 34s\n",
      "21:\tlearn: 0.1828237\ttotal: 39.4s\tremaining: 32.2s\n",
      "22:\tlearn: 0.1811947\ttotal: 41.2s\tremaining: 30.5s\n",
      "23:\tlearn: 0.1793983\ttotal: 43s\tremaining: 28.6s\n",
      "24:\tlearn: 0.1780233\ttotal: 44.7s\tremaining: 26.8s\n",
      "25:\tlearn: 0.1768381\ttotal: 46.4s\tremaining: 25s\n",
      "26:\tlearn: 0.1756239\ttotal: 48.1s\tremaining: 23.2s\n",
      "27:\tlearn: 0.1744858\ttotal: 50.4s\tremaining: 21.6s\n",
      "28:\tlearn: 0.1731333\ttotal: 52.3s\tremaining: 19.8s\n",
      "29:\tlearn: 0.1722351\ttotal: 54.2s\tremaining: 18.1s\n",
      "30:\tlearn: 0.1714951\ttotal: 56.2s\tremaining: 16.3s\n",
      "31:\tlearn: 0.1702736\ttotal: 58.1s\tremaining: 14.5s\n",
      "32:\tlearn: 0.1694418\ttotal: 59.8s\tremaining: 12.7s\n",
      "33:\tlearn: 0.1685698\ttotal: 1m 1s\tremaining: 10.9s\n",
      "34:\tlearn: 0.1674071\ttotal: 1m 3s\tremaining: 9.09s\n",
      "35:\tlearn: 0.1664484\ttotal: 1m 5s\tremaining: 7.28s\n",
      "36:\tlearn: 0.1656536\ttotal: 1m 7s\tremaining: 5.49s\n",
      "37:\tlearn: 0.1649483\ttotal: 1m 9s\tremaining: 3.67s\n",
      "38:\tlearn: 0.1635390\ttotal: 1m 11s\tremaining: 1.84s\n",
      "39:\tlearn: 0.1623962\ttotal: 1m 13s\tremaining: 0us\n",
      "0:\tlearn: 0.3436525\ttotal: 3.01s\tremaining: 1m 57s\n",
      "1:\tlearn: 0.2648715\ttotal: 5.08s\tremaining: 1m 36s\n",
      "2:\tlearn: 0.2396721\ttotal: 6.96s\tremaining: 1m 25s\n",
      "3:\tlearn: 0.2272722\ttotal: 8.79s\tremaining: 1m 19s\n",
      "4:\tlearn: 0.2163578\ttotal: 10.7s\tremaining: 1m 14s\n",
      "5:\tlearn: 0.2097508\ttotal: 12.7s\tremaining: 1m 11s\n",
      "6:\tlearn: 0.2047655\ttotal: 13.9s\tremaining: 1m 5s\n",
      "7:\tlearn: 0.2002983\ttotal: 15.4s\tremaining: 1m 1s\n",
      "8:\tlearn: 0.1967345\ttotal: 16.8s\tremaining: 58s\n",
      "9:\tlearn: 0.1916450\ttotal: 18.3s\tremaining: 54.8s\n",
      "10:\tlearn: 0.1878447\ttotal: 19.5s\tremaining: 51.5s\n",
      "11:\tlearn: 0.1856288\ttotal: 21s\tremaining: 49s\n",
      "12:\tlearn: 0.1818522\ttotal: 22.9s\tremaining: 47.5s\n",
      "13:\tlearn: 0.1790889\ttotal: 24.8s\tremaining: 46s\n",
      "14:\tlearn: 0.1767499\ttotal: 26.5s\tremaining: 44.2s\n",
      "15:\tlearn: 0.1745677\ttotal: 28.3s\tremaining: 42.4s\n",
      "16:\tlearn: 0.1729594\ttotal: 30s\tremaining: 40.6s\n",
      "17:\tlearn: 0.1712783\ttotal: 31.8s\tremaining: 38.9s\n",
      "18:\tlearn: 0.1690935\ttotal: 33.6s\tremaining: 37.2s\n",
      "19:\tlearn: 0.1660135\ttotal: 35.5s\tremaining: 35.5s\n",
      "20:\tlearn: 0.1646502\ttotal: 37.2s\tremaining: 33.7s\n",
      "21:\tlearn: 0.1631217\ttotal: 39s\tremaining: 31.9s\n",
      "22:\tlearn: 0.1618394\ttotal: 40.7s\tremaining: 30.1s\n",
      "23:\tlearn: 0.1605816\ttotal: 42.4s\tremaining: 28.3s\n",
      "24:\tlearn: 0.1588850\ttotal: 44.2s\tremaining: 26.5s\n",
      "25:\tlearn: 0.1577349\ttotal: 46s\tremaining: 24.8s\n",
      "26:\tlearn: 0.1564033\ttotal: 47.7s\tremaining: 23s\n",
      "27:\tlearn: 0.1553599\ttotal: 49.9s\tremaining: 21.4s\n",
      "28:\tlearn: 0.1540363\ttotal: 51.9s\tremaining: 19.7s\n",
      "29:\tlearn: 0.1528644\ttotal: 53.8s\tremaining: 17.9s\n",
      "30:\tlearn: 0.1519211\ttotal: 55.8s\tremaining: 16.2s\n",
      "31:\tlearn: 0.1509734\ttotal: 57.7s\tremaining: 14.4s\n",
      "32:\tlearn: 0.1500101\ttotal: 59.5s\tremaining: 12.6s\n",
      "33:\tlearn: 0.1492099\ttotal: 1m 1s\tremaining: 10.8s\n",
      "34:\tlearn: 0.1482364\ttotal: 1m 3s\tremaining: 9.02s\n",
      "35:\tlearn: 0.1470762\ttotal: 1m 5s\tremaining: 7.23s\n",
      "36:\tlearn: 0.1461056\ttotal: 1m 6s\tremaining: 5.42s\n",
      "37:\tlearn: 0.1453589\ttotal: 1m 8s\tremaining: 3.62s\n",
      "38:\tlearn: 0.1448510\ttotal: 1m 10s\tremaining: 1.81s\n",
      "39:\tlearn: 0.1436191\ttotal: 1m 12s\tremaining: 0us\n",
      "0:\tlearn: 0.3414917\ttotal: 2.68s\tremaining: 1m 44s\n",
      "1:\tlearn: 0.2607262\ttotal: 4.63s\tremaining: 1m 27s\n",
      "2:\tlearn: 0.2354448\ttotal: 6.53s\tremaining: 1m 20s\n",
      "3:\tlearn: 0.2230097\ttotal: 8.43s\tremaining: 1m 15s\n",
      "4:\tlearn: 0.2127704\ttotal: 10.4s\tremaining: 1m 13s\n",
      "5:\tlearn: 0.2069010\ttotal: 12s\tremaining: 1m 7s\n",
      "6:\tlearn: 0.2024027\ttotal: 13.4s\tremaining: 1m 3s\n",
      "7:\tlearn: 0.1985196\ttotal: 14.7s\tremaining: 58.9s\n",
      "8:\tlearn: 0.1944092\ttotal: 16.2s\tremaining: 55.8s\n",
      "9:\tlearn: 0.1911668\ttotal: 17.5s\tremaining: 52.5s\n",
      "10:\tlearn: 0.1877042\ttotal: 18.9s\tremaining: 49.7s\n",
      "11:\tlearn: 0.1843591\ttotal: 20.7s\tremaining: 48.4s\n",
      "12:\tlearn: 0.1805193\ttotal: 22.5s\tremaining: 46.8s\n",
      "13:\tlearn: 0.1784543\ttotal: 24.3s\tremaining: 45s\n",
      "14:\tlearn: 0.1766304\ttotal: 26s\tremaining: 43.4s\n",
      "15:\tlearn: 0.1744149\ttotal: 27.8s\tremaining: 41.7s\n",
      "16:\tlearn: 0.1726839\ttotal: 29.5s\tremaining: 40s\n",
      "17:\tlearn: 0.1702646\ttotal: 31.4s\tremaining: 38.4s\n",
      "18:\tlearn: 0.1689135\ttotal: 33.1s\tremaining: 36.6s\n",
      "19:\tlearn: 0.1668947\ttotal: 34.9s\tremaining: 34.9s\n",
      "20:\tlearn: 0.1657073\ttotal: 36.7s\tremaining: 33.2s\n",
      "21:\tlearn: 0.1646146\ttotal: 38.5s\tremaining: 31.5s\n",
      "22:\tlearn: 0.1632332\ttotal: 40.3s\tremaining: 29.8s\n",
      "23:\tlearn: 0.1618222\ttotal: 42.1s\tremaining: 28.1s\n",
      "24:\tlearn: 0.1599820\ttotal: 43.9s\tremaining: 26.3s\n",
      "25:\tlearn: 0.1588897\ttotal: 45.6s\tremaining: 24.5s\n",
      "26:\tlearn: 0.1576969\ttotal: 47.8s\tremaining: 23s\n",
      "27:\tlearn: 0.1567310\ttotal: 49.7s\tremaining: 21.3s\n",
      "28:\tlearn: 0.1551458\ttotal: 51.7s\tremaining: 19.6s\n",
      "29:\tlearn: 0.1544137\ttotal: 53.5s\tremaining: 17.8s\n",
      "30:\tlearn: 0.1534009\ttotal: 55.3s\tremaining: 16.1s\n",
      "31:\tlearn: 0.1525867\ttotal: 57.2s\tremaining: 14.3s\n",
      "32:\tlearn: 0.1515124\ttotal: 59.3s\tremaining: 12.6s\n",
      "33:\tlearn: 0.1503121\ttotal: 1m 1s\tremaining: 10.8s\n",
      "34:\tlearn: 0.1495056\ttotal: 1m 3s\tremaining: 9.04s\n",
      "35:\tlearn: 0.1481273\ttotal: 1m 5s\tremaining: 7.24s\n",
      "36:\tlearn: 0.1473170\ttotal: 1m 7s\tremaining: 5.43s\n",
      "37:\tlearn: 0.1465145\ttotal: 1m 8s\tremaining: 3.63s\n",
      "38:\tlearn: 0.1454871\ttotal: 1m 10s\tremaining: 1.82s\n",
      "39:\tlearn: 0.1448865\ttotal: 1m 12s\tremaining: 0us\n",
      "0:\tlearn: 0.3448973\ttotal: 4.72s\tremaining: 3m 4s\n",
      "1:\tlearn: 0.2625103\ttotal: 7.17s\tremaining: 2m 16s\n",
      "2:\tlearn: 0.2348399\ttotal: 9.21s\tremaining: 1m 53s\n",
      "3:\tlearn: 0.2237317\ttotal: 11.2s\tremaining: 1m 41s\n",
      "4:\tlearn: 0.2147681\ttotal: 13.2s\tremaining: 1m 32s\n",
      "5:\tlearn: 0.2085412\ttotal: 14.6s\tremaining: 1m 22s\n"
     ]
    },
    {
     "name": "stdout",
     "output_type": "stream",
     "text": [
      "6:\tlearn: 0.2028042\ttotal: 16.1s\tremaining: 1m 15s\n",
      "7:\tlearn: 0.1985961\ttotal: 17.5s\tremaining: 1m 9s\n",
      "8:\tlearn: 0.1947930\ttotal: 18.9s\tremaining: 1m 4s\n",
      "9:\tlearn: 0.1909380\ttotal: 18.9s\tremaining: 1m 4s\n",
      "10:\tlearn: 0.1864864\ttotal: 20.3s\tremaining: 58.9s\n",
      "11:\tlearn: 0.1837110\ttotal: 23.4s\tremaining: 59.7s\n",
      "12:\tlearn: 0.1813016\ttotal: 25.3s\tremaining: 57s\n",
      "13:\tlearn: 0.1790961\ttotal: 27.1s\tremaining: 54.2s\n",
      "14:\tlearn: 0.1762766\ttotal: 28.9s\tremaining: 51.5s\n",
      "15:\tlearn: 0.1742943\ttotal: 30.6s\tremaining: 49s\n",
      "16:\tlearn: 0.1725091\ttotal: 33.6s\tremaining: 48.3s\n",
      "17:\tlearn: 0.1707507\ttotal: 36.1s\tremaining: 46.7s\n",
      "18:\tlearn: 0.1686719\ttotal: 38.7s\tremaining: 45.1s\n",
      "19:\tlearn: 0.1675496\ttotal: 40.9s\tremaining: 43.1s\n",
      "20:\tlearn: 0.1659958\ttotal: 43.2s\tremaining: 41.1s\n",
      "21:\tlearn: 0.1640136\ttotal: 45.4s\tremaining: 38.9s\n",
      "22:\tlearn: 0.1624521\ttotal: 48s\tremaining: 37.1s\n",
      "23:\tlearn: 0.1608197\ttotal: 50.2s\tremaining: 34.9s\n",
      "24:\tlearn: 0.1597076\ttotal: 52.6s\tremaining: 32.9s\n",
      "25:\tlearn: 0.1584431\ttotal: 54.7s\tremaining: 30.6s\n",
      "26:\tlearn: 0.1571265\ttotal: 58.4s\tremaining: 29.2s\n",
      "27:\tlearn: 0.1559986\ttotal: 1m 1s\tremaining: 27.5s\n",
      "28:\tlearn: 0.1548845\ttotal: 1m 4s\tremaining: 25.3s\n",
      "29:\tlearn: 0.1537099\ttotal: 1m 6s\tremaining: 23s\n",
      "30:\tlearn: 0.1525716\ttotal: 1m 9s\tremaining: 20.8s\n",
      "31:\tlearn: 0.1514639\ttotal: 1m 11s\tremaining: 18.5s\n",
      "32:\tlearn: 0.1507020\ttotal: 1m 13s\tremaining: 16.2s\n",
      "33:\tlearn: 0.1497342\ttotal: 1m 16s\tremaining: 13.8s\n",
      "34:\tlearn: 0.1489355\ttotal: 1m 18s\tremaining: 11.5s\n",
      "35:\tlearn: 0.1478978\ttotal: 1m 20s\tremaining: 9.2s\n",
      "36:\tlearn: 0.1470023\ttotal: 1m 22s\tremaining: 6.89s\n",
      "37:\tlearn: 0.1464388\ttotal: 1m 24s\tremaining: 4.58s\n",
      "38:\tlearn: 0.1455477\ttotal: 1m 27s\tremaining: 2.29s\n",
      "39:\tlearn: 0.1448880\ttotal: 1m 29s\tremaining: 0us\n",
      "0:\tlearn: 0.2900132\ttotal: 2.75s\tremaining: 1m 47s\n",
      "1:\tlearn: 0.2432852\ttotal: 5.23s\tremaining: 1m 39s\n",
      "2:\tlearn: 0.2262020\ttotal: 7.05s\tremaining: 1m 26s\n",
      "3:\tlearn: 0.2124883\ttotal: 9.04s\tremaining: 1m 21s\n",
      "4:\tlearn: 0.2043814\ttotal: 10.8s\tremaining: 1m 15s\n",
      "5:\tlearn: 0.1983427\ttotal: 12s\tremaining: 1m 7s\n",
      "6:\tlearn: 0.1925858\ttotal: 13.4s\tremaining: 1m 3s\n",
      "7:\tlearn: 0.1882851\ttotal: 14.9s\tremaining: 59.6s\n",
      "8:\tlearn: 0.1839932\ttotal: 16.4s\tremaining: 56.3s\n",
      "9:\tlearn: 0.1799046\ttotal: 17.7s\tremaining: 53.2s\n",
      "10:\tlearn: 0.1753006\ttotal: 19.2s\tremaining: 50.6s\n",
      "11:\tlearn: 0.1716290\ttotal: 21.1s\tremaining: 49.1s\n",
      "12:\tlearn: 0.1695336\ttotal: 22.8s\tremaining: 47.4s\n",
      "13:\tlearn: 0.1663433\ttotal: 24.6s\tremaining: 45.7s\n",
      "14:\tlearn: 0.1640191\ttotal: 26.3s\tremaining: 43.9s\n",
      "15:\tlearn: 0.1623799\ttotal: 28.1s\tremaining: 42.2s\n",
      "16:\tlearn: 0.1605577\ttotal: 29.9s\tremaining: 40.4s\n",
      "17:\tlearn: 0.1580853\ttotal: 31.6s\tremaining: 38.7s\n",
      "18:\tlearn: 0.1566339\ttotal: 33.4s\tremaining: 36.9s\n",
      "19:\tlearn: 0.1551318\ttotal: 35.1s\tremaining: 35.1s\n",
      "20:\tlearn: 0.1530552\ttotal: 36.9s\tremaining: 33.3s\n",
      "21:\tlearn: 0.1519412\ttotal: 38.7s\tremaining: 31.7s\n",
      "22:\tlearn: 0.1506024\ttotal: 40.6s\tremaining: 30s\n",
      "23:\tlearn: 0.1493384\ttotal: 42.4s\tremaining: 28.3s\n",
      "24:\tlearn: 0.1482083\ttotal: 44.3s\tremaining: 26.6s\n",
      "25:\tlearn: 0.1473172\ttotal: 45.9s\tremaining: 24.7s\n",
      "26:\tlearn: 0.1458254\ttotal: 48.4s\tremaining: 23.3s\n",
      "27:\tlearn: 0.1446164\ttotal: 50.5s\tremaining: 21.6s\n",
      "28:\tlearn: 0.1434712\ttotal: 52.3s\tremaining: 19.8s\n",
      "29:\tlearn: 0.1427642\ttotal: 54.1s\tremaining: 18s\n",
      "30:\tlearn: 0.1415948\ttotal: 56s\tremaining: 16.2s\n",
      "31:\tlearn: 0.1409636\ttotal: 57.9s\tremaining: 14.5s\n",
      "32:\tlearn: 0.1402058\ttotal: 60s\tremaining: 12.7s\n",
      "33:\tlearn: 0.1395661\ttotal: 1m 2s\tremaining: 10.9s\n",
      "34:\tlearn: 0.1384026\ttotal: 1m 4s\tremaining: 9.16s\n",
      "35:\tlearn: 0.1375870\ttotal: 1m 6s\tremaining: 7.34s\n",
      "36:\tlearn: 0.1369915\ttotal: 1m 8s\tremaining: 5.52s\n",
      "37:\tlearn: 0.1361974\ttotal: 1m 9s\tremaining: 3.68s\n",
      "38:\tlearn: 0.1356386\ttotal: 1m 11s\tremaining: 1.84s\n",
      "39:\tlearn: 0.1347422\ttotal: 1m 13s\tremaining: 0us\n",
      "0:\tlearn: 0.2876736\ttotal: 2.41s\tremaining: 1m 34s\n",
      "1:\tlearn: 0.2377590\ttotal: 5.07s\tremaining: 1m 36s\n",
      "2:\tlearn: 0.2209665\ttotal: 7.02s\tremaining: 1m 26s\n",
      "3:\tlearn: 0.2076199\ttotal: 8.85s\tremaining: 1m 19s\n",
      "4:\tlearn: 0.2012099\ttotal: 10.6s\tremaining: 1m 14s\n",
      "5:\tlearn: 0.1950206\ttotal: 12s\tremaining: 1m 8s\n",
      "6:\tlearn: 0.1905004\ttotal: 13.5s\tremaining: 1m 3s\n",
      "7:\tlearn: 0.1851516\ttotal: 15s\tremaining: 59.9s\n",
      "8:\tlearn: 0.1806956\ttotal: 16.7s\tremaining: 57.5s\n",
      "9:\tlearn: 0.1772916\ttotal: 18.1s\tremaining: 54.4s\n",
      "10:\tlearn: 0.1735815\ttotal: 19.9s\tremaining: 52.3s\n",
      "11:\tlearn: 0.1703252\ttotal: 21.6s\tremaining: 50.4s\n",
      "12:\tlearn: 0.1681495\ttotal: 23.3s\tremaining: 48.3s\n",
      "13:\tlearn: 0.1664306\ttotal: 25s\tremaining: 46.4s\n",
      "14:\tlearn: 0.1643740\ttotal: 26.6s\tremaining: 44.4s\n",
      "15:\tlearn: 0.1626401\ttotal: 28.3s\tremaining: 42.5s\n",
      "16:\tlearn: 0.1609241\ttotal: 30s\tremaining: 40.6s\n",
      "17:\tlearn: 0.1592133\ttotal: 31.7s\tremaining: 38.7s\n",
      "18:\tlearn: 0.1576144\ttotal: 33.3s\tremaining: 36.8s\n",
      "19:\tlearn: 0.1561689\ttotal: 35.1s\tremaining: 35.1s\n",
      "20:\tlearn: 0.1551652\ttotal: 36.9s\tremaining: 33.4s\n",
      "21:\tlearn: 0.1538389\ttotal: 38.6s\tremaining: 31.5s\n",
      "22:\tlearn: 0.1522906\ttotal: 40.2s\tremaining: 29.7s\n",
      "23:\tlearn: 0.1513317\ttotal: 41.9s\tremaining: 27.9s\n",
      "24:\tlearn: 0.1500388\ttotal: 43.6s\tremaining: 26.1s\n",
      "25:\tlearn: 0.1486944\ttotal: 45.2s\tremaining: 24.3s\n",
      "26:\tlearn: 0.1474417\ttotal: 47.1s\tremaining: 22.7s\n",
      "27:\tlearn: 0.1465565\ttotal: 49.1s\tremaining: 21s\n",
      "28:\tlearn: 0.1450636\ttotal: 50.9s\tremaining: 19.3s\n",
      "29:\tlearn: 0.1433038\ttotal: 52.7s\tremaining: 17.6s\n",
      "30:\tlearn: 0.1423670\ttotal: 54.6s\tremaining: 15.9s\n",
      "31:\tlearn: 0.1414829\ttotal: 56.4s\tremaining: 14.1s\n",
      "32:\tlearn: 0.1405962\ttotal: 58.1s\tremaining: 12.3s\n",
      "33:\tlearn: 0.1398847\ttotal: 59.9s\tremaining: 10.6s\n",
      "34:\tlearn: 0.1391496\ttotal: 1m 1s\tremaining: 8.8s\n",
      "35:\tlearn: 0.1385701\ttotal: 1m 3s\tremaining: 7.04s\n",
      "36:\tlearn: 0.1380616\ttotal: 1m 5s\tremaining: 5.28s\n",
      "37:\tlearn: 0.1371538\ttotal: 1m 6s\tremaining: 3.52s\n",
      "38:\tlearn: 0.1360142\ttotal: 1m 8s\tremaining: 1.76s\n",
      "39:\tlearn: 0.1354588\ttotal: 1m 10s\tremaining: 0us\n",
      "0:\tlearn: 0.2911529\ttotal: 2.65s\tremaining: 1m 43s\n",
      "1:\tlearn: 0.2419378\ttotal: 4.98s\tremaining: 1m 34s\n",
      "2:\tlearn: 0.2209637\ttotal: 6.82s\tremaining: 1m 24s\n",
      "3:\tlearn: 0.2105109\ttotal: 8.61s\tremaining: 1m 17s\n",
      "4:\tlearn: 0.2030395\ttotal: 10.6s\tremaining: 1m 13s\n",
      "5:\tlearn: 0.1969751\ttotal: 11.9s\tremaining: 1m 7s\n",
      "6:\tlearn: 0.1916737\ttotal: 13.4s\tremaining: 1m 2s\n",
      "7:\tlearn: 0.1863519\ttotal: 14.6s\tremaining: 58.6s\n",
      "8:\tlearn: 0.1820933\ttotal: 16s\tremaining: 55.2s\n",
      "9:\tlearn: 0.1771280\ttotal: 17.6s\tremaining: 52.8s\n",
      "10:\tlearn: 0.1745373\ttotal: 19.1s\tremaining: 50.4s\n",
      "11:\tlearn: 0.1718862\ttotal: 21.5s\tremaining: 50.1s\n",
      "12:\tlearn: 0.1696482\ttotal: 23.3s\tremaining: 48.5s\n",
      "13:\tlearn: 0.1672437\ttotal: 25.1s\tremaining: 46.7s\n",
      "14:\tlearn: 0.1637946\ttotal: 27s\tremaining: 44.9s\n",
      "15:\tlearn: 0.1619339\ttotal: 28.9s\tremaining: 43.4s\n",
      "16:\tlearn: 0.1601746\ttotal: 31s\tremaining: 42s\n",
      "17:\tlearn: 0.1588526\ttotal: 33.1s\tremaining: 40.4s\n",
      "18:\tlearn: 0.1567531\ttotal: 35s\tremaining: 38.7s\n",
      "19:\tlearn: 0.1553022\ttotal: 36.8s\tremaining: 36.8s\n",
      "20:\tlearn: 0.1539926\ttotal: 38.5s\tremaining: 34.8s\n",
      "21:\tlearn: 0.1527990\ttotal: 40.1s\tremaining: 32.8s\n",
      "22:\tlearn: 0.1513433\ttotal: 41.9s\tremaining: 30.9s\n",
      "23:\tlearn: 0.1497932\ttotal: 43.5s\tremaining: 29s\n",
      "24:\tlearn: 0.1489613\ttotal: 45.2s\tremaining: 27.1s\n",
      "25:\tlearn: 0.1476806\ttotal: 46.8s\tremaining: 25.2s\n",
      "26:\tlearn: 0.1465116\ttotal: 48.5s\tremaining: 23.4s\n",
      "27:\tlearn: 0.1457964\ttotal: 50.1s\tremaining: 21.5s\n",
      "28:\tlearn: 0.1449246\ttotal: 51.9s\tremaining: 19.7s\n",
      "29:\tlearn: 0.1438634\ttotal: 53.5s\tremaining: 17.8s\n",
      "30:\tlearn: 0.1425424\ttotal: 55.2s\tremaining: 16s\n",
      "31:\tlearn: 0.1417958\ttotal: 56.9s\tremaining: 14.2s\n",
      "32:\tlearn: 0.1407720\ttotal: 58.6s\tremaining: 12.4s\n",
      "33:\tlearn: 0.1399375\ttotal: 1m\tremaining: 10.6s\n",
      "34:\tlearn: 0.1386884\ttotal: 1m 1s\tremaining: 8.85s\n",
      "35:\tlearn: 0.1375189\ttotal: 1m 3s\tremaining: 7.08s\n",
      "36:\tlearn: 0.1369114\ttotal: 1m 5s\tremaining: 5.3s\n",
      "37:\tlearn: 0.1361190\ttotal: 1m 7s\tremaining: 3.53s\n",
      "38:\tlearn: 0.1355233\ttotal: 1m 8s\tremaining: 1.76s\n",
      "39:\tlearn: 0.1342472\ttotal: 1m 10s\tremaining: 0us\n",
      "0:\tlearn: 0.2680971\ttotal: 3.08s\tremaining: 1m 59s\n",
      "1:\tlearn: 0.2366972\ttotal: 5.61s\tremaining: 1m 46s\n",
      "2:\tlearn: 0.2190936\ttotal: 7.5s\tremaining: 1m 32s\n",
      "3:\tlearn: 0.2054562\ttotal: 9.31s\tremaining: 1m 23s\n",
      "4:\tlearn: 0.1967754\ttotal: 11.3s\tremaining: 1m 18s\n",
      "5:\tlearn: 0.1909397\ttotal: 13.1s\tremaining: 1m 14s\n",
      "6:\tlearn: 0.1854040\ttotal: 14.9s\tremaining: 1m 10s\n",
      "7:\tlearn: 0.1803137\ttotal: 16.7s\tremaining: 1m 6s\n"
     ]
    },
    {
     "name": "stdout",
     "output_type": "stream",
     "text": [
      "8:\tlearn: 0.1763097\ttotal: 18.5s\tremaining: 1m 3s\n",
      "9:\tlearn: 0.1716666\ttotal: 20.4s\tremaining: 1m 1s\n",
      "10:\tlearn: 0.1683999\ttotal: 22.3s\tremaining: 58.7s\n",
      "11:\tlearn: 0.1659729\ttotal: 23.9s\tremaining: 55.9s\n",
      "12:\tlearn: 0.1635707\ttotal: 25.7s\tremaining: 53.4s\n",
      "13:\tlearn: 0.1611274\ttotal: 27.6s\tremaining: 51.2s\n",
      "14:\tlearn: 0.1575093\ttotal: 29.4s\tremaining: 49s\n",
      "15:\tlearn: 0.1557665\ttotal: 31.2s\tremaining: 46.8s\n",
      "16:\tlearn: 0.1537733\ttotal: 33s\tremaining: 44.7s\n",
      "17:\tlearn: 0.1523189\ttotal: 34.9s\tremaining: 42.6s\n",
      "18:\tlearn: 0.1502122\ttotal: 36.8s\tremaining: 40.7s\n",
      "19:\tlearn: 0.1489838\ttotal: 40.2s\tremaining: 40.2s\n",
      "20:\tlearn: 0.1473350\ttotal: 42.1s\tremaining: 38.1s\n",
      "21:\tlearn: 0.1461934\ttotal: 44s\tremaining: 36s\n",
      "22:\tlearn: 0.1452004\ttotal: 46.4s\tremaining: 34.3s\n",
      "23:\tlearn: 0.1438480\ttotal: 48.7s\tremaining: 32.5s\n",
      "24:\tlearn: 0.1423177\ttotal: 52.3s\tremaining: 31.4s\n",
      "25:\tlearn: 0.1415840\ttotal: 56.4s\tremaining: 30.4s\n",
      "26:\tlearn: 0.1404310\ttotal: 59.3s\tremaining: 28.5s\n",
      "27:\tlearn: 0.1396061\ttotal: 1m 1s\tremaining: 26.4s\n",
      "28:\tlearn: 0.1387042\ttotal: 1m 3s\tremaining: 24.2s\n",
      "29:\tlearn: 0.1375720\ttotal: 1m 6s\tremaining: 22.1s\n",
      "30:\tlearn: 0.1368480\ttotal: 1m 9s\tremaining: 20s\n",
      "31:\tlearn: 0.1360662\ttotal: 1m 11s\tremaining: 17.9s\n",
      "32:\tlearn: 0.1351579\ttotal: 1m 14s\tremaining: 15.7s\n",
      "33:\tlearn: 0.1344414\ttotal: 1m 16s\tremaining: 13.4s\n",
      "34:\tlearn: 0.1337912\ttotal: 1m 17s\tremaining: 11s\n",
      "35:\tlearn: 0.1331517\ttotal: 1m 18s\tremaining: 8.73s\n",
      "36:\tlearn: 0.1325556\ttotal: 1m 19s\tremaining: 6.46s\n",
      "37:\tlearn: 0.1318660\ttotal: 1m 20s\tremaining: 4.25s\n",
      "38:\tlearn: 0.1304599\ttotal: 1m 21s\tremaining: 2.1s\n",
      "39:\tlearn: 0.1298924\ttotal: 1m 22s\tremaining: 0us\n",
      "0:\tlearn: 0.2656487\ttotal: 1.2s\tremaining: 46.8s\n",
      "1:\tlearn: 0.2342907\ttotal: 2.29s\tremaining: 43.5s\n",
      "2:\tlearn: 0.2177438\ttotal: 3.68s\tremaining: 45.4s\n",
      "3:\tlearn: 0.2034161\ttotal: 5.02s\tremaining: 45.2s\n",
      "4:\tlearn: 0.1957610\ttotal: 6.09s\tremaining: 42.6s\n",
      "5:\tlearn: 0.1901517\ttotal: 7.19s\tremaining: 40.8s\n",
      "6:\tlearn: 0.1850134\ttotal: 8.21s\tremaining: 38.7s\n",
      "7:\tlearn: 0.1802443\ttotal: 9.27s\tremaining: 37.1s\n",
      "8:\tlearn: 0.1765269\ttotal: 10.9s\tremaining: 37.6s\n",
      "9:\tlearn: 0.1730274\ttotal: 12.1s\tremaining: 36.4s\n",
      "10:\tlearn: 0.1703404\ttotal: 13.4s\tremaining: 35.2s\n",
      "11:\tlearn: 0.1672348\ttotal: 15.6s\tremaining: 36.3s\n",
      "12:\tlearn: 0.1648243\ttotal: 17s\tremaining: 35.3s\n",
      "13:\tlearn: 0.1626471\ttotal: 18.2s\tremaining: 33.9s\n",
      "14:\tlearn: 0.1596128\ttotal: 19.3s\tremaining: 32.2s\n",
      "15:\tlearn: 0.1564484\ttotal: 20.3s\tremaining: 30.5s\n",
      "16:\tlearn: 0.1547080\ttotal: 21.3s\tremaining: 28.8s\n",
      "17:\tlearn: 0.1530161\ttotal: 22.3s\tremaining: 27.2s\n",
      "18:\tlearn: 0.1505794\ttotal: 23.3s\tremaining: 25.7s\n",
      "19:\tlearn: 0.1493945\ttotal: 24.2s\tremaining: 24.2s\n",
      "20:\tlearn: 0.1481542\ttotal: 25.2s\tremaining: 22.8s\n",
      "21:\tlearn: 0.1468717\ttotal: 26.2s\tremaining: 21.4s\n",
      "22:\tlearn: 0.1457518\ttotal: 27.2s\tremaining: 20.1s\n",
      "23:\tlearn: 0.1449194\ttotal: 28.3s\tremaining: 18.9s\n",
      "24:\tlearn: 0.1436212\ttotal: 29.3s\tremaining: 17.6s\n",
      "25:\tlearn: 0.1419941\ttotal: 31.1s\tremaining: 16.7s\n",
      "26:\tlearn: 0.1405495\ttotal: 32.6s\tremaining: 15.7s\n",
      "27:\tlearn: 0.1394805\ttotal: 34.2s\tremaining: 14.6s\n",
      "28:\tlearn: 0.1384124\ttotal: 35.4s\tremaining: 13.4s\n",
      "29:\tlearn: 0.1377531\ttotal: 36.4s\tremaining: 12.1s\n",
      "30:\tlearn: 0.1369577\ttotal: 37.5s\tremaining: 10.9s\n",
      "31:\tlearn: 0.1356998\ttotal: 38.5s\tremaining: 9.63s\n",
      "32:\tlearn: 0.1350607\ttotal: 39.6s\tremaining: 8.39s\n",
      "33:\tlearn: 0.1344611\ttotal: 40.6s\tremaining: 7.17s\n",
      "34:\tlearn: 0.1338826\ttotal: 41.9s\tremaining: 5.98s\n",
      "35:\tlearn: 0.1328632\ttotal: 43.2s\tremaining: 4.8s\n",
      "36:\tlearn: 0.1323369\ttotal: 45.1s\tremaining: 3.65s\n",
      "37:\tlearn: 0.1318544\ttotal: 46.4s\tremaining: 2.44s\n",
      "38:\tlearn: 0.1312440\ttotal: 47.6s\tremaining: 1.22s\n",
      "39:\tlearn: 0.1300361\ttotal: 48.8s\tremaining: 0us\n",
      "0:\tlearn: 0.2691216\ttotal: 1.55s\tremaining: 1m\n",
      "1:\tlearn: 0.2376509\ttotal: 2.73s\tremaining: 51.9s\n",
      "2:\tlearn: 0.2217325\ttotal: 3.97s\tremaining: 49s\n",
      "3:\tlearn: 0.2076798\ttotal: 5.29s\tremaining: 47.6s\n",
      "4:\tlearn: 0.1982212\ttotal: 6.97s\tremaining: 48.8s\n",
      "5:\tlearn: 0.1923061\ttotal: 8.28s\tremaining: 46.9s\n",
      "6:\tlearn: 0.1864236\ttotal: 9.58s\tremaining: 45.2s\n",
      "7:\tlearn: 0.1829932\ttotal: 10.8s\tremaining: 43.4s\n",
      "8:\tlearn: 0.1780850\ttotal: 12.2s\tremaining: 41.9s\n",
      "9:\tlearn: 0.1747496\ttotal: 13.5s\tremaining: 40.6s\n",
      "10:\tlearn: 0.1717837\ttotal: 14.8s\tremaining: 39.1s\n",
      "11:\tlearn: 0.1679647\ttotal: 16s\tremaining: 37.4s\n",
      "12:\tlearn: 0.1649383\ttotal: 17.3s\tremaining: 35.9s\n",
      "13:\tlearn: 0.1618226\ttotal: 18.5s\tremaining: 34.4s\n",
      "14:\tlearn: 0.1590376\ttotal: 20.3s\tremaining: 33.8s\n",
      "15:\tlearn: 0.1572328\ttotal: 21.8s\tremaining: 32.7s\n",
      "16:\tlearn: 0.1556264\ttotal: 23.3s\tremaining: 31.5s\n",
      "17:\tlearn: 0.1537176\ttotal: 24.7s\tremaining: 30.2s\n",
      "18:\tlearn: 0.1522248\ttotal: 26s\tremaining: 28.7s\n",
      "19:\tlearn: 0.1508866\ttotal: 27.4s\tremaining: 27.4s\n",
      "20:\tlearn: 0.1498557\ttotal: 28.5s\tremaining: 25.8s\n",
      "21:\tlearn: 0.1480760\ttotal: 29.6s\tremaining: 24.2s\n",
      "22:\tlearn: 0.1461083\ttotal: 30.8s\tremaining: 22.8s\n",
      "23:\tlearn: 0.1452681\ttotal: 31.9s\tremaining: 21.3s\n",
      "24:\tlearn: 0.1443120\ttotal: 33.1s\tremaining: 19.9s\n",
      "25:\tlearn: 0.1430515\ttotal: 34.3s\tremaining: 18.5s\n",
      "26:\tlearn: 0.1420717\ttotal: 35.4s\tremaining: 17.1s\n",
      "27:\tlearn: 0.1412024\ttotal: 36.6s\tremaining: 15.7s\n",
      "28:\tlearn: 0.1402471\ttotal: 37.7s\tremaining: 14.3s\n",
      "29:\tlearn: 0.1389178\ttotal: 38.8s\tremaining: 12.9s\n",
      "30:\tlearn: 0.1377806\ttotal: 39.9s\tremaining: 11.6s\n",
      "31:\tlearn: 0.1371044\ttotal: 41.1s\tremaining: 10.3s\n",
      "32:\tlearn: 0.1361025\ttotal: 42.2s\tremaining: 8.96s\n",
      "33:\tlearn: 0.1354907\ttotal: 43.4s\tremaining: 7.66s\n",
      "34:\tlearn: 0.1349088\ttotal: 44.7s\tremaining: 6.39s\n",
      "35:\tlearn: 0.1342430\ttotal: 46s\tremaining: 5.11s\n",
      "36:\tlearn: 0.1337071\ttotal: 47.1s\tremaining: 3.82s\n",
      "37:\tlearn: 0.1330974\ttotal: 48.2s\tremaining: 2.54s\n",
      "38:\tlearn: 0.1325684\ttotal: 49.5s\tremaining: 1.27s\n",
      "39:\tlearn: 0.1320093\ttotal: 51.1s\tremaining: 0us\n",
      "0:\tlearn: 0.2625338\ttotal: 3.46s\tremaining: 2m 14s\n",
      "1:\tlearn: 0.2311615\ttotal: 5.62s\tremaining: 1m 46s\n",
      "2:\tlearn: 0.2163376\ttotal: 7.3s\tremaining: 1m 30s\n",
      "3:\tlearn: 0.2023834\ttotal: 9.05s\tremaining: 1m 21s\n",
      "4:\tlearn: 0.1953354\ttotal: 10.8s\tremaining: 1m 15s\n",
      "5:\tlearn: 0.1899241\ttotal: 12.9s\tremaining: 1m 12s\n",
      "6:\tlearn: 0.1849066\ttotal: 14.8s\tremaining: 1m 9s\n",
      "7:\tlearn: 0.1794891\ttotal: 16.9s\tremaining: 1m 7s\n",
      "8:\tlearn: 0.1758081\ttotal: 19.8s\tremaining: 1m 8s\n",
      "9:\tlearn: 0.1722775\ttotal: 23.1s\tremaining: 1m 9s\n",
      "10:\tlearn: 0.1695839\ttotal: 26.1s\tremaining: 1m 8s\n",
      "11:\tlearn: 0.1668666\ttotal: 28.5s\tremaining: 1m 6s\n",
      "12:\tlearn: 0.1634920\ttotal: 31s\tremaining: 1m 4s\n",
      "13:\tlearn: 0.1617352\ttotal: 33s\tremaining: 1m 1s\n",
      "14:\tlearn: 0.1589272\ttotal: 35.4s\tremaining: 58.9s\n",
      "15:\tlearn: 0.1572132\ttotal: 37.7s\tremaining: 56.5s\n",
      "16:\tlearn: 0.1557657\ttotal: 39.7s\tremaining: 53.7s\n",
      "17:\tlearn: 0.1542326\ttotal: 41.9s\tremaining: 51.2s\n",
      "18:\tlearn: 0.1525601\ttotal: 44s\tremaining: 48.6s\n",
      "19:\tlearn: 0.1506632\ttotal: 46s\tremaining: 46s\n",
      "20:\tlearn: 0.1495598\ttotal: 47.9s\tremaining: 43.4s\n",
      "21:\tlearn: 0.1486678\ttotal: 51.3s\tremaining: 42s\n",
      "22:\tlearn: 0.1475194\ttotal: 53.8s\tremaining: 39.8s\n",
      "23:\tlearn: 0.1459026\ttotal: 56.4s\tremaining: 37.6s\n",
      "24:\tlearn: 0.1446910\ttotal: 59s\tremaining: 35.4s\n",
      "25:\tlearn: 0.1438059\ttotal: 1m 1s\tremaining: 33s\n",
      "26:\tlearn: 0.1425349\ttotal: 1m 3s\tremaining: 30.7s\n",
      "27:\tlearn: 0.1418151\ttotal: 1m 5s\tremaining: 28.3s\n",
      "28:\tlearn: 0.1409687\ttotal: 1m 8s\tremaining: 25.9s\n",
      "29:\tlearn: 0.1397887\ttotal: 1m 10s\tremaining: 23.4s\n",
      "30:\tlearn: 0.1392246\ttotal: 1m 12s\tremaining: 21.1s\n",
      "31:\tlearn: 0.1380292\ttotal: 1m 15s\tremaining: 18.8s\n",
      "32:\tlearn: 0.1372622\ttotal: 1m 16s\tremaining: 16.3s\n",
      "33:\tlearn: 0.1367564\ttotal: 1m 18s\tremaining: 13.9s\n",
      "34:\tlearn: 0.1358182\ttotal: 1m 20s\tremaining: 11.5s\n",
      "35:\tlearn: 0.1352925\ttotal: 1m 23s\tremaining: 9.23s\n",
      "36:\tlearn: 0.1342703\ttotal: 1m 26s\tremaining: 6.98s\n",
      "37:\tlearn: 0.1338259\ttotal: 1m 28s\tremaining: 4.64s\n",
      "38:\tlearn: 0.1333250\ttotal: 1m 30s\tremaining: 2.32s\n",
      "39:\tlearn: 0.1324778\ttotal: 1m 35s\tremaining: 0us\n"
     ]
    },
    {
     "data": {
      "text/html": [
       "<style>#sk-container-id-4 {color: black;background-color: white;}#sk-container-id-4 pre{padding: 0;}#sk-container-id-4 div.sk-toggleable {background-color: white;}#sk-container-id-4 label.sk-toggleable__label {cursor: pointer;display: block;width: 100%;margin-bottom: 0;padding: 0.3em;box-sizing: border-box;text-align: center;}#sk-container-id-4 label.sk-toggleable__label-arrow:before {content: \"▸\";float: left;margin-right: 0.25em;color: #696969;}#sk-container-id-4 label.sk-toggleable__label-arrow:hover:before {color: black;}#sk-container-id-4 div.sk-estimator:hover label.sk-toggleable__label-arrow:before {color: black;}#sk-container-id-4 div.sk-toggleable__content {max-height: 0;max-width: 0;overflow: hidden;text-align: left;background-color: #f0f8ff;}#sk-container-id-4 div.sk-toggleable__content pre {margin: 0.2em;color: black;border-radius: 0.25em;background-color: #f0f8ff;}#sk-container-id-4 input.sk-toggleable__control:checked~div.sk-toggleable__content {max-height: 200px;max-width: 100%;overflow: auto;}#sk-container-id-4 input.sk-toggleable__control:checked~label.sk-toggleable__label-arrow:before {content: \"▾\";}#sk-container-id-4 div.sk-estimator input.sk-toggleable__control:checked~label.sk-toggleable__label {background-color: #d4ebff;}#sk-container-id-4 div.sk-label input.sk-toggleable__control:checked~label.sk-toggleable__label {background-color: #d4ebff;}#sk-container-id-4 input.sk-hidden--visually {border: 0;clip: rect(1px 1px 1px 1px);clip: rect(1px, 1px, 1px, 1px);height: 1px;margin: -1px;overflow: hidden;padding: 0;position: absolute;width: 1px;}#sk-container-id-4 div.sk-estimator {font-family: monospace;background-color: #f0f8ff;border: 1px dotted black;border-radius: 0.25em;box-sizing: border-box;margin-bottom: 0.5em;}#sk-container-id-4 div.sk-estimator:hover {background-color: #d4ebff;}#sk-container-id-4 div.sk-parallel-item::after {content: \"\";width: 100%;border-bottom: 1px solid gray;flex-grow: 1;}#sk-container-id-4 div.sk-label:hover label.sk-toggleable__label {background-color: #d4ebff;}#sk-container-id-4 div.sk-serial::before {content: \"\";position: absolute;border-left: 1px solid gray;box-sizing: border-box;top: 0;bottom: 0;left: 50%;z-index: 0;}#sk-container-id-4 div.sk-serial {display: flex;flex-direction: column;align-items: center;background-color: white;padding-right: 0.2em;padding-left: 0.2em;position: relative;}#sk-container-id-4 div.sk-item {position: relative;z-index: 1;}#sk-container-id-4 div.sk-parallel {display: flex;align-items: stretch;justify-content: center;background-color: white;position: relative;}#sk-container-id-4 div.sk-item::before, #sk-container-id-4 div.sk-parallel-item::before {content: \"\";position: absolute;border-left: 1px solid gray;box-sizing: border-box;top: 0;bottom: 0;left: 50%;z-index: -1;}#sk-container-id-4 div.sk-parallel-item {display: flex;flex-direction: column;z-index: 1;position: relative;background-color: white;}#sk-container-id-4 div.sk-parallel-item:first-child::after {align-self: flex-end;width: 50%;}#sk-container-id-4 div.sk-parallel-item:last-child::after {align-self: flex-start;width: 50%;}#sk-container-id-4 div.sk-parallel-item:only-child::after {width: 0;}#sk-container-id-4 div.sk-dashed-wrapped {border: 1px dashed gray;margin: 0 0.4em 0.5em 0.4em;box-sizing: border-box;padding-bottom: 0.4em;background-color: white;}#sk-container-id-4 div.sk-label label {font-family: monospace;font-weight: bold;display: inline-block;line-height: 1.2em;}#sk-container-id-4 div.sk-label-container {text-align: center;}#sk-container-id-4 div.sk-container {/* jupyter's `normalize.less` sets `[hidden] { display: none; }` but bootstrap.min.css set `[hidden] { display: none !important; }` so we also need the `!important` here to be able to override the default hidden behavior on the sphinx rendered scikit-learn.org. See: https://github.com/scikit-learn/scikit-learn/issues/21755 */display: inline-block !important;position: relative;}#sk-container-id-4 div.sk-text-repr-fallback {display: none;}</style><div id=\"sk-container-id-4\" class=\"sk-top-container\"><div class=\"sk-text-repr-fallback\"><pre>GridSearchCV(cv=3,\n",
       "             estimator=&lt;catboost.core.CatBoostClassifier object at 0x160f98400&gt;,\n",
       "             param_grid={&#x27;iterations&#x27;: [40],\n",
       "                         &#x27;learning_rate&#x27;: array([0.1, 0.3, 0.5, 0.7, 0.9])},\n",
       "             scoring=&#x27;f1&#x27;, verbose=False)</pre><b>In a Jupyter environment, please rerun this cell to show the HTML representation or trust the notebook. <br />On GitHub, the HTML representation is unable to render, please try loading this page with nbviewer.org.</b></div><div class=\"sk-container\" hidden><div class=\"sk-item sk-dashed-wrapped\"><div class=\"sk-label-container\"><div class=\"sk-label sk-toggleable\"><input class=\"sk-toggleable__control sk-hidden--visually\" id=\"sk-estimator-id-10\" type=\"checkbox\" ><label for=\"sk-estimator-id-10\" class=\"sk-toggleable__label sk-toggleable__label-arrow\">GridSearchCV</label><div class=\"sk-toggleable__content\"><pre>GridSearchCV(cv=3,\n",
       "             estimator=&lt;catboost.core.CatBoostClassifier object at 0x160f98400&gt;,\n",
       "             param_grid={&#x27;iterations&#x27;: [40],\n",
       "                         &#x27;learning_rate&#x27;: array([0.1, 0.3, 0.5, 0.7, 0.9])},\n",
       "             scoring=&#x27;f1&#x27;, verbose=False)</pre></div></div></div><div class=\"sk-parallel\"><div class=\"sk-parallel-item\"><div class=\"sk-item\"><div class=\"sk-label-container\"><div class=\"sk-label sk-toggleable\"><input class=\"sk-toggleable__control sk-hidden--visually\" id=\"sk-estimator-id-11\" type=\"checkbox\" ><label for=\"sk-estimator-id-11\" class=\"sk-toggleable__label sk-toggleable__label-arrow\">estimator: CatBoostClassifier</label><div class=\"sk-toggleable__content\"><pre>&lt;catboost.core.CatBoostClassifier object at 0x160f98400&gt;</pre></div></div></div><div class=\"sk-serial\"><div class=\"sk-item\"><div class=\"sk-estimator sk-toggleable\"><input class=\"sk-toggleable__control sk-hidden--visually\" id=\"sk-estimator-id-12\" type=\"checkbox\" ><label for=\"sk-estimator-id-12\" class=\"sk-toggleable__label sk-toggleable__label-arrow\">CatBoostClassifier</label><div class=\"sk-toggleable__content\"><pre>&lt;catboost.core.CatBoostClassifier object at 0x160f98400&gt;</pre></div></div></div></div></div></div></div></div></div></div>"
      ],
      "text/plain": [
       "GridSearchCV(cv=3,\n",
       "             estimator=<catboost.core.CatBoostClassifier object at 0x160f98400>,\n",
       "             param_grid={'iterations': [40],\n",
       "                         'learning_rate': array([0.1, 0.3, 0.5, 0.7, 0.9])},\n",
       "             scoring='f1', verbose=False)"
      ]
     },
     "execution_count": 103,
     "metadata": {},
     "output_type": "execute_result"
    }
   ],
   "source": [
    "catboost = CatBoostClassifier(random_seed=5,\n",
    "                              loss_function='Logloss')\n",
    "\n",
    "# preparing parameters to ask GridSearch, which contains cross validation\n",
    "parameters_cat = {'iterations':[40], \n",
    "                  'learning_rate': np.arange(0.1,1,0.2)}\n",
    "\n",
    "gsearch_catboost = GridSearchCV(catboost, \n",
    "                                param_grid=parameters_cat,\n",
    "                                cv=3,\n",
    "                                verbose=False,\n",
    "                               scoring='f1')\n",
    "\n",
    "gsearch_catboost.fit(tf_idf_X_train, y_train)"
   ]
  },
  {
   "cell_type": "code",
   "execution_count": 114,
   "id": "3c4a12d9",
   "metadata": {
    "scrolled": true
   },
   "outputs": [
    {
     "data": {
      "text/plain": [
       "array([[28264,  1155],\n",
       "       [  303,  2137]])"
      ]
     },
     "execution_count": 114,
     "metadata": {},
     "output_type": "execute_result"
    }
   ],
   "source": [
    "y_pred_catboost = gsearch_catboost.predict(tf_idf_X_test)\n",
    "confusion_matrix(y_pred_catboost, y_test)"
   ]
  },
  {
   "cell_type": "markdown",
   "id": "b0ae7350",
   "metadata": {},
   "source": [
    "### ***Вывод:*** Видим, что мажоритарный класс предсказывается хорошо, а миноритарный дает больше половины ложноположительной ответов FP=1155."
   ]
  },
  {
   "cell_type": "markdown",
   "id": "b77a3be8",
   "metadata": {},
   "source": [
    "#### Обучим модель на сбалансированной выборке таргетов"
   ]
  },
  {
   "cell_type": "code",
   "execution_count": 136,
   "id": "5ffdcd7f",
   "metadata": {},
   "outputs": [
    {
     "name": "stdout",
     "output_type": "stream",
     "text": [
      "0:\tlearn: 0.6448877\ttotal: 4.7s\tremaining: 3m 3s\n",
      "1:\tlearn: 0.6099469\ttotal: 6.81s\tremaining: 2m 9s\n",
      "2:\tlearn: 0.5850476\ttotal: 8.08s\tremaining: 1m 39s\n",
      "3:\tlearn: 0.5647120\ttotal: 9.46s\tremaining: 1m 25s\n",
      "4:\tlearn: 0.5505686\ttotal: 10.9s\tremaining: 1m 16s\n",
      "5:\tlearn: 0.5349668\ttotal: 12.2s\tremaining: 1m 9s\n",
      "6:\tlearn: 0.5228325\ttotal: 13.7s\tremaining: 1m 4s\n",
      "7:\tlearn: 0.5131848\ttotal: 15.2s\tremaining: 1m\n",
      "8:\tlearn: 0.5050681\ttotal: 16.4s\tremaining: 56.4s\n",
      "9:\tlearn: 0.4970310\ttotal: 17.6s\tremaining: 52.7s\n",
      "10:\tlearn: 0.4901585\ttotal: 19.5s\tremaining: 51.4s\n",
      "11:\tlearn: 0.4825240\ttotal: 20.8s\tremaining: 48.5s\n",
      "12:\tlearn: 0.4775355\ttotal: 22s\tremaining: 45.8s\n",
      "13:\tlearn: 0.4724637\ttotal: 23.2s\tremaining: 43.1s\n",
      "14:\tlearn: 0.4679101\ttotal: 24.5s\tremaining: 40.8s\n",
      "15:\tlearn: 0.4614663\ttotal: 25.6s\tremaining: 38.4s\n",
      "16:\tlearn: 0.4572459\ttotal: 27s\tremaining: 36.5s\n",
      "17:\tlearn: 0.4532161\ttotal: 29s\tremaining: 35.5s\n",
      "18:\tlearn: 0.4499650\ttotal: 30.5s\tremaining: 33.7s\n",
      "19:\tlearn: 0.4463829\ttotal: 33.7s\tremaining: 33.7s\n",
      "20:\tlearn: 0.4434198\ttotal: 35.8s\tremaining: 32.4s\n",
      "21:\tlearn: 0.4396924\ttotal: 37.6s\tremaining: 30.8s\n",
      "22:\tlearn: 0.4363137\ttotal: 39.4s\tremaining: 29.1s\n",
      "23:\tlearn: 0.4329616\ttotal: 41.2s\tremaining: 27.5s\n",
      "24:\tlearn: 0.4300785\ttotal: 42.9s\tremaining: 25.7s\n",
      "25:\tlearn: 0.4271304\ttotal: 44.8s\tremaining: 24.1s\n",
      "26:\tlearn: 0.4243052\ttotal: 46.6s\tremaining: 22.5s\n",
      "27:\tlearn: 0.4220108\ttotal: 48.2s\tremaining: 20.7s\n",
      "28:\tlearn: 0.4196382\ttotal: 49.4s\tremaining: 18.8s\n",
      "29:\tlearn: 0.4170344\ttotal: 50.7s\tremaining: 16.9s\n",
      "30:\tlearn: 0.4145834\ttotal: 52.4s\tremaining: 15.2s\n",
      "31:\tlearn: 0.4123432\ttotal: 54s\tremaining: 13.5s\n",
      "32:\tlearn: 0.4101914\ttotal: 55.4s\tremaining: 11.7s\n",
      "33:\tlearn: 0.4082685\ttotal: 56.7s\tremaining: 10s\n",
      "34:\tlearn: 0.4063206\ttotal: 57.8s\tremaining: 8.26s\n",
      "35:\tlearn: 0.4048344\ttotal: 59.2s\tremaining: 6.58s\n",
      "36:\tlearn: 0.4026622\ttotal: 1m\tremaining: 4.91s\n",
      "37:\tlearn: 0.4010812\ttotal: 1m 1s\tremaining: 3.25s\n",
      "38:\tlearn: 0.3995224\ttotal: 1m 2s\tremaining: 1.61s\n",
      "39:\tlearn: 0.3978821\ttotal: 1m 4s\tremaining: 0us\n",
      "0:\tlearn: 0.6455568\ttotal: 1.81s\tremaining: 1m 10s\n",
      "1:\tlearn: 0.6104685\ttotal: 3.48s\tremaining: 1m 6s\n",
      "2:\tlearn: 0.5849274\ttotal: 4.78s\tremaining: 59s\n",
      "3:\tlearn: 0.5651582\ttotal: 6.05s\tremaining: 54.5s\n",
      "4:\tlearn: 0.5486989\ttotal: 7.4s\tremaining: 51.8s\n",
      "5:\tlearn: 0.5348147\ttotal: 8.9s\tremaining: 50.5s\n",
      "6:\tlearn: 0.5246232\ttotal: 10.3s\tremaining: 48.8s\n",
      "7:\tlearn: 0.5125135\ttotal: 11.6s\tremaining: 46.5s\n",
      "8:\tlearn: 0.5043072\ttotal: 12.9s\tremaining: 44.4s\n",
      "9:\tlearn: 0.4969659\ttotal: 14.7s\tremaining: 44.1s\n",
      "10:\tlearn: 0.4898666\ttotal: 16.2s\tremaining: 42.7s\n",
      "11:\tlearn: 0.4822403\ttotal: 17.7s\tremaining: 41.3s\n",
      "12:\tlearn: 0.4767449\ttotal: 19.3s\tremaining: 40s\n",
      "13:\tlearn: 0.4720754\ttotal: 21s\tremaining: 39s\n",
      "14:\tlearn: 0.4659572\ttotal: 22.7s\tremaining: 37.8s\n",
      "15:\tlearn: 0.4617679\ttotal: 23.9s\tremaining: 35.8s\n",
      "16:\tlearn: 0.4573644\ttotal: 25.9s\tremaining: 35s\n",
      "17:\tlearn: 0.4538051\ttotal: 27.1s\tremaining: 33.2s\n",
      "18:\tlearn: 0.4503122\ttotal: 28.5s\tremaining: 31.5s\n",
      "19:\tlearn: 0.4458607\ttotal: 29.9s\tremaining: 29.9s\n",
      "20:\tlearn: 0.4425492\ttotal: 31.3s\tremaining: 28.3s\n",
      "21:\tlearn: 0.4396316\ttotal: 32.5s\tremaining: 26.6s\n",
      "22:\tlearn: 0.4365367\ttotal: 33.6s\tremaining: 24.9s\n",
      "23:\tlearn: 0.4332155\ttotal: 34.8s\tremaining: 23.2s\n",
      "24:\tlearn: 0.4306752\ttotal: 36s\tremaining: 21.6s\n",
      "25:\tlearn: 0.4283322\ttotal: 37.2s\tremaining: 20s\n",
      "26:\tlearn: 0.4255192\ttotal: 38.4s\tremaining: 18.5s\n",
      "27:\tlearn: 0.4230199\ttotal: 39.5s\tremaining: 16.9s\n",
      "28:\tlearn: 0.4204880\ttotal: 40.6s\tremaining: 15.4s\n",
      "29:\tlearn: 0.4173767\ttotal: 41.8s\tremaining: 13.9s\n",
      "30:\tlearn: 0.4150118\ttotal: 42.9s\tremaining: 12.5s\n",
      "31:\tlearn: 0.4133172\ttotal: 44s\tremaining: 11s\n",
      "32:\tlearn: 0.4109315\ttotal: 45.1s\tremaining: 9.57s\n",
      "33:\tlearn: 0.4086293\ttotal: 46.3s\tremaining: 8.16s\n",
      "34:\tlearn: 0.4065228\ttotal: 47.3s\tremaining: 6.76s\n",
      "35:\tlearn: 0.4043916\ttotal: 48.4s\tremaining: 5.38s\n",
      "36:\tlearn: 0.4027860\ttotal: 49.8s\tremaining: 4.03s\n",
      "37:\tlearn: 0.4010889\ttotal: 51s\tremaining: 2.69s\n",
      "38:\tlearn: 0.3992627\ttotal: 52.1s\tremaining: 1.34s\n",
      "39:\tlearn: 0.3979593\ttotal: 53.3s\tremaining: 0us\n",
      "0:\tlearn: 0.6451219\ttotal: 3.36s\tremaining: 2m 10s\n",
      "1:\tlearn: 0.6112847\ttotal: 5.09s\tremaining: 1m 36s\n",
      "2:\tlearn: 0.5832503\ttotal: 6.36s\tremaining: 1m 18s\n",
      "3:\tlearn: 0.5640197\ttotal: 8.12s\tremaining: 1m 13s\n",
      "4:\tlearn: 0.5484880\ttotal: 9.62s\tremaining: 1m 7s\n",
      "5:\tlearn: 0.5343090\ttotal: 11.1s\tremaining: 1m 2s\n",
      "6:\tlearn: 0.5230601\ttotal: 12.5s\tremaining: 58.9s\n",
      "7:\tlearn: 0.5135412\ttotal: 13.9s\tremaining: 55.6s\n",
      "8:\tlearn: 0.5049264\ttotal: 15.2s\tremaining: 52.2s\n",
      "9:\tlearn: 0.4975066\ttotal: 16.5s\tremaining: 49.4s\n",
      "10:\tlearn: 0.4907819\ttotal: 17.7s\tremaining: 46.7s\n",
      "11:\tlearn: 0.4842728\ttotal: 19.1s\tremaining: 44.6s\n",
      "12:\tlearn: 0.4792686\ttotal: 20.3s\tremaining: 42.1s\n",
      "13:\tlearn: 0.4722660\ttotal: 21.7s\tremaining: 40.3s\n",
      "14:\tlearn: 0.4677351\ttotal: 22.9s\tremaining: 38.1s\n",
      "15:\tlearn: 0.4638863\ttotal: 24.2s\tremaining: 36.3s\n",
      "16:\tlearn: 0.4586948\ttotal: 25.6s\tremaining: 34.6s\n",
      "17:\tlearn: 0.4549508\ttotal: 26.9s\tremaining: 32.9s\n",
      "18:\tlearn: 0.4509654\ttotal: 28.2s\tremaining: 31.1s\n",
      "19:\tlearn: 0.4472380\ttotal: 29.4s\tremaining: 29.4s\n",
      "20:\tlearn: 0.4437496\ttotal: 30.8s\tremaining: 27.9s\n",
      "21:\tlearn: 0.4406039\ttotal: 32.1s\tremaining: 26.3s\n",
      "22:\tlearn: 0.4368992\ttotal: 33.3s\tremaining: 24.6s\n",
      "23:\tlearn: 0.4344040\ttotal: 34.5s\tremaining: 23s\n",
      "24:\tlearn: 0.4321772\ttotal: 35.9s\tremaining: 21.5s\n",
      "25:\tlearn: 0.4289767\ttotal: 37.3s\tremaining: 20.1s\n",
      "26:\tlearn: 0.4265984\ttotal: 38.6s\tremaining: 18.6s\n",
      "27:\tlearn: 0.4240017\ttotal: 40s\tremaining: 17.1s\n",
      "28:\tlearn: 0.4216501\ttotal: 41.3s\tremaining: 15.7s\n",
      "29:\tlearn: 0.4190736\ttotal: 42.6s\tremaining: 14.2s\n",
      "30:\tlearn: 0.4173821\ttotal: 43.8s\tremaining: 12.7s\n",
      "31:\tlearn: 0.4148458\ttotal: 45.1s\tremaining: 11.3s\n",
      "32:\tlearn: 0.4125160\ttotal: 46.3s\tremaining: 9.81s\n",
      "33:\tlearn: 0.4109449\ttotal: 47.4s\tremaining: 8.37s\n",
      "34:\tlearn: 0.4093365\ttotal: 48.6s\tremaining: 6.95s\n",
      "35:\tlearn: 0.4072209\ttotal: 50.1s\tremaining: 5.56s\n",
      "36:\tlearn: 0.4044315\ttotal: 51.3s\tremaining: 4.16s\n",
      "37:\tlearn: 0.4025888\ttotal: 52.5s\tremaining: 2.76s\n",
      "38:\tlearn: 0.4001508\ttotal: 54.1s\tremaining: 1.39s\n",
      "39:\tlearn: 0.3984086\ttotal: 55.6s\tremaining: 0us\n",
      "0:\tlearn: 0.5765017\ttotal: 2.11s\tremaining: 1m 22s\n",
      "1:\tlearn: 0.5278087\ttotal: 3.62s\tremaining: 1m 8s\n",
      "2:\tlearn: 0.4988355\ttotal: 4.95s\tremaining: 1m 1s\n",
      "3:\tlearn: 0.4763449\ttotal: 6.18s\tremaining: 55.6s\n",
      "4:\tlearn: 0.4594613\ttotal: 7.48s\tremaining: 52.4s\n",
      "5:\tlearn: 0.4468191\ttotal: 8.68s\tremaining: 49.2s\n",
      "6:\tlearn: 0.4361737\ttotal: 10.1s\tremaining: 47.4s\n",
      "7:\tlearn: 0.4260538\ttotal: 11.6s\tremaining: 46.5s\n",
      "8:\tlearn: 0.4172351\ttotal: 13.1s\tremaining: 45.1s\n",
      "9:\tlearn: 0.4103850\ttotal: 14.2s\tremaining: 42.7s\n",
      "10:\tlearn: 0.4053044\ttotal: 15.3s\tremaining: 40.4s\n",
      "11:\tlearn: 0.3993726\ttotal: 16.6s\tremaining: 38.6s\n",
      "12:\tlearn: 0.3942496\ttotal: 17.8s\tremaining: 36.9s\n",
      "13:\tlearn: 0.3884316\ttotal: 18.9s\tremaining: 35.1s\n",
      "14:\tlearn: 0.3842430\ttotal: 20.3s\tremaining: 33.8s\n",
      "15:\tlearn: 0.3774837\ttotal: 21.6s\tremaining: 32.4s\n",
      "16:\tlearn: 0.3730972\ttotal: 22.8s\tremaining: 30.8s\n",
      "17:\tlearn: 0.3696669\ttotal: 24s\tremaining: 29.4s\n",
      "18:\tlearn: 0.3660593\ttotal: 25.3s\tremaining: 27.9s\n",
      "19:\tlearn: 0.3626614\ttotal: 26.5s\tremaining: 26.5s\n",
      "20:\tlearn: 0.3594254\ttotal: 27.8s\tremaining: 25.1s\n",
      "21:\tlearn: 0.3563220\ttotal: 29.2s\tremaining: 23.9s\n",
      "22:\tlearn: 0.3534414\ttotal: 30.8s\tremaining: 22.8s\n",
      "23:\tlearn: 0.3509385\ttotal: 31.9s\tremaining: 21.3s\n",
      "24:\tlearn: 0.3486668\ttotal: 33.2s\tremaining: 19.9s\n",
      "25:\tlearn: 0.3462122\ttotal: 34.4s\tremaining: 18.5s\n",
      "26:\tlearn: 0.3437865\ttotal: 35.8s\tremaining: 17.2s\n",
      "27:\tlearn: 0.3416601\ttotal: 37.1s\tremaining: 15.9s\n",
      "28:\tlearn: 0.3400242\ttotal: 38.3s\tremaining: 14.5s\n",
      "29:\tlearn: 0.3363255\ttotal: 39.5s\tremaining: 13.2s\n",
      "30:\tlearn: 0.3342755\ttotal: 40.8s\tremaining: 11.8s\n",
      "31:\tlearn: 0.3323761\ttotal: 41.9s\tremaining: 10.5s\n",
      "32:\tlearn: 0.3299733\ttotal: 43.1s\tremaining: 9.14s\n",
      "33:\tlearn: 0.3281387\ttotal: 44.6s\tremaining: 7.87s\n",
      "34:\tlearn: 0.3264076\ttotal: 45.8s\tremaining: 6.55s\n",
      "35:\tlearn: 0.3248826\ttotal: 47.2s\tremaining: 5.24s\n",
      "36:\tlearn: 0.3235309\ttotal: 49.1s\tremaining: 3.98s\n",
      "37:\tlearn: 0.3220522\ttotal: 50.9s\tremaining: 2.68s\n",
      "38:\tlearn: 0.3203721\ttotal: 52.2s\tremaining: 1.34s\n",
      "39:\tlearn: 0.3184482\ttotal: 54.4s\tremaining: 0us\n",
      "0:\tlearn: 0.5777462\ttotal: 3.37s\tremaining: 2m 11s\n",
      "1:\tlearn: 0.5296418\ttotal: 7.66s\tremaining: 2m 25s\n",
      "2:\tlearn: 0.4989945\ttotal: 9.94s\tremaining: 2m 2s\n"
     ]
    },
    {
     "name": "stdout",
     "output_type": "stream",
     "text": [
      "3:\tlearn: 0.4773080\ttotal: 12.7s\tremaining: 1m 54s\n",
      "4:\tlearn: 0.4591230\ttotal: 14.6s\tremaining: 1m 42s\n",
      "5:\tlearn: 0.4462110\ttotal: 16.7s\tremaining: 1m 34s\n",
      "6:\tlearn: 0.4368258\ttotal: 18s\tremaining: 1m 24s\n",
      "7:\tlearn: 0.4267365\ttotal: 19.5s\tremaining: 1m 17s\n",
      "8:\tlearn: 0.4178859\ttotal: 20.7s\tremaining: 1m 11s\n",
      "9:\tlearn: 0.4092360\ttotal: 22s\tremaining: 1m 6s\n",
      "10:\tlearn: 0.4041710\ttotal: 23.4s\tremaining: 1m 1s\n",
      "11:\tlearn: 0.3986186\ttotal: 24.6s\tremaining: 57.5s\n",
      "12:\tlearn: 0.3937341\ttotal: 25.8s\tremaining: 53.6s\n",
      "13:\tlearn: 0.3875237\ttotal: 27.1s\tremaining: 50.3s\n",
      "14:\tlearn: 0.3818283\ttotal: 28.4s\tremaining: 47.4s\n",
      "15:\tlearn: 0.3779406\ttotal: 30.3s\tremaining: 45.5s\n",
      "16:\tlearn: 0.3736080\ttotal: 31.6s\tremaining: 42.8s\n",
      "17:\tlearn: 0.3693201\ttotal: 33.1s\tremaining: 40.4s\n",
      "18:\tlearn: 0.3645021\ttotal: 34.2s\tremaining: 37.8s\n",
      "19:\tlearn: 0.3616695\ttotal: 35.4s\tremaining: 35.4s\n",
      "20:\tlearn: 0.3584639\ttotal: 36.7s\tremaining: 33.2s\n",
      "21:\tlearn: 0.3555191\ttotal: 37.9s\tremaining: 31s\n",
      "22:\tlearn: 0.3526005\ttotal: 39.1s\tremaining: 28.9s\n",
      "23:\tlearn: 0.3490879\ttotal: 40.3s\tremaining: 26.9s\n",
      "24:\tlearn: 0.3463839\ttotal: 41.7s\tremaining: 25s\n",
      "25:\tlearn: 0.3443034\ttotal: 43.1s\tremaining: 23.2s\n",
      "26:\tlearn: 0.3420943\ttotal: 44.3s\tremaining: 21.3s\n",
      "27:\tlearn: 0.3393153\ttotal: 45.5s\tremaining: 19.5s\n",
      "28:\tlearn: 0.3376253\ttotal: 46.7s\tremaining: 17.7s\n",
      "29:\tlearn: 0.3354345\ttotal: 47.9s\tremaining: 16s\n",
      "30:\tlearn: 0.3334834\ttotal: 49.1s\tremaining: 14.2s\n",
      "31:\tlearn: 0.3319317\ttotal: 50.3s\tremaining: 12.6s\n",
      "32:\tlearn: 0.3300959\ttotal: 51.5s\tremaining: 10.9s\n",
      "33:\tlearn: 0.3279104\ttotal: 52.7s\tremaining: 9.3s\n",
      "34:\tlearn: 0.3257694\ttotal: 54.1s\tremaining: 7.72s\n",
      "35:\tlearn: 0.3236653\ttotal: 55.3s\tremaining: 6.15s\n",
      "36:\tlearn: 0.3221703\ttotal: 56.6s\tremaining: 4.59s\n",
      "37:\tlearn: 0.3201147\ttotal: 57.8s\tremaining: 3.04s\n",
      "38:\tlearn: 0.3186063\ttotal: 58.9s\tremaining: 1.51s\n",
      "39:\tlearn: 0.3174364\ttotal: 1m\tremaining: 0us\n",
      "0:\tlearn: 0.5766676\ttotal: 2.06s\tremaining: 1m 20s\n",
      "1:\tlearn: 0.5280485\ttotal: 4.5s\tremaining: 1m 25s\n",
      "2:\tlearn: 0.4988750\ttotal: 6.49s\tremaining: 1m 20s\n",
      "3:\tlearn: 0.4769272\ttotal: 7.69s\tremaining: 1m 9s\n",
      "4:\tlearn: 0.4617214\ttotal: 9.42s\tremaining: 1m 5s\n",
      "5:\tlearn: 0.4459895\ttotal: 10.7s\tremaining: 1m\n",
      "6:\tlearn: 0.4366666\ttotal: 11.8s\tremaining: 55.5s\n",
      "7:\tlearn: 0.4273442\ttotal: 13s\tremaining: 51.8s\n",
      "8:\tlearn: 0.4189811\ttotal: 14.5s\tremaining: 49.9s\n",
      "9:\tlearn: 0.4125334\ttotal: 15.7s\tremaining: 47.2s\n",
      "10:\tlearn: 0.4061151\ttotal: 17.2s\tremaining: 45.5s\n",
      "11:\tlearn: 0.4006676\ttotal: 18.5s\tremaining: 43.3s\n",
      "12:\tlearn: 0.3952756\ttotal: 19.7s\tremaining: 41s\n",
      "13:\tlearn: 0.3892755\ttotal: 20.9s\tremaining: 38.9s\n",
      "14:\tlearn: 0.3847172\ttotal: 22.1s\tremaining: 36.9s\n",
      "15:\tlearn: 0.3809786\ttotal: 23.4s\tremaining: 35s\n",
      "16:\tlearn: 0.3758564\ttotal: 24.6s\tremaining: 33.2s\n",
      "17:\tlearn: 0.3719156\ttotal: 25.8s\tremaining: 31.5s\n",
      "18:\tlearn: 0.3679798\ttotal: 27s\tremaining: 29.8s\n",
      "19:\tlearn: 0.3647772\ttotal: 28.2s\tremaining: 28.2s\n",
      "20:\tlearn: 0.3615249\ttotal: 29.4s\tremaining: 26.6s\n",
      "21:\tlearn: 0.3585435\ttotal: 30.6s\tremaining: 25s\n",
      "22:\tlearn: 0.3559378\ttotal: 31.8s\tremaining: 23.5s\n",
      "23:\tlearn: 0.3533690\ttotal: 33.6s\tremaining: 22.4s\n",
      "24:\tlearn: 0.3512695\ttotal: 34.8s\tremaining: 20.9s\n",
      "25:\tlearn: 0.3489042\ttotal: 36.2s\tremaining: 19.5s\n",
      "26:\tlearn: 0.3453556\ttotal: 37.6s\tremaining: 18.1s\n",
      "27:\tlearn: 0.3417421\ttotal: 38.9s\tremaining: 16.7s\n",
      "28:\tlearn: 0.3394081\ttotal: 40.6s\tremaining: 15.4s\n",
      "29:\tlearn: 0.3371918\ttotal: 42.8s\tremaining: 14.3s\n",
      "30:\tlearn: 0.3355740\ttotal: 44s\tremaining: 12.8s\n",
      "31:\tlearn: 0.3333345\ttotal: 45.2s\tremaining: 11.3s\n",
      "32:\tlearn: 0.3315716\ttotal: 46.6s\tremaining: 9.87s\n",
      "33:\tlearn: 0.3296721\ttotal: 48.2s\tremaining: 8.5s\n",
      "34:\tlearn: 0.3277850\ttotal: 50s\tremaining: 7.14s\n",
      "35:\tlearn: 0.3262269\ttotal: 51.2s\tremaining: 5.69s\n",
      "36:\tlearn: 0.3247483\ttotal: 53s\tremaining: 4.3s\n",
      "37:\tlearn: 0.3228585\ttotal: 54.4s\tremaining: 2.87s\n",
      "38:\tlearn: 0.3211013\ttotal: 55.9s\tremaining: 1.43s\n",
      "39:\tlearn: 0.3189281\ttotal: 57.3s\tremaining: 0us\n",
      "0:\tlearn: 0.5364406\ttotal: 4.75s\tremaining: 3m 5s\n",
      "1:\tlearn: 0.4867076\ttotal: 11.6s\tremaining: 3m 39s\n",
      "2:\tlearn: 0.4570633\ttotal: 17.5s\tremaining: 3m 35s\n",
      "3:\tlearn: 0.4354526\ttotal: 21.5s\tremaining: 3m 13s\n",
      "4:\tlearn: 0.4204277\ttotal: 29s\tremaining: 3m 22s\n",
      "5:\tlearn: 0.4061009\ttotal: 34.5s\tremaining: 3m 15s\n",
      "6:\tlearn: 0.3959316\ttotal: 42s\tremaining: 3m 18s\n",
      "7:\tlearn: 0.3884488\ttotal: 49.6s\tremaining: 3m 18s\n",
      "8:\tlearn: 0.3804876\ttotal: 56.8s\tremaining: 3m 15s\n",
      "9:\tlearn: 0.3723422\ttotal: 1m\tremaining: 3m 2s\n",
      "10:\tlearn: 0.3656469\ttotal: 1m 4s\tremaining: 2m 51s\n",
      "11:\tlearn: 0.3585231\ttotal: 1m 7s\tremaining: 2m 38s\n",
      "12:\tlearn: 0.3525756\ttotal: 1m 9s\tremaining: 2m 24s\n",
      "13:\tlearn: 0.3482782\ttotal: 1m 11s\tremaining: 2m 13s\n",
      "14:\tlearn: 0.3445121\ttotal: 1m 13s\tremaining: 2m 2s\n",
      "15:\tlearn: 0.3380713\ttotal: 1m 16s\tremaining: 1m 55s\n",
      "16:\tlearn: 0.3345300\ttotal: 1m 20s\tremaining: 1m 48s\n",
      "17:\tlearn: 0.3313131\ttotal: 1m 26s\tremaining: 1m 45s\n",
      "18:\tlearn: 0.3273367\ttotal: 1m 33s\tremaining: 1m 43s\n",
      "19:\tlearn: 0.3247661\ttotal: 1m 38s\tremaining: 1m 38s\n",
      "20:\tlearn: 0.3220899\ttotal: 1m 41s\tremaining: 1m 31s\n",
      "21:\tlearn: 0.3193197\ttotal: 1m 42s\tremaining: 1m 24s\n",
      "22:\tlearn: 0.3166935\ttotal: 1m 44s\tremaining: 1m 17s\n",
      "23:\tlearn: 0.3142794\ttotal: 1m 46s\tremaining: 1m 11s\n",
      "24:\tlearn: 0.3117018\ttotal: 1m 48s\tremaining: 1m 4s\n",
      "25:\tlearn: 0.3090831\ttotal: 1m 49s\tremaining: 58.9s\n",
      "26:\tlearn: 0.3062972\ttotal: 1m 50s\tremaining: 53.3s\n",
      "27:\tlearn: 0.3040153\ttotal: 1m 52s\tremaining: 48s\n",
      "28:\tlearn: 0.3016090\ttotal: 1m 53s\tremaining: 43.1s\n",
      "29:\tlearn: 0.2995759\ttotal: 1m 54s\tremaining: 38.3s\n",
      "30:\tlearn: 0.2973535\ttotal: 1m 56s\tremaining: 33.8s\n",
      "31:\tlearn: 0.2951038\ttotal: 1m 57s\tremaining: 29.4s\n",
      "32:\tlearn: 0.2926231\ttotal: 1m 59s\tremaining: 25.3s\n",
      "33:\tlearn: 0.2906856\ttotal: 2m\tremaining: 21.3s\n",
      "34:\tlearn: 0.2884772\ttotal: 2m 1s\tremaining: 17.4s\n",
      "35:\tlearn: 0.2864151\ttotal: 2m 3s\tremaining: 13.7s\n",
      "36:\tlearn: 0.2847198\ttotal: 2m 4s\tremaining: 10.1s\n",
      "37:\tlearn: 0.2827901\ttotal: 2m 5s\tremaining: 6.62s\n",
      "38:\tlearn: 0.2812461\ttotal: 2m 7s\tremaining: 3.26s\n",
      "39:\tlearn: 0.2792926\ttotal: 2m 8s\tremaining: 0us\n",
      "0:\tlearn: 0.5378387\ttotal: 1.81s\tremaining: 1m 10s\n",
      "1:\tlearn: 0.4890436\ttotal: 3.14s\tremaining: 59.6s\n",
      "2:\tlearn: 0.4563365\ttotal: 4.34s\tremaining: 53.5s\n",
      "3:\tlearn: 0.4352527\ttotal: 5.74s\tremaining: 51.7s\n",
      "4:\tlearn: 0.4203237\ttotal: 7s\tremaining: 49s\n",
      "5:\tlearn: 0.4065180\ttotal: 9.64s\tremaining: 54.6s\n",
      "6:\tlearn: 0.3954625\ttotal: 11.3s\tremaining: 53.4s\n",
      "7:\tlearn: 0.3849828\ttotal: 12.6s\tremaining: 50.3s\n",
      "8:\tlearn: 0.3772245\ttotal: 14s\tremaining: 48.3s\n",
      "9:\tlearn: 0.3692717\ttotal: 15.4s\tremaining: 46.1s\n",
      "10:\tlearn: 0.3628086\ttotal: 17.2s\tremaining: 45.3s\n",
      "11:\tlearn: 0.3561911\ttotal: 18.5s\tremaining: 43.1s\n",
      "12:\tlearn: 0.3509134\ttotal: 19.8s\tremaining: 41.1s\n",
      "13:\tlearn: 0.3464242\ttotal: 21.1s\tremaining: 39.1s\n",
      "14:\tlearn: 0.3412228\ttotal: 22.2s\tremaining: 37s\n",
      "15:\tlearn: 0.3376549\ttotal: 23.4s\tremaining: 35.1s\n",
      "16:\tlearn: 0.3336496\ttotal: 24.5s\tremaining: 33.1s\n",
      "17:\tlearn: 0.3303724\ttotal: 25.6s\tremaining: 31.3s\n",
      "18:\tlearn: 0.3269783\ttotal: 27.1s\tremaining: 29.9s\n",
      "19:\tlearn: 0.3241569\ttotal: 28.4s\tremaining: 28.4s\n",
      "20:\tlearn: 0.3207758\ttotal: 31.4s\tremaining: 28.4s\n",
      "21:\tlearn: 0.3184099\ttotal: 32.6s\tremaining: 26.7s\n",
      "22:\tlearn: 0.3154661\ttotal: 33.8s\tremaining: 25s\n",
      "23:\tlearn: 0.3128820\ttotal: 35.5s\tremaining: 23.7s\n",
      "24:\tlearn: 0.3108699\ttotal: 37.2s\tremaining: 22.3s\n",
      "25:\tlearn: 0.3084331\ttotal: 38.8s\tremaining: 20.9s\n",
      "26:\tlearn: 0.3052514\ttotal: 40.2s\tremaining: 19.4s\n",
      "27:\tlearn: 0.3027977\ttotal: 41.5s\tremaining: 17.8s\n",
      "28:\tlearn: 0.3005601\ttotal: 42.6s\tremaining: 16.2s\n",
      "29:\tlearn: 0.2984800\ttotal: 43.7s\tremaining: 14.6s\n",
      "30:\tlearn: 0.2962844\ttotal: 44.8s\tremaining: 13s\n",
      "31:\tlearn: 0.2944428\ttotal: 45.9s\tremaining: 11.5s\n",
      "32:\tlearn: 0.2924793\ttotal: 47s\tremaining: 9.97s\n",
      "33:\tlearn: 0.2906119\ttotal: 48.2s\tremaining: 8.5s\n",
      "34:\tlearn: 0.2878822\ttotal: 49.3s\tremaining: 7.04s\n",
      "35:\tlearn: 0.2862290\ttotal: 50.4s\tremaining: 5.59s\n",
      "36:\tlearn: 0.2833117\ttotal: 51.5s\tremaining: 4.18s\n",
      "37:\tlearn: 0.2812694\ttotal: 52.6s\tremaining: 2.77s\n",
      "38:\tlearn: 0.2796494\ttotal: 53.7s\tremaining: 1.38s\n",
      "39:\tlearn: 0.2781020\ttotal: 54.8s\tremaining: 0us\n",
      "0:\tlearn: 0.5362810\ttotal: 1.66s\tremaining: 1m 4s\n",
      "1:\tlearn: 0.4882158\ttotal: 2.84s\tremaining: 54s\n",
      "2:\tlearn: 0.4577543\ttotal: 4s\tremaining: 49.3s\n",
      "3:\tlearn: 0.4374486\ttotal: 5.13s\tremaining: 46.1s\n",
      "4:\tlearn: 0.4218969\ttotal: 6.24s\tremaining: 43.7s\n"
     ]
    },
    {
     "name": "stdout",
     "output_type": "stream",
     "text": [
      "5:\tlearn: 0.4094763\ttotal: 7.39s\tremaining: 41.9s\n",
      "6:\tlearn: 0.3988254\ttotal: 8.46s\tremaining: 39.9s\n",
      "7:\tlearn: 0.3875440\ttotal: 9.54s\tremaining: 38.2s\n",
      "8:\tlearn: 0.3778755\ttotal: 10.6s\tremaining: 36.7s\n",
      "9:\tlearn: 0.3714219\ttotal: 11.8s\tremaining: 35.4s\n",
      "10:\tlearn: 0.3621993\ttotal: 13s\tremaining: 34.4s\n",
      "11:\tlearn: 0.3568868\ttotal: 14.1s\tremaining: 33s\n",
      "12:\tlearn: 0.3509940\ttotal: 15.3s\tremaining: 31.7s\n",
      "13:\tlearn: 0.3466125\ttotal: 16.3s\tremaining: 30.3s\n",
      "14:\tlearn: 0.3424752\ttotal: 17.4s\tremaining: 29s\n",
      "15:\tlearn: 0.3391199\ttotal: 18.5s\tremaining: 27.7s\n",
      "16:\tlearn: 0.3351405\ttotal: 19.6s\tremaining: 26.5s\n",
      "17:\tlearn: 0.3320369\ttotal: 20.6s\tremaining: 25.2s\n",
      "18:\tlearn: 0.3292563\ttotal: 21.7s\tremaining: 24s\n",
      "19:\tlearn: 0.3257897\ttotal: 22.8s\tremaining: 22.8s\n",
      "20:\tlearn: 0.3222366\ttotal: 24s\tremaining: 21.7s\n",
      "21:\tlearn: 0.3194147\ttotal: 25.2s\tremaining: 20.6s\n",
      "22:\tlearn: 0.3164951\ttotal: 27.1s\tremaining: 20s\n",
      "23:\tlearn: 0.3141736\ttotal: 28.4s\tremaining: 18.9s\n",
      "24:\tlearn: 0.3116573\ttotal: 29.7s\tremaining: 17.8s\n",
      "25:\tlearn: 0.3091324\ttotal: 31.6s\tremaining: 17s\n",
      "26:\tlearn: 0.3066276\ttotal: 32.9s\tremaining: 15.9s\n",
      "27:\tlearn: 0.3036534\ttotal: 34s\tremaining: 14.6s\n",
      "28:\tlearn: 0.3011302\ttotal: 35.1s\tremaining: 13.3s\n",
      "29:\tlearn: 0.2991516\ttotal: 36.2s\tremaining: 12.1s\n",
      "30:\tlearn: 0.2967370\ttotal: 37.3s\tremaining: 10.8s\n",
      "31:\tlearn: 0.2947274\ttotal: 38.4s\tremaining: 9.59s\n",
      "32:\tlearn: 0.2928799\ttotal: 39.5s\tremaining: 8.37s\n",
      "33:\tlearn: 0.2902206\ttotal: 40.5s\tremaining: 7.15s\n",
      "34:\tlearn: 0.2881326\ttotal: 41.6s\tremaining: 5.94s\n",
      "35:\tlearn: 0.2861865\ttotal: 42.7s\tremaining: 4.74s\n",
      "36:\tlearn: 0.2843952\ttotal: 43.8s\tremaining: 3.55s\n",
      "37:\tlearn: 0.2827007\ttotal: 44.9s\tremaining: 2.36s\n",
      "38:\tlearn: 0.2809326\ttotal: 46.1s\tremaining: 1.18s\n",
      "39:\tlearn: 0.2791284\ttotal: 47.2s\tremaining: 0us\n",
      "0:\tlearn: 0.5147527\ttotal: 2.42s\tremaining: 1m 34s\n",
      "1:\tlearn: 0.4669246\ttotal: 4.61s\tremaining: 1m 27s\n",
      "2:\tlearn: 0.4375721\ttotal: 5.92s\tremaining: 1m 13s\n",
      "3:\tlearn: 0.4140070\ttotal: 7.22s\tremaining: 1m 5s\n",
      "4:\tlearn: 0.3988042\ttotal: 8.79s\tremaining: 1m 1s\n",
      "5:\tlearn: 0.3839643\ttotal: 12s\tremaining: 1m 7s\n",
      "6:\tlearn: 0.3730964\ttotal: 14.4s\tremaining: 1m 7s\n",
      "7:\tlearn: 0.3640408\ttotal: 17.8s\tremaining: 1m 11s\n",
      "8:\tlearn: 0.3551605\ttotal: 19.9s\tremaining: 1m 8s\n",
      "9:\tlearn: 0.3466263\ttotal: 22s\tremaining: 1m 6s\n",
      "10:\tlearn: 0.3392937\ttotal: 24.3s\tremaining: 1m 4s\n",
      "11:\tlearn: 0.3342206\ttotal: 26.5s\tremaining: 1m 1s\n",
      "12:\tlearn: 0.3288741\ttotal: 28.3s\tremaining: 58.8s\n",
      "13:\tlearn: 0.3242021\ttotal: 30.5s\tremaining: 56.7s\n",
      "14:\tlearn: 0.3208450\ttotal: 32.9s\tremaining: 54.8s\n",
      "15:\tlearn: 0.3168099\ttotal: 34.6s\tremaining: 52s\n",
      "16:\tlearn: 0.3129812\ttotal: 36.6s\tremaining: 49.5s\n",
      "17:\tlearn: 0.3087684\ttotal: 38.1s\tremaining: 46.6s\n",
      "18:\tlearn: 0.3050301\ttotal: 39.7s\tremaining: 43.9s\n",
      "19:\tlearn: 0.3021019\ttotal: 41s\tremaining: 41s\n",
      "20:\tlearn: 0.2989162\ttotal: 42.7s\tremaining: 38.6s\n",
      "21:\tlearn: 0.2959894\ttotal: 44s\tremaining: 36s\n",
      "22:\tlearn: 0.2926209\ttotal: 45.5s\tremaining: 33.7s\n",
      "23:\tlearn: 0.2887874\ttotal: 47.3s\tremaining: 31.5s\n",
      "24:\tlearn: 0.2863887\ttotal: 49s\tremaining: 29.4s\n",
      "25:\tlearn: 0.2841096\ttotal: 50.6s\tremaining: 27.3s\n",
      "26:\tlearn: 0.2815029\ttotal: 53.1s\tremaining: 25.5s\n",
      "27:\tlearn: 0.2796888\ttotal: 55.2s\tremaining: 23.7s\n",
      "28:\tlearn: 0.2774414\ttotal: 58.5s\tremaining: 22.2s\n",
      "29:\tlearn: 0.2755447\ttotal: 1m\tremaining: 20.3s\n",
      "30:\tlearn: 0.2734588\ttotal: 1m 2s\tremaining: 18.3s\n",
      "31:\tlearn: 0.2718204\ttotal: 1m 4s\tremaining: 16.2s\n",
      "32:\tlearn: 0.2700600\ttotal: 1m 6s\tremaining: 14.1s\n",
      "33:\tlearn: 0.2674354\ttotal: 1m 7s\tremaining: 11.9s\n",
      "34:\tlearn: 0.2654865\ttotal: 1m 9s\tremaining: 9.87s\n",
      "35:\tlearn: 0.2629542\ttotal: 1m 10s\tremaining: 7.81s\n",
      "36:\tlearn: 0.2616412\ttotal: 1m 11s\tremaining: 5.79s\n",
      "37:\tlearn: 0.2600524\ttotal: 1m 12s\tremaining: 3.83s\n",
      "38:\tlearn: 0.2588977\ttotal: 1m 14s\tremaining: 1.91s\n",
      "39:\tlearn: 0.2576900\ttotal: 1m 15s\tremaining: 0us\n",
      "0:\tlearn: 0.5161601\ttotal: 1.88s\tremaining: 1m 13s\n",
      "1:\tlearn: 0.4717239\ttotal: 3.4s\tremaining: 1m 4s\n",
      "2:\tlearn: 0.4395211\ttotal: 4.65s\tremaining: 57.3s\n",
      "3:\tlearn: 0.4165099\ttotal: 5.83s\tremaining: 52.5s\n",
      "4:\tlearn: 0.3996572\ttotal: 7.12s\tremaining: 49.9s\n",
      "5:\tlearn: 0.3859783\ttotal: 8.43s\tremaining: 47.7s\n",
      "6:\tlearn: 0.3729531\ttotal: 9.64s\tremaining: 45.5s\n",
      "7:\tlearn: 0.3612124\ttotal: 10.8s\tremaining: 43.2s\n",
      "8:\tlearn: 0.3526072\ttotal: 11.9s\tremaining: 41s\n",
      "9:\tlearn: 0.3454767\ttotal: 13s\tremaining: 38.9s\n",
      "10:\tlearn: 0.3386533\ttotal: 14.1s\tremaining: 37.1s\n",
      "11:\tlearn: 0.3313330\ttotal: 15.2s\tremaining: 35.5s\n",
      "12:\tlearn: 0.3262803\ttotal: 16.4s\tremaining: 34s\n",
      "13:\tlearn: 0.3215865\ttotal: 17.5s\tremaining: 32.5s\n",
      "14:\tlearn: 0.3173348\ttotal: 18.7s\tremaining: 31.2s\n",
      "15:\tlearn: 0.3132740\ttotal: 19.9s\tremaining: 29.9s\n",
      "16:\tlearn: 0.3096549\ttotal: 21s\tremaining: 28.4s\n",
      "17:\tlearn: 0.3053030\ttotal: 22.4s\tremaining: 27.4s\n",
      "18:\tlearn: 0.3010243\ttotal: 23.7s\tremaining: 26.2s\n",
      "19:\tlearn: 0.2981499\ttotal: 24.9s\tremaining: 24.9s\n",
      "20:\tlearn: 0.2952734\ttotal: 26.2s\tremaining: 23.7s\n",
      "21:\tlearn: 0.2925024\ttotal: 27.3s\tremaining: 22.4s\n",
      "22:\tlearn: 0.2894591\ttotal: 28.5s\tremaining: 21s\n",
      "23:\tlearn: 0.2867717\ttotal: 29.6s\tremaining: 19.8s\n",
      "24:\tlearn: 0.2843048\ttotal: 30.7s\tremaining: 18.4s\n",
      "25:\tlearn: 0.2819018\ttotal: 32s\tremaining: 17.2s\n",
      "26:\tlearn: 0.2799013\ttotal: 33.7s\tremaining: 16.2s\n",
      "27:\tlearn: 0.2777241\ttotal: 34.9s\tremaining: 15s\n",
      "28:\tlearn: 0.2755365\ttotal: 36.1s\tremaining: 13.7s\n",
      "29:\tlearn: 0.2739674\ttotal: 37.5s\tremaining: 12.5s\n",
      "30:\tlearn: 0.2718864\ttotal: 38.6s\tremaining: 11.2s\n",
      "31:\tlearn: 0.2698880\ttotal: 39.9s\tremaining: 9.98s\n",
      "32:\tlearn: 0.2677366\ttotal: 41.3s\tremaining: 8.77s\n",
      "33:\tlearn: 0.2662545\ttotal: 43s\tremaining: 7.58s\n",
      "34:\tlearn: 0.2647177\ttotal: 44.3s\tremaining: 6.33s\n",
      "35:\tlearn: 0.2623986\ttotal: 45.8s\tremaining: 5.09s\n",
      "36:\tlearn: 0.2609084\ttotal: 47s\tremaining: 3.81s\n",
      "37:\tlearn: 0.2592361\ttotal: 48.1s\tremaining: 2.53s\n",
      "38:\tlearn: 0.2566530\ttotal: 49.3s\tremaining: 1.26s\n",
      "39:\tlearn: 0.2549660\ttotal: 50.6s\tremaining: 0us\n",
      "0:\tlearn: 0.5143533\ttotal: 1.66s\tremaining: 1m 4s\n",
      "1:\tlearn: 0.4676708\ttotal: 3.06s\tremaining: 58.2s\n",
      "2:\tlearn: 0.4379086\ttotal: 4.49s\tremaining: 55.4s\n",
      "3:\tlearn: 0.4143571\ttotal: 5.72s\tremaining: 51.5s\n",
      "4:\tlearn: 0.3971325\ttotal: 6.88s\tremaining: 48.1s\n",
      "5:\tlearn: 0.3837581\ttotal: 8.08s\tremaining: 45.8s\n",
      "6:\tlearn: 0.3737388\ttotal: 9.39s\tremaining: 44.3s\n",
      "7:\tlearn: 0.3641875\ttotal: 10.6s\tremaining: 42.3s\n",
      "8:\tlearn: 0.3550845\ttotal: 13.7s\tremaining: 47.1s\n",
      "9:\tlearn: 0.3465583\ttotal: 15.4s\tremaining: 46.2s\n",
      "10:\tlearn: 0.3410446\ttotal: 16.7s\tremaining: 44s\n",
      "11:\tlearn: 0.3360062\ttotal: 17.9s\tremaining: 41.8s\n",
      "12:\tlearn: 0.3307822\ttotal: 19.1s\tremaining: 39.7s\n",
      "13:\tlearn: 0.3252012\ttotal: 20.4s\tremaining: 37.8s\n",
      "14:\tlearn: 0.3213010\ttotal: 21.6s\tremaining: 36.1s\n",
      "15:\tlearn: 0.3164408\ttotal: 22.9s\tremaining: 34.4s\n",
      "16:\tlearn: 0.3127454\ttotal: 24.1s\tremaining: 32.6s\n",
      "17:\tlearn: 0.3092407\ttotal: 25.3s\tremaining: 30.9s\n",
      "18:\tlearn: 0.3050858\ttotal: 26.4s\tremaining: 29.2s\n",
      "19:\tlearn: 0.3016192\ttotal: 27.7s\tremaining: 27.7s\n",
      "20:\tlearn: 0.2984115\ttotal: 29.3s\tremaining: 26.5s\n",
      "21:\tlearn: 0.2950973\ttotal: 30.6s\tremaining: 25s\n",
      "22:\tlearn: 0.2919389\ttotal: 31.9s\tremaining: 23.6s\n",
      "23:\tlearn: 0.2890670\ttotal: 33.9s\tremaining: 22.6s\n",
      "24:\tlearn: 0.2864982\ttotal: 35.4s\tremaining: 21.2s\n",
      "25:\tlearn: 0.2841630\ttotal: 36.6s\tremaining: 19.7s\n",
      "26:\tlearn: 0.2817485\ttotal: 38.1s\tremaining: 18.3s\n",
      "27:\tlearn: 0.2787636\ttotal: 39.9s\tremaining: 17.1s\n",
      "28:\tlearn: 0.2765040\ttotal: 41.1s\tremaining: 15.6s\n",
      "29:\tlearn: 0.2745410\ttotal: 42.2s\tremaining: 14.1s\n",
      "30:\tlearn: 0.2722348\ttotal: 43.6s\tremaining: 12.7s\n",
      "31:\tlearn: 0.2701407\ttotal: 44.8s\tremaining: 11.2s\n",
      "32:\tlearn: 0.2683033\ttotal: 46.2s\tremaining: 9.81s\n",
      "33:\tlearn: 0.2664766\ttotal: 47.8s\tremaining: 8.44s\n",
      "34:\tlearn: 0.2644900\ttotal: 49.2s\tremaining: 7.03s\n",
      "35:\tlearn: 0.2629091\ttotal: 50.6s\tremaining: 5.62s\n",
      "36:\tlearn: 0.2613198\ttotal: 51.7s\tremaining: 4.19s\n",
      "37:\tlearn: 0.2597082\ttotal: 53s\tremaining: 2.79s\n",
      "38:\tlearn: 0.2585479\ttotal: 54.3s\tremaining: 1.39s\n",
      "39:\tlearn: 0.2565386\ttotal: 55.9s\tremaining: 0us\n",
      "0:\tlearn: 0.5055334\ttotal: 2.39s\tremaining: 1m 33s\n",
      "1:\tlearn: 0.4665379\ttotal: 3.77s\tremaining: 1m 11s\n",
      "2:\tlearn: 0.4364298\ttotal: 5.85s\tremaining: 1m 12s\n",
      "3:\tlearn: 0.4086322\ttotal: 7.05s\tremaining: 1m 3s\n",
      "4:\tlearn: 0.3910618\ttotal: 8.23s\tremaining: 57.6s\n",
      "5:\tlearn: 0.3759100\ttotal: 9.41s\tremaining: 53.4s\n",
      "6:\tlearn: 0.3641762\ttotal: 10.7s\tremaining: 50.6s\n",
      "7:\tlearn: 0.3554395\ttotal: 12.3s\tremaining: 49.2s\n"
     ]
    },
    {
     "name": "stdout",
     "output_type": "stream",
     "text": [
      "8:\tlearn: 0.3453606\ttotal: 13.6s\tremaining: 46.7s\n",
      "9:\tlearn: 0.3365592\ttotal: 14.8s\tremaining: 44.3s\n",
      "10:\tlearn: 0.3289840\ttotal: 15.9s\tremaining: 41.9s\n",
      "11:\tlearn: 0.3226600\ttotal: 17.1s\tremaining: 40s\n",
      "12:\tlearn: 0.3172882\ttotal: 18.5s\tremaining: 38.4s\n",
      "13:\tlearn: 0.3127674\ttotal: 19.8s\tremaining: 36.8s\n",
      "14:\tlearn: 0.3081563\ttotal: 21.1s\tremaining: 35.2s\n",
      "15:\tlearn: 0.3042548\ttotal: 22.4s\tremaining: 33.6s\n",
      "16:\tlearn: 0.3009788\ttotal: 23.6s\tremaining: 31.9s\n",
      "17:\tlearn: 0.2974412\ttotal: 24.8s\tremaining: 30.3s\n",
      "18:\tlearn: 0.2936301\ttotal: 26.2s\tremaining: 28.9s\n",
      "19:\tlearn: 0.2902383\ttotal: 27.4s\tremaining: 27.4s\n",
      "20:\tlearn: 0.2864208\ttotal: 28.7s\tremaining: 26s\n",
      "21:\tlearn: 0.2837553\ttotal: 29.9s\tremaining: 24.4s\n",
      "22:\tlearn: 0.2812532\ttotal: 31s\tremaining: 22.9s\n",
      "23:\tlearn: 0.2780215\ttotal: 32.2s\tremaining: 21.5s\n",
      "24:\tlearn: 0.2753011\ttotal: 33.4s\tremaining: 20s\n",
      "25:\tlearn: 0.2734624\ttotal: 34.6s\tremaining: 18.6s\n",
      "26:\tlearn: 0.2715408\ttotal: 35.7s\tremaining: 17.2s\n",
      "27:\tlearn: 0.2689882\ttotal: 37s\tremaining: 15.8s\n",
      "28:\tlearn: 0.2668136\ttotal: 38.3s\tremaining: 14.5s\n",
      "29:\tlearn: 0.2653394\ttotal: 39.5s\tremaining: 13.2s\n",
      "30:\tlearn: 0.2630390\ttotal: 40.6s\tremaining: 11.8s\n",
      "31:\tlearn: 0.2608005\ttotal: 41.8s\tremaining: 10.5s\n",
      "32:\tlearn: 0.2590601\ttotal: 43.1s\tremaining: 9.14s\n",
      "33:\tlearn: 0.2576556\ttotal: 44.3s\tremaining: 7.82s\n",
      "34:\tlearn: 0.2555256\ttotal: 45.4s\tremaining: 6.49s\n",
      "35:\tlearn: 0.2540590\ttotal: 46.7s\tremaining: 5.18s\n",
      "36:\tlearn: 0.2520089\ttotal: 47.9s\tremaining: 3.88s\n",
      "37:\tlearn: 0.2505850\ttotal: 49.2s\tremaining: 2.59s\n",
      "38:\tlearn: 0.2494641\ttotal: 50.4s\tremaining: 1.29s\n",
      "39:\tlearn: 0.2479972\ttotal: 51.5s\tremaining: 0us\n",
      "0:\tlearn: 0.5068922\ttotal: 2.35s\tremaining: 1m 31s\n",
      "1:\tlearn: 0.4663446\ttotal: 4.59s\tremaining: 1m 27s\n",
      "2:\tlearn: 0.4319703\ttotal: 7.21s\tremaining: 1m 28s\n",
      "3:\tlearn: 0.4084751\ttotal: 9.18s\tremaining: 1m 22s\n",
      "4:\tlearn: 0.3926449\ttotal: 10.8s\tremaining: 1m 15s\n",
      "5:\tlearn: 0.3765353\ttotal: 12s\tremaining: 1m 8s\n",
      "6:\tlearn: 0.3639502\ttotal: 13.4s\tremaining: 1m 2s\n",
      "7:\tlearn: 0.3516908\ttotal: 14.8s\tremaining: 59s\n",
      "8:\tlearn: 0.3445002\ttotal: 16.1s\tremaining: 55.5s\n",
      "9:\tlearn: 0.3363793\ttotal: 17.2s\tremaining: 51.7s\n",
      "10:\tlearn: 0.3288912\ttotal: 18.7s\tremaining: 49.2s\n",
      "11:\tlearn: 0.3228496\ttotal: 22.4s\tremaining: 52.3s\n",
      "12:\tlearn: 0.3165579\ttotal: 23.6s\tremaining: 49.1s\n",
      "13:\tlearn: 0.3113931\ttotal: 24.9s\tremaining: 46.2s\n",
      "14:\tlearn: 0.3072594\ttotal: 26s\tremaining: 43.4s\n",
      "15:\tlearn: 0.3036176\ttotal: 27.1s\tremaining: 40.6s\n",
      "16:\tlearn: 0.2991962\ttotal: 28.2s\tremaining: 38.1s\n",
      "17:\tlearn: 0.2952642\ttotal: 29.3s\tremaining: 35.8s\n",
      "18:\tlearn: 0.2920255\ttotal: 30.4s\tremaining: 33.6s\n",
      "19:\tlearn: 0.2890913\ttotal: 31.5s\tremaining: 31.5s\n",
      "20:\tlearn: 0.2869287\ttotal: 32.6s\tremaining: 29.5s\n",
      "21:\tlearn: 0.2841617\ttotal: 33.7s\tremaining: 27.5s\n",
      "22:\tlearn: 0.2812378\ttotal: 34.7s\tremaining: 25.7s\n",
      "23:\tlearn: 0.2783690\ttotal: 35.9s\tremaining: 23.9s\n",
      "24:\tlearn: 0.2762253\ttotal: 37s\tremaining: 22.2s\n",
      "25:\tlearn: 0.2732624\ttotal: 38.1s\tremaining: 20.5s\n",
      "26:\tlearn: 0.2706868\ttotal: 39.5s\tremaining: 19s\n",
      "27:\tlearn: 0.2691918\ttotal: 40.6s\tremaining: 17.4s\n",
      "28:\tlearn: 0.2669985\ttotal: 41.7s\tremaining: 15.8s\n",
      "29:\tlearn: 0.2646610\ttotal: 42.8s\tremaining: 14.3s\n",
      "30:\tlearn: 0.2621031\ttotal: 44.5s\tremaining: 12.9s\n",
      "31:\tlearn: 0.2603233\ttotal: 45.9s\tremaining: 11.5s\n",
      "32:\tlearn: 0.2586816\ttotal: 47.1s\tremaining: 9.99s\n",
      "33:\tlearn: 0.2571812\ttotal: 48.3s\tremaining: 8.52s\n",
      "34:\tlearn: 0.2551320\ttotal: 49.7s\tremaining: 7.1s\n",
      "35:\tlearn: 0.2524365\ttotal: 50.9s\tremaining: 5.66s\n",
      "36:\tlearn: 0.2505731\ttotal: 52.2s\tremaining: 4.24s\n",
      "37:\tlearn: 0.2486177\ttotal: 53.7s\tremaining: 2.82s\n",
      "38:\tlearn: 0.2474068\ttotal: 55.3s\tremaining: 1.42s\n",
      "39:\tlearn: 0.2457054\ttotal: 56.8s\tremaining: 0us\n",
      "0:\tlearn: 0.5050254\ttotal: 4.5s\tremaining: 2m 55s\n",
      "1:\tlearn: 0.4609743\ttotal: 6.28s\tremaining: 1m 59s\n",
      "2:\tlearn: 0.4317659\ttotal: 7.7s\tremaining: 1m 34s\n",
      "3:\tlearn: 0.4076595\ttotal: 8.89s\tremaining: 1m 20s\n",
      "4:\tlearn: 0.3885814\ttotal: 10.4s\tremaining: 1m 12s\n",
      "5:\tlearn: 0.3764058\ttotal: 11.7s\tremaining: 1m 6s\n",
      "6:\tlearn: 0.3649033\ttotal: 13.4s\tremaining: 1m 3s\n",
      "7:\tlearn: 0.3551141\ttotal: 14.8s\tremaining: 59.4s\n",
      "8:\tlearn: 0.3459252\ttotal: 16s\tremaining: 55.2s\n",
      "9:\tlearn: 0.3367279\ttotal: 17.3s\tremaining: 51.8s\n",
      "10:\tlearn: 0.3313141\ttotal: 18.5s\tremaining: 48.9s\n",
      "11:\tlearn: 0.3252538\ttotal: 20s\tremaining: 46.6s\n",
      "12:\tlearn: 0.3201604\ttotal: 21.6s\tremaining: 44.9s\n",
      "13:\tlearn: 0.3148034\ttotal: 23s\tremaining: 42.8s\n",
      "14:\tlearn: 0.3102395\ttotal: 24.2s\tremaining: 40.3s\n",
      "15:\tlearn: 0.3061457\ttotal: 25.5s\tremaining: 38.3s\n",
      "16:\tlearn: 0.3020964\ttotal: 27.1s\tremaining: 36.6s\n",
      "17:\tlearn: 0.2986946\ttotal: 28.4s\tremaining: 34.7s\n",
      "18:\tlearn: 0.2949262\ttotal: 29.6s\tremaining: 32.8s\n",
      "19:\tlearn: 0.2920651\ttotal: 31s\tremaining: 31s\n",
      "20:\tlearn: 0.2884558\ttotal: 32.9s\tremaining: 29.7s\n",
      "21:\tlearn: 0.2855680\ttotal: 35s\tremaining: 28.6s\n",
      "22:\tlearn: 0.2831548\ttotal: 36.7s\tremaining: 27.1s\n",
      "23:\tlearn: 0.2804655\ttotal: 38.1s\tremaining: 25.4s\n",
      "24:\tlearn: 0.2775067\ttotal: 39.6s\tremaining: 23.8s\n",
      "25:\tlearn: 0.2750911\ttotal: 40.7s\tremaining: 21.9s\n",
      "26:\tlearn: 0.2728334\ttotal: 42s\tremaining: 20.2s\n",
      "27:\tlearn: 0.2709168\ttotal: 43.3s\tremaining: 18.6s\n",
      "28:\tlearn: 0.2681691\ttotal: 45.3s\tremaining: 17.2s\n",
      "29:\tlearn: 0.2660941\ttotal: 46.6s\tremaining: 15.5s\n",
      "30:\tlearn: 0.2631268\ttotal: 48.5s\tremaining: 14.1s\n",
      "31:\tlearn: 0.2609742\ttotal: 50.8s\tremaining: 12.7s\n",
      "32:\tlearn: 0.2598098\ttotal: 52.3s\tremaining: 11.1s\n",
      "33:\tlearn: 0.2579903\ttotal: 53.5s\tremaining: 9.44s\n",
      "34:\tlearn: 0.2561277\ttotal: 54.6s\tremaining: 7.8s\n",
      "35:\tlearn: 0.2545364\ttotal: 55.8s\tremaining: 6.2s\n",
      "36:\tlearn: 0.2530203\ttotal: 56.9s\tremaining: 4.61s\n",
      "37:\tlearn: 0.2513125\ttotal: 58.1s\tremaining: 3.06s\n",
      "38:\tlearn: 0.2499878\ttotal: 59.2s\tremaining: 1.52s\n",
      "39:\tlearn: 0.2487558\ttotal: 1m\tremaining: 0us\n",
      "0:\tlearn: 0.5068638\ttotal: 4.04s\tremaining: 2m 37s\n",
      "1:\tlearn: 0.4578134\ttotal: 6.43s\tremaining: 2m 2s\n",
      "2:\tlearn: 0.4300114\ttotal: 8.34s\tremaining: 1m 42s\n",
      "3:\tlearn: 0.4053632\ttotal: 10.1s\tremaining: 1m 31s\n",
      "4:\tlearn: 0.3879034\ttotal: 11.8s\tremaining: 1m 22s\n",
      "5:\tlearn: 0.3730652\ttotal: 13.4s\tremaining: 1m 16s\n",
      "6:\tlearn: 0.3629239\ttotal: 15.3s\tremaining: 1m 12s\n",
      "7:\tlearn: 0.3530139\ttotal: 17s\tremaining: 1m 7s\n",
      "8:\tlearn: 0.3429905\ttotal: 18.8s\tremaining: 1m 4s\n",
      "9:\tlearn: 0.3349375\ttotal: 20.5s\tremaining: 1m 1s\n",
      "10:\tlearn: 0.3289670\ttotal: 22.1s\tremaining: 58.3s\n",
      "11:\tlearn: 0.3218853\ttotal: 23.9s\tremaining: 55.7s\n",
      "12:\tlearn: 0.3164026\ttotal: 25.5s\tremaining: 53s\n",
      "13:\tlearn: 0.3117993\ttotal: 27.2s\tremaining: 50.6s\n",
      "14:\tlearn: 0.3083950\ttotal: 28.9s\tremaining: 48.2s\n",
      "15:\tlearn: 0.3043772\ttotal: 30.9s\tremaining: 46.3s\n",
      "16:\tlearn: 0.3007762\ttotal: 33.9s\tremaining: 45.9s\n",
      "17:\tlearn: 0.2969066\ttotal: 35.9s\tremaining: 43.9s\n",
      "18:\tlearn: 0.2933014\ttotal: 37.8s\tremaining: 41.8s\n",
      "19:\tlearn: 0.2902516\ttotal: 39.7s\tremaining: 39.7s\n",
      "20:\tlearn: 0.2876949\ttotal: 41.4s\tremaining: 37.5s\n",
      "21:\tlearn: 0.2846753\ttotal: 43.2s\tremaining: 35.3s\n",
      "22:\tlearn: 0.2817959\ttotal: 44.6s\tremaining: 33s\n",
      "23:\tlearn: 0.2796253\ttotal: 46.2s\tremaining: 30.8s\n",
      "24:\tlearn: 0.2767201\ttotal: 47.8s\tremaining: 28.7s\n",
      "25:\tlearn: 0.2743460\ttotal: 49.3s\tremaining: 26.5s\n",
      "26:\tlearn: 0.2720789\ttotal: 50.9s\tremaining: 24.5s\n",
      "27:\tlearn: 0.2697994\ttotal: 52.6s\tremaining: 22.5s\n",
      "28:\tlearn: 0.2669733\ttotal: 54.2s\tremaining: 20.5s\n",
      "29:\tlearn: 0.2652395\ttotal: 55.6s\tremaining: 18.5s\n",
      "30:\tlearn: 0.2635288\ttotal: 57.1s\tremaining: 16.6s\n",
      "31:\tlearn: 0.2607844\ttotal: 58.6s\tremaining: 14.7s\n",
      "32:\tlearn: 0.2594109\ttotal: 1m\tremaining: 12.7s\n",
      "33:\tlearn: 0.2580825\ttotal: 1m 1s\tremaining: 10.8s\n",
      "34:\tlearn: 0.2563721\ttotal: 1m 2s\tremaining: 8.98s\n",
      "35:\tlearn: 0.2547876\ttotal: 1m 4s\tremaining: 7.14s\n",
      "36:\tlearn: 0.2531507\ttotal: 1m 5s\tremaining: 5.33s\n",
      "37:\tlearn: 0.2509038\ttotal: 1m 7s\tremaining: 3.55s\n",
      "38:\tlearn: 0.2488220\ttotal: 1m 8s\tremaining: 1.77s\n",
      "39:\tlearn: 0.2475382\ttotal: 1m 10s\tremaining: 0us\n"
     ]
    },
    {
     "data": {
      "text/html": [
       "<style>#sk-container-id-6 {color: black;background-color: white;}#sk-container-id-6 pre{padding: 0;}#sk-container-id-6 div.sk-toggleable {background-color: white;}#sk-container-id-6 label.sk-toggleable__label {cursor: pointer;display: block;width: 100%;margin-bottom: 0;padding: 0.3em;box-sizing: border-box;text-align: center;}#sk-container-id-6 label.sk-toggleable__label-arrow:before {content: \"▸\";float: left;margin-right: 0.25em;color: #696969;}#sk-container-id-6 label.sk-toggleable__label-arrow:hover:before {color: black;}#sk-container-id-6 div.sk-estimator:hover label.sk-toggleable__label-arrow:before {color: black;}#sk-container-id-6 div.sk-toggleable__content {max-height: 0;max-width: 0;overflow: hidden;text-align: left;background-color: #f0f8ff;}#sk-container-id-6 div.sk-toggleable__content pre {margin: 0.2em;color: black;border-radius: 0.25em;background-color: #f0f8ff;}#sk-container-id-6 input.sk-toggleable__control:checked~div.sk-toggleable__content {max-height: 200px;max-width: 100%;overflow: auto;}#sk-container-id-6 input.sk-toggleable__control:checked~label.sk-toggleable__label-arrow:before {content: \"▾\";}#sk-container-id-6 div.sk-estimator input.sk-toggleable__control:checked~label.sk-toggleable__label {background-color: #d4ebff;}#sk-container-id-6 div.sk-label input.sk-toggleable__control:checked~label.sk-toggleable__label {background-color: #d4ebff;}#sk-container-id-6 input.sk-hidden--visually {border: 0;clip: rect(1px 1px 1px 1px);clip: rect(1px, 1px, 1px, 1px);height: 1px;margin: -1px;overflow: hidden;padding: 0;position: absolute;width: 1px;}#sk-container-id-6 div.sk-estimator {font-family: monospace;background-color: #f0f8ff;border: 1px dotted black;border-radius: 0.25em;box-sizing: border-box;margin-bottom: 0.5em;}#sk-container-id-6 div.sk-estimator:hover {background-color: #d4ebff;}#sk-container-id-6 div.sk-parallel-item::after {content: \"\";width: 100%;border-bottom: 1px solid gray;flex-grow: 1;}#sk-container-id-6 div.sk-label:hover label.sk-toggleable__label {background-color: #d4ebff;}#sk-container-id-6 div.sk-serial::before {content: \"\";position: absolute;border-left: 1px solid gray;box-sizing: border-box;top: 0;bottom: 0;left: 50%;z-index: 0;}#sk-container-id-6 div.sk-serial {display: flex;flex-direction: column;align-items: center;background-color: white;padding-right: 0.2em;padding-left: 0.2em;position: relative;}#sk-container-id-6 div.sk-item {position: relative;z-index: 1;}#sk-container-id-6 div.sk-parallel {display: flex;align-items: stretch;justify-content: center;background-color: white;position: relative;}#sk-container-id-6 div.sk-item::before, #sk-container-id-6 div.sk-parallel-item::before {content: \"\";position: absolute;border-left: 1px solid gray;box-sizing: border-box;top: 0;bottom: 0;left: 50%;z-index: -1;}#sk-container-id-6 div.sk-parallel-item {display: flex;flex-direction: column;z-index: 1;position: relative;background-color: white;}#sk-container-id-6 div.sk-parallel-item:first-child::after {align-self: flex-end;width: 50%;}#sk-container-id-6 div.sk-parallel-item:last-child::after {align-self: flex-start;width: 50%;}#sk-container-id-6 div.sk-parallel-item:only-child::after {width: 0;}#sk-container-id-6 div.sk-dashed-wrapped {border: 1px dashed gray;margin: 0 0.4em 0.5em 0.4em;box-sizing: border-box;padding-bottom: 0.4em;background-color: white;}#sk-container-id-6 div.sk-label label {font-family: monospace;font-weight: bold;display: inline-block;line-height: 1.2em;}#sk-container-id-6 div.sk-label-container {text-align: center;}#sk-container-id-6 div.sk-container {/* jupyter's `normalize.less` sets `[hidden] { display: none; }` but bootstrap.min.css set `[hidden] { display: none !important; }` so we also need the `!important` here to be able to override the default hidden behavior on the sphinx rendered scikit-learn.org. See: https://github.com/scikit-learn/scikit-learn/issues/21755 */display: inline-block !important;position: relative;}#sk-container-id-6 div.sk-text-repr-fallback {display: none;}</style><div id=\"sk-container-id-6\" class=\"sk-top-container\"><div class=\"sk-text-repr-fallback\"><pre>GridSearchCV(cv=3,\n",
       "             estimator=&lt;catboost.core.CatBoostClassifier object at 0x1678f1120&gt;,\n",
       "             param_grid={&#x27;iterations&#x27;: [40],\n",
       "                         &#x27;learning_rate&#x27;: array([0.1, 0.3, 0.5, 0.7, 0.9])},\n",
       "             scoring=&#x27;f1&#x27;, verbose=False)</pre><b>In a Jupyter environment, please rerun this cell to show the HTML representation or trust the notebook. <br />On GitHub, the HTML representation is unable to render, please try loading this page with nbviewer.org.</b></div><div class=\"sk-container\" hidden><div class=\"sk-item sk-dashed-wrapped\"><div class=\"sk-label-container\"><div class=\"sk-label sk-toggleable\"><input class=\"sk-toggleable__control sk-hidden--visually\" id=\"sk-estimator-id-16\" type=\"checkbox\" ><label for=\"sk-estimator-id-16\" class=\"sk-toggleable__label sk-toggleable__label-arrow\">GridSearchCV</label><div class=\"sk-toggleable__content\"><pre>GridSearchCV(cv=3,\n",
       "             estimator=&lt;catboost.core.CatBoostClassifier object at 0x1678f1120&gt;,\n",
       "             param_grid={&#x27;iterations&#x27;: [40],\n",
       "                         &#x27;learning_rate&#x27;: array([0.1, 0.3, 0.5, 0.7, 0.9])},\n",
       "             scoring=&#x27;f1&#x27;, verbose=False)</pre></div></div></div><div class=\"sk-parallel\"><div class=\"sk-parallel-item\"><div class=\"sk-item\"><div class=\"sk-label-container\"><div class=\"sk-label sk-toggleable\"><input class=\"sk-toggleable__control sk-hidden--visually\" id=\"sk-estimator-id-17\" type=\"checkbox\" ><label for=\"sk-estimator-id-17\" class=\"sk-toggleable__label sk-toggleable__label-arrow\">estimator: CatBoostClassifier</label><div class=\"sk-toggleable__content\"><pre>&lt;catboost.core.CatBoostClassifier object at 0x1678f1120&gt;</pre></div></div></div><div class=\"sk-serial\"><div class=\"sk-item\"><div class=\"sk-estimator sk-toggleable\"><input class=\"sk-toggleable__control sk-hidden--visually\" id=\"sk-estimator-id-18\" type=\"checkbox\" ><label for=\"sk-estimator-id-18\" class=\"sk-toggleable__label sk-toggleable__label-arrow\">CatBoostClassifier</label><div class=\"sk-toggleable__content\"><pre>&lt;catboost.core.CatBoostClassifier object at 0x1678f1120&gt;</pre></div></div></div></div></div></div></div></div></div></div>"
      ],
      "text/plain": [
       "GridSearchCV(cv=3,\n",
       "             estimator=<catboost.core.CatBoostClassifier object at 0x1678f1120>,\n",
       "             param_grid={'iterations': [40],\n",
       "                         'learning_rate': array([0.1, 0.3, 0.5, 0.7, 0.9])},\n",
       "             scoring='f1', verbose=False)"
      ]
     },
     "execution_count": 136,
     "metadata": {},
     "output_type": "execute_result"
    }
   ],
   "source": [
    "catboost_up = CatBoostClassifier(random_seed=5,\n",
    "                              loss_function='Logloss')\n",
    "\n",
    "# preparing parameters to ask GridSearch, which contains cross validation\n",
    "parameters_cat_up = {'iterations':[40], \n",
    "                  'learning_rate': np.arange(0.1,1,0.2)}\n",
    "\n",
    "gsearch_catboost_up = GridSearchCV(catboost_up, \n",
    "                                param_grid=parameters_cat_up,\n",
    "                                cv=3,\n",
    "                                verbose=False,\n",
    "                               scoring='f1')\n",
    "\n",
    "gsearch_catboost_up.fit(tf_idf_X_train_up, y_train_up)"
   ]
  },
  {
   "cell_type": "code",
   "execution_count": 135,
   "id": "693936d7",
   "metadata": {},
   "outputs": [
    {
     "data": {
      "text/plain": [
       "array([[28264,  1155],\n",
       "       [  303,  2137]])"
      ]
     },
     "execution_count": 135,
     "metadata": {},
     "output_type": "execute_result"
    }
   ],
   "source": [
    "y_pred_catboost_up = gsearch_catboost_up.predict(tf_idf_X_test)\n",
    "confusion_matrix(y_pred_catboost_up, y_test)"
   ]
  },
  {
   "cell_type": "markdown",
   "id": "6fdd1e06",
   "metadata": {},
   "source": [
    "### 2.4 Gradient Boosting в модели \"мешка слова\" в классе TfidfVectorizer()"
   ]
  },
  {
   "cell_type": "code",
   "execution_count": 79,
   "id": "be494f5c",
   "metadata": {},
   "outputs": [],
   "source": [
    "from lightgbm import LGBMClassifier\n",
    "import lightgbm as lgb"
   ]
  },
  {
   "cell_type": "code",
   "execution_count": 80,
   "id": "37b4df5c",
   "metadata": {
    "scrolled": true
   },
   "outputs": [],
   "source": [
    "model = lgb.LGBMClassifier(random_state=5)"
   ]
  },
  {
   "cell_type": "code",
   "execution_count": 81,
   "id": "2f9f1482",
   "metadata": {
    "scrolled": true
   },
   "outputs": [
    {
     "data": {
      "text/html": [
       "<style>#sk-container-id-2 {color: black;background-color: white;}#sk-container-id-2 pre{padding: 0;}#sk-container-id-2 div.sk-toggleable {background-color: white;}#sk-container-id-2 label.sk-toggleable__label {cursor: pointer;display: block;width: 100%;margin-bottom: 0;padding: 0.3em;box-sizing: border-box;text-align: center;}#sk-container-id-2 label.sk-toggleable__label-arrow:before {content: \"▸\";float: left;margin-right: 0.25em;color: #696969;}#sk-container-id-2 label.sk-toggleable__label-arrow:hover:before {color: black;}#sk-container-id-2 div.sk-estimator:hover label.sk-toggleable__label-arrow:before {color: black;}#sk-container-id-2 div.sk-toggleable__content {max-height: 0;max-width: 0;overflow: hidden;text-align: left;background-color: #f0f8ff;}#sk-container-id-2 div.sk-toggleable__content pre {margin: 0.2em;color: black;border-radius: 0.25em;background-color: #f0f8ff;}#sk-container-id-2 input.sk-toggleable__control:checked~div.sk-toggleable__content {max-height: 200px;max-width: 100%;overflow: auto;}#sk-container-id-2 input.sk-toggleable__control:checked~label.sk-toggleable__label-arrow:before {content: \"▾\";}#sk-container-id-2 div.sk-estimator input.sk-toggleable__control:checked~label.sk-toggleable__label {background-color: #d4ebff;}#sk-container-id-2 div.sk-label input.sk-toggleable__control:checked~label.sk-toggleable__label {background-color: #d4ebff;}#sk-container-id-2 input.sk-hidden--visually {border: 0;clip: rect(1px 1px 1px 1px);clip: rect(1px, 1px, 1px, 1px);height: 1px;margin: -1px;overflow: hidden;padding: 0;position: absolute;width: 1px;}#sk-container-id-2 div.sk-estimator {font-family: monospace;background-color: #f0f8ff;border: 1px dotted black;border-radius: 0.25em;box-sizing: border-box;margin-bottom: 0.5em;}#sk-container-id-2 div.sk-estimator:hover {background-color: #d4ebff;}#sk-container-id-2 div.sk-parallel-item::after {content: \"\";width: 100%;border-bottom: 1px solid gray;flex-grow: 1;}#sk-container-id-2 div.sk-label:hover label.sk-toggleable__label {background-color: #d4ebff;}#sk-container-id-2 div.sk-serial::before {content: \"\";position: absolute;border-left: 1px solid gray;box-sizing: border-box;top: 0;bottom: 0;left: 50%;z-index: 0;}#sk-container-id-2 div.sk-serial {display: flex;flex-direction: column;align-items: center;background-color: white;padding-right: 0.2em;padding-left: 0.2em;position: relative;}#sk-container-id-2 div.sk-item {position: relative;z-index: 1;}#sk-container-id-2 div.sk-parallel {display: flex;align-items: stretch;justify-content: center;background-color: white;position: relative;}#sk-container-id-2 div.sk-item::before, #sk-container-id-2 div.sk-parallel-item::before {content: \"\";position: absolute;border-left: 1px solid gray;box-sizing: border-box;top: 0;bottom: 0;left: 50%;z-index: -1;}#sk-container-id-2 div.sk-parallel-item {display: flex;flex-direction: column;z-index: 1;position: relative;background-color: white;}#sk-container-id-2 div.sk-parallel-item:first-child::after {align-self: flex-end;width: 50%;}#sk-container-id-2 div.sk-parallel-item:last-child::after {align-self: flex-start;width: 50%;}#sk-container-id-2 div.sk-parallel-item:only-child::after {width: 0;}#sk-container-id-2 div.sk-dashed-wrapped {border: 1px dashed gray;margin: 0 0.4em 0.5em 0.4em;box-sizing: border-box;padding-bottom: 0.4em;background-color: white;}#sk-container-id-2 div.sk-label label {font-family: monospace;font-weight: bold;display: inline-block;line-height: 1.2em;}#sk-container-id-2 div.sk-label-container {text-align: center;}#sk-container-id-2 div.sk-container {/* jupyter's `normalize.less` sets `[hidden] { display: none; }` but bootstrap.min.css set `[hidden] { display: none !important; }` so we also need the `!important` here to be able to override the default hidden behavior on the sphinx rendered scikit-learn.org. See: https://github.com/scikit-learn/scikit-learn/issues/21755 */display: inline-block !important;position: relative;}#sk-container-id-2 div.sk-text-repr-fallback {display: none;}</style><div id=\"sk-container-id-2\" class=\"sk-top-container\"><div class=\"sk-text-repr-fallback\"><pre>GridSearchCV(cv=3, estimator=LGBMClassifier(random_state=5),\n",
       "             param_grid={&#x27;learning_rate&#x27;: [0.05, 0.1], &#x27;max_depth&#x27;: [-1],\n",
       "                         &#x27;n_estimators&#x27;: [50, 100], &#x27;verbose&#x27;: [-1]},\n",
       "             scoring=&#x27;f1&#x27;)</pre><b>In a Jupyter environment, please rerun this cell to show the HTML representation or trust the notebook. <br />On GitHub, the HTML representation is unable to render, please try loading this page with nbviewer.org.</b></div><div class=\"sk-container\" hidden><div class=\"sk-item sk-dashed-wrapped\"><div class=\"sk-label-container\"><div class=\"sk-label sk-toggleable\"><input class=\"sk-toggleable__control sk-hidden--visually\" id=\"sk-estimator-id-4\" type=\"checkbox\" ><label for=\"sk-estimator-id-4\" class=\"sk-toggleable__label sk-toggleable__label-arrow\">GridSearchCV</label><div class=\"sk-toggleable__content\"><pre>GridSearchCV(cv=3, estimator=LGBMClassifier(random_state=5),\n",
       "             param_grid={&#x27;learning_rate&#x27;: [0.05, 0.1], &#x27;max_depth&#x27;: [-1],\n",
       "                         &#x27;n_estimators&#x27;: [50, 100], &#x27;verbose&#x27;: [-1]},\n",
       "             scoring=&#x27;f1&#x27;)</pre></div></div></div><div class=\"sk-parallel\"><div class=\"sk-parallel-item\"><div class=\"sk-item\"><div class=\"sk-label-container\"><div class=\"sk-label sk-toggleable\"><input class=\"sk-toggleable__control sk-hidden--visually\" id=\"sk-estimator-id-5\" type=\"checkbox\" ><label for=\"sk-estimator-id-5\" class=\"sk-toggleable__label sk-toggleable__label-arrow\">estimator: LGBMClassifier</label><div class=\"sk-toggleable__content\"><pre>LGBMClassifier(random_state=5)</pre></div></div></div><div class=\"sk-serial\"><div class=\"sk-item\"><div class=\"sk-estimator sk-toggleable\"><input class=\"sk-toggleable__control sk-hidden--visually\" id=\"sk-estimator-id-6\" type=\"checkbox\" ><label for=\"sk-estimator-id-6\" class=\"sk-toggleable__label sk-toggleable__label-arrow\">LGBMClassifier</label><div class=\"sk-toggleable__content\"><pre>LGBMClassifier(random_state=5)</pre></div></div></div></div></div></div></div></div></div></div>"
      ],
      "text/plain": [
       "GridSearchCV(cv=3, estimator=LGBMClassifier(random_state=5),\n",
       "             param_grid={'learning_rate': [0.05, 0.1], 'max_depth': [-1],\n",
       "                         'n_estimators': [50, 100], 'verbose': [-1]},\n",
       "             scoring='f1')"
      ]
     },
     "execution_count": 81,
     "metadata": {},
     "output_type": "execute_result"
    }
   ],
   "source": [
    "params_LGBMClassifier = {    \n",
    "    \n",
    "    'n_estimators': [50, 100], \n",
    "    'learning_rate': [0.05, 0.1], \n",
    "    'verbose' : [-1],\n",
    "#     'boosting_type' : ['gbdt'],\n",
    "#     'num_leaves': [100],\n",
    "    'max_depth' : [-1],\n",
    "#     'min_split_gain' : [0.0],\n",
    "#     'min_child_samples' : [20],\n",
    "#     'subsample' : [1.0],\n",
    "#     'subsample_freq' : [0],\n",
    "#     'colsample_bytree': [1.0],\n",
    "#     'reg_alpha' : [0.0],\n",
    "#     'reg_lambda' : [0.0],\n",
    "#     'random_state' : [5],\n",
    "#     'silent' : [True]\n",
    "}\n",
    "\n",
    "LGBMClassifier_gsearch = GridSearchCV(estimator=model, \n",
    "                                     cv=3, \n",
    "                                     param_grid=params_LGBMClassifier,\n",
    "                                     scoring='f1')\n",
    "\n",
    "LGBMClassifier_gsearch.fit(tf_idf_X_train, y_train)"
   ]
  },
  {
   "cell_type": "code",
   "execution_count": 115,
   "id": "d588b14f",
   "metadata": {},
   "outputs": [
    {
     "data": {
      "text/plain": [
       "array([[28377,  1230],\n",
       "       [  190,  2062]])"
      ]
     },
     "execution_count": 115,
     "metadata": {},
     "output_type": "execute_result"
    }
   ],
   "source": [
    "y_pred_lightgbm = LGBMClassifier_gsearch.predict(tf_idf_X_test)\n",
    "confusion_matrix(y_pred_lightgbm, y_test)"
   ]
  },
  {
   "cell_type": "markdown",
   "id": "7532fe7b",
   "metadata": {},
   "source": [
    "### ***Вывод:*** Видим, что мажоритарный класс предсказывается хорошо, а вот миноритарный снова дает больше половины ложноположительной ответов FP=1230."
   ]
  },
  {
   "cell_type": "markdown",
   "id": "982c915b",
   "metadata": {},
   "source": [
    "### 2.5 Сравним модели"
   ]
  },
  {
   "cell_type": "code",
   "execution_count": 104,
   "id": "60bf0306",
   "metadata": {},
   "outputs": [
    {
     "name": "stdout",
     "output_type": "stream",
     "text": [
      "Best score Logistic Regression CountVectorizer: 0.76\n"
     ]
    }
   ],
   "source": [
    "# Logistic Regression CountVectorizer\n",
    "best_score_vect = round(logreg_grid.best_score_, 2)\n",
    "print(\"Best score Logistic Regression CountVectorizer: {:.2f}\".format(best_score_vect))\n",
    "\n",
    "# f1_logreg_vect = round(f1_score(logreg_grid.predict(tf_idf_X_train), y_train), 2)\n",
    "# print(\"F1-score Logistic Regression CountVectorizer: {:.2f}\".format(f1_logreg_vect))"
   ]
  },
  {
   "cell_type": "code",
   "execution_count": 105,
   "id": "ef87e95b",
   "metadata": {
    "scrolled": true
   },
   "outputs": [
    {
     "name": "stdout",
     "output_type": "stream",
     "text": [
      "Best score Logistic Regression (TF-IDF): 0.76\n"
     ]
    }
   ],
   "source": [
    "# Logistic Regression TF-IDF\n",
    "best_score_tfidf = round(grid.best_score_, 2)\n",
    "print('Best score Logistic Regression (TF-IDF): {:.2f}'.format(best_score_tfidf))\n",
    "\n",
    "# f1_logreg_tfidf = round(f1_score(grid.predict(tf_idf_X_train), y_train), 2)\n",
    "# print(\"F1-score Logistic Regression CountVectorizer: {:.2f}\".format(f1_logreg_tfidf))"
   ]
  },
  {
   "cell_type": "code",
   "execution_count": 130,
   "id": "ab549040",
   "metadata": {},
   "outputs": [
    {
     "name": "stdout",
     "output_type": "stream",
     "text": [
      "Best score Logistic Regression (TF-IDF): 0.96\n"
     ]
    }
   ],
   "source": [
    "# Logistic Regression TF-IDF (upsampled)\n",
    "best_score_tfidf_up = round(grid_up.best_score_, 2)\n",
    "print('Best score Logistic Regression (TF-IDF) upsampled: {:.2f}'.format(best_score_tfidf_up))"
   ]
  },
  {
   "cell_type": "code",
   "execution_count": 137,
   "id": "9a4ca4fa",
   "metadata": {
    "scrolled": true
   },
   "outputs": [
    {
     "name": "stdout",
     "output_type": "stream",
     "text": [
      "Best score CatBoostClassifier (TF-IDF): 0.73\n"
     ]
    }
   ],
   "source": [
    "# CatBoost\n",
    "best_score_catboost = round(gsearch_catboost.best_score_, 2)\n",
    "print('Best score CatBoostClassifier (TF-IDF): {}'.format(best_score_catboost))\n",
    "\n",
    "# f1_catboost = round(f1_score(gsearch_catboost.predict(tf_idf_X_train), y_train), 2)\n",
    "# print(\"F1-score Logistic Regression CountVectorizer: {:.2f}\".format(f1_catboost))"
   ]
  },
  {
   "cell_type": "code",
   "execution_count": 138,
   "id": "567fbda1",
   "metadata": {},
   "outputs": [
    {
     "name": "stdout",
     "output_type": "stream",
     "text": [
      "Best score CatBoostClassifier (TF-IDF) upsampled: 0.85\n"
     ]
    }
   ],
   "source": [
    "# CatBoost (upsampled)\n",
    "best_score_catboost_up = round(gsearch_catboost_up.best_score_, 2)\n",
    "print('Best score CatBoostClassifier (TF-IDF) upsampled: {}'.format(best_score_catboost_up))"
   ]
  },
  {
   "cell_type": "code",
   "execution_count": 139,
   "id": "c414752e",
   "metadata": {},
   "outputs": [
    {
     "name": "stdout",
     "output_type": "stream",
     "text": [
      "Best score LGBMClassifier (TF-IDF): 0.74\n"
     ]
    }
   ],
   "source": [
    "# LGBMClassifier\n",
    "best_score_LGBM = round(LGBMClassifier_gsearch.best_score_, 2)\n",
    "print('Best score LGBMClassifier (TF-IDF): {}'.format(best_score_LGBM))\n",
    "\n",
    "# f1_lgbm = round(f1_score(LGBMClassifier_gsearch.predict(tf_idf_X_train), y_train), 2)\n",
    "# print(\"F1-score Logistic Regression CountVectorizer: {:.2f}\".format(f1_lgbm))"
   ]
  },
  {
   "cell_type": "code",
   "execution_count": 140,
   "id": "40ee49ee",
   "metadata": {},
   "outputs": [
    {
     "data": {
      "image/png": "[encoded data removed]",
      "text/plain": [
       "<Figure size 1900x600 with 1 Axes>"
      ]
     },
     "metadata": {},
     "output_type": "display_data"
    }
   ],
   "source": [
    "# Generate F1-score plots\n",
    "\n",
    "plt.rcParams.update({'font.size': 17, \n",
    "                     'text.color' : 'black', \n",
    "                     'axes.labelcolor' : \"blue\"})\n",
    "# plt.rcParams.update({'axes.titlesize': 'large'})\n",
    "fig, ax = plt.subplots(figsize=(19, 6))\n",
    "\n",
    "x = ['Log Reg (Count)',\n",
    "     'Log Reg', \n",
    "     'Log Reg (upsampled)', \n",
    "     \n",
    "     'Cat Boost',\n",
    "     'Cat Boost (upsampled)',\n",
    "     'LightGBM (TF-IDF)']\n",
    "\n",
    "y = [best_score_vect, \n",
    "     best_score_tfidf, \n",
    "     best_score_tfidf_up,\n",
    "     best_score_catboost,\n",
    "     best_score_catboost_up,\n",
    "     best_score_LGBM]\n",
    "\n",
    "ax.bar(x, y, width=0.4, color='#008B8B')\n",
    "ax.set_title('F1-score for each ML algorithm (train data)', fontsize=18)\n",
    "ax.set_xlabel('Classification Models', fontsize=18)\n",
    "ax.set_ylabel('F1-score', fontsize=18)\n",
    "ax.set_ylim(0, 1.1)\n",
    "\n",
    "for index, value in enumerate(y):\n",
    "    plt.text(x=index, y=value + 0.05, s=str(value), ha='center')\n",
    "    \n",
    "plt.tight_layout();"
   ]
  },
  {
   "cell_type": "markdown",
   "id": "43a8fe3a",
   "metadata": {},
   "source": [
    "###  Вывод: Максимальное значение F1-меры приходится на модель логистической регрессии (F1-score = 0.76) и на градиентом бустинге CatBoost (F1-score = 0.85). ***Протестируем оба алгоритма на тестовой выборке.***"
   ]
  },
  {
   "cell_type": "markdown",
   "id": "674c548a",
   "metadata": {},
   "source": [
    "## 3 Выводы"
   ]
  },
  {
   "cell_type": "code",
   "execution_count": 141,
   "id": "5929322b",
   "metadata": {
    "scrolled": true
   },
   "outputs": [
    {
     "name": "stdout",
     "output_type": "stream",
     "text": [
      "F1-score Logistic Regression TF-IDF (test data): 0.78\n"
     ]
    }
   ],
   "source": [
    "# Logistic Regression TF-IDF\n",
    "f1_logreg_tfidf_test = round(f1_score(grid.predict(tf_idf_X_test), y_test), 2)\n",
    "print(\"F1-score Logistic Regression TF-IDF (test data): {:.2f}\".format(f1_logreg_tfidf_test))"
   ]
  },
  {
   "cell_type": "code",
   "execution_count": 143,
   "id": "ae357159",
   "metadata": {},
   "outputs": [
    {
     "name": "stdout",
     "output_type": "stream",
     "text": [
      "F1-score Logistic Regression TF-IDF upsampled (test data): 0.78\n"
     ]
    }
   ],
   "source": [
    "# Logistic Regression TF-IDF (upsampled)\n",
    "f1_logreg_tfidf_test_up = round(f1_score(grid_up.predict(tf_idf_X_test), y_test), 2)\n",
    "print(\"F1-score Logistic Regression TF-IDF upsampled (test data): {:.2f}\".format(f1_logreg_tfidf_test_up))"
   ]
  },
  {
   "cell_type": "markdown",
   "id": "6c2fe3a0",
   "metadata": {},
   "source": [
    "### ***Вывод:*** Наилучшая модель классификации текста комментариев твиттера - это логистическая регрессия с максимальным значением F1-меры 0.78, построенная на модели \"мешка слов\" TF-IDF. Интересно, что модель \"мешка слов\" Tfidfvectorizer() на тестовых данных показала низкое значение F1-меры, что говорит о переобучении этого алгоритма. Такое же значение F1-меры получил и алгоритм градиентного бустинга CatBoost, обученный на тренировочных данных, подготовленных с учетом дисбаланса. ***Upsampling*** существенно качество модели не улучшил: на тестовой выборке значения F1-меры получились одинаковыми."
   ]
  },
  {
   "cell_type": "markdown",
   "id": "4771856b",
   "metadata": {},
   "source": [
    "- [x]  Jupyter Notebook открыт\n",
    "- [ ]  Весь код выполняется без ошибок\n",
    "- [ ]  Ячейки с кодом расположены в порядке исполнения\n",
    "- [ ]  Данные загружены и подготовлены\n",
    "- [ ]  Модели обучены\n",
    "- [ ]  Значение метрики *F1* не меньше 0.75\n",
    "- [ ]  Выводы написаны"
   ]
  },
  {
   "cell_type": "markdown",
   "id": "cf8fde8a",
   "metadata": {},
   "source": [
    "***Thank you for going through this project. Your comments are more then welcome to ybezginova2021@gmail.com***\n",
    "\n",
    "***Best wishes,***\n",
    "\n",
    "***Yulia***"
   ]
  }
 ],
 "metadata": {
  "kernelspec": {
   "display_name": "Python 3 (ipykernel)",
   "language": "python",
   "name": "python3"
  },
  "language_info": {
   "codemirror_mode": {
    "name": "ipython",
    "version": 3
   },
   "file_extension": ".py",
   "mimetype": "text/x-python",
   "name": "python",
   "nbconvert_exporter": "python",
   "pygments_lexer": "ipython3",
   "version": "3.10.8"
  }
 },
 "nbformat": 4,
 "nbformat_minor": 5
}
